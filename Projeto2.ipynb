{
 "cells": [
  {
   "cell_type": "markdown",
   "metadata": {},
   "source": [
    "![CC-BY-SA](https://mirrors.creativecommons.org/presskit/buttons/88x31/svg/by-sa.svg)\n",
    "\n",
    "\n",
    "This notebook was created by [Bernardo Freitas Paulo da Costa](http://www.im.ufrj.br/bernardofpc),\n",
    "and is licensed under Creative Commons BY-SA."
   ]
  },
  {
   "cell_type": "markdown",
   "metadata": {},
   "source": [
    "Antes de enviar este Teste, verifique que tudo está funcionando como esperado.\n",
    "Por exemplo, **rode o código inteiro, do zero**.\n",
    "Para isso, vá no menu, escolha _Kernel_, depois _Restart & Run All_.\n",
    "\n",
    "Verifique, também, que você respondeu todas as questões:\n",
    "* as questões de código têm `YOUR CODE HERE` (e você pode apagar o `raise NotImplemented` ao incluir sua resposta)\n",
    "* as questões discursivas têm \"YOUR ANSWER HERE\"."
   ]
  },
  {
   "cell_type": "markdown",
   "metadata": {},
   "source": [
    "---"
   ]
  },
  {
   "cell_type": "markdown",
   "metadata": {
    "deletable": false,
    "editable": false,
    "nbgrader": {
     "cell_type": "markdown",
     "checksum": "6bb97eedf1717e4a1dde0d11cfc1a365",
     "grade": false,
     "grade_id": "cell-26032691f76721f4",
     "locked": true,
     "schema_version": 3,
     "solution": false,
     "task": false
    }
   },
   "source": [
    "# Projeto 2: Integração adaptativa"
   ]
  },
  {
   "cell_type": "code",
   "execution_count": 1,
   "metadata": {
    "deletable": false,
    "editable": false,
    "nbgrader": {
     "cell_type": "code",
     "checksum": "097a75afd4836d409de20e73a605a144",
     "grade": false,
     "grade_id": "cell-6d60051712cbf34b",
     "locked": true,
     "schema_version": 3,
     "solution": false,
     "task": false
    }
   },
   "outputs": [],
   "source": [
    "import numpy as np\n",
    "import matplotlib.pyplot as plt"
   ]
  },
  {
   "cell_type": "markdown",
   "metadata": {
    "deletable": false,
    "editable": false,
    "nbgrader": {
     "cell_type": "markdown",
     "checksum": "ea51194b5f3e056dfcf7e74b214de1f2",
     "grade": false,
     "grade_id": "cell-45566b97b51154ba",
     "locked": true,
     "schema_version": 3,
     "solution": false,
     "task": false
    }
   },
   "source": [
    "# Parte 0: Os métodos\n",
    "\n",
    "Inclua abaixo os métodos de integração do retângulo, do trapézio, do ponto médio e de Simpson."
   ]
  },
  {
   "cell_type": "code",
   "execution_count": 2,
   "metadata": {
    "deletable": false,
    "nbgrader": {
     "cell_type": "code",
     "checksum": "0ed782626e2ef1be067d347370cd350e",
     "grade": false,
     "grade_id": "cell-5381caf7e8c6f3c6",
     "locked": false,
     "schema_version": 3,
     "solution": true,
     "task": false
    }
   },
   "outputs": [],
   "source": [
    "def retangulo(f, a, b, n=1000):\n",
    "    l, h = np.linspace(a, b, n, endpoint=False, retstep=True)\n",
    "    soma = np.sum(f(l))\n",
    "    return soma * h\n",
    "\n",
    "def trapezio(f, a, b, n=1000):\n",
    "    l, h = np.linspace(a, b, n, endpoint=False, retstep=True)\n",
    "    soma = np.sum(f(l))\n",
    "    correcao = - (f(b)-f(a))/2\n",
    "    return (soma - correcao) * h\n",
    "\n",
    "def midpoint(f, a, b, n=1000):\n",
    "    l, h = np.linspace(a, b, n, endpoint=False, retstep=True)\n",
    "    mids = l + h/2\n",
    "    soma = np.sum(f(mids))\n",
    "    return soma * h\n",
    "\n",
    "def simpson(f, a, b, n=1000):\n",
    "    l, h = np.linspace(a, b, n, endpoint=False, retstep=True)\n",
    "    mids = l + h/2\n",
    "    soma = 4*np.sum(f(mids)) + 2*np.sum(f(l))\n",
    "    correcao = - (f(b)-f(a))\n",
    "    return (soma - correcao) * h/6"
   ]
  },
  {
   "cell_type": "code",
   "execution_count": 3,
   "metadata": {
    "deletable": false,
    "editable": false,
    "nbgrader": {
     "cell_type": "code",
     "checksum": "2f7d564a8d2c96aea96ffc48ac139fa9",
     "grade": false,
     "grade_id": "cell-e50a8790cbad24cd",
     "locked": true,
     "schema_version": 3,
     "solution": false,
     "task": false
    }
   },
   "outputs": [],
   "source": [
    "methods = [retangulo, trapezio, midpoint, simpson]"
   ]
  },
  {
   "cell_type": "code",
   "execution_count": 4,
   "metadata": {},
   "outputs": [
    {
     "name": "stdout",
     "output_type": "stream",
     "text": [
      "Erro usando retangulo: -6.386926e-03\n",
      "Erro usando trapezio :  2.129685e-06\n",
      "Erro usando midpoint : -1.064843e-06\n",
      "Erro usando simpson  :  3.463896e-14\n"
     ]
    }
   ],
   "source": [
    "exact = np.exp(2) - np.exp(0)\n",
    "for method in methods:\n",
    "    print(f\"Erro usando {method.__name__:9s}: {method(np.exp, 0, 2) - exact: 7e}\")"
   ]
  },
  {
   "cell_type": "code",
   "execution_count": 5,
   "metadata": {
    "deletable": false,
    "editable": false,
    "nbgrader": {
     "cell_type": "code",
     "checksum": "16fdc754f0bd4686a16eb95f5facc7f3",
     "grade": true,
     "grade_id": "cell-3d15bcebb9d065d2",
     "locked": true,
     "points": 2,
     "schema_version": 3,
     "solution": false,
     "task": false
    }
   },
   "outputs": [],
   "source": [
    "exact = np.exp(2) - np.exp(0)\n",
    "tols = [1e-2, 4e-6, 2e-6, 1e-12]\n",
    "for m, tol in zip(methods, tols):\n",
    "    assert np.isclose(m(np.exp, 0, 2), exact, atol=tol)"
   ]
  },
  {
   "cell_type": "markdown",
   "metadata": {},
   "source": [
    "# Parte 1: Integrais adaptativas\n",
    "\n",
    "Uma das grandes dificuldades da integração numérica é saber\n",
    "\"quão pequenos devem ser os intervalos de integração\".\n",
    "\n",
    "Uma das respostas para esta questão é a seguinte:\n",
    "\"Até que reduzir mais ainda não faça tanta diferença\".\n",
    "\n",
    "Um método, por exemplo, aproxima a integral em $[a,b]$ com $N$ intervalos,\n",
    "e depois, com $2N$ intervalos.\n",
    "\n",
    "## Questão 1: Aumentando $N$\n",
    "\n",
    "Para cada um dos métodos, faça um gráfico, mostrando, em função de $N$:\n",
    "- o erro de $I_{N}$ até a integral exata\n",
    "- o erro de $I_{2N}$ até a integral exata\n",
    "- a diferença entre as integrais $I_N$ e $I_{2N}$."
   ]
  },
  {
   "cell_type": "code",
   "execution_count": 6,
   "metadata": {
    "deletable": false,
    "nbgrader": {
     "cell_type": "code",
     "checksum": "f7e1d5186cfaee91d71d727f7c20115f",
     "grade": true,
     "grade_id": "cell-5eedd26d73744ea7",
     "locked": false,
     "points": 2,
     "schema_version": 3,
     "solution": true,
     "task": false
    }
   },
   "outputs": [
    {
     "data": {
      "image/png": "[encoded data removed]",
      "text/plain": [
       "<Figure size 1080x288 with 4 Axes>"
      ]
     },
     "metadata": {
      "needs_background": "light"
     },
     "output_type": "display_data"
    }
   ],
   "source": [
    "fig, axs = plt.subplots(ncols=4, figsize=(15,4))\n",
    "Ns = 2**np.arange(3,16)\n",
    "exact = np.exp(2) - np.exp(0)\n",
    "nomes=[\"Retângulo\",\"Trapézio\",\"Midpoint\",\"Simpson\"]\n",
    "for (ax,m,nome) in zip(axs, methods,nomes):\n",
    "    y=[]\n",
    "    y2=[]\n",
    "    y3=[]\n",
    "    for n in Ns:\n",
    "        n = int(n)\n",
    "        y.append( abs( m(np.exp, 0, 2, n) - exact ) )\n",
    "        y2.append( abs ( m(np.exp, 0, 2, 2*n) - exact) )\n",
    "        y3.append( abs ( (m(np.exp, 0, 2, n) - exact) - (m(np.exp, 0, 2, 2*n) - exact) ) )\n",
    "        #y.append( m(np.exp, 0, 2, n) - exact ) \n",
    "        #y2.append( m(np.exp, 0, 2, 2*n) - exact) \n",
    "        #y3.append( (m(np.exp, 0, 2, n) - exact) - (m(np.exp, 0, 2, 2*n) - exact) ) \n",
    "    ax.plot(Ns, y, label=\"Erro I_n\")\n",
    "    ax.plot(Ns, y2, label=\"Erro I_n*2\")\n",
    "    ax.plot(Ns, y3, label=\"Diferença I_n e I_n*2\")\n",
    "    ax.set_title(nome)\n",
    "    ax.set_yscale('log')\n",
    "    #ax.set_xscale('log')\n",
    "    ax.grid()\n",
    "    ax.legend()\n",
    "\n",
    "plt.suptitle(\"Erro Integração vs número de intervalos\");"
   ]
  },
  {
   "cell_type": "markdown",
   "metadata": {},
   "source": [
    "O que você observa?"
   ]
  },
  {
   "cell_type": "markdown",
   "metadata": {
    "deletable": false,
    "nbgrader": {
     "cell_type": "markdown",
     "checksum": "b301b0b274032f07e4787a1fd61ea7c2",
     "grade": true,
     "grade_id": "cell-1ae3f944466147e0",
     "locked": false,
     "points": 2,
     "schema_version": 3,
     "solution": true,
     "task": false
    }
   },
   "source": [
    "Além de convergir mais rapidamente, podemos ver que no Método de Simpson a partir de em torno de 1.7e+4 intervalos a diferença entre In e In\\*2 tende a zero, mostrando que o valor da função tende a ficar igual com n ou 2n divisões."
   ]
  },
  {
   "cell_type": "markdown",
   "metadata": {},
   "source": [
    "Quantas subdivisões parecem ser necessárias para que o erro do método do trapézio cheguem em $10^{-14}$?"
   ]
  },
  {
   "cell_type": "code",
   "execution_count": 7,
   "metadata": {
    "deletable": false,
    "nbgrader": {
     "cell_type": "code",
     "checksum": "0452b9023cfdd713bc902baf9f386fd5",
     "grade": true,
     "grade_id": "cell-0838e8308c7a5376",
     "locked": false,
     "points": 1,
     "schema_version": 3,
     "solution": true,
     "task": false
    }
   },
   "outputs": [
    {
     "name": "stdout",
     "output_type": "stream",
     "text": [
      "Da ordem de 1e+7 subdivisoes\n",
      "1.5987211554602254e-14\n"
     ]
    },
    {
     "data": {
      "image/png": "[encoded data removed]",
      "text/plain": [
       "<Figure size 432x288 with 1 Axes>"
      ]
     },
     "metadata": {
      "needs_background": "light"
     },
     "output_type": "display_data"
    }
   ],
   "source": [
    "#Cuidado: cálculo lento, só tirei os '#' para visualizar a respota\n",
    "\n",
    "print (\"Da ordem de 1e+7 subdivisoes\")\n",
    "y = abs( trapezio(np.exp, 0, 2, 10000000) - exact )\n",
    "print (y)\n",
    "#Desenvolvimento (pode travar o pc):\n",
    "Ns = 10**np.arange(6,9)\n",
    "y=[]\n",
    "y2=[]\n",
    "y3=[]\n",
    "for n in Ns:\n",
    "    n = int(n)\n",
    "    y.append( abs( trapezio(np.exp, 0, 2, n) - exact ) )\n",
    "plt.plot(Ns, y, label=\"Erro In\")\n",
    "plt.title(\"Método do trapézio\")\n",
    "plt.grid()\n",
    "plt.yscale('log')\n",
    "plt.legend();"
   ]
  },
  {
   "cell_type": "markdown",
   "metadata": {},
   "source": [
    "Agora, faça o mesmo estudo para uma outra função de sua escolha."
   ]
  },
  {
   "cell_type": "code",
   "execution_count": 8,
   "metadata": {
    "deletable": false,
    "nbgrader": {
     "cell_type": "code",
     "checksum": "12ac31c8175b2216d6907a8f9e15800f",
     "grade": true,
     "grade_id": "cell-90b90e5b2b7574f9",
     "locked": false,
     "points": 1,
     "schema_version": 3,
     "solution": true,
     "task": false
    }
   },
   "outputs": [
    {
     "name": "stderr",
     "output_type": "stream",
     "text": [
      "<ipython-input-8-7bb5e0d58d74>:30: UserWarning: Data has no positive values, and therefore cannot be log-scaled.\n",
      "  ax.set_yscale('log')\n"
     ]
    },
    {
     "data": {
      "image/png": "[encoded data removed]",
      "text/plain": [
       "<Figure size 1080x288 with 4 Axes>"
      ]
     },
     "metadata": {
      "needs_background": "light"
     },
     "output_type": "display_data"
    }
   ],
   "source": [
    "def f(x):\n",
    "    return 0.2*np.power(x,3)\n",
    "a2=0\n",
    "b2=100\n",
    "\n",
    "def primitiva_f(x):\n",
    "    return 0.05*np.power(x,4)\n",
    "\n",
    "exact2 = primitiva_f(b2) - primitiva_f(a2)\n",
    "\n",
    "fig, axs = plt.subplots(ncols=4, figsize=(15,4))\n",
    "Ns = 2**np.arange(3,16)\n",
    "nomes=[\"Retângulo\",\"Trapézio\",\"Midpoint\",\"Simpson\"]\n",
    "for (ax,m,nome) in zip(axs, methods,nomes):\n",
    "    y=[]\n",
    "    y2=[]\n",
    "    y3=[]\n",
    "    for n in Ns:\n",
    "        n = int(n)\n",
    "        y.append( np.abs( m(f, a2, b2, n) - exact2 ) )\n",
    "        y2.append( np.abs( m(f, a2, b2, 2*n) - exact2) )\n",
    "        y3.append( np.abs( (m(f, a2, b2, n) - m(f, a2, b2, 2*n)) ) )\n",
    "        #y.append(  m(np.cos, 0, np.pi, n) - exact ) \n",
    "        #y2.append(  m(np.cos, 0, np.pi, 2*n) - exact) \n",
    "        #y3.append(  (m(np.cos, 0, np.pi, n) - exact) - (m(np.cos, 0, np.pi, 2*n) - exact) ) \n",
    "    ax.plot(Ns, y, label=\"Erro x³/2\")\n",
    "    ax.plot(Ns, y2, label=\"Erro x³/2 *2\")\n",
    "    ax.plot(Ns, y3, label=\"Diferença x³/2 e x³/2 *2\")\n",
    "    ax.set_title(nome)\n",
    "    ax.set_yscale('log')\n",
    "#     ax.set_xscale('log')\n",
    "    ax.grid()\n",
    "    ax.legend()\n",
    "\n",
    "plt.suptitle(\"Erro Integração vs número de intervalos\");"
   ]
  },
  {
   "cell_type": "markdown",
   "metadata": {},
   "source": [
    "Explique a sua escolha.\n",
    "Os resultados são similares ou diferentes?"
   ]
  },
  {
   "cell_type": "markdown",
   "metadata": {
    "deletable": false,
    "nbgrader": {
     "cell_type": "markdown",
     "checksum": "aa185452f403029802de52ce1fdd0da7",
     "grade": true,
     "grade_id": "cell-e5f323a246011e50",
     "locked": false,
     "points": 2,
     "schema_version": 3,
     "solution": true,
     "task": false
    }
   },
   "source": [
    "A escolha de 0.2\\*x foi para analisarmos uma função com uma menor variação quando comparada a exp(x). Podemos ver que o resultados são diferentes, uma vez que para os 4 métodos temos erros muito parecidos, não havendo tanta diferença na convergência. Vamos analisar os erros de integração para cada um dos métodos:\n",
    "<p>\n",
    "$\n",
    "\\begin{equation}\n",
    "erro_{retângulo}  \\leq (b-a)\\max_{x \\in [a,b]}|f(x)|\\\\\n",
    "erro_{trapézio} \\leq \\frac{5(b-a)h^2\\max_{x \\in [a,b]}|f^{(2)}(x)|}{12}\\\\\n",
    "erro_{ponto médio}  \\leq \\frac{7(b-a)h^2\\max_{x \\in [a,b]}|f^{(2)}(x)|}{24}\\\\\n",
    "erro_{simpson} \\leq \\frac{49(b-a)h^4\\max_{x \\in [a,b]}|f^{(4)}(x)|}{2880}\n",
    "\\end{equation}\n",
    "$\n",
    "<p> \n",
    "Vemos das equações acima que, caso a função que queremos integrar não possua derivada quarta, isto é $f^{(4)}(x) = 0,  \\forall x$, então todas terão um erro associado, exceto para o calculado por simpson. "
   ]
  },
  {
   "cell_type": "markdown",
   "metadata": {},
   "source": [
    "## Questão 2: Dobrando Simpson\n",
    "\n",
    "Agora, escreva um método `simpson2(f, a, b, tol)` que calcula a integral de $f$ no intervalo $[a,b]$,\n",
    "dobrando o número de subdivisões, até que a diferença entre uma integral e a seguinte fique abaixo de  `tol`.\n",
    "\n",
    "- Qual integral você acha melhor retornar?\n",
    "  $I_N$ ou $I_{2N}$?\n",
    "- Retorne, também, o número de subdivisões final."
   ]
  },
  {
   "cell_type": "code",
   "execution_count": 9,
   "metadata": {
    "deletable": false,
    "nbgrader": {
     "cell_type": "code",
     "checksum": "df44e96d092a4e95c20088b2d9983a5f",
     "grade": false,
     "grade_id": "cell-965da88fd828fcb3",
     "locked": false,
     "schema_version": 3,
     "solution": true,
     "task": false
    }
   },
   "outputs": [],
   "source": [
    "def simpson2(f, a, b, tol=1e-12):\n",
    "    n = 1\n",
    "    simpson1, simpson2 = simpson(f, a, b, n), simpson(f, a, b, 2*n)\n",
    "    while True:\n",
    "        l, h = np.linspace(a, b, n, endpoint=False, retstep=True)\n",
    "        if n != 1:\n",
    "            dif = simpson1 - simpson2\n",
    "            if abs(dif) <= tol :\n",
    "                break\n",
    "        n=2*n\n",
    "        simpson1, simpson2 = simpson2, simpson(f, a, b, 2*n)\n",
    "    return simpson1, n"
   ]
  },
  {
   "cell_type": "code",
   "execution_count": 10,
   "metadata": {
    "deletable": false,
    "editable": false,
    "nbgrader": {
     "cell_type": "code",
     "checksum": "a737a8b52cedac65d64f5cef76ac5a76",
     "grade": true,
     "grade_id": "cell-70c70f8aeb9b817a",
     "locked": true,
     "points": 2,
     "schema_version": 3,
     "solution": false,
     "task": false
    }
   },
   "outputs": [],
   "source": [
    "I, n = simpson2(np.exp, 0, 2)\n",
    "assert np.isclose(I, np.exp(2) - 1)\n",
    "assert n >= 64"
   ]
  },
  {
   "cell_type": "code",
   "execution_count": 11,
   "metadata": {
    "deletable": false,
    "editable": false,
    "nbgrader": {
     "cell_type": "code",
     "checksum": "675f219e2b4ca4bafa6a86c3cb760f0b",
     "grade": true,
     "grade_id": "cell-6a7e0df6d927ed03",
     "locked": true,
     "points": 1,
     "schema_version": 3,
     "solution": false,
     "task": false
    }
   },
   "outputs": [],
   "source": [
    "I, n = simpson2(np.exp, 0, 2, tol=1)\n",
    "assert n <= 8\n",
    "assert np.isclose(I, np.exp(2) - 1, atol=1)\n",
    "assert not np.isclose(I, np.exp(2) - 1)"
   ]
  },
  {
   "cell_type": "code",
   "execution_count": 12,
   "metadata": {
    "deletable": false,
    "editable": false,
    "nbgrader": {
     "cell_type": "code",
     "checksum": "dd2631980f21c6acde18a7f9e397cfe7",
     "grade": true,
     "grade_id": "cell-fff3eb90b25a771b",
     "locked": true,
     "points": 1,
     "schema_version": 3,
     "solution": false,
     "task": false
    }
   },
   "outputs": [],
   "source": [
    "I, n = simpson2(np.exp, 0, 2, tol=1e-14)\n",
    "assert np.isclose(I, np.exp(2) - 1, atol=1e-14, rtol=1e-14)\n",
    "assert n >= 64*32"
   ]
  },
  {
   "cell_type": "markdown",
   "metadata": {
    "deletable": false,
    "editable": false,
    "nbgrader": {
     "cell_type": "markdown",
     "checksum": "44af0d772e08faf18d7f6003e7534c23",
     "grade": false,
     "grade_id": "cell-dbef011f088875df",
     "locked": true,
     "schema_version": 3,
     "solution": false,
     "task": false
    }
   },
   "source": [
    "Mas nem tudo é perfeito:\n",
    "algumas funções podem \"confundir\" o dobrador:"
   ]
  },
  {
   "cell_type": "code",
   "execution_count": 13,
   "metadata": {
    "deletable": false,
    "editable": false,
    "nbgrader": {
     "cell_type": "code",
     "checksum": "b399af7e769c345c3a69eb0f34e36f92",
     "grade": false,
     "grade_id": "cell-e90f6686ca61f34f",
     "locked": true,
     "schema_version": 3,
     "solution": false,
     "task": false
    }
   },
   "outputs": [
    {
     "data": {
      "text/plain": [
       "(6.283185307179589, 8)"
      ]
     },
     "execution_count": 13,
     "metadata": {},
     "output_type": "execute_result"
    }
   ],
   "source": [
    "def f(x): return np.sin(x)**2\n",
    "simpson2(f, 0, 4*np.pi)"
   ]
  },
  {
   "cell_type": "markdown",
   "metadata": {},
   "source": [
    "Explique o que aconteceu."
   ]
  },
  {
   "cell_type": "markdown",
   "metadata": {
    "deletable": false,
    "nbgrader": {
     "cell_type": "markdown",
     "checksum": "d5e38478196d689d992a92184bd2add6",
     "grade": true,
     "grade_id": "cell-0561ce194bdb960f",
     "locked": false,
     "points": 2,
     "schema_version": 3,
     "solution": true,
     "task": false
    }
   },
   "source": [
    "Por a função ser periódica com o período se repetindo exatamente 4 vezes no intervalo, quando calcula-se com um ou dois intervalos, teremos valores de ponto médio e pontos iniciais próximos a zero, correspondente aos \"vales\" da função que se repetem."
   ]
  },
  {
   "cell_type": "markdown",
   "metadata": {},
   "source": [
    "Como você faria para calcular essa integral com precisão?\n",
    "Descreva sua ideia abaixo, e faça os cálculos em seguida."
   ]
  },
  {
   "cell_type": "markdown",
   "metadata": {
    "deletable": false,
    "nbgrader": {
     "cell_type": "markdown",
     "checksum": "8ec73a4863d6e68de1ee3c18a059f69d",
     "grade": true,
     "grade_id": "cell-a062316f4693406a",
     "locked": false,
     "points": 1,
     "schema_version": 3,
     "solution": true,
     "task": false
    }
   },
   "source": [
    "Podemos verificar se os pontos médios da função de um valor de N para N+1 são muito próximos. Caso forem, devemos continuar a iteração (função simpson2_modif abaixo)."
   ]
  },
  {
   "cell_type": "code",
   "execution_count": 14,
   "metadata": {
    "deletable": false,
    "nbgrader": {
     "cell_type": "code",
     "checksum": "a964a49a288481d4f18ed936e6418942",
     "grade": true,
     "grade_id": "cell-69f5044e95625899",
     "locked": false,
     "points": 1,
     "schema_version": 3,
     "solution": true,
     "task": false
    }
   },
   "outputs": [
    {
     "data": {
      "text/plain": [
       "(6.283185307179587, 6.283185307179588)"
      ]
     },
     "execution_count": 14,
     "metadata": {},
     "output_type": "execute_result"
    }
   ],
   "source": [
    "def simpson2_modif(f, a, b, tol=1e-12):\n",
    "    n = 1\n",
    "    while True:\n",
    "        l, h = np.linspace(a, b, n, endpoint=False, retstep=True)\n",
    "        mids = l + h/2\n",
    "        simpson = (4*np.sum(f(mids)) + 2*np.sum(f(l)) + (f(b)-f(a))) * h/6\n",
    "        if n != 1:\n",
    "            dif = simpson - simpson1\n",
    "            l_ant = l\n",
    "            if abs(dif) <= tol :\n",
    "                #Verificação dos pontos médios\n",
    "                if abs(f(mids[0])-f(mids1[0])) >= tol:\n",
    "                    break\n",
    "        simpson1 = simpson\n",
    "        mids1 = mids\n",
    "        n=2*n\n",
    "    return simpson, n\n",
    "\n",
    "r0 , n0 = simpson2_modif(f, 0, 4*np.pi)\n",
    "\n",
    "#Outra alternativa:  divisão do intervalo em 3 (intervalos sem simetria)\n",
    "r1 , n1 = simpson2(f, 0, 4*np.pi/3)\n",
    "r2 , n2 = simpson2(f, 4*np.pi/3, 2*4*np.pi/3)\n",
    "r3 , n3 = simpson2(f, 2*4*np.pi/3, 4*np.pi)\n",
    "r = r1 + r2 + r3\n",
    "r0, r"
   ]
  },
  {
   "cell_type": "markdown",
   "metadata": {},
   "source": [
    "Este mesmo método se aplica para calcular\n",
    "$$ \\int_0^{16\\pi} \\frac{\\sin(x)^2}{\\sqrt{1+x}} dx ? $$\n",
    "\n",
    "Modifique o necessário para calcular essa integral!"
   ]
  },
  {
   "cell_type": "code",
   "execution_count": 15,
   "metadata": {
    "deletable": false,
    "nbgrader": {
     "cell_type": "code",
     "checksum": "a823c7a32427e99567a795302c4eeeb3",
     "grade": true,
     "grade_id": "cell-5ee238d9613a3bdb",
     "locked": false,
     "points": 1,
     "schema_version": 3,
     "solution": true,
     "task": false
    }
   },
   "outputs": [
    {
     "data": {
      "text/plain": [
       "(6.11739035743209, 6.117390357431492)"
      ]
     },
     "execution_count": 15,
     "metadata": {},
     "output_type": "execute_result"
    }
   ],
   "source": [
    "def f(x):\n",
    "    return np.sin(x)**2/np.sqrt(1+x)\n",
    "r0 , n0 = simpson2_modif(f, 0, 16*np.pi)\n",
    "\n",
    "#Outra alternativa:  divisão do intervalo em 3 (intervalos sem simetria)\n",
    "r1 , n1 = simpson2(f, 0, 16*np.pi/3)\n",
    "r2 , n2 = simpson2(f, 16*np.pi/3, 2*16*np.pi/3)\n",
    "r3 , n3 = simpson2(f, 2*16*np.pi/3, 16*np.pi)\n",
    "r = r1 + r2 + r3\n",
    "r0, r"
   ]
  },
  {
   "cell_type": "markdown",
   "metadata": {},
   "source": [
    "O que ficou diferente\n",
    "- para você?\n",
    "- para o programa?"
   ]
  },
  {
   "cell_type": "markdown",
   "metadata": {
    "deletable": false,
    "nbgrader": {
     "cell_type": "markdown",
     "checksum": "d6bd6c07936904ec8b2e40d91584d535",
     "grade": true,
     "grade_id": "cell-27fd54e5e3548e70",
     "locked": false,
     "points": 2,
     "schema_version": 3,
     "solution": true,
     "task": false
    }
   },
   "source": [
    "Para o usuário: tem que chamar a função simpson2_modif\n",
    "Para o programa: Ele verifica se os pontos médios da função de um valor de N para N+1 são muito próximos. Caso forem, ele continua a iteração."
   ]
  },
  {
   "cell_type": "markdown",
   "metadata": {},
   "source": [
    "## Questão 3: Dobrando Simpson aos poucos\n",
    "\n",
    "Se usarmos um intervalo de integração grande,\n",
    "pode ser que a variação da função em uma parte seja bem menor do que em outra,\n",
    "e daí seria mais importante \"refinar\" o método apenas na parte onde a função varia mais.\n",
    "\n",
    "Para fazer isso, vamos usar uma abordagem **recursiva**:\n",
    "1. calculamos a integral no intervalo $[a,b]$ com 1 e com 2 subdivisões\n",
    "2. se ambas as integrais estiverem suficientemente próximas, terminamos:\n",
    "    - retornamos a aproximação, e \"2\" para o número de subdivisões\n",
    "3. senão, calculamos recursivamente a integral em $[a,m]$ e $[m,b]$,\n",
    "    - e retornamos a soma das integrais, além da soma do número de subdivisões para cada metade.\n",
    "\n",
    "Explique porque, ao calcular recursivamente, é importante dividir a tolerência por 2."
   ]
  },
  {
   "cell_type": "markdown",
   "metadata": {
    "deletable": false,
    "nbgrader": {
     "cell_type": "markdown",
     "checksum": "9a31941a43d321e778cab5e21e82b103",
     "grade": true,
     "grade_id": "cell-3b427bd92b314575",
     "locked": false,
     "points": 2,
     "schema_version": 3,
     "solution": true,
     "task": false
    }
   },
   "source": [
    "Suponha que começamos com um erro $\\epsilon_0$. Fazemos a avaliação e verificamos que a diferença entre a integral no intervalo [a,b] e a soma das integrais [a,m] + [m,b] é superior a tolerância. Portanto devemos efetuar a chamada recursiva. Caso não dividíssimos por 2 a tolerância, seria possível que somando os erros da integral da esquerda com a da direita tivéssemos um $\\epsilon_{final} > \\epsilon_0$. "
   ]
  },
  {
   "cell_type": "code",
   "execution_count": 16,
   "metadata": {
    "deletable": false,
    "nbgrader": {
     "cell_type": "code",
     "checksum": "a247b7916222f63a2c68b0f28ea89ba6",
     "grade": false,
     "grade_id": "cell-dbebc62c00ef8d3b",
     "locked": false,
     "schema_version": 3,
     "solution": true,
     "task": false
    }
   },
   "outputs": [],
   "source": [
    "def simpson_rec(f, a, b, tol=1e-8):\n",
    "    sub_1 = simpson(f,a,b,1)\n",
    "    m = (a+b)/2\n",
    "    sub_2 = simpson(f,a,m,1) + simpson(f,m,b,1)\n",
    "    if(np.abs(sub_1 - sub_2) <= tol):\n",
    "        return sub_2,2\n",
    "    approx_left,n = simpson_rec(f, a, m, tol=tol/2) \n",
    "    approx_right,n_2 = simpson_rec(f,m,b,tol=tol/2)\n",
    "    return approx_left + approx_right, n+ n_2"
   ]
  },
  {
   "cell_type": "code",
   "execution_count": 17,
   "metadata": {},
   "outputs": [
    {
     "data": {
      "text/plain": [
       "(2.000000000270205, 124)"
      ]
     },
     "execution_count": 17,
     "metadata": {},
     "output_type": "execute_result"
    }
   ],
   "source": [
    "simpson_rec(np.sin, 0, np.pi, tol=1e-8)"
   ]
  },
  {
   "cell_type": "code",
   "execution_count": 18,
   "metadata": {
    "deletable": false,
    "editable": false,
    "nbgrader": {
     "cell_type": "code",
     "checksum": "4b2e54e2a6be030108d2a76e585aea61",
     "grade": true,
     "grade_id": "cell-72f0f0968b236170",
     "locked": true,
     "points": 1,
     "schema_version": 3,
     "solution": false,
     "task": false
    }
   },
   "outputs": [],
   "source": [
    "I, n = simpson_rec(np.exp, 0, 2)\n",
    "assert np.isclose(I, np.exp(2) - np.exp(0))\n",
    "assert n >= 64"
   ]
  },
  {
   "cell_type": "code",
   "execution_count": 19,
   "metadata": {
    "deletable": false,
    "editable": false,
    "nbgrader": {
     "cell_type": "code",
     "checksum": "5df041e8d2d7945524a3f0b72dc72df3",
     "grade": true,
     "grade_id": "cell-d2c08ff95881f78f",
     "locked": true,
     "points": 1,
     "schema_version": 3,
     "solution": false,
     "task": false
    }
   },
   "outputs": [],
   "source": [
    "I, n = simpson_rec(np.exp, 0, 2, tol=1e-12)\n",
    "assert np.isclose(I, np.exp(2) - np.exp(0), atol=1e-12, rtol=1e-12)\n",
    "assert n >= 512"
   ]
  },
  {
   "cell_type": "markdown",
   "metadata": {},
   "source": [
    "Faça um gráfico que mostre o erro real em função da tolerância passada,\n",
    "tanto para o método recursivo como para o método \"dobrador\"."
   ]
  },
  {
   "cell_type": "code",
   "execution_count": 27,
   "metadata": {
    "deletable": false,
    "nbgrader": {
     "cell_type": "code",
     "checksum": "5cfc277777734be3d9a20f66fefbdb1c",
     "grade": false,
     "grade_id": "cell-c4d706b80d94cf1a",
     "locked": false,
     "schema_version": 3,
     "solution": true,
     "task": false
    }
   },
   "outputs": [
    {
     "data": {
      "image/png": "[encoded data removed]",
      "text/plain": [
       "<Figure size 432x288 with 1 Axes>"
      ]
     },
     "metadata": {
      "needs_background": "light"
     },
     "output_type": "display_data"
    }
   ],
   "source": [
    "tols = np.logspace(-12,-2)\n",
    "exact = np.exp(2) - np.exp(0)\n",
    "erro_rec = []\n",
    "erro_dob = []\n",
    "n_rec = []\n",
    "n_dob = []\n",
    "\n",
    "for tol in tols:\n",
    "    r, n = simpson_rec(np.exp, 0, 2, tol=tol)\n",
    "    erro_rec.append(r - exact)\n",
    "    n_rec.append(n)\n",
    "    r, n = simpson2_modif(np.exp, 0, 2, tol=tol)\n",
    "    erro_dob.append(r - exact) \n",
    "    n_dob.append(n)\n",
    "plt.loglog(tols, tols, \"--\")\n",
    "plt.plot(tols,erro_dob,label=\"dobrador\")\n",
    "plt.plot(tols,erro_rec,label=\"recursivo\")\n",
    "plt.xlabel(\"Tolerance\")\n",
    "plt.ylabel(\"Error\")\n",
    "plt.legend()\n",
    "plt.title(\"Dobrador vs recursivo - Erro\")\n",
    "ax = plt.gca()"
   ]
  },
  {
   "cell_type": "code",
   "execution_count": 28,
   "metadata": {
    "deletable": false,
    "editable": false,
    "nbgrader": {
     "cell_type": "code",
     "checksum": "8f63e3598a26363ea27e046726598429",
     "grade": true,
     "grade_id": "cell-f481f74c0f36828b",
     "locked": true,
     "points": 1,
     "schema_version": 3,
     "solution": false,
     "task": false
    }
   },
   "outputs": [],
   "source": [
    "assert len(ax.lines) == 3\n",
    "assert len(ax.legend().texts) == 2"
   ]
  },
  {
   "cell_type": "code",
   "execution_count": 29,
   "metadata": {
    "deletable": false,
    "editable": false,
    "nbgrader": {
     "cell_type": "code",
     "checksum": "e9e9bf9aa51d5210d07286158c96288d",
     "grade": true,
     "grade_id": "cell-f7e7bd95cb65f999",
     "locked": true,
     "points": 1,
     "schema_version": 3,
     "solution": false,
     "task": false
    }
   },
   "outputs": [],
   "source": [
    "assert ax.title.get_text() != \"\"\n",
    "assert ax.get_xlabel() != \"\""
   ]
  },
  {
   "cell_type": "markdown",
   "metadata": {},
   "source": [
    "Os métodos cumprem o que prometem?"
   ]
  },
  {
   "cell_type": "markdown",
   "metadata": {
    "deletable": false,
    "nbgrader": {
     "cell_type": "markdown",
     "checksum": "a3fa53c34b33432c0061f5c3f38d5d2c",
     "grade": true,
     "grade_id": "cell-74d0d310737f973e",
     "locked": false,
     "points": 1,
     "schema_version": 3,
     "solution": true,
     "task": false
    }
   },
   "source": [
    "Sim, vemos que ambos os métodos possuem erros abaixo da tolerância passada aumentando a quantidade iterações conforme menor a tolerância."
   ]
  },
  {
   "cell_type": "markdown",
   "metadata": {},
   "source": [
    "Agora, faça um gráfico do número de subdivisões utilizadas por cada método, em função da tolerância."
   ]
  },
  {
   "cell_type": "code",
   "execution_count": 30,
   "metadata": {
    "deletable": false,
    "nbgrader": {
     "cell_type": "code",
     "checksum": "db7e6f38fc1321d8b84d8401e9d98cba",
     "grade": false,
     "grade_id": "cell-bbd7bf4fd979d468",
     "locked": false,
     "schema_version": 3,
     "solution": true,
     "task": false
    }
   },
   "outputs": [
    {
     "data": {
      "image/png": "[encoded data removed]",
      "text/plain": [
       "<Figure size 432x288 with 1 Axes>"
      ]
     },
     "metadata": {
      "needs_background": "light"
     },
     "output_type": "display_data"
    }
   ],
   "source": [
    "tols = np.logspace(-12,-2)\n",
    "exact = np.exp(2) - np.exp(0)\n",
    "\n",
    "erro_rec = []\n",
    "erro_dob = []\n",
    "n_rec = []\n",
    "n_dob = []\n",
    "# fig,axs = plt.subplots(2)\n",
    "# fig.set_size_inches(16,8)\n",
    "for tol in tols:\n",
    "    r, n = simpson_rec(np.exp, 0, 2, tol=tol)\n",
    "    erro_rec.append(r - exact)\n",
    "    n_rec.append(n)\n",
    "    r, n = simpson2_modif(np.exp, 0, 2, tol=tol)\n",
    "    erro_dob.append(r - exact) \n",
    "    n_dob.append(n)\n",
    "plt.plot(tols,n_dob,label=\"dobrador\", color = \"green\")\n",
    "plt.plot(tols,n_rec,label=\"recursivo\", color = \"orange\")\n",
    "plt.legend()\n",
    "plt.title(\"Dobrador vs recursivo - N iter\")\n",
    "plt.xlabel(\"Tolerance\")\n",
    "plt.ylabel(\"Niter\")\n",
    "plt.loglog()\n",
    "ax = plt.gca()"
   ]
  },
  {
   "cell_type": "code",
   "execution_count": 31,
   "metadata": {
    "deletable": false,
    "editable": false,
    "nbgrader": {
     "cell_type": "code",
     "checksum": "5852ddf599d45f3fd44a279266e32b80",
     "grade": true,
     "grade_id": "cell-5d79cbb2d57acd20",
     "locked": true,
     "points": 1,
     "schema_version": 3,
     "solution": false,
     "task": false
    }
   },
   "outputs": [],
   "source": [
    "assert len(ax.lines) == 2\n",
    "assert len(ax.legend().texts) == 2\n",
    "assert ax.title.get_text() != \"\"\n",
    "assert ax.get_xlabel() != \"\""
   ]
  },
  {
   "cell_type": "markdown",
   "metadata": {},
   "source": [
    "Repita ambos os gráficos, para outra função, em outro intervalo."
   ]
  },
  {
   "cell_type": "code",
   "execution_count": 32,
   "metadata": {
    "deletable": false,
    "nbgrader": {
     "cell_type": "code",
     "checksum": "9b7745ee51972649750e5e5e191276ee",
     "grade": true,
     "grade_id": "cell-80fb541c1ac0c945",
     "locked": false,
     "points": 2,
     "schema_version": 3,
     "solution": true,
     "task": false
    }
   },
   "outputs": [
    {
     "name": "stderr",
     "output_type": "stream",
     "text": [
      "<ipython-input-32-f41a34fb5bae>:34: UserWarning: Data has no positive values, and therefore cannot be log-scaled.\n",
      "  axs[0].loglog(tols, tols, \"--\")\n"
     ]
    },
    {
     "data": {
      "image/png": "[encoded data removed]",
      "text/plain": [
       "<Figure size 864x288 with 2 Axes>"
      ]
     },
     "metadata": {
      "needs_background": "light"
     },
     "output_type": "display_data"
    }
   ],
   "source": [
    "tols = np.logspace(-12,-2)\n",
    "def f(x):\n",
    "    return 0.2*np.power(x,3)\n",
    "a2=0\n",
    "b2=100\n",
    "def primitiva_f(x):\n",
    "    return 0.05*np.power(x,4)\n",
    "\n",
    "fig, axs = plt.subplots(ncols=2, figsize=(12,4))\n",
    "erro_rec = []\n",
    "erro_dob = []\n",
    "n_rec = []\n",
    "n_dob = []\n",
    "for tol in tols:\n",
    "        r, n = simpson_rec(f, 0, 2, tol=tol)\n",
    "        erro_rec.append(r - exact)\n",
    "        n_rec.append(n)\n",
    "        r, n = simpson2_modif(f, 0, 2, tol=tol)\n",
    "        erro_dob.append(r - exact) \n",
    "        n_dob.append(n)\n",
    "axs[1].plot(tols,n_dob,label=\"dobrador\")\n",
    "axs[1].plot(tols,n_rec,label=\"recursivo\")\n",
    "axs[1].legend()\n",
    "axs[1].set_title(\"Dobrador vs recursivo - N iter\")\n",
    "axs[1].set_xlabel(\"Tolerance\")\n",
    "axs[1].set_ylabel(\"Niter\")\n",
    "axs[1].loglog(tols, tols, \"--\")\n",
    "axs[0].plot(tols,erro_dob,label=\"dobrador\")\n",
    "axs[0].plot(tols,erro_rec,label=\"recursivo\")\n",
    "axs[0].legend()\n",
    "axs[0].set_xlabel(\"Tolerance\")\n",
    "axs[0].set_ylabel(\"Erro\")\n",
    "axs[0].set_title(\"Dobrador vs recursivo - Erro\")\n",
    "axs[0].loglog(tols, tols, \"--\")\n",
    "ax = plt.gca()"
   ]
  },
  {
   "cell_type": "markdown",
   "metadata": {},
   "source": [
    "Estes métodos parecem equivalentes ou não?"
   ]
  },
  {
   "cell_type": "markdown",
   "metadata": {
    "deletable": false,
    "nbgrader": {
     "cell_type": "markdown",
     "checksum": "efed4691cb50e8aeecbdf3460ee744db",
     "grade": true,
     "grade_id": "cell-36c06500293438ae",
     "locked": false,
     "points": 1,
     "schema_version": 3,
     "solution": true,
     "task": false
    }
   },
   "source": [
    "Parecem equivalentes, contudo o simpson recursivo aparenta ter uma queda do erro mais constante, enquanto o dobrador tem uma queda em degraus. Isso revela que o dobrador tem um limiar maior a se adaptar, enquanto o recursivo aparenta a se adaptar mais facilmente mesmo para poucas variações da tolerância."
   ]
  },
  {
   "cell_type": "markdown",
   "metadata": {},
   "source": [
    "# Parte 2: Funções pseudo-periódicas\n",
    "\n",
    "Vamos continuar combinando inteligência computacional e humana.\n",
    "Aqui, vamos usar nosso conhecimento de uma função para usar os métodos de integração \"após umas contas\"."
   ]
  },
  {
   "cell_type": "markdown",
   "metadata": {},
   "source": [
    "## Questão 4: Mudança de variáveis\n",
    "\n",
    "A função $g(x) = \\sin(x^2)$ não é periódica, mas tem uma componente oscilatória importante.\n",
    "Dê a função $h(u)$, que corresponde ao integrando de uma mudança de variáveis tal que\n",
    "$$ \\int_a^b g(x) \\, dx = \\int_{a^2}^{b^2} h(u) \\, du.$$"
   ]
  },
  {
   "cell_type": "code",
   "execution_count": 33,
   "metadata": {
    "deletable": false,
    "editable": false,
    "nbgrader": {
     "cell_type": "code",
     "checksum": "a30c29135e53d2f74b0eaa5d4f9f2fa0",
     "grade": false,
     "grade_id": "cell-a8c43f6b6695525f",
     "locked": true,
     "schema_version": 3,
     "solution": false,
     "task": false
    }
   },
   "outputs": [],
   "source": [
    "def g(x):\n",
    "    return np.sin(x**2)"
   ]
  },
  {
   "cell_type": "code",
   "execution_count": 34,
   "metadata": {
    "deletable": false,
    "nbgrader": {
     "cell_type": "code",
     "checksum": "69595c20679137a00c51279234323d64",
     "grade": false,
     "grade_id": "cell-7cc4ddf22a539d20",
     "locked": false,
     "schema_version": 3,
     "solution": true,
     "task": false
    }
   },
   "outputs": [],
   "source": [
    "def h(y):\n",
    "    return np.sin(y)/(2*np.sqrt(y))"
   ]
  },
  {
   "cell_type": "code",
   "execution_count": 35,
   "metadata": {},
   "outputs": [
    {
     "data": {
      "text/plain": [
       "0.42073549240394825"
      ]
     },
     "execution_count": 35,
     "metadata": {},
     "output_type": "execute_result"
    }
   ],
   "source": [
    "h(1)"
   ]
  },
  {
   "cell_type": "code",
   "execution_count": 36,
   "metadata": {
    "deletable": false,
    "editable": false,
    "nbgrader": {
     "cell_type": "code",
     "checksum": "09946bbb781594ef0d80d2686a390cf2",
     "grade": true,
     "grade_id": "cell-b60272a8349d9290",
     "locked": true,
     "points": 1,
     "schema_version": 3,
     "solution": false,
     "task": false
    }
   },
   "outputs": [],
   "source": [
    "assert np.isclose(h(1), 0.42073549240394825)"
   ]
  },
  {
   "cell_type": "code",
   "execution_count": 37,
   "metadata": {
    "deletable": false,
    "editable": false,
    "nbgrader": {
     "cell_type": "code",
     "checksum": "325b8ca8ca6a0a04d4138a81cc05c699",
     "grade": true,
     "grade_id": "cell-ebf3150fe385354b",
     "locked": true,
     "points": 1,
     "schema_version": 3,
     "solution": false,
     "task": false
    }
   },
   "outputs": [],
   "source": [
    "assert np.abs(h(np.pi)) < 1e-15"
   ]
  },
  {
   "cell_type": "markdown",
   "metadata": {},
   "source": [
    "Faça um gráfico de $h$, no intervalo $[1, 20]$."
   ]
  },
  {
   "cell_type": "code",
   "execution_count": 56,
   "metadata": {
    "deletable": false,
    "nbgrader": {
     "cell_type": "code",
     "checksum": "eb7610b014afdf9df27c558e670f5365",
     "grade": false,
     "grade_id": "cell-71f60ad5f07441c9",
     "locked": false,
     "schema_version": 3,
     "solution": true,
     "task": false
    }
   },
   "outputs": [
    {
     "data": {
      "image/png": "[encoded data removed]",
      "text/plain": [
       "<Figure size 432x288 with 1 Axes>"
      ]
     },
     "metadata": {
      "needs_background": "light"
     },
     "output_type": "display_data"
    }
   ],
   "source": [
    "xs = np.linspace(1,20,1000)\n",
    "plt.plot(xs,h(xs))\n",
    "plt.title(\"sen(u)/($2\\sqrt{u}$)\")\n",
    "plt.xlabel(\"u\")\n",
    "ax = plt.gca()"
   ]
  },
  {
   "cell_type": "code",
   "execution_count": 39,
   "metadata": {
    "deletable": false,
    "editable": false,
    "nbgrader": {
     "cell_type": "code",
     "checksum": "1cdfa1f99dec0514f93009024cdc792d",
     "grade": true,
     "grade_id": "cell-b524b17ed51e0f43",
     "locked": true,
     "points": 1,
     "schema_version": 3,
     "solution": false,
     "task": false
    }
   },
   "outputs": [],
   "source": [
    "assert len(ax.lines) == 1\n",
    "assert ax.title.get_text() != \"\""
   ]
  },
  {
   "cell_type": "code",
   "execution_count": 40,
   "metadata": {
    "deletable": false,
    "editable": false,
    "nbgrader": {
     "cell_type": "code",
     "checksum": "53c6f8e1c3d7423106ea0d6c6d3d16b0",
     "grade": true,
     "grade_id": "cell-00a6a29b2c4a1093",
     "locked": true,
     "points": 1,
     "schema_version": 3,
     "solution": false,
     "task": false
    }
   },
   "outputs": [],
   "source": [
    "l = ax.lines[0]\n",
    "assert min(l.get_xdata()) == 1\n",
    "assert max(l.get_xdata()) == 20"
   ]
  },
  {
   "cell_type": "markdown",
   "metadata": {},
   "source": [
    "## Questão 5: Erros de integração\n",
    "\n",
    "Vamos observar como os métodos de integração se comportam quando integramos $g$ ou $h$.\n",
    "Para isso, vamos precisar de um integrador (numérico!) suficientemente preciso.\n",
    "Por simplicidade, vamos integrar a função $g$."
   ]
  },
  {
   "cell_type": "code",
   "execution_count": 80,
   "metadata": {
    "deletable": false,
    "nbgrader": {
     "cell_type": "code",
     "checksum": "0255df5b84cfc48b5cd6a3b9d328bb0b",
     "grade": false,
     "grade_id": "cell-78dee28a81983d96",
     "locked": false,
     "schema_version": 3,
     "solution": true,
     "task": false
    }
   },
   "outputs": [],
   "source": [
    "def G(a,b):\n",
    "    \"\"\"Integral de  sin(x^2)  no intervalo [a,b], com bastante precisão\"\"\"\n",
    "    return simpson_rec(g,a,b,tol=1e-10)[0]"
   ]
  },
  {
   "cell_type": "code",
   "execution_count": 81,
   "metadata": {
    "deletable": false,
    "editable": false,
    "nbgrader": {
     "cell_type": "code",
     "checksum": "10de28c495908a43fb8679e1dc153b42",
     "grade": true,
     "grade_id": "cell-f54c55574a200ba5",
     "locked": true,
     "points": 2,
     "schema_version": 3,
     "solution": false,
     "task": false
    }
   },
   "outputs": [],
   "source": [
    "assert np.isclose(G(1,2),    0.49450818762037513)\n",
    "assert np.isclose(G(20,33), -0.006737045607890843)"
   ]
  },
  {
   "cell_type": "markdown",
   "metadata": {},
   "source": [
    "Calcule a integral de $g$ no intervalo $[1,2]$ e a correspondente integral de $h$ em $[1,4]$,\n",
    "para a tolerância padrão `1e-8`,\n",
    "usando algum dos métodos adaptativos que vimos.\n",
    "\n",
    "Qual o erro de cada um dos métodos?\n",
    "Em quantos pontos cada um calcula?"
   ]
  },
  {
   "cell_type": "code",
   "execution_count": 82,
   "metadata": {
    "deletable": false,
    "nbgrader": {
     "cell_type": "code",
     "checksum": "f311fdc868bb1e95d9c05c3d5d463ce5",
     "grade": true,
     "grade_id": "cell-3e696cbbbd91aaf1",
     "locked": false,
     "points": 2,
     "schema_version": 3,
     "solution": true,
     "task": false
    }
   },
   "outputs": [
    {
     "name": "stdout",
     "output_type": "stream",
     "text": [
      "-1.309354e-10 106\n"
     ]
    }
   ],
   "source": [
    "r,n = simpson_rec(g,1,2)\n",
    "exact = G(1,2)\n",
    "print(f\"{exact-r:8e}\",n)"
   ]
  },
  {
   "cell_type": "code",
   "execution_count": 83,
   "metadata": {
    "scrolled": true
   },
   "outputs": [
    {
     "name": "stdout",
     "output_type": "stream",
     "text": [
      "-4.717853885338741e-11 82\n"
     ]
    }
   ],
   "source": [
    "r,n=simpson_rec(h,1,4)\n",
    "print(exact-r,n)"
   ]
  },
  {
   "cell_type": "markdown",
   "metadata": {},
   "source": [
    "Percebe-se que tivemos um erro uma ordem de grandeza menor calculando a integral de \"h\". Não apenas isso, como também observamos que essa última levou menos iterações para atingir esse erro."
   ]
  },
  {
   "cell_type": "markdown",
   "metadata": {},
   "source": [
    "O que acontece se pedirmos mais precisão? E menos?"
   ]
  },
  {
   "cell_type": "code",
   "execution_count": 45,
   "metadata": {
    "deletable": false,
    "nbgrader": {
     "cell_type": "code",
     "checksum": "7692a3b2df702cd2064516f4870e84c3",
     "grade": true,
     "grade_id": "cell-cae6c9a6394225f8",
     "locked": false,
     "points": 2,
     "schema_version": 3,
     "solution": true,
     "task": false
    }
   },
   "outputs": [],
   "source": [
    "import pandas as pd\n",
    "\n",
    "def get_integracao_tol(g, h, a, b,tols, tabela = False):\n",
    "    err_g = []\n",
    "    npts_g = []\n",
    "    err_h = []\n",
    "    npts_h = []\n",
    "    exact = G(a,b)\n",
    "    for tol in tols:\n",
    "        g_r, g_n = simpson2(g,a,b, tol = tol)\n",
    "        h_r, h_n = simpson2(h,a**2,b**2, tol = tol)\n",
    "        \n",
    "        err_h.append(abs(exact - h_r))\n",
    "        err_g.append(abs(exact - g_r))\n",
    "        npts_h.append(h_n)\n",
    "        npts_g.append(g_n)\n",
    "    \n",
    "    if tabela == True:\n",
    "        for i in range(len(tols)):\n",
    "            print( f\"Tol: {tols[i]:10e}     Err_g: {err_g[i]:15e}     N_g: {npts_g[i]:6}     Err_h: {err_h[i]: 15e}     N_h: {npts_h[i]:4}\" )\n",
    "        \n",
    "    erros = pd.DataFrame({\"Função g\": err_g,\n",
    "                       \"Função h\": err_h,\n",
    "                        \"Tols\": tols.astype(str)})\n",
    "    erros.set_index('Tols', inplace = True)\n",
    "    \n",
    "    num = pd.DataFrame({\"Função g\": npts_g,\n",
    "                        \"Função h\": npts_h,\n",
    "                        \"Tols\": tols.astype(str)})\n",
    "    num.set_index(\"Tols\", inplace = True)\n",
    "    \n",
    "    return erros, num"
   ]
  },
  {
   "cell_type": "code",
   "execution_count": 46,
   "metadata": {},
   "outputs": [],
   "source": [
    "def plot_integração_erros_nums(g, h, a, b, tols, log = True, tabela = False):\n",
    "    erros, nums = get_integracao_tol(g, h, a, b, tols, tabela = tabela)\n",
    "    fig, axs = plt.subplots(nrows=1, ncols=2, figsize = [15,7])\n",
    "\n",
    "    erros.plot(kind = \"line\", logy = log, ax = axs[0]);\n",
    "    axs[0].set_title(f\"Erro em relação à tolerância | intervalo {[round(a,2),round(b,2)]}\");\n",
    "\n",
    "    nums.plot(kind = \"line\", logy = log, ax = axs[1]);\n",
    "    axs[1].set_title(f\"Numero de pontos calculados | intervalo {[round(a,2),round(b,2)]}\");"
   ]
  },
  {
   "cell_type": "code",
   "execution_count": 47,
   "metadata": {},
   "outputs": [
    {
     "data": {
      "image/png": "[encoded data removed]",
      "text/plain": [
       "<Figure size 1080x504 with 2 Axes>"
      ]
     },
     "metadata": {
      "needs_background": "light"
     },
     "output_type": "display_data"
    }
   ],
   "source": [
    "a, b = 1, 2\n",
    "tols = np.array([1e-1, 1e-2, 1e-3,  1e-4,1e-5, 1e-6, 1e-7, 1e-8, 1e-9, 1e-10, 1e-11, 1e-12, 1e-13, 1e-14])   \n",
    "\n",
    "plot_integração_erros_nums(g, h, a, b, tols)"
   ]
  },
  {
   "cell_type": "markdown",
   "metadata": {},
   "source": [
    "Quais diferenças você observa entre integrar $g$ ou $h$?"
   ]
  },
  {
   "cell_type": "markdown",
   "metadata": {
    "deletable": false,
    "nbgrader": {
     "cell_type": "markdown",
     "checksum": "569de4499f0d7f15ff2b307442230bc6",
     "grade": true,
     "grade_id": "cell-91cebfd1ea80632d",
     "locked": false,
     "points": 2,
     "schema_version": 3,
     "solution": true,
     "task": false
    }
   },
   "source": [
    "Ambas as funções apresentam comportamento similar, uma vez que ambas tem uma diminuição exponencial dos seus erros e um aumento eponencial da quantidade de pontos calculados, com um aumento da tolerância, conforme inficam os gráficos. \n",
    "\n",
    "Porém, é evidente que, considerando mesmas tolerências, a função $h$ apresenta um resultado mais exato, isto é, mais próximo do valor analítico da integral, calculado a partir de séries de potência, e com menos pontos sendo calculados.\n",
    "\n",
    "Assim, conclui-se que usar a função na forma $h$ é mais eficiente do que usar a função na forma $g$."
   ]
  },
  {
   "cell_type": "markdown",
   "metadata": {},
   "source": [
    "## Questão 6: Explorando os períodos\n",
    "\n",
    "Agora, vamos integrar num intervalo que corresponde a um \"período\" de $g$:\n",
    "$[\\sqrt{\\pi}, \\sqrt{2\\pi}]$.\n",
    "\n",
    "Repita os estudos feitos na questão anterior."
   ]
  },
  {
   "cell_type": "code",
   "execution_count": 48,
   "metadata": {
    "deletable": false,
    "nbgrader": {
     "cell_type": "code",
     "checksum": "88e144c2536e7ce51912bd0c1c48a47b",
     "grade": true,
     "grade_id": "cell-68d5b5edbd7061e3",
     "locked": false,
     "points": 1,
     "schema_version": 3,
     "solution": true,
     "task": false
    }
   },
   "outputs": [
    {
     "data": {
      "image/png": "[encoded data removed]",
      "text/plain": [
       "<Figure size 1080x504 with 2 Axes>"
      ]
     },
     "metadata": {
      "needs_background": "light"
     },
     "output_type": "display_data"
    }
   ],
   "source": [
    "a, b  = np.sqrt(np.pi), np.sqrt(2*np.pi) \n",
    "tols = np.array([1e-1, 1e-2, 1e-3,  1e-4,1e-5, 1e-6, 1e-7, 1e-8, 1e-9, 1e-10, 1e-11, 1e-12, 1e-13, 1e-14])    \n",
    "\n",
    "plot_integração_erros_nums(g, h, a, b, tols)"
   ]
  },
  {
   "cell_type": "markdown",
   "metadata": {},
   "source": [
    "Neste caso, há mais ou menos diferença entre os métodos?"
   ]
  },
  {
   "cell_type": "markdown",
   "metadata": {
    "deletable": false,
    "nbgrader": {
     "cell_type": "markdown",
     "checksum": "e63d68df8d030627354377173e4973bb",
     "grade": true,
     "grade_id": "cell-d416b276a6876273",
     "locked": false,
     "points": 1,
     "schema_version": 3,
     "solution": true,
     "task": false
    }
   },
   "source": [
    "Nesse caso há menos diferença entre os métodos."
   ]
  },
  {
   "cell_type": "markdown",
   "metadata": {},
   "source": [
    "Para lidar com os zeros periódicos de $h$,\n",
    "escreva a função `multiint(f, intervals, tol)`, que retorna:\n",
    "- a soma das integrais de $f$ em cada um dos intervalos\n",
    "  (uma lista de pares, com as extremidades iniciais e finais);\n",
    "- bem como o número total de subdivisões efetuadas.\n",
    "\n",
    "Lembre de dividir a tolerância pelo número de intervalos, ao chamar o integrador em cada um deles ;-)"
   ]
  },
  {
   "cell_type": "code",
   "execution_count": 49,
   "metadata": {
    "deletable": false,
    "nbgrader": {
     "cell_type": "code",
     "checksum": "bbd0157527390e2a0becf64a07dbd5b6",
     "grade": false,
     "grade_id": "cell-3485148f70086f30",
     "locked": false,
     "schema_version": 3,
     "solution": true,
     "task": false
    }
   },
   "outputs": [],
   "source": [
    "def multiint(f, intervals, tol=1e-8):\n",
    "    tol = tol/len(intervals)\n",
    "    n=0\n",
    "    approx = 0\n",
    "    for interval in intervals:\n",
    "        r_parc,n_parc = simpson_rec(f,interval[0],interval[1],tol)\n",
    "        approx += r_parc\n",
    "        n += n_parc\n",
    "    return approx, n"
   ]
  },
  {
   "cell_type": "code",
   "execution_count": 50,
   "metadata": {
    "deletable": false,
    "editable": false,
    "nbgrader": {
     "cell_type": "code",
     "checksum": "51ba6e6dee20ab6a71fc879950e47465",
     "grade": true,
     "grade_id": "cell-82d4d7d1ec3eee7b",
     "locked": true,
     "points": 1,
     "schema_version": 3,
     "solution": false,
     "task": false
    }
   },
   "outputs": [],
   "source": [
    "I = multiint(np.sin, [(0, np.pi), (2*np.pi, 3*np.pi), (4*np.pi, 5*np.pi)])\n",
    "assert np.isclose(I[0], 6, atol=1e-8, rtol=1e-8)\n",
    "assert I[1] > 3*32"
   ]
  },
  {
   "cell_type": "code",
   "execution_count": 51,
   "metadata": {
    "deletable": false,
    "editable": false,
    "nbgrader": {
     "cell_type": "code",
     "checksum": "9edf43208d661dfa74a8441f0c18d1c1",
     "grade": true,
     "grade_id": "cell-02b106cf60203920",
     "locked": true,
     "points": 1,
     "schema_version": 3,
     "solution": false,
     "task": false
    }
   },
   "outputs": [],
   "source": [
    "I = multiint(np.sin, [(0, np.pi), (np.pi, 2*np.pi), (2*np.pi, 8)])\n",
    "assert np.isclose(I[0], 1 - np.cos(8), atol=1e-8, rtol=1e-8)\n",
    "assert I[1] > 100"
   ]
  },
  {
   "cell_type": "code",
   "execution_count": 98,
   "metadata": {},
   "outputs": [
    {
     "data": {
      "text/plain": [
       "2.5066282746310002"
      ]
     },
     "execution_count": 98,
     "metadata": {},
     "output_type": "execute_result"
    }
   ],
   "source": [
    "np.sqrt(2*np.pi) "
   ]
  },
  {
   "cell_type": "markdown",
   "metadata": {},
   "source": [
    "Agora, estude como os erros de integral de $g$ e $h$ se comportam,\n",
    "para intervalos com mais \"períodos\"."
   ]
  },
  {
   "cell_type": "code",
   "execution_count": 100,
   "metadata": {},
   "outputs": [
    {
     "data": {
      "text/plain": [
       "[<matplotlib.lines.Line2D at 0x7fb92df40280>]"
      ]
     },
     "execution_count": 100,
     "metadata": {},
     "output_type": "execute_result"
    },
    {
     "data": {
      "image/png": "[encoded data removed]",
      "text/plain": [
       "<Figure size 432x288 with 1 Axes>"
      ]
     },
     "metadata": {
      "needs_background": "light"
     },
     "output_type": "display_data"
    }
   ],
   "source": [
    "xs = [np.sqrt(n*np.pi) for n in range(1,8,)]\n",
    "y = [g(x) for x in xs]\n",
    "plt.scatter(xs,y)\n",
    "xs = np.linspace(np.sqrt(np.pi),np.sqrt(8*np.pi))\n",
    "y = [g(x) for x in xs]   \n",
    "plt.plot(xs,y)"
   ]
  },
  {
   "cell_type": "code",
   "execution_count": 103,
   "metadata": {
    "deletable": false,
    "nbgrader": {
     "cell_type": "code",
     "checksum": "96ed72a72f7e00e78ef35d67689e98f5",
     "grade": true,
     "grade_id": "cell-7d7dc222e8b2190d",
     "locked": false,
     "points": 2,
     "schema_version": 3,
     "solution": true,
     "task": false
    }
   },
   "outputs": [],
   "source": [
    "xs = [np.sqrt(n*np.pi) for n in range(1,8)]\n",
    "tuples = []\n",
    "for i in range(1,int(len(xs)/2)):\n",
    "    tuples.append((xs[i],xs[i+1]))\n",
    "# multiint(g, [(xs[]), , (4*np.pi, 5*np.pi),(6*np.pi, 7*np.pi), (7*np.pi,8*np.pi)])"
   ]
  },
  {
   "cell_type": "code",
   "execution_count": 104,
   "metadata": {},
   "outputs": [
    {
     "data": {
      "text/plain": [
       "[(2.5066282746310002, 3.0699801238394655),\n",
       " (3.0699801238394655, 3.5449077018110318)]"
      ]
     },
     "execution_count": 104,
     "metadata": {},
     "output_type": "execute_result"
    }
   ],
   "source": [
    "tuples"
   ]
  },
  {
   "cell_type": "code",
   "execution_count": 53,
   "metadata": {},
   "outputs": [
    {
     "name": "stderr",
     "output_type": "stream",
     "text": [
      "<ipython-input-34-359fe0e95f0a>:2: RuntimeWarning: invalid value encountered in true_divide\n",
      "  return np.sin(y)/(2*np.sqrt(y))\n",
      "<ipython-input-34-359fe0e95f0a>:2: RuntimeWarning: invalid value encountered in double_scalars\n",
      "  return np.sin(y)/(2*np.sqrt(y))\n"
     ]
    },
    {
     "ename": "RecursionError",
     "evalue": "maximum recursion depth exceeded while calling a Python object",
     "output_type": "error",
     "traceback": [
      "\u001b[0;31m---------------------------------------------------------------------------\u001b[0m",
      "\u001b[0;31mRecursionError\u001b[0m                            Traceback (most recent call last)",
      "\u001b[0;32m<ipython-input-53-9b048c71adb5>\u001b[0m in \u001b[0;36m<module>\u001b[0;34m\u001b[0m\n\u001b[0;32m----> 1\u001b[0;31m multiint(h, [(0, (np.pi)**2), ( (2*np.pi)**2, (3*np.pi)**2), ((4*np.pi)**2, (5*np.pi)**2),\n\u001b[0m\u001b[1;32m      2\u001b[0m              ((6*np.pi)**2, (7*np.pi)**2), ((7*np.pi)**2,(8*np.pi)**2)])\n",
      "\u001b[0;32m<ipython-input-49-579d33b64114>\u001b[0m in \u001b[0;36mmultiint\u001b[0;34m(f, intervals, tol)\u001b[0m\n\u001b[1;32m      4\u001b[0m     \u001b[0mapprox\u001b[0m \u001b[0;34m=\u001b[0m \u001b[0;36m0\u001b[0m\u001b[0;34m\u001b[0m\u001b[0;34m\u001b[0m\u001b[0m\n\u001b[1;32m      5\u001b[0m     \u001b[0;32mfor\u001b[0m \u001b[0minterval\u001b[0m \u001b[0;32min\u001b[0m \u001b[0mintervals\u001b[0m\u001b[0;34m:\u001b[0m\u001b[0;34m\u001b[0m\u001b[0;34m\u001b[0m\u001b[0m\n\u001b[0;32m----> 6\u001b[0;31m         \u001b[0mr_parc\u001b[0m\u001b[0;34m,\u001b[0m\u001b[0mn_parc\u001b[0m \u001b[0;34m=\u001b[0m \u001b[0msimpson_rec\u001b[0m\u001b[0;34m(\u001b[0m\u001b[0mf\u001b[0m\u001b[0;34m,\u001b[0m\u001b[0minterval\u001b[0m\u001b[0;34m[\u001b[0m\u001b[0;36m0\u001b[0m\u001b[0;34m]\u001b[0m\u001b[0;34m,\u001b[0m\u001b[0minterval\u001b[0m\u001b[0;34m[\u001b[0m\u001b[0;36m1\u001b[0m\u001b[0;34m]\u001b[0m\u001b[0;34m,\u001b[0m\u001b[0mtol\u001b[0m\u001b[0;34m)\u001b[0m\u001b[0;34m\u001b[0m\u001b[0;34m\u001b[0m\u001b[0m\n\u001b[0m\u001b[1;32m      7\u001b[0m         \u001b[0mapprox\u001b[0m \u001b[0;34m+=\u001b[0m \u001b[0mr_parc\u001b[0m\u001b[0;34m\u001b[0m\u001b[0;34m\u001b[0m\u001b[0m\n\u001b[1;32m      8\u001b[0m         \u001b[0mn\u001b[0m \u001b[0;34m+=\u001b[0m \u001b[0mn_parc\u001b[0m\u001b[0;34m\u001b[0m\u001b[0;34m\u001b[0m\u001b[0m\n",
      "\u001b[0;32m<ipython-input-16-6ac6d6bec877>\u001b[0m in \u001b[0;36msimpson_rec\u001b[0;34m(f, a, b, tol)\u001b[0m\n\u001b[1;32m      5\u001b[0m     \u001b[0;32mif\u001b[0m\u001b[0;34m(\u001b[0m\u001b[0mnp\u001b[0m\u001b[0;34m.\u001b[0m\u001b[0mabs\u001b[0m\u001b[0;34m(\u001b[0m\u001b[0msub_1\u001b[0m \u001b[0;34m-\u001b[0m \u001b[0msub_2\u001b[0m\u001b[0;34m)\u001b[0m \u001b[0;34m<=\u001b[0m \u001b[0mtol\u001b[0m\u001b[0;34m)\u001b[0m\u001b[0;34m:\u001b[0m\u001b[0;34m\u001b[0m\u001b[0;34m\u001b[0m\u001b[0m\n\u001b[1;32m      6\u001b[0m         \u001b[0;32mreturn\u001b[0m \u001b[0msub_2\u001b[0m\u001b[0;34m,\u001b[0m\u001b[0;36m2\u001b[0m\u001b[0;34m\u001b[0m\u001b[0;34m\u001b[0m\u001b[0m\n\u001b[0;32m----> 7\u001b[0;31m     \u001b[0mapprox_left\u001b[0m\u001b[0;34m,\u001b[0m\u001b[0mn\u001b[0m \u001b[0;34m=\u001b[0m \u001b[0msimpson_rec\u001b[0m\u001b[0;34m(\u001b[0m\u001b[0mf\u001b[0m\u001b[0;34m,\u001b[0m \u001b[0ma\u001b[0m\u001b[0;34m,\u001b[0m \u001b[0mm\u001b[0m\u001b[0;34m,\u001b[0m \u001b[0mtol\u001b[0m\u001b[0;34m=\u001b[0m\u001b[0mtol\u001b[0m\u001b[0;34m/\u001b[0m\u001b[0;36m2\u001b[0m\u001b[0;34m)\u001b[0m\u001b[0;34m\u001b[0m\u001b[0;34m\u001b[0m\u001b[0m\n\u001b[0m\u001b[1;32m      8\u001b[0m     \u001b[0mapprox_right\u001b[0m\u001b[0;34m,\u001b[0m\u001b[0mn_2\u001b[0m \u001b[0;34m=\u001b[0m \u001b[0msimpson_rec\u001b[0m\u001b[0;34m(\u001b[0m\u001b[0mf\u001b[0m\u001b[0;34m,\u001b[0m\u001b[0mm\u001b[0m\u001b[0;34m,\u001b[0m\u001b[0mb\u001b[0m\u001b[0;34m,\u001b[0m\u001b[0mtol\u001b[0m\u001b[0;34m=\u001b[0m\u001b[0mtol\u001b[0m\u001b[0;34m/\u001b[0m\u001b[0;36m2\u001b[0m\u001b[0;34m)\u001b[0m\u001b[0;34m\u001b[0m\u001b[0;34m\u001b[0m\u001b[0m\n\u001b[1;32m      9\u001b[0m     \u001b[0;32mreturn\u001b[0m \u001b[0mapprox_left\u001b[0m \u001b[0;34m+\u001b[0m \u001b[0mapprox_right\u001b[0m\u001b[0;34m,\u001b[0m \u001b[0mn\u001b[0m\u001b[0;34m+\u001b[0m \u001b[0mn_2\u001b[0m\u001b[0;34m\u001b[0m\u001b[0;34m\u001b[0m\u001b[0m\n",
      "... last 1 frames repeated, from the frame below ...\n",
      "\u001b[0;32m<ipython-input-16-6ac6d6bec877>\u001b[0m in \u001b[0;36msimpson_rec\u001b[0;34m(f, a, b, tol)\u001b[0m\n\u001b[1;32m      5\u001b[0m     \u001b[0;32mif\u001b[0m\u001b[0;34m(\u001b[0m\u001b[0mnp\u001b[0m\u001b[0;34m.\u001b[0m\u001b[0mabs\u001b[0m\u001b[0;34m(\u001b[0m\u001b[0msub_1\u001b[0m \u001b[0;34m-\u001b[0m \u001b[0msub_2\u001b[0m\u001b[0;34m)\u001b[0m \u001b[0;34m<=\u001b[0m \u001b[0mtol\u001b[0m\u001b[0;34m)\u001b[0m\u001b[0;34m:\u001b[0m\u001b[0;34m\u001b[0m\u001b[0;34m\u001b[0m\u001b[0m\n\u001b[1;32m      6\u001b[0m         \u001b[0;32mreturn\u001b[0m \u001b[0msub_2\u001b[0m\u001b[0;34m,\u001b[0m\u001b[0;36m2\u001b[0m\u001b[0;34m\u001b[0m\u001b[0;34m\u001b[0m\u001b[0m\n\u001b[0;32m----> 7\u001b[0;31m     \u001b[0mapprox_left\u001b[0m\u001b[0;34m,\u001b[0m\u001b[0mn\u001b[0m \u001b[0;34m=\u001b[0m \u001b[0msimpson_rec\u001b[0m\u001b[0;34m(\u001b[0m\u001b[0mf\u001b[0m\u001b[0;34m,\u001b[0m \u001b[0ma\u001b[0m\u001b[0;34m,\u001b[0m \u001b[0mm\u001b[0m\u001b[0;34m,\u001b[0m \u001b[0mtol\u001b[0m\u001b[0;34m=\u001b[0m\u001b[0mtol\u001b[0m\u001b[0;34m/\u001b[0m\u001b[0;36m2\u001b[0m\u001b[0;34m)\u001b[0m\u001b[0;34m\u001b[0m\u001b[0;34m\u001b[0m\u001b[0m\n\u001b[0m\u001b[1;32m      8\u001b[0m     \u001b[0mapprox_right\u001b[0m\u001b[0;34m,\u001b[0m\u001b[0mn_2\u001b[0m \u001b[0;34m=\u001b[0m \u001b[0msimpson_rec\u001b[0m\u001b[0;34m(\u001b[0m\u001b[0mf\u001b[0m\u001b[0;34m,\u001b[0m\u001b[0mm\u001b[0m\u001b[0;34m,\u001b[0m\u001b[0mb\u001b[0m\u001b[0;34m,\u001b[0m\u001b[0mtol\u001b[0m\u001b[0;34m=\u001b[0m\u001b[0mtol\u001b[0m\u001b[0;34m/\u001b[0m\u001b[0;36m2\u001b[0m\u001b[0;34m)\u001b[0m\u001b[0;34m\u001b[0m\u001b[0;34m\u001b[0m\u001b[0m\n\u001b[1;32m      9\u001b[0m     \u001b[0;32mreturn\u001b[0m \u001b[0mapprox_left\u001b[0m \u001b[0;34m+\u001b[0m \u001b[0mapprox_right\u001b[0m\u001b[0;34m,\u001b[0m \u001b[0mn\u001b[0m\u001b[0;34m+\u001b[0m \u001b[0mn_2\u001b[0m\u001b[0;34m\u001b[0m\u001b[0;34m\u001b[0m\u001b[0m\n",
      "\u001b[0;31mRecursionError\u001b[0m: maximum recursion depth exceeded while calling a Python object"
     ]
    }
   ],
   "source": [
    "multiint(h, [(0, (np.pi)**2), ( (2*np.pi)**2, (3*np.pi)**2), ((4*np.pi)**2, (5*np.pi)**2),\n",
    "             ((6*np.pi)**2, (7*np.pi)**2), ((7*np.pi)**2,(8*np.pi)**2)])"
   ]
  },
  {
   "cell_type": "markdown",
   "metadata": {},
   "source": [
    "Comente o comportamento dos dois métodos para esta nova situação.\n",
    "O que você percebe?"
   ]
  },
  {
   "cell_type": "markdown",
   "metadata": {
    "deletable": false,
    "nbgrader": {
     "cell_type": "markdown",
     "checksum": "2adc1ee4373f03b67ad3d34bfb7feceb",
     "grade": true,
     "grade_id": "cell-3a4055e20218fb62",
     "locked": false,
     "points": 2,
     "schema_version": 3,
     "solution": true,
     "task": false
    }
   },
   "source": [
    "YOUR ANSWER HERE"
   ]
  },
  {
   "cell_type": "markdown",
   "metadata": {},
   "source": [
    "## Questão 7: Mantendo o integrando positivo\n",
    "\n",
    "A função que estamos integrando é bastante oscilatória.\n",
    "Após a mudança de variáveis, é possível somar a parte positiva com a negativa seguinte (ou vice-versa),\n",
    "e reduzir a amplitude do integrando.\n",
    "\n",
    "Faça um gráfico de $h$ e de $j(u) = h(u) + h(u + \\pi)$ no intervalo $[1,20]$."
   ]
  },
  {
   "cell_type": "code",
   "execution_count": 67,
   "metadata": {
    "deletable": false,
    "nbgrader": {
     "cell_type": "code",
     "checksum": "0f5f43699da81b3e086d42382899225b",
     "grade": false,
     "grade_id": "cell-12b7eacef0881569",
     "locked": false,
     "schema_version": 3,
     "solution": true,
     "task": false
    }
   },
   "outputs": [
    {
     "data": {
      "image/png": "[encoded data removed]",
      "text/plain": [
       "<Figure size 432x288 with 1 Axes>"
      ]
     },
     "metadata": {
      "needs_background": "light"
     },
     "output_type": "display_data"
    }
   ],
   "source": [
    "xs = np.linspace(1,20,100)\n",
    "def j(u):\n",
    "    return h(u) + h(u + np.pi)\n",
    "y = j(xs)\n",
    "y2 = h(xs)\n",
    "plt.plot(xs,y,label=\"j(u)\")\n",
    "plt.plot(xs,y2,label=\"h(u)\")\n",
    "plt.legend()\n",
    "plt.title(\"h(u) e j(u) no intervalo [1,20]\")\n",
    "ax = plt.gca()"
   ]
  },
  {
   "cell_type": "code",
   "execution_count": 68,
   "metadata": {
    "deletable": false,
    "editable": false,
    "nbgrader": {
     "cell_type": "code",
     "checksum": "4f87dbd55bcadaaec6cdf49a76bc1a78",
     "grade": true,
     "grade_id": "cell-3e0c4b4e11a1afa8",
     "locked": true,
     "points": 1,
     "schema_version": 3,
     "solution": false,
     "task": false
    }
   },
   "outputs": [],
   "source": [
    "assert len(ax.lines) == 2\n",
    "assert len(ax.legend().texts) == 2\n",
    "assert ax.title.get_text() != \"\""
   ]
  },
  {
   "cell_type": "code",
   "execution_count": 69,
   "metadata": {
    "deletable": false,
    "editable": false,
    "nbgrader": {
     "cell_type": "code",
     "checksum": "6541a7ba0d2730e692deb82aeb5b8173",
     "grade": true,
     "grade_id": "cell-de9011428cadd957",
     "locked": true,
     "points": 1,
     "schema_version": 3,
     "solution": false,
     "task": false
    }
   },
   "outputs": [],
   "source": [
    "l = ax.lines[0]\n",
    "assert min(l.get_xdata()) == 1\n",
    "assert max(l.get_xdata()) == 20"
   ]
  },
  {
   "cell_type": "markdown",
   "metadata": {},
   "source": [
    "Faça, também, gráficos separados no intervalo $[6\\pi,60\\pi]$ para $h$ e $j$."
   ]
  },
  {
   "cell_type": "code",
   "execution_count": 70,
   "metadata": {
    "deletable": false,
    "nbgrader": {
     "cell_type": "code",
     "checksum": "96171f3437bc527fdade90f8d0c78e0a",
     "grade": false,
     "grade_id": "cell-998f6857a394395d",
     "locked": false,
     "schema_version": 3,
     "solution": true,
     "task": false
    }
   },
   "outputs": [
    {
     "data": {
      "image/png": "[encoded data removed]",
      "text/plain": [
       "<Figure size 864x288 with 2 Axes>"
      ]
     },
     "metadata": {
      "needs_background": "light"
     },
     "output_type": "display_data"
    }
   ],
   "source": [
    "fig, axs = plt.subplots(ncols=2, figsize=(12,4))\n",
    "(ax1, ax2) = axs\n",
    "xs = np.linspace(6*np.pi,60*np.pi,1000)\n",
    "y = j(xs)\n",
    "y2 = h(xs)\n",
    "\n",
    "fig.suptitle(\"h(u) e j(u) no intervalo [6$\\pi$,60$\\pi$]\")\n",
    "axs[0].plot(xs,y,label=\"j(u)\")\n",
    "axs[0].legend()\n",
    "axs[0].set_title(\"j(u)\")\n",
    "axs[1].plot(xs,y2,label=\"h(u)\")\n",
    "axs[1].legend()\n",
    "axs[1].set_title(\"h(u)\")\n",
    "\n",
    "ax = plt.gca()"
   ]
  },
  {
   "cell_type": "code",
   "execution_count": 71,
   "metadata": {},
   "outputs": [],
   "source": [
    "for ax in axs:\n",
    "    assert len(ax.lines) == 1\n",
    "    assert ax.title.get_text() != \"\""
   ]
  },
  {
   "cell_type": "markdown",
   "metadata": {},
   "source": [
    "O que você nota do comportamento de $h$ e $j$?"
   ]
  },
  {
   "cell_type": "markdown",
   "metadata": {},
   "source": [
    "Agora, compare integrar\n",
    "- $g$ no intervalo $[\\sqrt{6\\pi}, \\sqrt{30\\pi}]$,\n",
    "- $h$ no intervalo $[6\\pi, 30\\pi]$,\n",
    "- $j$ nos intervalos correspondentes\n",
    "\n",
    "Para isto, calcule os erros e números de subdivisões usados para vários valores da tolerância,\n",
    "e faça um gráfico do erro em função do número de subdivisões."
   ]
  },
  {
   "cell_type": "code",
   "execution_count": 72,
   "metadata": {},
   "outputs": [],
   "source": [
    "def get_erros_j(j, a, b, tols, tabela = False, log = True):\n",
    "    err_j = []\n",
    "    npts_j = []\n",
    "    exact = G(a,b)\n",
    "\n",
    "    for tol in tols:\n",
    "        j_r, j_n = simpson2(j, a**2, b**2, tol)\n",
    "        \n",
    "        err_j.append(abs(exact - j_r))\n",
    "        npts_j.append(j_n)\n",
    "    \n",
    "    if tabela == True:\n",
    "        for i in range(len(tols)):\n",
    "            print( f\"Tol: {tols[i]:10e}     Err_g: {err_j[i]:15e}     N_g: {npts_j[i]:6}\")\n",
    "        \n",
    "    erros = pd.DataFrame({\"Função j\": err_j,\n",
    "                        \"Tols\": tols.astype(str)})\n",
    "    erros.set_index('Tols', inplace = True)\n",
    "    \n",
    "    num = pd.DataFrame({\"Função j\": npts_j,\n",
    "                        \"Tols\": tols.astype(str)})\n",
    "    num.set_index(\"Tols\", inplace = True)\n",
    "    \n",
    "    return erros, num"
   ]
  },
  {
   "cell_type": "code",
   "execution_count": 105,
   "metadata": {},
   "outputs": [
    {
     "name": "stdout",
     "output_type": "stream",
     "text": [
      "(-1.6106968180443252e-14, 2)\n",
      "(-1.6106968180443252e-14, 2)\n",
      "(-1.6106968180443252e-14, 2)\n",
      "(-1.6106968180443252e-14, 2)\n",
      "(-1.6106968180443252e-14, 2)\n",
      "(-1.6106968180443252e-14, 2)\n",
      "(0.007630763565803728, 16384)\n"
     ]
    }
   ],
   "source": [
    "tols = np.array([1e-2,  1e-4, 1e-6, 1e-8, 1e-10, 1e-12, 1e-14])\n",
    "for tol in tols:\n",
    "    print(simpson2(j, a**2, b**2, tol))"
   ]
  },
  {
   "cell_type": "code",
   "execution_count": 106,
   "metadata": {
    "deletable": false,
    "nbgrader": {
     "cell_type": "code",
     "checksum": "93774c6e8c3bad7979899f1af84113ed",
     "grade": true,
     "grade_id": "cell-ae79ce4684a114ab",
     "locked": false,
     "points": 2,
     "schema_version": 3,
     "solution": true,
     "task": false
    }
   },
   "outputs": [
    {
     "data": {
      "text/plain": [
       "<matplotlib.legend.Legend at 0x7fb92e346640>"
      ]
     },
     "execution_count": 106,
     "metadata": {},
     "output_type": "execute_result"
    },
    {
     "data": {
      "image/png": "[encoded data removed]",
      "text/plain": [
       "<Figure size 432x288 with 1 Axes>"
      ]
     },
     "metadata": {
      "needs_background": "light"
     },
     "output_type": "display_data"
    }
   ],
   "source": [
    "a, b = np.sqrt(6*np.pi), np.sqrt(30*np.pi)\n",
    "I = G(a,b)\n",
    "tols = np.array([1e-2,  1e-4, 1e-6, 1e-8, 1e-10, 1e-12, 1e-14])\n",
    "\n",
    "erros_gh, nums_gh = get_integracao_tol(g, h, a, b, tols)\n",
    "#la linha abaixo só precisa colocar uma função que pegue os erros de j e os numeros de j nesse intervalo\n",
    "erros_j, nums_j = get_erros_j(j, a, b, tols)\n",
    "\n",
    "g_num = nums_gh[\"Função g\"].to_numpy()\n",
    "h_num = nums_gh[\"Função h\"].to_numpy()\n",
    "j_num = nums_j.to_numpy()\n",
    "\n",
    "g_err = erros_gh[\"Função g\"].to_numpy()\n",
    "h_err = erros_gh[\"Função h\"].to_numpy()\n",
    "j_err = erros_j.to_numpy()\n",
    "\n",
    "plt.semilogy(g_num, g_err, label = \"g\")\n",
    "plt.semilogy(h_num, h_err, label = \"h\")\n",
    "plt.semilogy(j_num, j_err, label = \"j\")\n",
    "\n",
    "plt.legend()\n",
    "#ax = plt.gca()"
   ]
  },
  {
   "cell_type": "code",
   "execution_count": 107,
   "metadata": {
    "deletable": false,
    "editable": false,
    "nbgrader": {
     "cell_type": "code",
     "checksum": "8ef3b24ad879c08ac13d3779d0d19be7",
     "grade": true,
     "grade_id": "cell-24d24913fb0c3c5b",
     "locked": true,
     "points": 1,
     "schema_version": 3,
     "solution": false,
     "task": false
    }
   },
   "outputs": [
    {
     "ename": "AssertionError",
     "evalue": "",
     "output_type": "error",
     "traceback": [
      "\u001b[0;31m---------------------------------------------------------------------------\u001b[0m",
      "\u001b[0;31mAssertionError\u001b[0m                            Traceback (most recent call last)",
      "\u001b[0;32m<ipython-input-107-f4fb839f618d>\u001b[0m in \u001b[0;36m<module>\u001b[0;34m\u001b[0m\n\u001b[0;32m----> 1\u001b[0;31m \u001b[0;32massert\u001b[0m \u001b[0mlen\u001b[0m\u001b[0;34m(\u001b[0m\u001b[0max\u001b[0m\u001b[0;34m.\u001b[0m\u001b[0mlines\u001b[0m\u001b[0;34m)\u001b[0m \u001b[0;34m==\u001b[0m \u001b[0;36m3\u001b[0m\u001b[0;34m\u001b[0m\u001b[0;34m\u001b[0m\u001b[0m\n\u001b[0m",
      "\u001b[0;31mAssertionError\u001b[0m: "
     ]
    }
   ],
   "source": [
    "assert len(ax.lines) == 3"
   ]
  },
  {
   "cell_type": "markdown",
   "metadata": {},
   "source": [
    "O que você observa agora?\n",
    "A comparação do número de subdivisões é justa entre $h$ e $j$?"
   ]
  },
  {
   "cell_type": "markdown",
   "metadata": {
    "deletable": false,
    "nbgrader": {
     "cell_type": "markdown",
     "checksum": "89741c9c72c422dab3ba3d1816f2c021",
     "grade": true,
     "grade_id": "cell-f665a2257de66496",
     "locked": false,
     "points": 2,
     "schema_version": 3,
     "solution": true,
     "task": false
    }
   },
   "source": [
    "Não é justa, visto que os métodos apresentram diferentes limites de iterações para atingirem. Sendo assim, não faria sentido tal comparação, visto que algumas podem fazer mais iterações que outras."
   ]
  },
  {
   "cell_type": "markdown",
   "metadata": {},
   "source": [
    "Qual método você escolheria para estimar a integral de 0 a infinito de $g$?\n",
    "Porquê?"
   ]
  },
  {
   "cell_type": "markdown",
   "metadata": {
    "deletable": false,
    "nbgrader": {
     "cell_type": "markdown",
     "checksum": "526fbe4b01ba572f004270988ae5d153",
     "grade": true,
     "grade_id": "cell-58895de27cbdaa7c",
     "locked": false,
     "points": 2,
     "schema_version": 3,
     "solution": true,
     "task": false
    }
   },
   "source": [
    "No caso anterior, h se mostrou mais eficiente na redução do erro. Entretanto, quando aumentamos mais o intervalo, g se mostrou praticamente igual a h, no sgeundo gráfico estudado. A o aumentarmos mais ainda o intervalo, g parece ter chegado a um grau de precisão mais rapidamente, quando comparad aos métodos j e h. Sendo assim, eu "
   ]
  }
 ],
 "metadata": {
  "@webio": {
   "lastCommId": null,
   "lastKernelId": null
  },
  "hide_input": false,
  "kernelspec": {
   "display_name": "Python 3",
   "language": "python",
   "name": "python3"
  },
  "language_info": {
   "codemirror_mode": {
    "name": "ipython",
    "version": 3
   },
   "file_extension": ".py",
   "mimetype": "text/x-python",
   "name": "python",
   "nbconvert_exporter": "python",
   "pygments_lexer": "ipython3",
   "version": "3.8.5"
  }
 },
 "nbformat": 4,
 "nbformat_minor": 5
}

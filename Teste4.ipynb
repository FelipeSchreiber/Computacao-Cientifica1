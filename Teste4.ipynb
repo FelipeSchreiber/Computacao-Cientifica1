{
 "cells": [
  {
   "cell_type": "markdown",
   "metadata": {},
   "source": [
    "![CC-BY-SA](https://mirrors.creativecommons.org/presskit/buttons/88x31/svg/by-sa.svg)\n",
    "\n",
    "\n",
    "This notebook was created by [Bernardo Freitas Paulo da Costa](http://www.im.ufrj.br/bernardofpc),\n",
    "and is licensed under Creative Commons BY-SA."
   ]
  },
  {
   "cell_type": "markdown",
   "metadata": {},
   "source": [
    "Antes de enviar este Teste, verifique que tudo está funcionando como esperado.\n",
    "Por exemplo, **rode o código inteiro, do zero**.\n",
    "Para isso, vá no menu, escolha _Kernel_, depois _Restart & Run All_.\n",
    "\n",
    "Verifique, também, que você respondeu todas as questões:\n",
    "* as questões de código têm `YOUR CODE HERE` (e você pode apagar o `raise NotImplemented` ao incluir sua resposta)\n",
    "* as questões discursivas têm \"YOUR ANSWER HERE\"."
   ]
  },
  {
   "cell_type": "markdown",
   "metadata": {},
   "source": [
    "---"
   ]
  },
  {
   "cell_type": "markdown",
   "metadata": {},
   "source": [
    "Ideias e funções: Luan Lima \\& Bernardo Costa"
   ]
  },
  {
   "cell_type": "code",
   "execution_count": 1,
   "metadata": {
    "deletable": false,
    "editable": false,
    "nbgrader": {
     "cell_type": "code",
     "checksum": "fad3c375e7e9bea49e1af8a31ba4ae42",
     "grade": false,
     "grade_id": "cell-65e15f0c80a778ad",
     "locked": true,
     "schema_version": 3,
     "solution": false,
     "task": false
    }
   },
   "outputs": [],
   "source": [
    "import numpy as np\n",
    "import matplotlib.pyplot as plt"
   ]
  },
  {
   "cell_type": "markdown",
   "metadata": {
    "deletable": false,
    "editable": false,
    "nbgrader": {
     "cell_type": "markdown",
     "checksum": "f0356207f3ddab37b3a572f7ea4b12e9",
     "grade": false,
     "grade_id": "cell-a29e7d7add82d4c0",
     "locked": true,
     "schema_version": 3,
     "solution": false,
     "task": false
    }
   },
   "source": [
    "# Calculando o mínimo de uma função\n",
    "\n",
    "Encontrar o mínimo de uma função derivável é (quase) equivalente a resolver a equação $f'(x) = 0$.\n",
    "\n",
    "Vamos explorar algumas destas ideias."
   ]
  },
  {
   "cell_type": "markdown",
   "metadata": {
    "deletable": false,
    "editable": false,
    "nbgrader": {
     "cell_type": "markdown",
     "checksum": "9309a02cac44696888270aa5581d5d95",
     "grade": false,
     "grade_id": "cell-4c63876feb475715",
     "locked": true,
     "schema_version": 3,
     "solution": false,
     "task": false
    }
   },
   "source": [
    "# 1: Funções básicas\n",
    "\n",
    "## Métodos de bisseção e Newton"
   ]
  },
  {
   "cell_type": "code",
   "execution_count": 2,
   "metadata": {
    "deletable": false,
    "nbgrader": {
     "cell_type": "code",
     "checksum": "da15f4441c6a20aaed87fe0ab02f3364",
     "grade": false,
     "grade_id": "cell-b115a314a5fec568",
     "locked": false,
     "schema_version": 3,
     "solution": true,
     "task": false
    }
   },
   "outputs": [],
   "source": [
    "def condicao_parada_bissecao(a,b,xtol,niter,maxiter,ytol,f,show_intervals):\n",
    "    if(show_intervals):\n",
    "        if(niter >= 19):\n",
    "            print(f\"Current interval:[{a: .26f},{b: .26f}]\\n\")\n",
    "        if(abs(a - b) < xtol):\n",
    "            print(f\"Xtol:[{a},{b}]\")\n",
    "        if(niter == maxiter):\n",
    "            print(f\"Maxiter:[{a},{b}]\")\n",
    "        if(np.abs( f((a+b)/2)  ) < ytol):\n",
    "            print(f\"Ytol:[{a},{b}]\")\n",
    "    return abs(a - b) < xtol or niter == maxiter or np.abs( f((a+b)/2)  ) < ytol\n",
    "\n",
    "def bissecao_pts(f, a, b, xtol=1e-8, ytol=1e-8, maxiter=100,show_intervals=False):\n",
    "    \"\"\"\n",
    "    Encontra uma raiz de  f  pelo algoritmo da bissecao, retornando\n",
    "    todos os pontos pelos quais o algoritmo passa.\n",
    "    \"\"\"\n",
    "    num_iter = 0\n",
    "    pts = []\n",
    "    #supoe fb > fa\n",
    "    if(f(a) > f(b)):\n",
    "        aux = b\n",
    "        b = a\n",
    "        a = aux\n",
    "    fcalls = 2\n",
    "    while(not condicao_parada_bissecao(a,b,xtol,num_iter,maxiter,ytol,f,show_intervals)):\n",
    "        m = (a+b)/2\n",
    "        pts.append(m)\n",
    "        if(f(m) > 0):\n",
    "            b = m\n",
    "        else:\n",
    "            a = m   \n",
    "        num_iter += 1\n",
    "        fcalls += 1\n",
    "    pts.append((a+b)/2)\n",
    "    return pts"
   ]
  },
  {
   "cell_type": "code",
   "execution_count": 3,
   "metadata": {
    "deletable": false,
    "nbgrader": {
     "cell_type": "code",
     "checksum": "607f2b0a74a5256049a9f7d4216cfa0f",
     "grade": false,
     "grade_id": "cell-0b468dfa529cf20c",
     "locked": false,
     "schema_version": 3,
     "solution": true,
     "task": false
    }
   },
   "outputs": [],
   "source": [
    "def condicao_parada(f,x,xtol,ytol,step,niter,maxiter,df,show_fx=False):\n",
    "    if(show_fx):\n",
    "        print(f\"x: {x}, f(x) : {np.abs(f(x))}, f'(x) : {np.abs(df(x))}\")\n",
    "    return (np.abs(f(x))<ytol) or (np.abs(step)<xtol) or (niter>maxiter)\n",
    "def newton_pts(f, df, x, xtol=1e-8, ytol=1e-8, maxiter=100,show_fx=False):\n",
    "    \"\"\"\n",
    "    Método de Newton para encontrar uma raiz de  f  a partir do valor inicial  x.\n",
    "    Retorna todos os pontos pelos quais o algoritmo passa.\n",
    "    \"\"\"\n",
    "    stop = False\n",
    "    niter = 0\n",
    "    pts = []\n",
    "    pts.append(x)\n",
    "    while(not stop):\n",
    "        step = f(x)/df(x)\n",
    "        x -= step\n",
    "        stop = condicao_parada(f,x,xtol,ytol,step,niter,maxiter,df,show_fx)\n",
    "        pts.append(x)\n",
    "        niter += 1\n",
    "    return pts     "
   ]
  },
  {
   "cell_type": "markdown",
   "metadata": {
    "deletable": false,
    "editable": false,
    "nbgrader": {
     "cell_type": "markdown",
     "checksum": "b1294b72c66ed0608c69193bd6915a5b",
     "grade": false,
     "grade_id": "cell-6ff29452853ee3a2",
     "locked": true,
     "schema_version": 3,
     "solution": false,
     "task": false
    }
   },
   "source": [
    "## Derivadas numéricas"
   ]
  },
  {
   "cell_type": "code",
   "execution_count": 4,
   "metadata": {
    "deletable": false,
    "nbgrader": {
     "cell_type": "code",
     "checksum": "017080c36145ceee19aa97e75720bd2e",
     "grade": false,
     "grade_id": "cell-1daa58322d288c07",
     "locked": false,
     "schema_version": 3,
     "solution": true,
     "task": false
    }
   },
   "outputs": [],
   "source": [
    "def df_central(f, x, h=1e-5):\n",
    "    return (f(x+h) - f(x-h))/(2*h)\n",
    "\n",
    "def ddf_central(f, x, h=1e-4):\n",
    "    return (df_central(f,x+h) - df_central(f,x-h))/(2*h)"
   ]
  },
  {
   "cell_type": "markdown",
   "metadata": {
    "deletable": false,
    "editable": false,
    "nbgrader": {
     "cell_type": "markdown",
     "checksum": "5b715c646555740b82fd514ffc215c78",
     "grade": false,
     "grade_id": "cell-c16d8a91f6447f9a",
     "locked": true,
     "schema_version": 3,
     "solution": false,
     "task": false
    }
   },
   "source": [
    "## Erro de aproximação da derivada central iterada\n",
    "\n",
    "Varie $h$ no intervalo $[2^{-27}, 2^0]$,\n",
    "e faça um gráfico do erro da derivada central iterada para derivada segunda,\n",
    "para a exponencial em $x = 0$."
   ]
  },
  {
   "cell_type": "code",
   "execution_count": 5,
   "metadata": {
    "deletable": false,
    "nbgrader": {
     "cell_type": "code",
     "checksum": "48465f1971e3970e495c481aa5edce90",
     "grade": false,
     "grade_id": "cell-f9ef9935a20af648",
     "locked": false,
     "schema_version": 3,
     "solution": true,
     "task": false
    }
   },
   "outputs": [
    {
     "data": {
      "image/png": "[encoded data removed]",
      "text/plain": [
       "<Figure size 432x288 with 1 Axes>"
      ]
     },
     "metadata": {
      "needs_background": "light"
     },
     "output_type": "display_data"
    }
   ],
   "source": [
    "hs = np.logspace(-27,0,base=2, num=100)\n",
    "y = [ddf_central(np.exp,0,h) for h in hs]\n",
    "error = np.add(y,-1)\n",
    "plt.plot(hs,error)\n",
    "plt.title(\"Erro da 2 derivada para exp() em x=0\")\n",
    "plt.xlabel(\"Valor de h\")\n",
    "plt.ylabel(\"Erro\")\n",
    "ax = plt.gca()"
   ]
  },
  {
   "cell_type": "code",
   "execution_count": 6,
   "metadata": {},
   "outputs": [
    {
     "data": {
      "image/png": "[encoded data removed]",
      "text/plain": [
       "<Figure size 432x288 with 1 Axes>"
      ]
     },
     "metadata": {
      "needs_background": "light"
     },
     "output_type": "display_data"
    }
   ],
   "source": [
    "plt.plot(hs,error)\n",
    "plt.loglog()\n",
    "plt.title(\"Erro da 2 derivada para exp() em x=0\")\n",
    "plt.xlabel(\"Valor de h\")\n",
    "plt.ylabel(\"Erro\")\n",
    "ax = plt.gca()"
   ]
  },
  {
   "cell_type": "code",
   "execution_count": 7,
   "metadata": {
    "deletable": false,
    "editable": false,
    "nbgrader": {
     "cell_type": "code",
     "checksum": "1123815067d547cb7964991529b1afe7",
     "grade": true,
     "grade_id": "cell-b05755409653a3ae",
     "locked": true,
     "points": 1,
     "schema_version": 3,
     "solution": false,
     "task": false
    }
   },
   "outputs": [],
   "source": [
    "assert len(ax.lines) == 1\n",
    "assert ax.title.get_text() != \"\"\n",
    "assert ax.get_xlabel() != \"\""
   ]
  },
  {
   "cell_type": "markdown",
   "metadata": {
    "deletable": false,
    "editable": false,
    "nbgrader": {
     "cell_type": "markdown",
     "checksum": "c06e999b9687092a631395757269665d",
     "grade": false,
     "grade_id": "cell-ae0793549d9e71a6",
     "locked": true,
     "schema_version": 3,
     "solution": false,
     "task": false
    }
   },
   "source": [
    "Como esse gráfico muda se escolhermos outros pontos no intervalo $[-2,2]$?\n",
    "\n",
    "Obs: Use erros relativos!"
   ]
  },
  {
   "cell_type": "code",
   "execution_count": 8,
   "metadata": {},
   "outputs": [
    {
     "data": {
      "image/png": "[encoded data removed]",
      "text/plain": [
       "<Figure size 432x288 with 1 Axes>"
      ]
     },
     "metadata": {
      "needs_background": "light"
     },
     "output_type": "display_data"
    }
   ],
   "source": [
    "hs = np.logspace(-27,0,base=2, num=100)\n",
    "for x in np.arange(-2,2,0.5):\n",
    "    y = [ddf_central(np.exp,x,h) for h in hs]\n",
    "    error = np.add(y,-np.exp(x))\n",
    "    plt.plot(hs,error,label=f\"X={x}\")\n",
    "plt.title(\"Erro da 2 derivada para exp() para x [-2,2]\")\n",
    "plt.xlabel(\"Valor de h\")\n",
    "plt.ylabel(\"Erro\")\n",
    "plt.legend(title=\"x\", bbox_to_anchor=(1,0.5), loc=\"center left\")\n",
    "ax = plt.gca()"
   ]
  },
  {
   "cell_type": "code",
   "execution_count": 9,
   "metadata": {
    "deletable": false,
    "nbgrader": {
     "cell_type": "code",
     "checksum": "dd15fe897c27a33df3d529a16533c1d9",
     "grade": false,
     "grade_id": "cell-cd0d59a4500b0609",
     "locked": false,
     "schema_version": 3,
     "solution": true,
     "task": false
    }
   },
   "outputs": [
    {
     "data": {
      "image/png": "[encoded data removed]",
      "text/plain": [
       "<Figure size 432x288 with 1 Axes>"
      ]
     },
     "metadata": {
      "needs_background": "light"
     },
     "output_type": "display_data"
    }
   ],
   "source": [
    "hs = np.logspace(-27,0,base=2, num=100)\n",
    "for x in np.arange(-2,2,0.5):\n",
    "    y = [ddf_central(np.exp,x,h) for h in hs]\n",
    "    error = np.add(y,-np.exp(x))\n",
    "    plt.plot(hs,error,label=f\"X={x}\")\n",
    "plt.loglog()\n",
    "plt.title(\"Erro da 2 derivada para exp() para x [-2,2]\")\n",
    "plt.xlabel(\"Valor de h\")\n",
    "plt.ylabel(\"Erro\")\n",
    "plt.legend(title=\"x\", bbox_to_anchor=(1,0.5), loc=\"center left\")\n",
    "ax = plt.gca()"
   ]
  },
  {
   "cell_type": "code",
   "execution_count": 10,
   "metadata": {
    "deletable": false,
    "editable": false,
    "nbgrader": {
     "cell_type": "code",
     "checksum": "e20f49160d619397e041d7cf3915f22b",
     "grade": true,
     "grade_id": "cell-9c6df51d67a4e19a",
     "locked": true,
     "points": 2,
     "schema_version": 3,
     "solution": false,
     "task": false
    }
   },
   "outputs": [],
   "source": [
    "assert len(ax.lines) >= 8\n",
    "assert ax.title.get_text() != \"\"\n",
    "assert ax.get_xlabel() != \"\""
   ]
  },
  {
   "cell_type": "markdown",
   "metadata": {
    "deletable": false,
    "editable": false,
    "nbgrader": {
     "cell_type": "markdown",
     "checksum": "b34daa4b20059e25e7944c7c5527338e",
     "grade": false,
     "grade_id": "cell-f384f93ee7b42f89",
     "locked": true,
     "schema_version": 3,
     "solution": false,
     "task": false
    }
   },
   "source": [
    "Comente."
   ]
  },
  {
   "cell_type": "markdown",
   "metadata": {
    "deletable": false,
    "nbgrader": {
     "cell_type": "markdown",
     "checksum": "541195bc2b2a521df317d40a8c12fb7c",
     "grade": true,
     "grade_id": "cell-729164762fe133a2",
     "locked": false,
     "points": 2,
     "schema_version": 3,
     "solution": true,
     "task": false
    }
   },
   "source": [
    "Em primeiro lugar notamos que o erro de truncamento é predominante no intervalo hs < 1e-3. A partir desse ponto o erro de aproximação é a principal razão pelo erro estar crescendo. Nota-se ainda que conforme maior o valor de X, maior o erro de aproximação associado a ele. Além disso, o erro cresce de forma exponencial conforme maior o valor de h. Se fizermos uma análise da derivada segunda, temos que:\n",
    "$\n",
    "\\begin{equation}\n",
    "f'(x+h) = f'(x) + f''(x)h + \\frac{f'''(x)h^2}{2} + \\frac{f^{(4)}(x)h^3}{24} + O(h^4)\\\\\n",
    "f'(x-h) = f'(x) - f''(x)h + \\frac{f'''(x)h^2}{2} - \\frac{f^{(4)}(x)h^3}{24} + O(h^4)\\\\\n",
    "ddf(x,h) = \\frac{f'(x+h) - f'(x-h)}{2h} = \\frac{2f''(x)h + 2\\frac{f^{(4)}(x)h^3}{24}}{2h} = f''(x) + \\frac{f^{(4)}(x)h^2}{24}\n",
    "\\end{equation}$\n",
    "O primeiro termo é a segunda derivada propriamente dita, enquanto o segundo termo é o principal fator do erro associado. Assim, vemos que para um mesmo \"h\", o erro em $x_0$ e $x_1$ é tal que $\\frac{exp(x_0)h^2}{24} < \\frac{exp(x_1)h^2}{24} \\iff x_0 < x_1$. Por outro lado, para um mesmo valor de \"x\" temos que o erro cresce quadraticamente com o valor de \"h\"."
   ]
  },
  {
   "cell_type": "markdown",
   "metadata": {
    "deletable": false,
    "editable": false,
    "nbgrader": {
     "cell_type": "markdown",
     "checksum": "94e002dee6039be77bd85c9094adc79a",
     "grade": false,
     "grade_id": "cell-f73db6f03ad40c68",
     "locked": true,
     "schema_version": 3,
     "solution": false,
     "task": false
    }
   },
   "source": [
    "# 2: Um problema modelo\n",
    "\n",
    "Vamos minimizar a função $f(x) = e^x - 2x$."
   ]
  },
  {
   "cell_type": "code",
   "execution_count": 11,
   "metadata": {
    "deletable": false,
    "editable": false,
    "nbgrader": {
     "cell_type": "code",
     "checksum": "258a73b0040029bcbb6ba512bb1a0901",
     "grade": false,
     "grade_id": "cell-50e439bd375c6d83",
     "locked": true,
     "schema_version": 3,
     "solution": false,
     "task": false
    }
   },
   "outputs": [],
   "source": [
    "def f(x):\n",
    "    return np.exp(x) - 2*x"
   ]
  },
  {
   "cell_type": "markdown",
   "metadata": {
    "deletable": false,
    "editable": false,
    "nbgrader": {
     "cell_type": "markdown",
     "checksum": "4eb888fa284466b2ceb633d7457dad99",
     "grade": false,
     "grade_id": "cell-e3d3efb25ad5cc63",
     "locked": true,
     "schema_version": 3,
     "solution": false,
     "task": false
    }
   },
   "source": [
    "## Preparando a bisseção\n",
    "\n",
    "Escreva 3 funções:\n",
    "- a derivada analítica $g_1(x) = f'(x)$\n",
    "- a derivada central $g_2(x)$ com passo `h = 1e-3`\n",
    "- a derivada central $g_2(x)$ com passo `h = 1e-5`"
   ]
  },
  {
   "cell_type": "code",
   "execution_count": 12,
   "metadata": {
    "deletable": false,
    "nbgrader": {
     "cell_type": "code",
     "checksum": "db10c8b675effc6aed57ab25fda764a1",
     "grade": false,
     "grade_id": "cell-24a45d23c8e14f1d",
     "locked": false,
     "schema_version": 3,
     "solution": true,
     "task": false
    }
   },
   "outputs": [],
   "source": [
    "def g1(x):\n",
    "    return np.exp(x) - 2\n",
    "\n",
    "def g2(x):\n",
    "    return df_central(f, x, h=1e-3)\n",
    "\n",
    "def g3(x):\n",
    "    return df_central(f, x, h=1e-5)"
   ]
  },
  {
   "cell_type": "code",
   "execution_count": 13,
   "metadata": {
    "deletable": false,
    "editable": false,
    "nbgrader": {
     "cell_type": "code",
     "checksum": "9bad8fc87cb31dbed9ebd102c3914d35",
     "grade": true,
     "grade_id": "cell-29fc4f72f2ac4d50",
     "locked": true,
     "points": 2,
     "schema_version": 3,
     "solution": false,
     "task": false
    }
   },
   "outputs": [],
   "source": [
    "np.random.seed(41)\n",
    "for x in np.random.rand(10):\n",
    "    assert np.isclose(g1(x), g2(x)), x\n",
    "    assert np.isclose(g1(x), g3(x)), x"
   ]
  },
  {
   "cell_type": "markdown",
   "metadata": {
    "deletable": false,
    "editable": false,
    "nbgrader": {
     "cell_type": "markdown",
     "checksum": "b08068b8f965d045973eee6f5c1df9b2",
     "grade": false,
     "grade_id": "cell-829fb63ccb4c0cca",
     "locked": true,
     "schema_version": 3,
     "solution": false,
     "task": false
    }
   },
   "source": [
    "Faça o gráfico de $f(x)$ e determine um intervalo para fazer bisseção para encontrar um zero da derivada."
   ]
  },
  {
   "cell_type": "code",
   "execution_count": 14,
   "metadata": {
    "deletable": false,
    "nbgrader": {
     "cell_type": "code",
     "checksum": "5edb59d346550a5328f3a7631ee43ccc",
     "grade": false,
     "grade_id": "cell-a58ac0f52b122daf",
     "locked": false,
     "schema_version": 3,
     "solution": true,
     "task": false
    }
   },
   "outputs": [
    {
     "data": {
      "text/plain": [
       "Text(0, 0.5, 'y')"
      ]
     },
     "execution_count": 14,
     "metadata": {},
     "output_type": "execute_result"
    },
    {
     "data": {
      "image/png": "[encoded data removed]",
      "text/plain": [
       "<Figure size 432x288 with 1 Axes>"
      ]
     },
     "metadata": {
      "needs_background": "light"
     },
     "output_type": "display_data"
    }
   ],
   "source": [
    "ax = plt.gca()\n",
    "x = np.arange(-1,1,0.001)\n",
    "y = f(x)\n",
    "plt.plot(x,y)\n",
    "plt.title(\"f(x) no intervalo [-1,1]\")\n",
    "plt.xlabel(\"x\")\n",
    "plt.ylabel(\"y\")"
   ]
  },
  {
   "cell_type": "code",
   "execution_count": 15,
   "metadata": {
    "deletable": false,
    "editable": false,
    "nbgrader": {
     "cell_type": "code",
     "checksum": "ea476aa7ebd6797fcd4bbde18628c64d",
     "grade": true,
     "grade_id": "cell-0cb823848a9c5e2a",
     "locked": true,
     "points": 1,
     "schema_version": 3,
     "solution": false,
     "task": false
    }
   },
   "outputs": [],
   "source": [
    "assert len(ax.lines) == 1\n",
    "assert ax.title.get_text() != \"\""
   ]
  },
  {
   "cell_type": "markdown",
   "metadata": {
    "deletable": false,
    "editable": false,
    "nbgrader": {
     "cell_type": "markdown",
     "checksum": "24d0428ef62235734304e2dc752bc3dd",
     "grade": false,
     "grade_id": "cell-cad1aa84b713fa03",
     "locked": true,
     "schema_version": 3,
     "solution": false,
     "task": false
    }
   },
   "source": [
    "Qual intervalo você escolheria?\n",
    "Porquê?"
   ]
  },
  {
   "cell_type": "markdown",
   "metadata": {
    "deletable": false,
    "nbgrader": {
     "cell_type": "markdown",
     "checksum": "c5facd8e4669f216c60015a4fccac44a",
     "grade": true,
     "grade_id": "cell-747a80c3022bd503",
     "locked": false,
     "points": 1,
     "schema_version": 3,
     "solution": true,
     "task": false
    }
   },
   "source": [
    "Escolheria o intervalo [0.5,1.0] pois nesse intervalo ocorre a inversão do sinal da derivada, logo, de acordo com o Teorema de Rolle, em algum ponto nesse intervalo ela deve assumir o valor 0 dado que a função é contínua e derivável. Além disso, nesses pontos temos que sign(f'(0.5)) = -sign(f'(1.0)), condição necessária para podermos executar a bisseção."
   ]
  },
  {
   "cell_type": "markdown",
   "metadata": {
    "deletable": false,
    "editable": false,
    "nbgrader": {
     "cell_type": "markdown",
     "checksum": "1e82977f797c04ea5e49000032bb19ba",
     "grade": false,
     "grade_id": "cell-e16fe2100c91ac0b",
     "locked": true,
     "schema_version": 3,
     "solution": false,
     "task": false
    }
   },
   "source": [
    "## Gráficos da bisseção\n",
    "\n",
    "Aplique o método da bisseção usando $g_1$, $g_2$ e $g_3$ para encontrar uma raiz de $f$.\n",
    "\n",
    "Faça um gráfico mostrando como evolui (ao longo das iterações)\n",
    "a distância do ponto considerado até a raiz ($\\log(2)$),\n",
    "para cada um dos métodos."
   ]
  },
  {
   "cell_type": "code",
   "execution_count": 16,
   "metadata": {
    "deletable": false,
    "nbgrader": {
     "cell_type": "code",
     "checksum": "536e45660e994de7d3936c6ea48fa178",
     "grade": false,
     "grade_id": "cell-5898a28e8d84011e",
     "locked": false,
     "schema_version": 3,
     "solution": true,
     "task": false
    }
   },
   "outputs": [
    {
     "name": "stdout",
     "output_type": "stream",
     "text": [
      "----------g1---------\n",
      "Current interval:[ 0.69314670562744140625000000, 0.69314765930175781250000000]\n",
      "\n",
      "Ytol:[0.6931467056274414,0.6931476593017578]\n",
      "----------g2---------\n",
      "Current interval:[ 0.69314670562744140625000000, 0.69314765930175781250000000]\n",
      "\n",
      "Current interval:[ 0.69314670562744140625000000, 0.69314718246459960937500000]\n",
      "\n",
      "Current interval:[ 0.69314694404602050781250000, 0.69314718246459960937500000]\n",
      "\n",
      "Current interval:[ 0.69314694404602050781250000, 0.69314706325531005859375000]\n",
      "\n",
      "Current interval:[ 0.69314700365066528320312500, 0.69314706325531005859375000]\n",
      "\n",
      "Current interval:[ 0.69314700365066528320312500, 0.69314703345298767089843750]\n",
      "\n",
      "Ytol:[0.6931470036506653,0.6931470334529877]\n",
      "----------g3---------\n",
      "Current interval:[ 0.69314670562744140625000000, 0.69314765930175781250000000]\n",
      "\n",
      "Ytol:[0.6931467056274414,0.6931476593017578]\n"
     ]
    },
    {
     "data": {
      "text/plain": [
       "[]"
      ]
     },
     "execution_count": 16,
     "metadata": {},
     "output_type": "execute_result"
    },
    {
     "data": {
      "image/png": "[encoded data removed]",
      "text/plain": [
       "<Figure size 432x288 with 1 Axes>"
      ]
     },
     "metadata": {
      "needs_background": "light"
     },
     "output_type": "display_data"
    }
   ],
   "source": [
    "print(\"----------g1---------\")\n",
    "pts_g1 = bissecao_pts(g1, 0.5, 1.0,show_intervals=True)\n",
    "print(\"----------g2---------\")\n",
    "pts_g2 = bissecao_pts(g2, 0.5, 1.0,show_intervals=True)\n",
    "print(\"----------g3---------\")\n",
    "pts_g3 = bissecao_pts(g3, 0.5, 1.0,show_intervals=True)\n",
    "error_g1 = np.add(pts_g1,-np.log(2))\n",
    "error_g2 = np.add(pts_g2,-np.log(2))\n",
    "error_g3 = np.add(pts_g3,-np.log(2))\n",
    "ax = plt.gca()\n",
    "plt.plot(np.arange(len(pts_g1)),np.abs(error_g1),label=\"g1\")\n",
    "plt.plot(np.arange(len(pts_g2)),np.abs(error_g2),label=\"g2\")\n",
    "plt.plot(np.arange(len(pts_g3)),np.abs(error_g3),label=\"g3\")\n",
    "plt.legend()\n",
    "plt.title(\"Evolução do erro para diferentes cálculos de f'(x)\")\n",
    "plt.xlabel(\"Niter\")\n",
    "plt.ylabel(\"Erro absoluto\")\n",
    "plt.semilogy()"
   ]
  },
  {
   "cell_type": "code",
   "execution_count": 17,
   "metadata": {
    "deletable": false,
    "editable": false,
    "nbgrader": {
     "cell_type": "code",
     "checksum": "371a5eb6691e3a545842396edccb0a4b",
     "grade": true,
     "grade_id": "cell-6c548be9ea138bca",
     "locked": true,
     "points": 2,
     "schema_version": 3,
     "solution": false,
     "task": false
    }
   },
   "outputs": [],
   "source": [
    "assert len(ax.lines) == 3\n",
    "assert len(ax.legend().texts) == 3\n",
    "assert ax.title.get_text() != \"\"\n",
    "assert ax.get_xlabel() != \"\""
   ]
  },
  {
   "cell_type": "markdown",
   "metadata": {
    "deletable": false,
    "editable": false,
    "nbgrader": {
     "cell_type": "markdown",
     "checksum": "7ceaa67e3078c8fd2ffda661a9a0df13",
     "grade": false,
     "grade_id": "cell-25c5ce8287aa00a4",
     "locked": true,
     "schema_version": 3,
     "solution": false,
     "task": false
    }
   },
   "source": [
    "O que você vê no gráfico acima?\n",
    "Como você explica?"
   ]
  },
  {
   "cell_type": "markdown",
   "metadata": {
    "deletable": false,
    "nbgrader": {
     "cell_type": "markdown",
     "checksum": "08a80b4de713a17fe757e076d555bd09",
     "grade": true,
     "grade_id": "cell-b7f111b2be544b98",
     "locked": false,
     "points": 2,
     "schema_version": 3,
     "solution": true,
     "task": false
    }
   },
   "source": [
    "Numa primeira observação, vemos que a curva dos erros é mais ou menos igual para g1, g2 e g3. No entanto, para g2 temos não apenas mais iterações, como também temos um acréscimo no erro após a 19ª iteração. Fazendo o print do intervalo [a,b] para a 19ª iteração, vemos que os valores de \"a\" e \"b\" são os mesmos para cada função g1, g2 e g3. No entanto, se calculamos o erro em y, $erro_y = g_i(\\frac{a+b}{2}) i \\in [1,2,3]$, vemos que esse valor é diferente para cada um dos casos. Tirando g1, os demais métodos para calcular a derivada possuem um erro associado. Vamos analisá-lo analiticamente:\n",
    "$\n",
    "\\begin{equation}\n",
    "f'(x,h) = \\frac{f(x+h) - f(x-h)}{2h}\\\\\n",
    "f(x+h) = f(x) + f'(x)h + \\frac{f''(x)h^2}{2} + \\frac{f'''(x)h^3}{6} + O(4)\\\\\n",
    "f(x-h) = f(x) - f'(x)h + \\frac{f''(x)h^2}{2} - \\frac{f'''(x)h^3}{6} + O(4)\\\\\n",
    "Substituindo:\\\\\n",
    "f'(x,h) = f'(x) + \\frac{f'''(x)h^2}{6}\n",
    "\\end{equation}\n",
    "$\n",
    "O primeiro termo é a derivada propriamente dita, enquanto o segundo é o erro associado. Com isso, vemos que o erro associado ao cálculo da derivada é proporcional ao valor de $h^2$. Como para g3 o valor de \"h\" é 1e-5, e $f'''(log(2)) = 2$, o erro associado é na ordem 1e-10, e portanto passa no teste erro em $y < 1e-8$. Contudo, para g2 o valor de \"h\" é na ordem de 1e-3, o que implica em um erro na ordem de 1e-6, fazendo com que ele não passe no teste. \n",
    "Vamos analisar agora por que o erro aumenta de uma iteração para outra. Fazendo o print para as iterações, vemos que $m_{19} = (a_{19} + b_{19})/2$ está mais próximo da raiz log(2) para a 19ª iteração. No entanto, $m_{20} = (a_{19} + b_{20})/2$ está mais distante, apesar do intervalo estar bem menor. Isso ocorre pois apenas o extremo \"b\" do intervalo está próximo da raiz. Com a diminuição do intervalo, a condição do xtol é atendida, impedindo que o erro se reduza mais."
   ]
  },
  {
   "cell_type": "markdown",
   "metadata": {
    "deletable": false,
    "editable": false,
    "nbgrader": {
     "cell_type": "markdown",
     "checksum": "8dbccd2631fc56a8ad603f9008b64063",
     "grade": false,
     "grade_id": "cell-23da70c6d88da324",
     "locked": true,
     "schema_version": 3,
     "solution": false,
     "task": false
    }
   },
   "source": [
    "## Newton\n",
    "\n",
    "Para usar o método de Newton, será necessário usarmos mais uma derivada numérica.\n",
    "\n",
    "Implemente\n",
    "- $h_1(x)$, a segunda derivada analítica, e\n",
    "- $h_2(x)$ a derivada numérica (que pode ser obtida a partir de `ddf_central`)."
   ]
  },
  {
   "cell_type": "code",
   "execution_count": 18,
   "metadata": {
    "deletable": false,
    "nbgrader": {
     "cell_type": "code",
     "checksum": "5404878115634b009970291c4afae16f",
     "grade": false,
     "grade_id": "cell-6f3276844ea70932",
     "locked": false,
     "schema_version": 3,
     "solution": true,
     "task": false
    }
   },
   "outputs": [],
   "source": [
    "def h1(x):\n",
    "    return np.exp(x)\n",
    "def h2(x):\n",
    "    return ddf_central(f,x)"
   ]
  },
  {
   "cell_type": "code",
   "execution_count": 19,
   "metadata": {
    "deletable": false,
    "editable": false,
    "nbgrader": {
     "cell_type": "code",
     "checksum": "b03ce24db28b1b65b76091ac88b7b84f",
     "grade": true,
     "grade_id": "cell-c10da51972d62af4",
     "locked": true,
     "points": 1,
     "schema_version": 3,
     "solution": false,
     "task": false
    }
   },
   "outputs": [],
   "source": [
    "np.random.seed(41)\n",
    "for x in np.random.rand(10):\n",
    "    assert np.isclose(h1(x), h2(x)), x"
   ]
  },
  {
   "cell_type": "markdown",
   "metadata": {
    "deletable": false,
    "editable": false,
    "nbgrader": {
     "cell_type": "markdown",
     "checksum": "16d6f04597392e72afb177d7a4aed7c7",
     "grade": false,
     "grade_id": "cell-2e22f9380c6d0178",
     "locked": true,
     "schema_version": 3,
     "solution": false,
     "task": false
    }
   },
   "source": [
    "Agora, aplique o método de Newton (com tolerâncias padrão):\n",
    "- com ambas as derivadas analíticas\n",
    "- com a primeira derivada analítica, e a segunda numérica\n",
    "- com ambas as derivadas numéricas (use a \"melhor\" derivada central que você puder).\n",
    "\n",
    "Faça, como no caso da bisseção, o gráfico da distância até a mínimo da função."
   ]
  },
  {
   "cell_type": "code",
   "execution_count": 20,
   "metadata": {
    "deletable": false,
    "nbgrader": {
     "cell_type": "code",
     "checksum": "55cf4c6fc14a5618fa060ef44894ccbd",
     "grade": false,
     "grade_id": "cell-1d13bf7169526341",
     "locked": false,
     "schema_version": 3,
     "solution": true,
     "task": false
    }
   },
   "outputs": [
    {
     "data": {
      "image/png": "[encoded data removed]",
      "text/plain": [
       "<Figure size 432x288 with 1 Axes>"
      ]
     },
     "metadata": {
      "needs_background": "light"
     },
     "output_type": "display_data"
    }
   ],
   "source": [
    "pts_aa = newton_pts(g1, h1, 0.5)\n",
    "pts_an = newton_pts(g1, h2, 0.5)\n",
    "pts_nn = newton_pts(g3, h2, 0.5)\n",
    "error_aa = np.add(pts_aa,-np.log(2))\n",
    "error_an = np.add(pts_an,-np.log(2))\n",
    "error_nn = np.add(pts_nn,-np.log(2))\n",
    "ax = plt.gca()\n",
    "plt.plot(np.arange(len(pts_aa)),np.abs(error_aa),label=\"Ambas analíticas\")\n",
    "plt.plot(np.arange(len(pts_an)),np.abs(error_an),label=\"Apenas a segunda numérica\")\n",
    "plt.plot(np.arange(len(pts_nn)),np.abs(error_nn),label=\"Ambas numéricas\")\n",
    "plt.legend()\n",
    "plt.title(\"Evolução do erro para diferentes cálculos de f''(x)\")\n",
    "plt.xlabel(\"Niter\")\n",
    "plt.ylabel(\"Erro absoluto\")\n",
    "plt.semilogy()\n",
    "ax = plt.gca()"
   ]
  },
  {
   "cell_type": "code",
   "execution_count": 21,
   "metadata": {
    "deletable": false,
    "editable": false,
    "nbgrader": {
     "cell_type": "code",
     "checksum": "ace81e81269c29557de33862e75e13c8",
     "grade": true,
     "grade_id": "cell-66860f1fda7d0769",
     "locked": true,
     "points": 1,
     "schema_version": 3,
     "solution": false,
     "task": false
    }
   },
   "outputs": [],
   "source": [
    "assert len(ax.lines) == 3\n",
    "assert len(ax.legend().texts) == 3\n",
    "assert ax.title.get_text() != \"\"\n",
    "assert ax.get_xlabel() != \"\""
   ]
  },
  {
   "cell_type": "markdown",
   "metadata": {
    "deletable": false,
    "editable": false,
    "nbgrader": {
     "cell_type": "markdown",
     "checksum": "c7f395843dd76b9406656cd4a989c80b",
     "grade": false,
     "grade_id": "cell-80622fba5962c988",
     "locked": true,
     "schema_version": 3,
     "solution": false,
     "task": false
    }
   },
   "source": [
    "Agora, reduza ambas as tolerâncias do método para `1e-15`, e refaça os gráficos."
   ]
  },
  {
   "cell_type": "code",
   "execution_count": 22,
   "metadata": {
    "deletable": false,
    "nbgrader": {
     "cell_type": "code",
     "checksum": "3735d31827898e3337581fa6db3ea1c6",
     "grade": true,
     "grade_id": "cell-99d9571ec5ff0bb4",
     "locked": false,
     "points": 1,
     "schema_version": 3,
     "solution": true,
     "task": false
    }
   },
   "outputs": [
    {
     "data": {
      "image/png": "[encoded data removed]",
      "text/plain": [
       "<Figure size 432x288 with 1 Axes>"
      ]
     },
     "metadata": {
      "needs_background": "light"
     },
     "output_type": "display_data"
    }
   ],
   "source": [
    "pts_aa = newton_pts(g1, h1, 1.1, 1e-15, 1e-15)\n",
    "#print(\"------------------Ambas Analíticas-----------------\")\n",
    "pts_an = newton_pts(g1, h2, 1.1, 1e-15, 1e-15)\n",
    "#print(\"------------------Apenas Segunda Numérica-----------------\")\n",
    "pts_nn = newton_pts(g3, h2, 1.1, 1e-15, 1e-15,show_fx=False)\n",
    "#print(\"------------------Ambas Numéricas-----------------\")\n",
    "error_aa = np.add(pts_aa,-np.log(2))\n",
    "error_an = np.add(pts_an,-np.log(2))\n",
    "error_nn = np.add(pts_nn,-np.log(2))\n",
    "plt.plot(np.arange(len(pts_aa)),np.abs(error_aa),label=\"Ambas analíticas\",linestyle='dashdot')\n",
    "plt.plot(np.arange(len(pts_an)),np.abs(error_an),label=\"Apenas a segunda numérica\",linestyle='dashdot')\n",
    "plt.plot(np.arange(len(pts_nn)),np.abs(error_nn),label=\"Ambas numéricas\",linestyle='dashdot')\n",
    "plt.legend()\n",
    "plt.title(\"Evolução do erro para diferentes cálculos de f''(x)\")\n",
    "plt.xlabel(\"Niter\")\n",
    "plt.ylabel(\"Erro absoluto\")\n",
    "plt.semilogy()\n",
    "ax = plt.gca()"
   ]
  },
  {
   "cell_type": "markdown",
   "metadata": {
    "deletable": false,
    "editable": false,
    "nbgrader": {
     "cell_type": "markdown",
     "checksum": "74ca5df8fcfd3e57d63283c23c0136c9",
     "grade": false,
     "grade_id": "cell-01eb8bb00f1f5bdb",
     "locked": true,
     "schema_version": 3,
     "solution": false,
     "task": false
    }
   },
   "source": [
    "Deveria haver (pelo menos) duas diferenças entre este gráfico e o anterior.\n",
    "\n",
    "- Quais você observa?\n",
    "- Como você as explica?"
   ]
  },
  {
   "cell_type": "markdown",
   "metadata": {
    "deletable": false,
    "nbgrader": {
     "cell_type": "markdown",
     "checksum": "0933d483ff8f446d9225d3095a6ff333",
     "grade": true,
     "grade_id": "cell-7f4f22e525bf8a98",
     "locked": false,
     "points": 3,
     "schema_version": 3,
     "solution": true,
     "task": false
    }
   },
   "source": [
    "Observamos pelo primeiro gráfico que a partir da 3ª iteração o erro cai com diferentes taxas, tal que o coeficiente de decaimento obdece a relação Ambas Numéricas < Apenas a Segunda Numérica < Ambas Analíticas. Se expandirmos a série de Taylor para a primeira e segunda derivadas temos que:\n",
    "$\n",
    "\\begin{equation}\n",
    "f'(x,h) = f'(x) + \\frac{f'''(x)h^2}{6}\\\\\n",
    "f''(x,h) =  f''(x) + \\frac{f''''(x)h^2}{24}\n",
    "\\end{equation}\n",
    "$\n",
    "Dessa forma, o cálculo do passo $step = \\frac{f'(x)}{f''(x)}$ será diferente para cada um dos casos acima. Para a função em questão temos que:\n",
    "<ul>\n",
    "    <li> Ambas analíticas: $step = \\frac{exp(x) - 2}{exp(x)} $\n",
    "    <li> Aapenas a segunda numérica: $step = \\frac{exp(x) - 2}{exp(x) + exp(x)h^2/24} $\n",
    "    <li> Ambas numéricas: $step = \\frac{(exp(x) - 2) + exp(x).h^2/6}{exp(x) + exp(x)h^2/24}$\n",
    "</ul>\n",
    "Seguindo a ordem da relação acima, vemos que o erro decai mais lentamente no caso em que apenas a segunda derivada é numérica se comparada com o caso em que todas são analíticas. O erro associado é necessariamente positivo pois: \n",
    "$exp(x)h^2/24 \\geq 0 \\\\ \\forall x,h \\in R$ Assim o denominador é maior por conta do erro associado, fazendo com que tal fenômeno ocorra. Análogamente, o decaimento é ainda menor no caso em que ambas derivadas são numéricas para o caso em que apenas a segunda é numérica. Isso se deve ao fato de que o numerador tem um erro a mais sendo adicionado que é maior do que o erro da derivada segunda: $exp(x).h^2/6 \\geq exp(x)h^2/24 \\\\ \\forall x,h \\in R$\n",
    "Apesar dessas diferenças no decaimento do erro existir desde a 1ª iteração, ela só se torna visível quando chegamos próximos suficientes da raiz, de modo que $exp(x) - 2 \\approx 0$. Logo, é nesse caso em que a diferença nos numeradores e denominadores se fazem importantes.\n",
    "<p> Já para o segundo gráfico, vemos que apenas o caso que usa ambas derivadas numéricas não converge. Fazendo o print de x, f(x) e f'(x), vemos que x entra em ciclo e valores de f'(x) se repetem 2 vezes seguidas na sequência. A razão por trás disso, provavelmente, é o erro de truncamento ao qual esse caso está mais sujeito (mais somas no numerador causando cancelamento castastrófico)."
   ]
  },
  {
   "cell_type": "markdown",
   "metadata": {
    "deletable": false,
    "editable": false,
    "nbgrader": {
     "cell_type": "markdown",
     "checksum": "e47055e0ef025c7e55b8dafd6a99cc15",
     "grade": false,
     "grade_id": "cell-fa08d17ea63fb838",
     "locked": true,
     "schema_version": 3,
     "solution": false,
     "task": false
    }
   },
   "source": [
    "# 3: O mesmo problema, mais complicado\n",
    "\n",
    "Queremos achar o mínimo da função $$ f(x) = e^{x^2-2x+1}-2^{x^3-6x+12} $$\n",
    "no intervalo $[-2,2]$.\n",
    "\n",
    "Defina $f$, e faça um gráfico para encontrar um intervalo para bisseção e um ponto inicial para Newton."
   ]
  },
  {
   "cell_type": "code",
   "execution_count": 23,
   "metadata": {
    "deletable": false,
    "nbgrader": {
     "cell_type": "code",
     "checksum": "0ced7e6818e714424989f7e7986e33bf",
     "grade": false,
     "grade_id": "cell-f50afc7c95af2a39",
     "locked": false,
     "schema_version": 3,
     "solution": true,
     "task": false
    }
   },
   "outputs": [
    {
     "data": {
      "image/png": "[encoded data removed]",
      "text/plain": [
       "<Figure size 432x288 with 1 Axes>"
      ]
     },
     "metadata": {
      "needs_background": "light"
     },
     "output_type": "display_data"
    }
   ],
   "source": [
    "def f2(x):\n",
    "    return np.exp(np.power(x,2) - 2*x + 1) - np.power(2,(np.power(x,3) - 6*x + 12))\n",
    "def df2(x):\n",
    "    return (2*x - 2)*np.exp(np.power(x,2) - 2*x + 1) - (3*np.power(x,2) - 6)*np.log(2)*np.power(2,(np.power(x,3) - 6*x + 12))\n",
    "x = np.arange(-2,2,0.01)\n",
    "y = f2(x)\n",
    "plt.plot(x,y)\n",
    "plt.title(\"f2(x) no intervalo [-2,2]\")\n",
    "ax = plt.gca()"
   ]
  },
  {
   "cell_type": "code",
   "execution_count": 24,
   "metadata": {
    "deletable": false,
    "editable": false,
    "nbgrader": {
     "cell_type": "code",
     "checksum": "34341cf7cc79160c950d6c993bbf2835",
     "grade": true,
     "grade_id": "cell-b3efe4063d0789aa",
     "locked": true,
     "points": 1,
     "schema_version": 3,
     "solution": false,
     "task": false
    }
   },
   "outputs": [],
   "source": [
    "assert len(ax.lines) == 1\n",
    "assert ax.title.get_text() != \"\"\n",
    "\n",
    "yvals = ax.lines[0].get_ydata()\n",
    "assert min(yvals) <= -20000\n",
    "assert np.all(yvals <= 0)"
   ]
  },
  {
   "cell_type": "markdown",
   "metadata": {
    "deletable": false,
    "editable": false,
    "nbgrader": {
     "cell_type": "markdown",
     "checksum": "d5e0e2f2cb67874b7c299b07e5d77063",
     "grade": false,
     "grade_id": "cell-3cf7c7f8b9c917bf",
     "locked": true,
     "schema_version": 3,
     "solution": false,
     "task": false
    }
   },
   "source": [
    "Calcule a raiz exata (a menos da precisão) do computador,\n",
    "aplicando o método da bisseção à derivada analítica de $f$."
   ]
  },
  {
   "cell_type": "code",
   "execution_count": 25,
   "metadata": {
    "deletable": false,
    "nbgrader": {
     "cell_type": "code",
     "checksum": "a58bf31aa4bba8ee06c03c0edc80aede",
     "grade": false,
     "grade_id": "cell-24d5013349e7f661",
     "locked": false,
     "schema_version": 3,
     "solution": true,
     "task": false
    }
   },
   "outputs": [],
   "source": [
    "pts_df2 = np.array(bissecao_pts(df2, -1.5, -1.0))"
   ]
  },
  {
   "cell_type": "markdown",
   "metadata": {
    "deletable": false,
    "editable": false,
    "nbgrader": {
     "cell_type": "markdown",
     "checksum": "b74703f8033db78b8d42c36ceaa81e61",
     "grade": false,
     "grade_id": "cell-40c7aaafebc60a39",
     "locked": true,
     "schema_version": 3,
     "solution": false,
     "task": false
    }
   },
   "source": [
    "Calcule o valor de $f$ nos pontos obtidos.\n",
    "Em qual/quais deles ocorreu o mínimo?"
   ]
  },
  {
   "cell_type": "code",
   "execution_count": 26,
   "metadata": {
    "deletable": false,
    "nbgrader": {
     "cell_type": "code",
     "checksum": "e7a8bce40f0ae85e789f796c790d3c34",
     "grade": true,
     "grade_id": "cell-c6e8bb7029f4e79b",
     "locked": false,
     "points": 1,
     "schema_version": 3,
     "solution": true,
     "task": false
    },
    "scrolled": true
   },
   "outputs": [
    {
     "data": {
      "text/plain": [
       "-1.4128724038600922"
      ]
     },
     "execution_count": 26,
     "metadata": {},
     "output_type": "execute_result"
    }
   ],
   "source": [
    "y = f2(np.array(pts_df2))\n",
    "pts_df2[(y <= np.min(y)).nonzero()][0]"
   ]
  },
  {
   "cell_type": "markdown",
   "metadata": {
    "deletable": false,
    "editable": false,
    "nbgrader": {
     "cell_type": "markdown",
     "checksum": "e65ad2e99a7a5b85c2a7fe0fa22a03de",
     "grade": false,
     "grade_id": "cell-5beca6356c3e27a2",
     "locked": true,
     "schema_version": 3,
     "solution": false,
     "task": false
    }
   },
   "source": [
    "Qual a distância deste ponto ao último ponto produzido pela bisseção?"
   ]
  },
  {
   "cell_type": "code",
   "execution_count": 27,
   "metadata": {
    "deletable": false,
    "nbgrader": {
     "cell_type": "code",
     "checksum": "99d42db2387a4fe1e27e36ff4cbcce2b",
     "grade": true,
     "grade_id": "cell-6345a587885e746f",
     "locked": false,
     "points": 1,
     "schema_version": 3,
     "solution": true,
     "task": false
    }
   },
   "outputs": [
    {
     "data": {
      "text/plain": [
       "array([-3.7252903e-09])"
      ]
     },
     "execution_count": 27,
     "metadata": {},
     "output_type": "execute_result"
    }
   ],
   "source": [
    "pts_df2[(y <= np.min(y)).nonzero()] - pts_df2[-1]"
   ]
  },
  {
   "cell_type": "markdown",
   "metadata": {
    "deletable": false,
    "editable": false,
    "nbgrader": {
     "cell_type": "markdown",
     "checksum": "c908ed0939326673dbee1ea51699735f",
     "grade": false,
     "grade_id": "cell-ac38132ef810a31c",
     "locked": true,
     "schema_version": 3,
     "solution": false,
     "task": false
    }
   },
   "source": [
    "Agora, compare o erro com o método da bisseção e o de Newton, usando as derivadas numéricas.\n",
    "\n",
    "Como sugerem as contas acima, aqui há vários problemas de precisão numérica.\n",
    "Assim, tente botar tolerâncias pequenas, mas não pequenas demais para seus métodos."
   ]
  },
  {
   "cell_type": "code",
   "execution_count": 28,
   "metadata": {
    "deletable": false,
    "nbgrader": {
     "cell_type": "code",
     "checksum": "eeab84f96605262deb3cd7fd3ec298c7",
     "grade": true,
     "grade_id": "cell-e6a2e19935b8f52c",
     "locked": false,
     "points": 2,
     "schema_version": 3,
     "solution": true,
     "task": false
    }
   },
   "outputs": [
    {
     "data": {
      "image/png": "[encoded data removed]",
      "text/plain": [
       "<Figure size 432x288 with 1 Axes>"
      ]
     },
     "metadata": {
      "needs_background": "light"
     },
     "output_type": "display_data"
    }
   ],
   "source": [
    "def ddf2(x):\n",
    "    return ddf_central(f2, x, h=1e-8)\n",
    "def df2_num(x):\n",
    "    return df_central(f2, x, h=1e-5)\n",
    "\n",
    "tol = 1e-10\n",
    "pts_newton = newton_pts(df2_num, ddf2, -1.5,xtol=tol,ytol=tol)\n",
    "pts_biss = bissecao_pts(df2_num, -1.5,-1.0,xtol=tol,ytol=tol,show_intervals=False)\n",
    "error_newton = df2(np.array(pts_newton))\n",
    "error_biss = df2(np.array(pts_biss))\n",
    "ax = plt.gca()\n",
    "plt.plot(np.arange(len(pts_newton)),np.abs(error_newton),label=\"Newton\")\n",
    "plt.plot(np.arange(len(pts_biss)),np.abs(error_biss),label=\"Bisseção\")\n",
    "plt.legend()\n",
    "plt.title(\"Evolução do erro para f'(x) = 0 com diferentes métodos\")\n",
    "plt.xlabel(\"Niter\")\n",
    "plt.ylabel(\"Erro absoluto\")\n",
    "plt.semilogy()\n",
    "ax = plt.gca()"
   ]
  },
  {
   "cell_type": "code",
   "execution_count": 29,
   "metadata": {},
   "outputs": [
    {
     "data": {
      "text/plain": [
       "Text(0.5, 1.0, 'Razão de convergencia')"
      ]
     },
     "execution_count": 29,
     "metadata": {},
     "output_type": "execute_result"
    },
    {
     "data": {
      "image/png": "[encoded data removed]",
      "text/plain": [
       "<Figure size 432x288 with 1 Axes>"
      ]
     },
     "metadata": {
      "needs_background": "light"
     },
     "output_type": "display_data"
    }
   ],
   "source": [
    "ax = plt.gca()\n",
    "r_f = [np.abs(pts_biss[i]/pts_biss[i-1]) for i in range(1,len(pts_biss))]\n",
    "r_g = [np.abs(pts_newton[i]/pts_newton[i-1]) for i in range(1,len(pts_newton))]\n",
    "ax.plot(np.arange(len(pts_biss) - 1), r_f, label=\"bisseção\")\n",
    "ax.plot(np.arange(len(pts_newton) - 1), r_g, label=\"newton\")\n",
    "ax.legend()\n",
    "ax.set_xlabel(\"iterações\")\n",
    "ax.set_ylabel(\"| ytol(i) / ytol(i-1) |\")\n",
    "ax.set_title(\"Razão de convergencia\")"
   ]
  },
  {
   "cell_type": "code",
   "execution_count": 30,
   "metadata": {},
   "outputs": [
    {
     "data": {
      "text/plain": [
       "2.9762858844151197e-12"
      ]
     },
     "execution_count": 30,
     "metadata": {},
     "output_type": "execute_result"
    }
   ],
   "source": [
    "pts_biss[-1] - pts_newton[-1]"
   ]
  },
  {
   "cell_type": "markdown",
   "metadata": {},
   "source": [
    "Vemos que o erro em y decai bem mais rápido no caso do algoritmo de Newton. Vale notar também que ambos os \n",
    "algoritmos tem a razão de convergência tendendo a 1, no entanto para o caso de Newton os primeiros pontos parecem ter uma razão de convergência < 1, enquanto para a bisseção acontece o oposto. Essa diferença é relevante pois o decaimento inicial é um pouco mais rápido no caso de Newton, o que explica em parte sua convergência ser mais rápida."
   ]
  }
 ],
 "metadata": {
  "kernelspec": {
   "display_name": "Python 3",
   "language": "python",
   "name": "python3"
  },
  "language_info": {
   "codemirror_mode": {
    "name": "ipython",
    "version": 3
   },
   "file_extension": ".py",
   "mimetype": "text/x-python",
   "name": "python",
   "nbconvert_exporter": "python",
   "pygments_lexer": "ipython3",
   "version": "3.8.5"
  }
 },
 "nbformat": 4,
 "nbformat_minor": 4
}

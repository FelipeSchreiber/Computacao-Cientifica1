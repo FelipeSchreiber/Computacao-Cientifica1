{
 "cells": [
  {
   "cell_type": "markdown",
   "metadata": {},
   "source": [
    "![CC-BY-SA](https://mirrors.creativecommons.org/presskit/buttons/88x31/svg/by-sa.svg)\n",
    "\n",
    "\n",
    "This notebook was created by [Bernardo Freitas Paulo da Costa](http://www.im.ufrj.br/bernardofpc),\n",
    "and is licensed under Creative Commons BY-SA."
   ]
  },
  {
   "cell_type": "markdown",
   "metadata": {},
   "source": [
    "Antes de enviar este Teste, verifique que tudo está funcionando como esperado.\n",
    "Por exemplo, **rode o código inteiro, do zero**.\n",
    "Para isso, vá no menu, escolha _Kernel_, depois _Restart & Run All_.\n",
    "\n",
    "Verifique, também, que você respondeu todas as questões:\n",
    "* as questões de código têm `YOUR CODE HERE` (e você pode apagar o `raise NotImplemented` ao incluir sua resposta)\n",
    "* as questões discursivas têm \"YOUR ANSWER HERE\"."
   ]
  },
  {
   "cell_type": "markdown",
   "metadata": {},
   "source": [
    "---"
   ]
  },
  {
   "cell_type": "code",
   "execution_count": 1,
   "metadata": {},
   "outputs": [],
   "source": [
    "import numpy as np\n",
    "import matplotlib.pyplot as plt\n",
    "from time import time"
   ]
  },
  {
   "cell_type": "markdown",
   "metadata": {},
   "source": [
    "# Resolvendo sistemas especiais\n",
    "\n",
    "## Questão 1: Algoritmo\n",
    "\n",
    "Uma matriz é dita tridiagonal quando só possui entradas diferentes de zero na diagonal,\n",
    "e imediatamente acima ou abaixo dela.\n",
    "\n",
    "Explique porque, ao fazer a eliminação, o algoritmo só precisa operar nas três \"diagonais centrais\".\n",
    "Inclusive, dê um exemplo de uma matriz, com muitos zeros, mas para a qual o algoritmo de eliminação\n",
    "vai ter que acessar e calcular nas entradas correspondentes."
   ]
  },
  {
   "cell_type": "markdown",
   "metadata": {
    "deletable": false,
    "nbgrader": {
     "cell_type": "markdown",
     "checksum": "9fc580eb409c7160b373c9ba848736b1",
     "grade": true,
     "grade_id": "cell-671f1d7ad1aebc5e",
     "locked": false,
     "points": 2,
     "schema_version": 3,
     "solution": true,
     "task": false
    }
   },
   "source": [
    "Vejamos o caso em que temos um sistema linear onde, com a exceção das 3 diagonais em questão, o restante da matriz possui apenas 0's. Em especial, vamos considerar a matriz 4x4:\n",
    "<!-- ![title](Tridiagonal_matrix_algorithm.png) -->\n",
    "$\\begin{bmatrix}\n",
    "    b_{1}       & c_{1} & 0 & 0\\\\\n",
    "    a_{2}       & b_{2} & c_{2} & 0 \\\\\n",
    "    0       & a_{3} &  b_{3} & c_{3}\\\\\n",
    "    0 & 0 & a_{4} & b_{4} \n",
    "\\end{bmatrix}$\n",
    "<p>\n",
    "A eliminação gaussiana é tal que, para zerar o elemento $a_{2}$, precisamos multiplicar a primeira linha por $\\frac{-a_2}{b_1}$, somar ambas as linhas 1 e 2 e, por fim, colocar o resultado na segunda. Isso nos dá a seguinte matriz:\n",
    "<p>\n",
    "$\\begin{bmatrix}\n",
    "    -a_{2}       & \\frac{-a_2c_{1}}{b_1} & 0 & 0\\\\\n",
    "    0       & b_2 -a_2\\frac{c_1}{b1} & c_{2} & 0 \\\\\n",
    "    0       & a_{3} &  b_{3} & c_{3}\\\\\n",
    "    0 & 0 & a_{4} & b_{4} \n",
    "\\end{bmatrix}$\n",
    "\n",
    "<p>\n",
    " Fazendo $c^{'}_{1}=-\\frac{a_2c_1}{b_1}$, e $b^{'}_{2}=b_2+c^{'}_{1}$:\n",
    " <p>\n",
    "    $\\begin{bmatrix}\n",
    "    -a_{2}       & c^{'}_{1} & 0 & 0\\\\\n",
    "    0       & b^{'}_{2} & c_{2} & 0 \\\\\n",
    "    0       & a_{3} &  b_{3} & c_{3}\\\\\n",
    "    0 & 0 & a_{4} & b_{4} \n",
    "\\end{bmatrix}$\n",
    "  <p>\n",
    " Agora precisamos zerar o termo $a_3$. Para tal vamos multiplicar a linha 2 por $-a_3\\frac{b_1}{b_2b_1 -a_2c_1}$, ou $\\frac{-a_3}{b^{'}_{2}}$ e repetir o procedimento. Isso nos dá a seguinte matriz:\n",
    "<p>\n",
    "$\\begin{bmatrix}\n",
    "    -a_{2}       & c^{'}_{1} & 0 & 0\\\\\n",
    "    0       & -a_3 & -a_3\\frac{c_{2}}{b^{'}_{2}} & 0 \\\\\n",
    "    0       & 0 &  b_{3} -a_3\\frac{c_{2}}{b^{'}_{2}} & c_{3}\\\\\n",
    "    0 & 0 & a_{4} & b_{4} \n",
    "\\end{bmatrix}$\n",
    "  <p>\n",
    " Fazendo $c^{'}_{2}=-a_3\\frac{c_{2}}{b^{'}_{2}}$, e $b^{'}_{3}=b_3+c^{'}_{2}$:\n",
    " <p>\n",
    "  $\\begin{bmatrix}\n",
    "    -a_{2}       & c^{'}_{1} & 0 & 0\\\\\n",
    "    0       & -a_3 & c^{'}_{2} & 0 \\\\\n",
    "    0       & 0 &  b^{'}_{3} & c_{3}\\\\\n",
    "    0 & 0 & a_{4} & b_{4} \n",
    "\\end{bmatrix}$   \n",
    " <p>  \n",
    "Por fim, precisamos zerar o termo $a_4$. Para tal vamos multiplicar a linha 2 por $\\frac{-a_4}{b^{'}_{3}}$ e somá-la com a linha 4:\n",
    " <p>\n",
    "  $\\begin{bmatrix}\n",
    "    -a_{2}       & c^{'}_{1} & 0 & 0\\\\\n",
    "    0       & -a_3 & c^{'}_{2} & 0 \\\\\n",
    "    0       & 0 &  -a_4 & -c_{3}\\frac{a_4}{b^{'}_{3}}\\\\\n",
    "    0 & 0 & 0 & b_{4} - c_{3}\\frac{a_4}{b^{'}_{3}}\n",
    "\\end{bmatrix}$   \n",
    " <p>  \n",
    " Fazendo $c^{'}_{3}=-c_{3}\\frac{a_4}{b^{'}_{3}}$, e $b^{'}_{4}=b_4+c^{'}_{3}$:\n",
    " <p>\n",
    "  $\\begin{bmatrix}\n",
    "    -a_{2}       & c^{'}_{1} & 0 & 0\\\\\n",
    "    0       & -a_3 & c^{'}_{2} & 0 \\\\\n",
    "    0       & 0 &  -a_4 & c^{'}_{3}\\\\\n",
    "    0 & 0 & 0 & b^{'}_{4}\n",
    "\\end{bmatrix}$   \n",
    " <p>  \n",
    "  Assim, podemos generalizar os passos, independente da matriz, pela seguinte fórmula:\n",
    "     $c^{'}_{i}=-c_{i}\\frac{a_{i+1}}{b^{'}_{i}}$ e $b^{'}_{i+1}=b_{i+1}+c^{'}_{i}$\n",
    " <p> Com isso, vemos que não apenas a fórmula acima não depende dos demais termos da matriz fora das diagonais de interesse, como também existe uma recursão implícita, sendo necessário apenas um único loop para resolver o sistemas.\n",
    " <p>\n",
    "     Por outro lado, vejamos o caso em que temos um elemento a mais na matriz, no lugar de um dos 0's:\n",
    " <p>\n",
    "$\\begin{bmatrix}\n",
    "    b_{1}       & c_{1} & 0 & 0\\\\\n",
    "    a_{2}       & b_{2} & c_{2} & 0 \\\\\n",
    "    0       & a_{3} &  b_{3} & c_{3}\\\\\n",
    "    d & 0 & a_{4} & b_{4} \n",
    "\\end{bmatrix}$\n",
    " <p>\n",
    "   Seguimos tendo que eliminar o elemento $a_{2}$ primeiramente. Após isso, a operação seguinte envolve eliminar o elemento $d$. Para isso precisamos multiplicar a primeira linha por uma constante $k$ e somá-la com a última linha:\n",
    " <p>\n",
    "    $\\begin{bmatrix}\n",
    "    -a_{2}k       & c^{'}_{1}k & 0 & 0\\\\\n",
    "    0       & b^{'}_{2} & c_{2} & 0 \\\\\n",
    "    0       & a_{3} &  b_{3} & c_{3}\\\\\n",
    "    d & 0 & a_{4} & b_{4} \n",
    "\\end{bmatrix}$\n",
    "<p>\n",
    "  Após somar ambas as linhas:\n",
    " <p>\n",
    "    $\\begin{bmatrix}\n",
    "    -a_{2}k       & c^{'}_{1}k & 0 & 0\\\\\n",
    "    0       & b^{'}_{2} & c_{2} & 0 \\\\\n",
    "    0       & a_{3} &  b_{3} & c_{3}\\\\\n",
    "    0 & c^{'}_{1}k & a_{4} & b_{4} \n",
    "\\end{bmatrix}$\n",
    " <p>\n",
    "  Notamos portanto que a adição de um termo $d$ fez com que, além da posição $A[3][0]$, precisamos agora zerar o elemento $A[3][1]$, aumentando a complexidade da solução. Assim, o caso especial em que temos um triângulo inferior e superior de zeros reduz bastante a complexidade do algoritmo de eliminação."
   ]
  },
  {
   "cell_type": "markdown",
   "metadata": {},
   "source": [
    "Agora, escreva a função `tridiag_solve` para resolver sistemas tridiagonais, ou seja,\n",
    "aqueles cuja matriz de coeficientes é tridiagonal.\n",
    "\n",
    "Esta função deve realizar o algoritmo de eliminação,\n",
    "mas, para ter uma boa performance, opere apenas nas entradas das diagonais centrais."
   ]
  },
  {
   "cell_type": "code",
   "execution_count": 2,
   "metadata": {},
   "outputs": [],
   "source": [
    "def zero_nth_diag_below(A,b,dim,n):\n",
    "    for i in range(dim-n):\n",
    "        for row in range(1,n+1):\n",
    "            if(np.abs(A[i+row,i]) > 0):\n",
    "                cte = -A[i+row,i]/A[i,i]\n",
    "                A[i, i:i+n+1] *= cte\n",
    "                A[i+row, i:i+n+1] += A[i, i:i+n+1]\n",
    "                b[i] *= cte\n",
    "                b[i+row] += b[i]\n",
    "    for i in range(dim-n,n+1):\n",
    "        print(i)\n",
    "        for row in range(i+1,dim):\n",
    "            if(np.abs(A[row,i]) > 0):\n",
    "                cte = -A[row,i]/A[i,i]\n",
    "                A[i, i:] *= cte\n",
    "                A[row, i:] += A[i, i:]\n",
    "                b[i] *= cte\n",
    "                b[row] += b[i]\n",
    "    return A,b"
   ]
  },
  {
   "cell_type": "code",
   "execution_count": 3,
   "metadata": {
    "deletable": false,
    "nbgrader": {
     "cell_type": "code",
     "checksum": "3b57e2d5f8e93159a5f5d2e76cac1d98",
     "grade": false,
     "grade_id": "cell-462b708f5e397ecf",
     "locked": false,
     "schema_version": 3,
     "solution": true,
     "task": false
    }
   },
   "outputs": [],
   "source": [
    "def tridiag_solve(A, b):\n",
    "    A = np.copy(np.asarray(A, dtype=np.float))\n",
    "    b = np.copy(np.asarray(b, dtype=np.float))\n",
    "    n,m = np.shape(A)\n",
    "    assert m == len(b)\n",
    "    assert n == m, \"Matrix must be square\"\n",
    "#     for i in range(n-1):\n",
    "#         cte = -A[i+1][i]/A[i][i]\n",
    "#         A[i,i:i+2] *= cte\n",
    "#         A[i+1,i:i+2] += A[i,i:i+2]\n",
    "#         b[i] *= cte\n",
    "#         b[i+1] += b[i]\n",
    "    A,b = zero_nth_diag_below(A,b,n,1)\n",
    "    xs = np.zeros(b.shape)\n",
    "    xs[n-1] = b[n-1]/A[n-1][n-1]\n",
    "    for i in range(2,n+1):\n",
    "        xs[n-i] = (b[n-i] - A[n-i][n-i+1]*xs[n-i+1])/A[n-i][n-i]\n",
    "    return xs"
   ]
  },
  {
   "cell_type": "code",
   "execution_count": 4,
   "metadata": {},
   "outputs": [],
   "source": [
    "A = np.array([\n",
    "        [1,2,0,0],\n",
    "        [3,4,5,0],\n",
    "        [0,6,7,8],\n",
    "        [0,0,9,10]\n",
    "    ])\n",
    "xs=tridiag_solve(A, np.array([[1,1,1,1],\n",
    "                            [2,2,2,2],\n",
    "                            [3,3,3,3],\n",
    "                            [4,4,4,4]]\n",
    "                            ))"
   ]
  },
  {
   "cell_type": "code",
   "execution_count": 5,
   "metadata": {},
   "outputs": [
    {
     "data": {
      "text/plain": [
       "array([[ 1.08108108,  1.08108108,  1.08108108,  1.08108108],\n",
       "       [-0.04054054, -0.04054054, -0.04054054, -0.04054054],\n",
       "       [-0.21621622, -0.21621622, -0.21621622, -0.21621622],\n",
       "       [ 0.59459459,  0.59459459,  0.59459459,  0.59459459]])"
      ]
     },
     "execution_count": 5,
     "metadata": {},
     "output_type": "execute_result"
    }
   ],
   "source": [
    "xs"
   ]
  },
  {
   "cell_type": "code",
   "execution_count": 6,
   "metadata": {},
   "outputs": [
    {
     "data": {
      "text/plain": [
       "array([[1., 1., 1., 1.],\n",
       "       [2., 2., 2., 2.],\n",
       "       [3., 3., 3., 3.],\n",
       "       [4., 4., 4., 4.]])"
      ]
     },
     "execution_count": 6,
     "metadata": {},
     "output_type": "execute_result"
    }
   ],
   "source": [
    "np.matmul(A,xs)"
   ]
  },
  {
   "cell_type": "markdown",
   "metadata": {},
   "source": [
    "Qual o papel do primeiro assert?"
   ]
  },
  {
   "cell_type": "markdown",
   "metadata": {
    "deletable": false,
    "nbgrader": {
     "cell_type": "markdown",
     "checksum": "f7374d595c9876249cb7f8693191382d",
     "grade": true,
     "grade_id": "cell-7a4214ebd68e358c",
     "locked": false,
     "points": 1,
     "schema_version": 3,
     "solution": true,
     "task": false
    }
   },
   "source": [
    "O primeiro assert garante que a matriz é quadrada."
   ]
  },
  {
   "cell_type": "code",
   "execution_count": 7,
   "metadata": {
    "deletable": false,
    "editable": false,
    "nbgrader": {
     "cell_type": "code",
     "checksum": "2e4b59ab9571801024d1e03249fd5458",
     "grade": true,
     "grade_id": "cell-65f2e07cb2fa5887",
     "locked": true,
     "points": 1,
     "schema_version": 3,
     "solution": false,
     "task": false
    }
   },
   "outputs": [],
   "source": [
    "A = [[1, 2, 0], [2, 1, -1], [0, 1, -2]]\n",
    "b = [1,1,1]\n",
    "\n",
    "x1 = np.linalg.solve(A,b)\n",
    "x2 = tridiag_solve(A, b)\n",
    "assert np.allclose(x1, x2, atol=1e-14, rtol=1e-14)"
   ]
  },
  {
   "cell_type": "code",
   "execution_count": 8,
   "metadata": {},
   "outputs": [
    {
     "data": {
      "text/plain": [
       "[1, 1, 1]"
      ]
     },
     "execution_count": 8,
     "metadata": {},
     "output_type": "execute_result"
    }
   ],
   "source": [
    "b"
   ]
  },
  {
   "cell_type": "code",
   "execution_count": 9,
   "metadata": {},
   "outputs": [
    {
     "data": {
      "text/plain": [
       "array([1., 1., 1.])"
      ]
     },
     "execution_count": 9,
     "metadata": {},
     "output_type": "execute_result"
    }
   ],
   "source": [
    "np.matmul(A,tridiag_solve(A, b))"
   ]
  },
  {
   "cell_type": "code",
   "execution_count": 10,
   "metadata": {
    "deletable": false,
    "editable": false,
    "nbgrader": {
     "cell_type": "code",
     "checksum": "f9ce16344b327878f74ae2a53d78a9e5",
     "grade": true,
     "grade_id": "cell-20bb3249b0db5e25",
     "locked": true,
     "points": 1,
     "schema_version": 3,
     "solution": false,
     "task": false
    }
   },
   "outputs": [],
   "source": [
    "np.random.seed(9)\n",
    "A = np.diag(range(3,8)) + np.diag([-1,-1,-2,-2], k=1) + np.diag([-2,-2,-1,-1], k=-1)\n",
    "b = np.random.randn(5)\n",
    "\n",
    "x1 = np.linalg.solve(A, b)\n",
    "x2 = tridiag_solve(A, b)\n",
    "assert np.allclose(x1, x2, atol=1e-13, rtol=1e-13)"
   ]
  },
  {
   "cell_type": "markdown",
   "metadata": {},
   "source": [
    "Se você não tivesse acesso a `np.linalg.solve`, como você poderia testar sua função?\n",
    "Explique abaixo, e dê um exemplo de teste na caixa seguinte."
   ]
  },
  {
   "cell_type": "markdown",
   "metadata": {
    "deletable": false,
    "nbgrader": {
     "cell_type": "markdown",
     "checksum": "d7e005d192564f3abfad3c2639865f43",
     "grade": true,
     "grade_id": "cell-880f3f95c45d504d",
     "locked": false,
     "points": 1,
     "schema_version": 3,
     "solution": true,
     "task": false
    }
   },
   "source": [
    "Poderíamos simplesmente multiplicar a matriz original, antes de ter feito a eliminação, pelo o vetor de x's encontrados. Se o resultado fosse compatível com o b original, então a solução estaria correta. Do contrário, errada."
   ]
  },
  {
   "cell_type": "code",
   "execution_count": 11,
   "metadata": {
    "deletable": false,
    "nbgrader": {
     "cell_type": "code",
     "checksum": "a43fd073452357c400e95e3d94b8e664",
     "grade": true,
     "grade_id": "cell-e359c03c250b063f",
     "locked": false,
     "points": 1,
     "schema_version": 3,
     "solution": true,
     "task": false
    }
   },
   "outputs": [],
   "source": [
    "# A = np.array([\n",
    "#         [1,2,0,0],\n",
    "#         [3,4,5,0],\n",
    "#         [0,6,7,8],\n",
    "#         [0,0,9,10]\n",
    "#     ])\n",
    "# b = np.array([1,1,1,1])\n",
    "A = [[1, 2, 0], [2, 1, -1], [0, 1, -2]]\n",
    "b = [1,1,1]\n",
    "\n",
    "xs=tridiag_solve(A,b)\n",
    "assert np.allclose(np.matmul(A,xs) , b, atol=1e-14, rtol=1e-14)"
   ]
  },
  {
   "cell_type": "markdown",
   "metadata": {},
   "source": [
    "## Questão 2: Tempos\n",
    "\n",
    "Para cada um dos `ns` dados a seguir, monte um sistema tridiagonal $n \\times n$,\n",
    "e calcule o tempo (usando `time`) para:\n",
    "1. Criar a matriz A e o vetor b (podem ser aleatórios, podem não ser)\n",
    "2. Resolver o sistema usando `tridiag_solve`\n",
    "\n",
    "Armazene os tempos em duas listas, `t_create` e `t_solve`.\n",
    "\n",
    "Obs: o caixa abaixo pode usar algo como 2G de RAM, por conta das matrizes 8k\n",
    "(ou até mais, dependendo de **como** você criar as matrizes).\n",
    "Assim, para testar, diminua a amplitude do logspace, terminando em $2^{10}$ em vez de $2^{13}$.\n",
    "Se você não conseguir fazer funcionar até $2^{13}$,\n",
    "reduza o maior valor do `logspace`, mas não reduza demais."
   ]
  },
  {
   "cell_type": "code",
   "execution_count": 12,
   "metadata": {
    "deletable": false,
    "nbgrader": {
     "cell_type": "code",
     "checksum": "e184a87f620ac340bc7ea381dd896ad6",
     "grade": true,
     "grade_id": "cell-84a663322d8e87f5",
     "locked": false,
     "points": 2,
     "schema_version": 3,
     "solution": true,
     "task": false
    }
   },
   "outputs": [
    {
     "name": "stderr",
     "output_type": "stream",
     "text": [
      "<ipython-input-2-cd5bb07b7cbb>:5: RuntimeWarning: divide by zero encountered in double_scalars\n",
      "  cte = -A[i+row,i]/A[i,i]\n",
      "<ipython-input-2-cd5bb07b7cbb>:6: RuntimeWarning: invalid value encountered in multiply\n",
      "  A[i, i:i+n+1] *= cte\n",
      "<ipython-input-2-cd5bb07b7cbb>:8: RuntimeWarning: invalid value encountered in double_scalars\n",
      "  b[i] *= cte\n"
     ]
    }
   ],
   "source": [
    "ns = np.logspace(4,13, base=2, num=28, dtype=int)\n",
    "t_create = []\n",
    "t_solve  = []\n",
    "for i, n in enumerate(ns):\n",
    "    start_time = time()\n",
    "    diag = np.arange(n)\n",
    "    A = np.diag(diag) + np.diag(diag[1:]*-1, k=1) + np.diag(diag[1:]*2, k=-1)\n",
    "    b = np.random.randn(n)\n",
    "    t_create.append(time() - start_time)\n",
    "    start_time = time()\n",
    "    tridiag_solve(A,b)\n",
    "    t_solve.append(time() - start_time)"
   ]
  },
  {
   "cell_type": "markdown",
   "metadata": {},
   "source": [
    "Agora, faça um gráfico destes tempos, em função de $n$."
   ]
  },
  {
   "cell_type": "code",
   "execution_count": 13,
   "metadata": {
    "deletable": false,
    "nbgrader": {
     "cell_type": "code",
     "checksum": "b5fdd2f0ee670e68830b6b9abf309be9",
     "grade": false,
     "grade_id": "cell-a67d25ce0784d87f",
     "locked": false,
     "schema_version": 3,
     "solution": true,
     "task": false
    }
   },
   "outputs": [
    {
     "data": {
      "image/png": "[encoded data removed]",
      "text/plain": [
       "<Figure size 432x288 with 1 Axes>"
      ]
     },
     "metadata": {
      "needs_background": "light"
     },
     "output_type": "display_data"
    }
   ],
   "source": [
    "plt.plot(ns,t_create,label=\"create\")\n",
    "plt.plot(ns,t_solve,label=\"solve\")\n",
    "plt.title(\"Tempo gasto para: criar um sistema de equacoes NxN vs resolvê-lo\")\n",
    "plt.xlabel(\"N\")\n",
    "plt.ylabel(\"T(s)\")\n",
    "plt.legend()\n",
    "plt.xticks(ns,rotation=45)\n",
    "ax = plt.gca()"
   ]
  },
  {
   "cell_type": "code",
   "execution_count": 14,
   "metadata": {
    "deletable": false,
    "editable": false,
    "nbgrader": {
     "cell_type": "code",
     "checksum": "328b139fc4112f5d0fe4ee451d929982",
     "grade": true,
     "grade_id": "cell-e3e0f254799598f9",
     "locked": true,
     "points": 1,
     "schema_version": 3,
     "solution": false,
     "task": false
    }
   },
   "outputs": [],
   "source": [
    "assert len(ax.lines) == 2\n",
    "assert len(ax.legend().texts) == 2\n",
    "assert ax.get_title() != \"\""
   ]
  },
  {
   "cell_type": "code",
   "execution_count": 15,
   "metadata": {
    "deletable": false,
    "editable": false,
    "nbgrader": {
     "cell_type": "code",
     "checksum": "4c8d76dd5a2ea1c1ebf4bed1f3a25dc0",
     "grade": true,
     "grade_id": "cell-b0b81c2b16c50f3a",
     "locked": true,
     "points": 1,
     "schema_version": 3,
     "solution": false,
     "task": false
    }
   },
   "outputs": [],
   "source": [
    "for l in ax.lines:\n",
    "    xs = l.get_xdata()\n",
    "    assert min(xs) == 2**4\n",
    "    assert max(xs) <= 2**13"
   ]
  },
  {
   "cell_type": "code",
   "execution_count": 16,
   "metadata": {
    "deletable": false,
    "editable": false,
    "nbgrader": {
     "cell_type": "code",
     "checksum": "418830f6be670487fb4a054bb04a3d4d",
     "grade": false,
     "grade_id": "cell-fe964215dead09c4",
     "locked": true,
     "schema_version": 3,
     "solution": false,
     "task": false
    }
   },
   "outputs": [],
   "source": [
    "ax = None"
   ]
  },
  {
   "cell_type": "markdown",
   "metadata": {},
   "source": [
    "Qual etapa demora mais?\n",
    "Porquê você acha que isso acontece?"
   ]
  },
  {
   "cell_type": "markdown",
   "metadata": {
    "deletable": false,
    "nbgrader": {
     "cell_type": "markdown",
     "checksum": "108666274c95da5a5466ea2107289581",
     "grade": true,
     "grade_id": "cell-7d10cf0ddf503610",
     "locked": false,
     "points": 2,
     "schema_version": 3,
     "solution": true,
     "task": false
    }
   },
   "source": [
    "A etapa que mais demora é a de criar o sistema de equações. Isso porque envolve $N^2 + N$ operações - complexidade $O(N^2)$ -, que são de atribuir os valores a cada posição da matriz A e ao vetor b, ao passo que resolver é na ordem de N operações - complexidade $O(N)$ - , conforme discutido acima. "
   ]
  },
  {
   "cell_type": "markdown",
   "metadata": {},
   "source": [
    "Agora, faça novos gráficos, para tentar descobrir a taxa de crescimento destes tempos:\n",
    "se é linear, quadrático, exponencial, ... em função de $n$.\n",
    "\n",
    "E se são a mesma taxa ou não!"
   ]
  },
  {
   "cell_type": "code",
   "execution_count": 17,
   "metadata": {
    "deletable": false,
    "nbgrader": {
     "cell_type": "code",
     "checksum": "80a4a61f47c75033569dd08f62b92f0e",
     "grade": true,
     "grade_id": "cell-0ac7be496b4ab4a4",
     "locked": false,
     "points": 1,
     "schema_version": 3,
     "solution": true,
     "task": false
    }
   },
   "outputs": [
    {
     "data": {
      "image/png": "[encoded data removed]",
      "text/plain": [
       "<Figure size 432x288 with 1 Axes>"
      ]
     },
     "metadata": {
      "needs_background": "light"
     },
     "output_type": "display_data"
    }
   ],
   "source": [
    "plt.plot(ns,t_create,label=\"create\")\n",
    "plt.plot(ns,t_solve,label=\"solve\")\n",
    "plt.title(\"Tempo gasto para: criar um sistema de equacoes NxN vs resolvê-lo\")\n",
    "plt.xlabel(\"N\")\n",
    "plt.ylabel(\"T(s)\")\n",
    "plt.legend()\n",
    "plt.yscale(\"LOG\")"
   ]
  },
  {
   "cell_type": "markdown",
   "metadata": {},
   "source": [
    "## Fazendo um sistemas de equações usando polinomio de ordem 2 e outro com uma exponencial: encontrar qual melhor se ajusta por minimos quadrados"
   ]
  },
  {
   "cell_type": "code",
   "execution_count": 18,
   "metadata": {},
   "outputs": [],
   "source": [
    "def MAE(f,xs,true):\n",
    "    pred = f(xs)\n",
    "    return np.sum(np.abs(true-pred))/len(xs)\n",
    "#funcao que retorna 1 independente de x\n",
    "#dado os coeficientes e as funções, retorna o modelo de predicao exponencial\n",
    "def make_f(coefs):\n",
    "    def model(x):\n",
    "        return np.exp(coefs[0] + coefs[1]*x)\n",
    "    return model"
   ]
  },
  {
   "cell_type": "code",
   "execution_count": 19,
   "metadata": {},
   "outputs": [
    {
     "name": "stdout",
     "output_type": "stream",
     "text": [
      "-------------------------\n",
      "Modelando o tempo de create da matriz\n",
      "Coefs poly create:  [-2.07365860e-03 -1.14006325e-06  1.93682845e-08]\n",
      "Coefs exp create:  [-6.97398343e+00  1.18211235e-03]\n",
      "MEAN ABSOLUTE ERROR\n",
      "poly:  0.011262377963984521  exponential:  0.559732444699985\n",
      "-------------------------\n",
      "Modelando o tempo de solve da matriz\n",
      "Coefs poly solve:  [ 5.73620741e-03 -4.21743762e-06  2.02740841e-08]\n",
      "Coefs exp solve:  [-5.40386894e+00  8.91659932e-04]\n",
      "MEAN ABSOLUTE ERROR\n",
      "poly:  0.014958469688696312  exponential:  0.23665730484656036\n"
     ]
    },
    {
     "data": {
      "text/plain": [
       "<matplotlib.legend.Legend at 0x7f8a18bc3580>"
      ]
     },
     "execution_count": 19,
     "metadata": {},
     "output_type": "execute_result"
    },
    {
     "data": {
      "image/png": "[encoded data removed]",
      "text/plain": [
       "<Figure size 1152x576 with 1 Axes>"
      ]
     },
     "metadata": {
      "needs_background": "light"
     },
     "output_type": "display_data"
    }
   ],
   "source": [
    "plt.figure(figsize=(16,8))\n",
    "plt.plot(ns,t_create,label=\"create_observado\")\n",
    "plt.plot(ns,t_solve,label=\"solve_observado\")\n",
    "plt.title(\"Tempo gasto para: criar um sistema de equacoes NxN vs resolvê-lo\")\n",
    "plt.xlabel(\"N\")\n",
    "plt.ylabel(\"T(s)\")\n",
    "plt.xticks(ns,rotation=45)\n",
    "for y,name in zip([t_create,t_solve],[\"create\",\"solve\"]):\n",
    "    print(\"-------------------------\")\n",
    "    print(f\"Modelando o tempo de {name} da matriz\")\n",
    "    A = np.vander(ns,N=3)\n",
    "    b = np.array(y)\n",
    "    coefs, *_ = np.linalg.lstsq(A,b,rcond=None)\n",
    "    coefs = np.flip(coefs)\n",
    "    print(f\"Coefs poly {name}: \",coefs,)\n",
    "    poly = np.poly1d(coefs[::-1])\n",
    "    plt.plot(ns,poly(ns),label=f\"{name}_poly_model\")\n",
    "    A = np.vander(ns,N=2)\n",
    "    coefs, *_ = np.linalg.lstsq(np.matmul(A.T,A),np.matmul(A.T,np.log(b)),rcond=None)\n",
    "    coefs = np.flip(coefs)\n",
    "    print(f\"Coefs exp {name}: \",coefs)\n",
    "    model = make_f(coefs)\n",
    "    plt.plot(ns,model(ns),label=f\"{name}_exp_model\")\n",
    "    print(\"MEAN ABSOLUTE ERROR\")\n",
    "    print(\"poly: \",MAE(poly,ns,t_create),\" exponential: \",MAE(model,ns,t_create))\n",
    "# plt.ylim(0,2)\n",
    "plt.legend()"
   ]
  },
  {
   "cell_type": "markdown",
   "metadata": {},
   "source": [
    "Comente"
   ]
  },
  {
   "cell_type": "markdown",
   "metadata": {
    "deletable": false,
    "nbgrader": {
     "cell_type": "markdown",
     "checksum": "784a859ee835de28f7f4c39f05a628a3",
     "grade": true,
     "grade_id": "cell-c5b389d9a6bae124",
     "locked": false,
     "points": 1,
     "schema_version": 3,
     "solution": true,
     "task": false
    }
   },
   "source": [
    "Acima mostramos duas modelagens para os tempos obtidos: um utilizando um polinômio na forma $y = A + BX + CX^2$ e outro utilizando $y = Be^{CX}$. Esse último, para resolver no formato de um sistema linear, primeiramente foi feito: $log(y) = logB + CX$. Em seguida, aplicou-se: $[A.T * A] * X = B$, sendo $A_{Nx2}$ e N = len(ns). Para avaliar o modelo que melhor se ajustou, calculou-se o Mean Absolute Error, dado por $\\sum_i |y_i^{real} - y_{i}^{pred}|/N$. \n",
    "<p>\n",
    " Vemos tanto pelos MAE quanto pelas curvas ajustadas que os dados tem o comportamento melhor modelado por um polinômio de grau 2. No caso do tempo de criação, mínimos quadrados nos dá os coeficientes: $y = <1.22e-02, -4.36e-05, 2.71e-08>.<1, X, X^2>^T$. Já para o tempo de resolução, temos: $y = <1.06e-02, -2.24e-05, 2.08e-08>.<1, X, X^2>^T$.\n",
    "<p>\n",
    "    Em resumo: o coeficiente do termo quadrático é menor para o tempo de criação, mas o termo linear é maior."
   ]
  },
  {
   "cell_type": "markdown",
   "metadata": {},
   "source": [
    "## Questão 3: Sistemas pentadiagonais\n",
    "\n",
    "Agora, suponha que a matriz $A$ é pentadiagonal, ou seja, as entradas não-nulas\n",
    "podem estar até 2 linhas acima ou abaixo da diagonal principal.\n",
    "Generalize o seu programa para resolver sistemas pentadiagonais."
   ]
  },
  {
   "cell_type": "code",
   "execution_count": 20,
   "metadata": {
    "deletable": false,
    "nbgrader": {
     "cell_type": "code",
     "checksum": "2e603c95d4af05978647152e77cf2892",
     "grade": false,
     "grade_id": "cell-41937ff612288545",
     "locked": false,
     "schema_version": 3,
     "solution": true,
     "task": false
    }
   },
   "outputs": [],
   "source": [
    "def pentadiag_solve(A, b):\n",
    "    A = np.copy(np.asarray(A, dtype=np.float))\n",
    "    b = np.copy(np.asarray(b, dtype=np.float))\n",
    "    n,m = np.shape(A)\n",
    "    assert m == len(b)\n",
    "    assert n == m, \"Matrix must be square\"\n",
    "    # YOUR CODE HERE\n",
    "    \n",
    "    for i in range(2,m):\n",
    "        mul = -A[i,i-2]/A[i-2,i-2]\n",
    "        A[i,i-2] = 0\n",
    "        A[i,i-1] += A[i-2,i-1]*mul\n",
    "        A[i,i] += A[i-2,i]*mul\n",
    "        b[i] += b[i-2]*mul\n",
    "        \n",
    "        mul = -A[i-1,i-2]/A[i-2,i-2]\n",
    "        A[i-1,i-2] = 0\n",
    "        A[i-1,i-1] += A[i-2,i-1]*mul\n",
    "        A[i-1,i] += A[i-2,i]*mul\n",
    "        b[i-1] += b[i-2]*mul\n",
    "    \n",
    "    mul = -A[-1,-2]/A[-2,-2]\n",
    "    A[-1,-2] = 0\n",
    "    A[-1,-1] += A[-2,-1]*mul\n",
    "    b[-1]+=b[-2]*mul\n",
    "    \n",
    "    resposta = b[:]\n",
    "    \n",
    "    resposta[-1] = resposta[-1]/A[-1,-1]\n",
    "    resposta[-2]-=A[-2,-2+1]*b[-2+1]\n",
    "    resposta[-2]= resposta[-2]/A[-2,-2]\n",
    "    \n",
    "    for i in range(3,len(b)+1):\n",
    "        resposta[-i]-=(A[-i,-i+1]*b[-i+1]+A[-i,-i+2]*b[-i+2])\n",
    "        resposta[-i]= resposta[-i]/A[-i,-i]\n",
    "    return resposta"
   ]
  },
  {
   "cell_type": "code",
   "execution_count": 21,
   "metadata": {},
   "outputs": [],
   "source": [
    "A = np.array([\n",
    "        [1,2,0,0],\n",
    "        [3,4,5,0],\n",
    "        [0,6,7,8],\n",
    "        [0,0,9,10]\n",
    "    ])\n",
    "xs=pentadiag_solve(A, np.array([[1,1,1,1],\n",
    "                            [2,2,2,2],\n",
    "                            [3,3,3,3],\n",
    "                            [4,4,4,4]]\n",
    "                            ))"
   ]
  },
  {
   "cell_type": "code",
   "execution_count": 22,
   "metadata": {},
   "outputs": [
    {
     "data": {
      "text/plain": [
       "array([[ 1.08108108,  1.08108108,  1.08108108,  1.08108108],\n",
       "       [-0.04054054, -0.04054054, -0.04054054, -0.04054054],\n",
       "       [-0.21621622, -0.21621622, -0.21621622, -0.21621622],\n",
       "       [ 0.59459459,  0.59459459,  0.59459459,  0.59459459]])"
      ]
     },
     "execution_count": 22,
     "metadata": {},
     "output_type": "execute_result"
    }
   ],
   "source": [
    "xs"
   ]
  },
  {
   "cell_type": "code",
   "execution_count": 23,
   "metadata": {},
   "outputs": [
    {
     "data": {
      "text/plain": [
       "array([[1., 1., 1., 1.],\n",
       "       [2., 2., 2., 2.],\n",
       "       [3., 3., 3., 3.],\n",
       "       [4., 4., 4., 4.]])"
      ]
     },
     "execution_count": 23,
     "metadata": {},
     "output_type": "execute_result"
    }
   ],
   "source": [
    "np.matmul(A,xs)"
   ]
  },
  {
   "cell_type": "code",
   "execution_count": 24,
   "metadata": {
    "deletable": false,
    "editable": false,
    "nbgrader": {
     "cell_type": "code",
     "checksum": "47970c533b0a3e8bfb9150817c2ebbd0",
     "grade": true,
     "grade_id": "cell-2e48084bf174185d",
     "locked": true,
     "points": 1,
     "schema_version": 3,
     "solution": false,
     "task": false
    }
   },
   "outputs": [],
   "source": [
    "np.random.seed(9)\n",
    "A = np.diag(range(3,8)) + np.diag([-1,-1,-2,-2], k=1) + np.diag([-2,-2,-1,-1], k=-1)\n",
    "b = np.random.randn(5)\n",
    "\n",
    "x2 = tridiag_solve(A, b)\n",
    "x3 = pentadiag_solve(A, b)\n",
    "assert np.allclose(x3, x2, atol=1e-13, rtol=1e-13)"
   ]
  },
  {
   "cell_type": "code",
   "execution_count": 25,
   "metadata": {
    "deletable": false,
    "editable": false,
    "nbgrader": {
     "cell_type": "code",
     "checksum": "04ad339f95eab013a9699fff6e6b1d59",
     "grade": true,
     "grade_id": "cell-ea99873bf680925a",
     "locked": true,
     "points": 2,
     "schema_version": 3,
     "solution": false,
     "task": false
    }
   },
   "outputs": [],
   "source": [
    "np.random.seed(10)\n",
    "A = np.diag(range(3,9)) + np.diag([-1,-1,-2,-2], k=2) + np.diag([-2,-2,-1,-1], k=-2)\n",
    "b = np.random.randn(6)\n",
    "\n",
    "x1 = np.linalg.solve(A, b)\n",
    "x3 = pentadiag_solve(A, b)\n",
    "assert np.allclose(x1, x3, atol=1e-13, rtol=1e-13)"
   ]
  },
  {
   "cell_type": "markdown",
   "metadata": {},
   "source": [
    "Repita os cálculos de tempo, para resolver sistemas de dimensão até $2^{13}$."
   ]
  },
  {
   "cell_type": "code",
   "execution_count": 26,
   "metadata": {
    "deletable": false,
    "nbgrader": {
     "cell_type": "code",
     "checksum": "d38a3acec502a9b0676fd57a5cf6f7ce",
     "grade": true,
     "grade_id": "cell-2e5b4eed7bb22b4b",
     "locked": false,
     "points": 1,
     "schema_version": 3,
     "solution": true,
     "task": false
    }
   },
   "outputs": [
    {
     "name": "stderr",
     "output_type": "stream",
     "text": [
      "<ipython-input-20-80f32d4a8cdb>:10: RuntimeWarning: divide by zero encountered in double_scalars\n",
      "  mul = -A[i,i-2]/A[i-2,i-2]\n",
      "<ipython-input-20-80f32d4a8cdb>:16: RuntimeWarning: divide by zero encountered in double_scalars\n",
      "  mul = -A[i-1,i-2]/A[i-2,i-2]\n",
      "<ipython-input-20-80f32d4a8cdb>:12: RuntimeWarning: invalid value encountered in double_scalars\n",
      "  A[i,i-1] += A[i-2,i-1]*mul\n",
      "<ipython-input-20-80f32d4a8cdb>:14: RuntimeWarning: invalid value encountered in double_scalars\n",
      "  b[i] += b[i-2]*mul\n",
      "<ipython-input-20-80f32d4a8cdb>:16: RuntimeWarning: invalid value encountered in double_scalars\n",
      "  mul = -A[i-1,i-2]/A[i-2,i-2]\n"
     ]
    }
   ],
   "source": [
    "ns = np.logspace(4,13, base=2, num=28, dtype=int)\n",
    "t_create = []\n",
    "t_solve  = []\n",
    "for i, n in enumerate(ns):\n",
    "    start_time = time()\n",
    "    diag = np.arange(n)\n",
    "    A = np.diag(diag) + np.diag(diag[1:]*-1, k=1) + np.diag(diag[2:]*-2, k=2) + np.diag(diag[1:]*2, k=-1) + np.diag(diag[2:]*4, k=-2)\n",
    "    b = np.random.randn(n)\n",
    "    t_create.append(time() - start_time)\n",
    "    start_time = time()\n",
    "    pentadiag_solve(A,b)\n",
    "    t_solve.append(time() - start_time)"
   ]
  },
  {
   "cell_type": "code",
   "execution_count": 27,
   "metadata": {},
   "outputs": [
    {
     "data": {
      "image/png": "[encoded data removed]",
      "text/plain": [
       "<Figure size 432x288 with 1 Axes>"
      ]
     },
     "metadata": {
      "needs_background": "light"
     },
     "output_type": "display_data"
    }
   ],
   "source": [
    "plt.plot(ns,t_create,label=\"create\")\n",
    "plt.plot(ns,t_solve,label=\"solve\")\n",
    "plt.title(\"Tempo gasto para: criar um sistema de equacoes NxN vs resolvê-lo\")\n",
    "plt.xlabel(\"N\")\n",
    "plt.ylabel(\"T(s)\")\n",
    "plt.legend()\n",
    "plt.yscale(\"LOG\")\n",
    "ax = plt.gca()"
   ]
  },
  {
   "cell_type": "code",
   "execution_count": 28,
   "metadata": {
    "deletable": false,
    "editable": false,
    "nbgrader": {
     "cell_type": "code",
     "checksum": "e8371fb142125e7ddb5eb1a80ece12ad",
     "grade": true,
     "grade_id": "cell-daef85db8ad2ed47",
     "locked": true,
     "points": 1,
     "schema_version": 3,
     "solution": false,
     "task": false
    }
   },
   "outputs": [],
   "source": [
    "assert len(ax.lines) == 2\n",
    "assert len(ax.legend().texts) == 2\n",
    "assert ax.get_title() != \"\""
   ]
  },
  {
   "cell_type": "code",
   "execution_count": 29,
   "metadata": {
    "deletable": false,
    "nbgrader": {
     "cell_type": "code",
     "checksum": "498aac693e11746ff8390bc31df8cca1",
     "grade": false,
     "grade_id": "cell-aa08140310aa9c71",
     "locked": false,
     "schema_version": 3,
     "solution": true,
     "task": false
    }
   },
   "outputs": [
    {
     "name": "stdout",
     "output_type": "stream",
     "text": [
      "-------------------------\n",
      "Modelando o tempo de create da matriz\n",
      "Coefs poly create:  [ 8.46467904e-03 -4.04793641e-05  3.79562784e-08]\n",
      "-------------------------\n",
      "Modelando o tempo de solve da matriz\n",
      "Coefs poly solve:  [ 7.41593619e-03 -1.94081123e-05  1.91867610e-08]\n"
     ]
    },
    {
     "data": {
      "image/png": "[encoded data removed]",
      "text/plain": [
       "<Figure size 432x288 with 1 Axes>"
      ]
     },
     "metadata": {
      "needs_background": "light"
     },
     "output_type": "display_data"
    }
   ],
   "source": [
    "plt.plot(ns,t_create,label=\"create\")\n",
    "plt.plot(ns,t_solve,label=\"solve\")\n",
    "plt.title(\"Tempo gasto para: criar um sistema de equacoes NxN vs resolvê-lo\")\n",
    "plt.xlabel(\"N\")\n",
    "plt.ylabel(\"T(s)\")\n",
    "for y,name in zip([t_create,t_solve],[\"create\",\"solve\"]):\n",
    "    print(\"-------------------------\")\n",
    "    print(f\"Modelando o tempo de {name} da matriz\")\n",
    "    A = np.vander(ns,N=3)\n",
    "    b = np.array(y)\n",
    "    coefs, *_ = np.linalg.lstsq(A,b,rcond=None)\n",
    "    coefs = np.flip(coefs)\n",
    "    print(f\"Coefs poly {name}: \",coefs,)\n",
    "    poly = np.poly1d(coefs[::-1])\n",
    "    plt.plot(ns,poly(ns),label=f\"{name}_poly_model\")\n",
    "plt.legend()\n",
    "ax = plt.gca()"
   ]
  },
  {
   "cell_type": "markdown",
   "metadata": {},
   "source": [
    "O que mudou?"
   ]
  },
  {
   "cell_type": "markdown",
   "metadata": {
    "deletable": false,
    "nbgrader": {
     "cell_type": "markdown",
     "checksum": "44084f4556a1a31704e85c517105d545",
     "grade": true,
     "grade_id": "cell-7e4a3bc07ef66e1e",
     "locked": false,
     "points": 1,
     "schema_version": 3,
     "solution": true,
     "task": false
    }
   },
   "source": [
    "Em relação aos coeficientes encontrados para o polinômio de 2o grau no caso do tridiagonal, podemos notar que o coeficiente do termo quadrático é maior. Além disso, se compararmos o quanto cresceu o termo quadrático em relação ao caso anterior, vemos que para o tempo de criação do sistema teve um aumento de 75% (3.6/1.75) enquanto o tempo para resolver teve um acréscimo de 13% (1.7/1.5) aproximadamente."
   ]
  }
 ],
 "metadata": {
  "kernelspec": {
   "display_name": "Python 3",
   "language": "python",
   "name": "python3"
  },
  "language_info": {
   "codemirror_mode": {
    "name": "ipython",
    "version": 3
   },
   "file_extension": ".py",
   "mimetype": "text/x-python",
   "name": "python",
   "nbconvert_exporter": "python",
   "pygments_lexer": "ipython3",
   "version": "3.8.5"
  }
 },
 "nbformat": 4,
 "nbformat_minor": 4
}

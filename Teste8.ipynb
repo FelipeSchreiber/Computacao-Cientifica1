{
 "cells": [
  {
   "cell_type": "markdown",
   "metadata": {},
   "source": [
    "![CC-BY-SA](https://mirrors.creativecommons.org/presskit/buttons/88x31/svg/by-sa.svg)\n",
    "\n",
    "\n",
    "This notebook was created by [Bernardo Freitas Paulo da Costa](http://www.im.ufrj.br/bernardofpc),\n",
    "and is licensed under Creative Commons BY-SA."
   ]
  },
  {
   "cell_type": "markdown",
   "metadata": {},
   "source": [
    "Antes de enviar este Teste, verifique que tudo está funcionando como esperado.\n",
    "Por exemplo, **rode o código inteiro, do zero**.\n",
    "Para isso, vá no menu, escolha _Kernel_, depois _Restart & Run All_.\n",
    "\n",
    "Verifique, também, que você respondeu todas as questões:\n",
    "* as questões de código têm `YOUR CODE HERE` (e você pode apagar o `raise NotImplemented` ao incluir sua resposta)\n",
    "* as questões discursivas têm \"YOUR ANSWER HERE\"."
   ]
  },
  {
   "cell_type": "markdown",
   "metadata": {},
   "source": [
    "---"
   ]
  },
  {
   "cell_type": "code",
   "execution_count": 1,
   "metadata": {},
   "outputs": [],
   "source": [
    "import numpy as np\n",
    "import matplotlib.pyplot as plt"
   ]
  },
  {
   "cell_type": "markdown",
   "metadata": {},
   "source": [
    "# Regressão generalizada\n",
    "\n",
    "O modelo de regressão pode ser generalizado para encontrar os coeficientes de $n$ funções $f_i$\n",
    "para aproximar, o melhor possível, os valores $y_j$ observados em $m$ pontos $t_j$."
   ]
  },
  {
   "cell_type": "markdown",
   "metadata": {},
   "source": [
    "## Questão 1: Calculando a regressão\n",
    "\n",
    "Abaixo, dê uma função que calcula a matriz do sistema linear e, em seguida,\n",
    "a que usa esta matriz para calcular os parâmetros do modelo -\n",
    "neste caso, os coeficientes multiplicando cada uma das $f_i$'s."
   ]
  },
  {
   "cell_type": "code",
   "execution_count": 2,
   "metadata": {},
   "outputs": [],
   "source": [
    "# a = np.arange(10)\n",
    "# a"
   ]
  },
  {
   "cell_type": "code",
   "execution_count": 3,
   "metadata": {},
   "outputs": [],
   "source": [
    "# flist = [np.exp,np.sin]\n",
    "# model_M(a,flist)"
   ]
  },
  {
   "cell_type": "code",
   "execution_count": 4,
   "metadata": {
    "deletable": false,
    "nbgrader": {
     "cell_type": "code",
     "checksum": "505a3d846447424080761dc54422becb",
     "grade": false,
     "grade_id": "cell-46092e60d0197688",
     "locked": false,
     "schema_version": 3,
     "solution": true,
     "task": false
    }
   },
   "outputs": [],
   "source": [
    "def model_M(ts,fs):\n",
    "    \"\"\"\n",
    "    Constrói a matriz M = [[f1(t1), f2(t1), ...],\n",
    "                           [f1(t2), f2(t2), ...],\n",
    "                           [f1(t3), f2(t3), ...],\n",
    "                           ...\n",
    "                          ] (array)\n",
    "    correspondente ao sistema  y_j = \\sum a_i f_i(t_j)\n",
    "    \"\"\"\n",
    "    result = np.zeros((len(ts),len(fs)))   \n",
    "    for j,f in enumerate(fs):\n",
    "        result[:,j] = f(ts)\n",
    "    return result\n",
    "\n",
    "def model_par(ts,ys,fs):\n",
    "    \"\"\"\n",
    "    Calcula os coeficientes  a_i  que minimizam o erro quadrático do sistema  y_j = \\sum a_i f_i(t_j)\n",
    "    \"\"\"\n",
    "    A = model_M(ts,fs)\n",
    "    coefs, *_ = np.linalg.lstsq(A,ys,rcond=None)\n",
    "    return coefs"
   ]
  },
  {
   "cell_type": "code",
   "execution_count": 5,
   "metadata": {
    "deletable": false,
    "editable": false,
    "nbgrader": {
     "cell_type": "code",
     "checksum": "648a5679e3e2514d7fb9a3f5026cab44",
     "grade": false,
     "grade_id": "cell-4108c8bd769c74e8",
     "locked": true,
     "schema_version": 3,
     "solution": false,
     "task": false
    }
   },
   "outputs": [],
   "source": [
    "def make_sin(n):\n",
    "    def f(x):\n",
    "        return np.sin(n*x)\n",
    "    return f\n",
    "\n",
    "def make_cos(n):\n",
    "    def f(x):\n",
    "        return np.cos(n*x)\n",
    "    return f"
   ]
  },
  {
   "cell_type": "code",
   "execution_count": 6,
   "metadata": {
    "deletable": false,
    "editable": false,
    "nbgrader": {
     "cell_type": "code",
     "checksum": "f0892ec1bb1710c5fb0dd2509a38d2fb",
     "grade": true,
     "grade_id": "cell-aaba884e82e65aff",
     "locked": true,
     "points": 1,
     "schema_version": 3,
     "solution": false,
     "task": false
    }
   },
   "outputs": [],
   "source": [
    "fs = [make_sin(2), make_cos(3), make_cos(4)]\n",
    "ts = np.arange(10)\n",
    "M = model_M(ts, fs)\n",
    "n, m = np.shape(M)\n",
    "assert n == len(ts)\n",
    "assert m == len(fs)"
   ]
  },
  {
   "cell_type": "code",
   "execution_count": 7,
   "metadata": {
    "deletable": false,
    "editable": false,
    "nbgrader": {
     "cell_type": "code",
     "checksum": "ef2f7b8084838c79f0d890126b2fdb8e",
     "grade": true,
     "grade_id": "cell-f2d0df1f234b1914",
     "locked": true,
     "points": 1,
     "schema_version": 3,
     "solution": false,
     "task": false
    }
   },
   "outputs": [],
   "source": [
    "fs = [np.exp, np.log, np.tan, np.sin]\n",
    "ts = np.arange(4,20)\n",
    "M = model_M(ts, fs)\n",
    "\n",
    "assert M[3,1] == np.log(7)\n",
    "assert M[6,2] == np.tan(10)"
   ]
  },
  {
   "cell_type": "code",
   "execution_count": 8,
   "metadata": {
    "deletable": false,
    "editable": false,
    "nbgrader": {
     "cell_type": "code",
     "checksum": "33d920c48614427761aa43726c2d90ca",
     "grade": true,
     "grade_id": "cell-a07ec5729017e1f7",
     "locked": true,
     "points": 1,
     "schema_version": 3,
     "solution": false,
     "task": false
    }
   },
   "outputs": [],
   "source": [
    "np.random.seed(1)\n",
    "ys = np.random.randn(16)\n",
    "coefs = model_par(ts, ys, fs)\n",
    "assert len(coefs) == len(fs)"
   ]
  },
  {
   "cell_type": "code",
   "execution_count": 9,
   "metadata": {
    "deletable": false,
    "editable": false,
    "nbgrader": {
     "cell_type": "code",
     "checksum": "ba02609e3fdfb11334f4a9b731f39bea",
     "grade": true,
     "grade_id": "cell-6cd4e28bc1539c53",
     "locked": true,
     "points": 1,
     "schema_version": 3,
     "solution": false,
     "task": false
    }
   },
   "outputs": [],
   "source": [
    "coefs = model_par(ts, ys, fs)\n",
    "assert np.isclose(coefs[0], 0)\n",
    "assert np.abs(coefs[3] + 0.5) < 0.1"
   ]
  },
  {
   "cell_type": "markdown",
   "metadata": {},
   "source": [
    "# Regressão com erro de observação\n",
    "\n",
    "Uma das grandes vantagens da regressão é poder \"limpar\" os erros de observação.\n",
    "Mas, é claro, isso só é possível quando temos \"bem mais\" observações do que funções na base.\n",
    "\n",
    "Nesta parte, veremos como isso acontece para uma função curiosa:"
   ]
  },
  {
   "cell_type": "code",
   "execution_count": 10,
   "metadata": {
    "deletable": false,
    "editable": false,
    "nbgrader": {
     "cell_type": "code",
     "checksum": "d4c89a77d706061a5867406d02661b80",
     "grade": false,
     "grade_id": "cell-1025432b5219f90c",
     "locked": true,
     "schema_version": 3,
     "solution": false,
     "task": false
    }
   },
   "outputs": [],
   "source": [
    "def func(x):\n",
    "    return 2**np.sin(2*x) - np.exp(np.cos(3*x))"
   ]
  },
  {
   "cell_type": "markdown",
   "metadata": {},
   "source": [
    "Agora, vamos construir nossos \"dados de ajuste\" (com erros):"
   ]
  },
  {
   "cell_type": "code",
   "execution_count": 11,
   "metadata": {
    "deletable": false,
    "editable": false,
    "nbgrader": {
     "cell_type": "code",
     "checksum": "6e992467c604d8e9ac89044cc78108c1",
     "grade": false,
     "grade_id": "cell-4e0b987bfca40324",
     "locked": true,
     "schema_version": 3,
     "solution": false,
     "task": false
    }
   },
   "outputs": [],
   "source": [
    "a = 0\n",
    "b = 2*np.pi\n",
    "\n",
    "N = 19\n",
    "xs = np.linspace(a,b,N)\n",
    "ys = func(xs)\n",
    "np.random.seed(2)\n",
    "errs = np.random.normal(scale=0.5,size=N)\n",
    "ys += errs"
   ]
  },
  {
   "cell_type": "markdown",
   "metadata": {},
   "source": [
    "## Questão 2: Explorando os dados\n",
    "\n",
    "Faça um gráfico tanto da função `func` como dos dados,\n",
    "no intervalo considerado."
   ]
  },
  {
   "cell_type": "code",
   "execution_count": 12,
   "metadata": {
    "deletable": false,
    "nbgrader": {
     "cell_type": "code",
     "checksum": "df32eb820246ae5d997ae182f09c285d",
     "grade": false,
     "grade_id": "cell-740a256c52460174",
     "locked": false,
     "schema_version": 3,
     "solution": true,
     "task": false
    }
   },
   "outputs": [
    {
     "data": {
      "image/png": "[encoded data removed]",
      "text/plain": [
       "<Figure size 432x288 with 1 Axes>"
      ]
     },
     "metadata": {
      "needs_background": "light"
     },
     "output_type": "display_data"
    }
   ],
   "source": [
    "plt.plot(xs,ys,label=\"data\")\n",
    "xs_2 = np.linspace(a,b,1000)\n",
    "ys_2 = func(xs_2)\n",
    "plt.plot(xs_2,ys_2,label=\"func\")\n",
    "plt.title(\"Real func vs data points\")\n",
    "plt.xlabel(\"x\")\n",
    "plt.ylabel(\"y\")\n",
    "plt.legend()\n",
    "ax = plt.gca()"
   ]
  },
  {
   "cell_type": "code",
   "execution_count": 13,
   "metadata": {
    "deletable": false,
    "editable": false,
    "nbgrader": {
     "cell_type": "code",
     "checksum": "8307578849f8ae08f9278a2db58d77da",
     "grade": true,
     "grade_id": "cell-a70c8ac74cb68566",
     "locked": true,
     "points": 1,
     "schema_version": 3,
     "solution": false,
     "task": false
    }
   },
   "outputs": [],
   "source": [
    "assert len(ax.lines) == 2\n",
    "assert len(ax.legend().texts) == 2"
   ]
  },
  {
   "cell_type": "code",
   "execution_count": 14,
   "metadata": {
    "deletable": false,
    "editable": false,
    "nbgrader": {
     "cell_type": "code",
     "checksum": "0e20ad9cf876227ab8a2cf8902c2438d",
     "grade": true,
     "grade_id": "cell-f4acc5a35220fa23",
     "locked": true,
     "points": 1,
     "schema_version": 3,
     "solution": false,
     "task": false
    }
   },
   "outputs": [],
   "source": [
    "for l in ax.lines:\n",
    "    xgraph = l.get_xdata()\n",
    "    assert min(xgraph) == 0\n",
    "    assert max(xgraph) == 2*np.pi"
   ]
  },
  {
   "cell_type": "code",
   "execution_count": 15,
   "metadata": {
    "deletable": false,
    "editable": false,
    "nbgrader": {
     "cell_type": "code",
     "checksum": "284d6e649d976b08fa8e1a0e63145b65",
     "grade": false,
     "grade_id": "cell-05b800941b224167",
     "locked": true,
     "schema_version": 3,
     "solution": false,
     "task": false
    }
   },
   "outputs": [],
   "source": [
    "ax = None"
   ]
  },
  {
   "cell_type": "markdown",
   "metadata": {},
   "source": [
    "## Questão 3: Interpolando e observando\n",
    "\n",
    "Agora, calcule o ajuste \"interpolador\" destes dados, com senos e cossenos,\n",
    "e faça um gráfico com a função original, os dados e a função interpoladora.\n",
    "\n",
    "Lembre-se: para interpolar os dados, é necessário ter o mesmo número de funções na base\n",
    "do que pontos para interpolar.\n",
    "\n",
    "Dica: use as funções `make_sin` e `make_cos` para criar uma lista de funções `fs`."
   ]
  },
  {
   "cell_type": "code",
   "execution_count": 16,
   "metadata": {},
   "outputs": [],
   "source": [
    "def interpol(x,fs,coefs):\n",
    "    a = np.array([coef*f(x) for f,coef in zip(fs,coefs)])\n",
    "    return np.sum(a,axis=0)"
   ]
  },
  {
   "cell_type": "code",
   "execution_count": 17,
   "metadata": {},
   "outputs": [
    {
     "data": {
      "image/png": "[encoded data removed]",
      "text/plain": [
       "<Figure size 432x288 with 1 Axes>"
      ]
     },
     "metadata": {
      "needs_background": "light"
     },
     "output_type": "display_data"
    }
   ],
   "source": [
    "fs = [make_sin(x) for x in np.arange(-4,5)]\n",
    "fs.pop(4)\n",
    "fs.extend([make_cos(x) for x in np.arange(-5,6)])\n",
    "# xs_3 = np.linspace(a,b,len(fs)+1)\n",
    "# ys_3 = func(ts)\n",
    "coefs = model_par(xs, ys, fs)\n",
    "plt.plot(xs,ys,label=\"data\")\n",
    "xs_2 = np.linspace(a,b,1000)\n",
    "ys_2 = func(xs_2)\n",
    "plt.plot(xs_2,ys_2,label=\"func\")\n",
    "ys_interpol = interpol(xs_2,fs,coefs)\n",
    "plt.plot(xs_2,ys_interpol,label=\"interpolador\")\n",
    "plt.title(\"Real func vs data points vs interpolador $ sin(n*x),cos(n*x), n \\in [-5,5]$\")\n",
    "plt.xlabel(\"x\")\n",
    "plt.ylabel(\"y\")\n",
    "plt.legend()\n",
    "ax = plt.gca()"
   ]
  },
  {
   "cell_type": "code",
   "execution_count": 18,
   "metadata": {},
   "outputs": [
    {
     "data": {
      "image/png": "[encoded data removed]",
      "text/plain": [
       "<Figure size 432x288 with 1 Axes>"
      ]
     },
     "metadata": {
      "needs_background": "light"
     },
     "output_type": "display_data"
    }
   ],
   "source": [
    "xticks_ = [f\"sin({x})\" for x in np.arange(-4,5)]\n",
    "xticks_.pop(4)\n",
    "xticks_.extend([f\"cos({x})\" for x in np.arange(-5,6)])\n",
    "plt.bar(np.arange(len(coefs)),coefs)\n",
    "plt.xticks(np.arange(len(xticks_)),labels=xticks_,rotation=45)\n",
    "plt.title(\"coefs $ sin(n*x),cos(n*x), n \\in [-5,5]$\")\n",
    "ax = plt.gca()"
   ]
  },
  {
   "cell_type": "code",
   "execution_count": 19,
   "metadata": {},
   "outputs": [
    {
     "data": {
      "text/plain": [
       "19"
      ]
     },
     "execution_count": 19,
     "metadata": {},
     "output_type": "execute_result"
    }
   ],
   "source": [
    "len(fs)"
   ]
  },
  {
   "cell_type": "code",
   "execution_count": 20,
   "metadata": {
    "deletable": false,
    "nbgrader": {
     "cell_type": "code",
     "checksum": "eeea43e15549251579e45e97af0035b5",
     "grade": false,
     "grade_id": "cell-02aa01b7b6ec89d4",
     "locked": false,
     "schema_version": 3,
     "solution": true,
     "task": false
    }
   },
   "outputs": [
    {
     "data": {
      "image/png": "[encoded data removed]",
      "text/plain": [
       "<Figure size 432x288 with 1 Axes>"
      ]
     },
     "metadata": {
      "needs_background": "light"
     },
     "output_type": "display_data"
    }
   ],
   "source": [
    "fs = [make_sin(x) for x in np.arange(0,10)]\n",
    "fs.pop(0)\n",
    "fs.extend([make_cos(x) for x in np.arange(0,10)])\n",
    "# xs_3 = np.linspace(a,b,len(fs)+1)\n",
    "# ys_3 = func(ts)\n",
    "coefs = model_par(xs, ys, fs)\n",
    "plt.plot(xs,ys,label=\"data\")\n",
    "xs_2 = np.linspace(a,b,1000)\n",
    "ys_2 = func(xs_2)\n",
    "plt.plot(xs_2,ys_2,label=\"func\")\n",
    "ys_interpol = interpol(xs_2,fs,coefs)\n",
    "plt.plot(xs_2,ys_interpol,label=\"interpolador\")\n",
    "plt.title(\"Real func vs data points vs interpolador $ sin(n*x),cos(n*x), n \\in [0,9]$\")\n",
    "plt.xlabel(\"x\")\n",
    "plt.ylabel(\"y\")\n",
    "plt.legend()\n",
    "ax = plt.gca()\n",
    "# ax = plt.gca()"
   ]
  },
  {
   "cell_type": "code",
   "execution_count": 21,
   "metadata": {},
   "outputs": [
    {
     "data": {
      "text/plain": [
       "19"
      ]
     },
     "execution_count": 21,
     "metadata": {},
     "output_type": "execute_result"
    }
   ],
   "source": [
    "len(fs)"
   ]
  },
  {
   "cell_type": "code",
   "execution_count": 22,
   "metadata": {},
   "outputs": [
    {
     "data": {
      "text/plain": [
       "array([0.        , 0.34906585, 0.6981317 , 1.04719755, 1.3962634 ,\n",
       "       1.74532925, 2.0943951 , 2.44346095, 2.7925268 , 3.14159265,\n",
       "       3.4906585 , 3.83972435, 4.1887902 , 4.53785606, 4.88692191,\n",
       "       5.23598776, 5.58505361, 5.93411946, 6.28318531])"
      ]
     },
     "execution_count": 22,
     "metadata": {},
     "output_type": "execute_result"
    }
   ],
   "source": [
    "xs"
   ]
  },
  {
   "cell_type": "code",
   "execution_count": 23,
   "metadata": {
    "deletable": false,
    "editable": false,
    "nbgrader": {
     "cell_type": "code",
     "checksum": "5a3806381711df7566bcb0c4eb5334ea",
     "grade": true,
     "grade_id": "cell-be66eab0f2e662f3",
     "locked": true,
     "points": 1,
     "schema_version": 3,
     "solution": false,
     "task": false
    }
   },
   "outputs": [],
   "source": [
    "assert len(ax.lines) == 3\n",
    "assert len(ax.legend().texts) == 3\n",
    "\n",
    "for l in ax.lines:\n",
    "    xgraph = l.get_xdata()\n",
    "    assert min(xgraph) == 0\n",
    "    assert max(xgraph) == 2*np.pi"
   ]
  },
  {
   "cell_type": "markdown",
   "metadata": {},
   "source": [
    "O que você observa neste gráfico?"
   ]
  },
  {
   "cell_type": "markdown",
   "metadata": {
    "deletable": false,
    "nbgrader": {
     "cell_type": "markdown",
     "checksum": "433a2366087dc6515af6a192b694b466",
     "grade": true,
     "grade_id": "cell-f0e6924e2d4d1f71",
     "locked": false,
     "points": 2,
     "schema_version": 3,
     "solution": true,
     "task": false
    }
   },
   "source": [
    "Aqui dois conjuntos de funções de base foram testadas: Uma na qual o valor de \"n\" das bases sin(n*x) e cos(n*x) eram simétricos no intervalo [-5,5] e outro no intervalo [0,9]. Com bases potencialmente diferentes, verificamos diferenças na solução encontrada. A primeira base, com valores de n simétricos, induz uma matriz cujo posto é menor do que a quantidade de bases. Isso porque cos(x) = cos(-x) e sen(x) = -sen(-x), ou seja, SÃO LINEARMENTE DEPENDENTES. Isso resulta numa curva interpoladora com menor grau de liberdade para se ajustar sobre os pontos. Já o segundo caso, garantimos que cada função da base é independente entre si. Isso faz com que a função interpoladora tenha mais liberdade para se ajustar sobre os dados, se aproximando mais deles. Essa diferença fica clara quando $x \\in [4.5,6]$. No caso em que temos uma base L.D., a função possui um único máximo local, que se situa entre os pontos de máximo dos dados de fitting. Já no caso L.I., temos que a função interpoladora possui dois máximos locais nesse intervalo, indicando sua maior flexibilidade para se ajustar, e provavelmente gerar mais overffiting. O sen(0) = 0 foi retirado de ambas as bases, dado que ele não acrescenta nada.  "
   ]
  },
  {
   "cell_type": "code",
   "execution_count": 24,
   "metadata": {
    "deletable": false,
    "editable": false,
    "nbgrader": {
     "cell_type": "code",
     "checksum": "280a23a708427247a96938e6a6aaff82",
     "grade": false,
     "grade_id": "cell-8d6d2def68410ac0",
     "locked": true,
     "schema_version": 3,
     "solution": false,
     "task": false
    }
   },
   "outputs": [],
   "source": [
    "ax = None"
   ]
  },
  {
   "cell_type": "code",
   "execution_count": 25,
   "metadata": {},
   "outputs": [],
   "source": [
    "xticks_ = [f\"sin({x})\" for x in np.arange(1,10)]\n",
    "xticks_.extend([f\"cos({x})\" for x in np.arange(0,10)])"
   ]
  },
  {
   "cell_type": "markdown",
   "metadata": {},
   "source": [
    "Faça, agora, um gráfico do valor absoluto (\"amplitude\") dos coeficientes de cada função."
   ]
  },
  {
   "cell_type": "code",
   "execution_count": 26,
   "metadata": {
    "deletable": false,
    "nbgrader": {
     "cell_type": "code",
     "checksum": "511abf2bd82e88a13c61e2527f15d410",
     "grade": false,
     "grade_id": "cell-addded500673bfd2",
     "locked": false,
     "schema_version": 3,
     "solution": true,
     "task": false
    }
   },
   "outputs": [
    {
     "data": {
      "image/png": "[encoded data removed]",
      "text/plain": [
       "<Figure size 432x288 with 1 Axes>"
      ]
     },
     "metadata": {
      "needs_background": "light"
     },
     "output_type": "display_data"
    }
   ],
   "source": [
    "plt.bar(np.arange(len(coefs)),coefs)\n",
    "plt.xticks(np.arange(len(xticks_)),labels=xticks_,rotation=45)\n",
    "plt.title(\"coefs $ sin(n*x),cos(n*x), n \\in [0,9]$\")\n",
    "ax = plt.gca()"
   ]
  },
  {
   "cell_type": "markdown",
   "metadata": {},
   "source": [
    "O que você percebe?"
   ]
  },
  {
   "cell_type": "markdown",
   "metadata": {
    "deletable": false,
    "nbgrader": {
     "cell_type": "markdown",
     "checksum": "246e55237edf6c1568da1238d670ff7a",
     "grade": true,
     "grade_id": "cell-f20c663cfd20db20",
     "locked": false,
     "points": 1,
     "schema_version": 3,
     "solution": true,
     "task": false
    }
   },
   "source": [
    "<ul>\n",
    "<li>Quando fazemos o n variar entre [-5,5]\n",
    "    <p>\n",
    "Percebe-se uma certa simetria nos valores dos coeficientes. No caso do seno, os coeficientes possuem mesmo valor em módulo mas sinais opostos, além disso as componentes sin(-2) e sin(2) foram as principais da parte da base de funções seno. No caso do cosseno, observamos uma simetria em relação a cos(0): os coeficientes possuem mesmo valor em módulo e sinal. Isso se dá pelo fato de que a função cosseno é par, isto é cos(x) = cos(-x), enquanto o seno é ímpar, sin(x) = -sin(-x). Em cos(0) observamos que temos uma componente constante e negativa, responsável por transladar a função para baixo. As principais componentes do cosseno são cos(-3) e cos(3).\n",
    "<li>Quando fazemos o n variar entre [0,9]\n",
    "    <p>\n",
    "Percebe-se que nesse caso não temos simetria dos coeficientes. Aqui as principais componentes são sen(2) e cos(3). "
   ]
  },
  {
   "cell_type": "markdown",
   "metadata": {},
   "source": [
    "Quais as funções que correspondem às maiores amplitudes?"
   ]
  },
  {
   "cell_type": "markdown",
   "metadata": {
    "deletable": false,
    "nbgrader": {
     "cell_type": "code",
     "checksum": "0ff3468607ec1fc37334959dee21e2a4",
     "grade": true,
     "grade_id": "cell-115822e4f098779a",
     "locked": false,
     "points": 2,
     "schema_version": 3,
     "solution": true,
     "task": false
    }
   },
   "source": [
    "<ul>\n",
    "<li>Quando fazemos o n variar entre [-5,5]\n",
    "<p>\n",
    "As maiores amplitudes são as do sen(+/- 2) e cos(+/- 3)\n",
    "<li>Quando fazemos o n variar entre [0,9]\n",
    "    <p>\n",
    "As maiores amplitudes são as de seb(2) e cos(3)"
   ]
  },
  {
   "cell_type": "markdown",
   "metadata": {},
   "source": [
    "## Questão 4: Coeficientes principais\n",
    "\n",
    "Agora que vimos que algumas funções parecem mais importantes do que outras,\n",
    "selecione apenas as que correspondem aos 3 maiores coeficientes,\n",
    "e **recalcule** o ajuste, usando apenas estas três.\n",
    "Você terá uma regressão, já que temos menos funções na base do que pontos (\"dados\")."
   ]
  },
  {
   "cell_type": "code",
   "execution_count": 27,
   "metadata": {
    "deletable": false,
    "nbgrader": {
     "cell_type": "code",
     "checksum": "364c1fc685d773917406e1fa2bedffbc",
     "grade": false,
     "grade_id": "cell-89ec447bdaeaff60",
     "locked": false,
     "schema_version": 3,
     "solution": true,
     "task": false
    }
   },
   "outputs": [
    {
     "name": "stdout",
     "output_type": "stream",
     "text": [
      "[12  1  6]\n"
     ]
    }
   ],
   "source": [
    "n = 3\n",
    "idx = np.argpartition(np.abs(coefs), -n)[-n:]\n",
    "indices = idx[np.argsort((-np.abs(coefs))[idx])]\n",
    "print(indices)\n",
    "fs_3 = [fs[i] for i in indices]\n",
    "coefs_3 = model_par(xs, ys, fs_3)\n",
    "    \n",
    "def F3(x):\n",
    "    return interpol(x,fs_3,coefs_3)\n",
    "        "
   ]
  },
  {
   "cell_type": "code",
   "execution_count": 28,
   "metadata": {},
   "outputs": [
    {
     "data": {
      "text/plain": [
       "-1.124317067868372"
      ]
     },
     "execution_count": 28,
     "metadata": {},
     "output_type": "execute_result"
    }
   ],
   "source": [
    "F3(0)"
   ]
  },
  {
   "cell_type": "code",
   "execution_count": 29,
   "metadata": {
    "deletable": false,
    "editable": false,
    "nbgrader": {
     "cell_type": "code",
     "checksum": "7344ad062ff365d8dc6364e900967da2",
     "grade": true,
     "grade_id": "cell-e8e6f08a1715a154",
     "locked": true,
     "points": 1,
     "schema_version": 3,
     "solution": false,
     "task": false
    }
   },
   "outputs": [],
   "source": [
    "assert np.isclose(F3(0), -1.1243170678683723)"
   ]
  },
  {
   "cell_type": "code",
   "execution_count": 30,
   "metadata": {},
   "outputs": [
    {
     "data": {
      "text/plain": [
       "-0.3767970517351514"
      ]
     },
     "execution_count": 30,
     "metadata": {},
     "output_type": "execute_result"
    }
   ],
   "source": [
    "F3(np.pi/2)"
   ]
  },
  {
   "cell_type": "code",
   "execution_count": 31,
   "metadata": {
    "deletable": false,
    "editable": false,
    "nbgrader": {
     "cell_type": "code",
     "checksum": "bfce6db8f0fa2eb6363a7de367b38b72",
     "grade": true,
     "grade_id": "cell-5dca451cbd412e62",
     "locked": true,
     "points": 1,
     "schema_version": 3,
     "solution": false,
     "task": false
    }
   },
   "outputs": [],
   "source": [
    "assert np.isclose(F3(np.pi/2), -0.37679705173515127)"
   ]
  },
  {
   "cell_type": "markdown",
   "metadata": {},
   "source": [
    "Faça o gráfico da função correspondente aos 3 maiores coeficientes da interpolação,\n",
    "e compare com a função original `func` e sua interpolação."
   ]
  },
  {
   "cell_type": "code",
   "execution_count": 32,
   "metadata": {
    "deletable": false,
    "nbgrader": {
     "cell_type": "code",
     "checksum": "e8d1116c790b8030db550c0a56d60185",
     "grade": false,
     "grade_id": "cell-676a578eafb4acd5",
     "locked": false,
     "schema_version": 3,
     "solution": true,
     "task": false
    }
   },
   "outputs": [
    {
     "data": {
      "image/png": "[encoded data removed]",
      "text/plain": [
       "<Figure size 720x432 with 1 Axes>"
      ]
     },
     "metadata": {
      "needs_background": "light"
     },
     "output_type": "display_data"
    }
   ],
   "source": [
    "plt.figure(figsize=(10,6))\n",
    "xs_2 = np.linspace(a,b,1000)\n",
    "ys_2 = func(xs_2)\n",
    "plt.plot(xs_2,ys_2,label=\"func\")\n",
    "ys_2 = F3(xs_2)\n",
    "plt.plot(xs_2,ys_2,label=\"interpolado_3\")\n",
    "ys_interpol = interpol(xs_2,fs,coefs)\n",
    "plt.plot(xs_2,ys_interpol,label=\"interpolador\")\n",
    "plt.title(\"Func vs interpolacao vs interpolador_3\")\n",
    "plt.xlabel(\"x\")\n",
    "plt.ylabel(\"y\")\n",
    "plt.legend()\n",
    "ax=plt.gca()"
   ]
  },
  {
   "cell_type": "code",
   "execution_count": 33,
   "metadata": {
    "deletable": false,
    "editable": false,
    "nbgrader": {
     "cell_type": "code",
     "checksum": "3738ae77e63212d300338f2fc7622b80",
     "grade": true,
     "grade_id": "cell-ec04d3628246feec",
     "locked": true,
     "points": 1,
     "schema_version": 3,
     "solution": false,
     "task": false
    }
   },
   "outputs": [],
   "source": [
    "assert len(ax.lines) == 3\n",
    "assert len(ax.legend().texts) == 3"
   ]
  },
  {
   "cell_type": "code",
   "execution_count": 34,
   "metadata": {
    "deletable": false,
    "editable": false,
    "nbgrader": {
     "cell_type": "code",
     "checksum": "f098751500023f83e0ddb78161effe1f",
     "grade": false,
     "grade_id": "cell-83d9f427f9721fdc",
     "locked": true,
     "schema_version": 3,
     "solution": false,
     "task": false
    }
   },
   "outputs": [],
   "source": [
    "ax = None"
   ]
  },
  {
   "cell_type": "markdown",
   "metadata": {},
   "source": [
    "Qual ajuste parece melhor?  Porquê?"
   ]
  },
  {
   "cell_type": "markdown",
   "metadata": {
    "deletable": false,
    "nbgrader": {
     "cell_type": "markdown",
     "checksum": "c028d7975c75d63953cca7c33a5b773f",
     "grade": true,
     "grade_id": "cell-cb4cb5e0069913b0",
     "locked": false,
     "points": 1,
     "schema_version": 3,
     "solution": true,
     "task": false
    }
   },
   "source": [
    "O interpolador com 3 componentes parece melhor ajustado. A adição de mais componentes aumenta a liberdade que a função tem, fazendo com que ela tende a se aproximar mais dos pontos utilizados para o fitting. Como temos poucos pontos, uma base menor parece ter melhor capacidade de generalizar. De fato, o interpolador com 3 funções de base parece estar mais alinhado com os pontos de máximo e mínimo da função original."
   ]
  },
  {
   "cell_type": "markdown",
   "metadata": {},
   "source": [
    "## Questão 5: Erros\n",
    "\n",
    "Para observar como o erro evolui ao incluirmos mais pontos,\n",
    "vamos recalcular o ajuste para todos os valores de $n$, de 1 a 19,\n",
    "e observar o erro quadrático médio no intervalo (refinado!).\n",
    "\n",
    "Ao recalcular, escolha as funções em ordem decrescente\n",
    "do valor absoluto do coeficiente encontrado pela interpolação.\n",
    "\n",
    "Para auxiliar, construa a função `best_reg(fs,xs,ys,n)`,\n",
    "que retorna a função dada pela regressão usando as $n$ funções com os maiores coeficientes.\n",
    "(Para evitar variáveis globais, você pode primeiro calcular a interpolação,\n",
    "para descobrir os maiores coeficientes, e daí escolher as funções para a regressão\n",
    "e calcular de novo)"
   ]
  },
  {
   "cell_type": "code",
   "execution_count": 35,
   "metadata": {
    "deletable": false,
    "nbgrader": {
     "cell_type": "code",
     "checksum": "c8c7d8023dc397cc83bd62411c4b661c",
     "grade": false,
     "grade_id": "cell-566afbe3ba1ab4cb",
     "locked": false,
     "schema_version": 3,
     "solution": true,
     "task": false
    }
   },
   "outputs": [],
   "source": [
    "def best_reg(fs, xs, ys, n):\n",
    "    \"\"\"Melhor regressor a partir da base `fs`, baseado nos $n$ maiores coeficientes da interpolação.\"\"\"\n",
    "    coefs = model_par(xs, ys, fs)\n",
    "    idx = np.argpartition(np.abs(coefs), -n)[-n:]\n",
    "    indices = idx[np.argsort((-np.abs(coefs))[idx])]\n",
    "    fs_n = [fs[i] for i in indices]\n",
    "    coefs_n = model_par(xs, ys, fs_n)\n",
    "    def interpol_x(x):\n",
    "        a = np.array([coef*f(x) for f,coef in zip(fs_n,coefs_n)])\n",
    "        return np.sum(a,axis=0)\n",
    "    return interpol_x"
   ]
  },
  {
   "cell_type": "code",
   "execution_count": 36,
   "metadata": {
    "deletable": false,
    "editable": false,
    "nbgrader": {
     "cell_type": "code",
     "checksum": "d612b079c554feb1644bf8cd73c6cd83",
     "grade": true,
     "grade_id": "cell-eee56e18b3b2b44e",
     "locked": true,
     "points": 1,
     "schema_version": 3,
     "solution": false,
     "task": false
    }
   },
   "outputs": [],
   "source": [
    "F1 = best_reg(fs, xs, ys, n=1)\n",
    "assert np.abs(F1(2) + 1) < 0.1"
   ]
  },
  {
   "cell_type": "code",
   "execution_count": 37,
   "metadata": {
    "deletable": false,
    "editable": false,
    "nbgrader": {
     "cell_type": "code",
     "checksum": "8e2de0526ae9b1622209b272fccc45a4",
     "grade": true,
     "grade_id": "cell-ec54e37fa4a09fcb",
     "locked": true,
     "points": 1,
     "schema_version": 3,
     "solution": false,
     "task": false
    }
   },
   "outputs": [],
   "source": [
    "F10 = best_reg(fs, xs, ys, n=10)\n",
    "assert F10(1) > 2"
   ]
  },
  {
   "cell_type": "code",
   "execution_count": 38,
   "metadata": {
    "deletable": false,
    "editable": false,
    "nbgrader": {
     "cell_type": "code",
     "checksum": "5b31f8c6304398a3f81e8ec1430bd96e",
     "grade": true,
     "grade_id": "cell-4c4f844dcfd72e79",
     "locked": true,
     "points": 1,
     "schema_version": 3,
     "solution": false,
     "task": false
    }
   },
   "outputs": [],
   "source": [
    "F2 = best_reg(fs, xs, ys, n=2)\n",
    "assert np.isclose(F2(2), -1.732407192511482)"
   ]
  },
  {
   "cell_type": "code",
   "execution_count": 39,
   "metadata": {
    "deletable": false,
    "editable": false,
    "nbgrader": {
     "cell_type": "code",
     "checksum": "9ae28b9748ea2b0d38cc1ff306c4ba7a",
     "grade": false,
     "grade_id": "cell-d755c232c7d96a9f",
     "locked": true,
     "schema_version": 3,
     "solution": false,
     "task": false
    }
   },
   "outputs": [],
   "source": [
    "def midpoint(f,a,b,n=100):\n",
    "    ts,h = np.linspace(a,b,n, endpoint=False, retstep=True)\n",
    "    mids = ts+h/2\n",
    "    return np.sum(f(mids)) * h\n",
    "\n",
    "def regress_err_quad(ftrue, fs,xs,ys,n, a,b,num_div=100):\n",
    "    \"\"\"Calcula o erro quadrático médio, no intervalo [a,b], entre\n",
    "    `ftrue` e a regressão dos dados (xs,ys) nas n melhors funções da base `fs`.\"\"\"\n",
    "    F = best_reg(fs,xs,ys,n)\n",
    "    def err(x):\n",
    "        return (ftrue(x) - F(x))**2\n",
    "    return midpoint(err,a,b,n=num_div)"
   ]
  },
  {
   "cell_type": "markdown",
   "metadata": {},
   "source": [
    "Agora, faça o gráfico do erro quadrático médio,\n",
    "em função do número de funções na base."
   ]
  },
  {
   "cell_type": "code",
   "execution_count": 40,
   "metadata": {
    "deletable": false,
    "nbgrader": {
     "cell_type": "code",
     "checksum": "1b25eb135a37eb11415a6fa960f7de27",
     "grade": true,
     "grade_id": "cell-cf156d4b4d79444e",
     "locked": false,
     "points": 2,
     "schema_version": 3,
     "solution": true,
     "task": false
    }
   },
   "outputs": [
    {
     "data": {
      "image/png": "[encoded data removed]",
      "text/plain": [
       "<Figure size 432x288 with 1 Axes>"
      ]
     },
     "metadata": {
      "needs_background": "light"
     },
     "output_type": "display_data"
    }
   ],
   "source": [
    "regress_errs_quad = []\n",
    "ns = np.arange(1,20)\n",
    "errs = []\n",
    "for n in ns:\n",
    "    errs.append(regress_err_quad(func,fs,xs,ys,n,a,b))\n",
    "\n",
    "plt.plot(ns,errs)\n",
    "plt.xticks(np.arange(1,20,3))\n",
    "plt.grid()\n",
    "plt.xlabel(\"N\")\n",
    "plt.ylabel(\"Erro\")\n",
    "plt.title(\"Qntd de N funções bases vs erro\")\n",
    "ax = plt.gca()"
   ]
  },
  {
   "cell_type": "markdown",
   "metadata": {},
   "source": [
    "O que você percebe?"
   ]
  },
  {
   "cell_type": "markdown",
   "metadata": {
    "deletable": false,
    "nbgrader": {
     "cell_type": "markdown",
     "checksum": "27bb3dfa63456b6e205639020b8d33e0",
     "grade": true,
     "grade_id": "cell-dd48e4c9516b7996",
     "locked": false,
     "points": 1,
     "schema_version": 3,
     "solution": true,
     "task": false
    }
   },
   "source": [
    "Percebe-se que a mior diferença está entre os \"Ns\" 1 e 2. Para N = 2 esse valor chega a um mínimo, ao passo que aumentando a quantidade de bases, esse erro aumenta. Isso pode ser um possível indicativo de overfitting, quando a função passa exatamente pelos pontos utilizados pela regressão ao custo de ter um erro maior nas bordas."
   ]
  }
 ],
 "metadata": {
  "kernelspec": {
   "display_name": "Python 3",
   "language": "python",
   "name": "python3"
  },
  "language_info": {
   "codemirror_mode": {
    "name": "ipython",
    "version": 3
   },
   "file_extension": ".py",
   "mimetype": "text/x-python",
   "name": "python",
   "nbconvert_exporter": "python",
   "pygments_lexer": "ipython3",
   "version": "3.8.5"
  }
 },
 "nbformat": 4,
 "nbformat_minor": 4
}

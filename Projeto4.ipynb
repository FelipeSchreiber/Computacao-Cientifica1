{
 "cells": [
  {
   "cell_type": "markdown",
   "metadata": {},
   "source": [
    "![CC-BY-SA](https://mirrors.creativecommons.org/presskit/buttons/88x31/svg/by-sa.svg)\n",
    "\n",
    "\n",
    "This notebook was created by [Bernardo Freitas Paulo da Costa](http://www.im.ufrj.br/bernardofpc),\n",
    "and is licensed under Creative Commons BY-SA."
   ]
  },
  {
   "cell_type": "markdown",
   "metadata": {},
   "source": [
    "Antes de enviar este Teste, verifique que tudo está funcionando como esperado.\n",
    "Por exemplo, **rode o código inteiro, do zero**.\n",
    "Para isso, vá no menu, escolha _Kernel_, depois _Restart & Run All_.\n",
    "\n",
    "Verifique, também, que você respondeu todas as questões:\n",
    "* as questões de código têm `YOUR CODE HERE` (e você pode apagar o `raise NotImplemented` ao incluir sua resposta)\n",
    "* as questões discursivas têm \"YOUR ANSWER HERE\"."
   ]
  },
  {
   "cell_type": "markdown",
   "metadata": {},
   "source": [
    "---"
   ]
  },
  {
   "cell_type": "code",
   "execution_count": 1,
   "metadata": {},
   "outputs": [],
   "source": [
    "import numpy as np\n",
    "import matplotlib.pyplot as plt\n",
    "from scipy.linalg import lu_factor, lu_solve"
   ]
  },
  {
   "cell_type": "markdown",
   "metadata": {},
   "source": [
    "# Transições\n",
    "\n",
    "# Parte 1: Newton\n",
    "\n",
    "Vamos ver em um caso o que acontece para o método de Newton não convergir.\n",
    "\n",
    "Comece com o método em si:"
   ]
  },
  {
   "cell_type": "code",
   "execution_count": 2,
   "metadata": {
    "deletable": false,
    "nbgrader": {
     "cell_type": "code",
     "checksum": "f2d5dff0bd85b1037f89d5893ca703fb",
     "grade": false,
     "grade_id": "cell-20f0898282f42a7f",
     "locked": false,
     "schema_version": 3,
     "solution": true,
     "task": false
    }
   },
   "outputs": [],
   "source": [
    "def newton_solve(f, df, y, x0, xtol=1e-8, ytol=1e-8, maxiter=100, full=False):\n",
    "    \"\"\"Newton's algorithm for solving  f(x) = y  starting from  x0.\n",
    "    Also returns the number of evaluations of f.\n",
    "    \n",
    "    Se full=True, retorna a lista de todos os pontos gerados. (só usado a partir da 4a questão)\"\"\"\n",
    "    def aux(x):\n",
    "        return f(x)-y\n",
    "    x=x0\n",
    "    nevals=0\n",
    "    newxl=[x0]\n",
    "    for i in range(maxiter):\n",
    "        step=aux(x)/df(x)\n",
    "        nevals+=1\n",
    "        newx=x-step\n",
    "        newxl+=[newx]\n",
    "        if abs(newx-x)<xtol or abs(f(newx))<ytol:\n",
    "            break\n",
    "        x=newx\n",
    "    if full==True:\n",
    "        return newxl, nevals\n",
    "    else:\n",
    "        return newxl[-1], nevals"
   ]
  },
  {
   "cell_type": "markdown",
   "metadata": {},
   "source": [
    "## Questão 1: Vendo a transição\n",
    "\n",
    "Faça o gráfico do número de iterações, em função do ponto inicial,\n",
    "para encontrar a raiz do arco-tangente."
   ]
  },
  {
   "cell_type": "code",
   "execution_count": 3,
   "metadata": {
    "deletable": false,
    "editable": false,
    "nbgrader": {
     "cell_type": "code",
     "checksum": "1af23218560b654f831ae7387b890737",
     "grade": false,
     "grade_id": "cell-2f9f7d4e44e6003f",
     "locked": true,
     "schema_version": 3,
     "solution": false,
     "task": false
    }
   },
   "outputs": [],
   "source": [
    "def cauchy(x):\n",
    "    return 1/(1 + x**2)"
   ]
  },
  {
   "cell_type": "code",
   "execution_count": 4,
   "metadata": {
    "deletable": false,
    "nbgrader": {
     "cell_type": "code",
     "checksum": "d6bb91b5cd52c03df1aa089f16b320ab",
     "grade": false,
     "grade_id": "cell-1935b97b2b282a6e",
     "locked": false,
     "schema_version": 3,
     "solution": true,
     "task": false
    }
   },
   "outputs": [
    {
     "name": "stderr",
     "output_type": "stream",
     "text": [
      "<ipython-input-3-6fa06d7fa181>:2: RuntimeWarning: overflow encountered in double_scalars\n",
      "  return 1/(1 + x**2)\n",
      "<ipython-input-2-54b55b54fbaf>:12: RuntimeWarning: divide by zero encountered in double_scalars\n",
      "  step=aux(x)/df(x)\n",
      "<ipython-input-2-54b55b54fbaf>:14: RuntimeWarning: invalid value encountered in double_scalars\n",
      "  newx=x-step\n",
      "<ipython-input-2-54b55b54fbaf>:12: RuntimeWarning: overflow encountered in double_scalars\n",
      "  step=aux(x)/df(x)\n"
     ]
    },
    {
     "data": {
      "image/png": "[encoded data removed]",
      "text/plain": [
       "<Figure size 432x288 with 1 Axes>"
      ]
     },
     "metadata": {
      "needs_background": "light"
     },
     "output_type": "display_data"
    }
   ],
   "source": [
    "xs = np.linspace(0.5, 2.5, num=3000)\n",
    "ns = []\n",
    "for x in xs:\n",
    "    p,n = newton_solve(np.arctan, cauchy, 0, x)\n",
    "    ns.append(n)\n",
    "plt.plot(xs,ns)\n",
    "plt.xlabel(\"x ini\")\n",
    "plt.ylabel(\"niter\")\n",
    "ax = plt.gca();"
   ]
  },
  {
   "cell_type": "code",
   "execution_count": 5,
   "metadata": {
    "deletable": false,
    "editable": false,
    "nbgrader": {
     "cell_type": "code",
     "checksum": "b34b0b55d790faa3e1a8d26dada7d6a3",
     "grade": true,
     "grade_id": "cell-9d2edec84c3cc72a",
     "locked": true,
     "points": 1,
     "schema_version": 3,
     "solution": false,
     "task": false
    }
   },
   "outputs": [],
   "source": [
    "assert len(ax.lines) == 1\n",
    "assert ax.get_xlabel() != \"\"\n",
    "assert ax.get_ylabel() != \"\""
   ]
  },
  {
   "cell_type": "code",
   "execution_count": 6,
   "metadata": {
    "deletable": false,
    "editable": false,
    "nbgrader": {
     "cell_type": "code",
     "checksum": "dc43427a3a7dfcce6a62a196b20f7d92",
     "grade": true,
     "grade_id": "cell-3eee36827503858b",
     "locked": true,
     "points": 2,
     "schema_version": 3,
     "solution": false,
     "task": false
    }
   },
   "outputs": [],
   "source": [
    "ys = ax.lines[0].get_ydata()\n",
    "assert 3 <= min(ys) <= 10\n",
    "assert max(ys) == 100"
   ]
  },
  {
   "cell_type": "code",
   "execution_count": 7,
   "metadata": {
    "deletable": false,
    "editable": false,
    "nbgrader": {
     "cell_type": "code",
     "checksum": "9594d84892ff5a8c324ef6abe2c2e721",
     "grade": false,
     "grade_id": "cell-c8a08fe069f43464",
     "locked": true,
     "schema_version": 3,
     "solution": false,
     "task": false
    }
   },
   "outputs": [],
   "source": [
    "ax = None"
   ]
  },
  {
   "cell_type": "markdown",
   "metadata": {},
   "source": [
    "Refaça o gráfico, para destacar a transição"
   ]
  },
  {
   "cell_type": "code",
   "execution_count": 8,
   "metadata": {
    "deletable": false,
    "editable": false,
    "nbgrader": {
     "cell_type": "code",
     "checksum": "178ccbba920ade488db663d0ec6f8b32",
     "grade": false,
     "grade_id": "cell-3f3736d365039450",
     "locked": true,
     "schema_version": 3,
     "solution": false,
     "task": false
    }
   },
   "outputs": [],
   "source": [
    "import warnings\n",
    "\n",
    "# Senão vai ficar muito pesado...\n",
    "warnings.filterwarnings(\"ignore\", message=\"divide by zero encountered in double_scalars\")\n",
    "warnings.filterwarnings(\"ignore\", message=\"invalid value encountered in double_scalars\")\n",
    "warnings.filterwarnings(\"ignore\", message=\"overflow encountered in double_scalars\")"
   ]
  },
  {
   "cell_type": "code",
   "execution_count": 9,
   "metadata": {
    "deletable": false,
    "nbgrader": {
     "cell_type": "code",
     "checksum": "ce31f3b5ac7e45e048450496ae18cfb5",
     "grade": false,
     "grade_id": "cell-2f20ffc91c229cf3",
     "locked": false,
     "schema_version": 3,
     "solution": true,
     "task": false
    }
   },
   "outputs": [
    {
     "data": {
      "image/png": "[encoded data removed]",
      "text/plain": [
       "<Figure size 432x288 with 1 Axes>"
      ]
     },
     "metadata": {
      "needs_background": "light"
     },
     "output_type": "display_data"
    }
   ],
   "source": [
    "xs = np.linspace(1.35,1.4, num=3000)\n",
    "ns = []\n",
    "for x in xs:\n",
    "    p,n = newton_solve(np.arctan, cauchy, 0, x)\n",
    "    ns.append(n)\n",
    "plt.plot(xs,ns)\n",
    "plt.xlabel(\"x ini\")\n",
    "plt.ylabel(\"niter\")\n",
    "ax = plt.gca()"
   ]
  },
  {
   "cell_type": "code",
   "execution_count": 10,
   "metadata": {
    "deletable": false,
    "editable": false,
    "nbgrader": {
     "cell_type": "code",
     "checksum": "3764ee71f25cc336c3915d49ca495da3",
     "grade": true,
     "grade_id": "cell-8157101147621d70",
     "locked": true,
     "points": 2,
     "schema_version": 3,
     "solution": false,
     "task": false
    }
   },
   "outputs": [],
   "source": [
    "assert len(ax.lines) == 1\n",
    "xs = ax.lines[0].get_xdata()\n",
    "ys = ax.lines[0].get_ydata()\n",
    "assert max(xs) - min(xs) <= 0.25\n",
    "assert 3 <= min(ys) <= 10\n",
    "assert max(ys) == 100"
   ]
  },
  {
   "cell_type": "code",
   "execution_count": 11,
   "metadata": {
    "deletable": false,
    "editable": false,
    "nbgrader": {
     "cell_type": "code",
     "checksum": "74e37cb28ecff528b553d50d769c1b2d",
     "grade": false,
     "grade_id": "cell-538d6a117103e4f3",
     "locked": true,
     "schema_version": 3,
     "solution": false,
     "task": false
    }
   },
   "outputs": [],
   "source": [
    "ax = None"
   ]
  },
  {
   "cell_type": "markdown",
   "metadata": {},
   "source": [
    "Porque os `assert`s acima garantem o destaque?"
   ]
  },
  {
   "cell_type": "markdown",
   "metadata": {
    "deletable": false,
    "nbgrader": {
     "cell_type": "markdown",
     "checksum": "78646f957deb7ac5e356daec7bf4f46c",
     "grade": true,
     "grade_id": "cell-f49f0449d7612acc",
     "locked": false,
     "points": 1,
     "schema_version": 3,
     "solution": true,
     "task": false
    }
   },
   "source": [
    "Do primeiro gráfico notamos que a transição ocorre para um valor de x entre 1.25 e 1.5, portanto o assert max(xs) - min(xs) <= 0.25 garante estamos analisando unicamente esse intervalo. Além disso, percebe-se que antes da transição o número de iterações era menor do que 20 e, após, atingi-se o limite niter = 100. Os asserts assert 3 <= min(ys) <= 10 e assert max(ys) == 100 garantem essa última condição. "
   ]
  },
  {
   "cell_type": "markdown",
   "metadata": {},
   "source": [
    "## Questão 2: Calculando a transição\n",
    "\n",
    "Use o método da bisseção para calcular\n",
    "- o último valor (`float` do python) de $x_0$ para o qual o método de Newton encontra a raiz do arco tangente; e (ao mesmo tempo)\n",
    "- o primeiro valor de $x_0$ para o qual o método não encontra a raiz.\n",
    "\n",
    "Chame-os de `a` e `b`."
   ]
  },
  {
   "cell_type": "code",
   "execution_count": 12,
   "metadata": {
    "deletable": false,
    "nbgrader": {
     "cell_type": "code",
     "checksum": "f65907af81db4aebc861434c8d80a656",
     "grade": false,
     "grade_id": "cell-b19251410339669b",
     "locked": false,
     "schema_version": 3,
     "solution": true,
     "task": false
    }
   },
   "outputs": [],
   "source": [
    "a = 1.25\n",
    "b = 1.5\n",
    "def condicao_parada_bissecao(a,b,xtol,niter,maxiter):\n",
    "    return abs(a - b) < xtol or niter == maxiter\n",
    "def bissect(a,b,f,df,y,xtol=1e-8,maxiter=1000):\n",
    "    niter = 0\n",
    "    while(not condicao_parada_bissecao(a,b,xtol,niter,maxiter)):\n",
    "        m = (a+b)/2\n",
    "        not_success = newton_solve(f,df, y, m, maxiter=100)[1] >= 100\n",
    "        if(not_success != 0):\n",
    "            b = m\n",
    "        else:\n",
    "            a = m\n",
    "        niter+=1\n",
    "    return a,b"
   ]
  },
  {
   "cell_type": "code",
   "execution_count": 13,
   "metadata": {},
   "outputs": [],
   "source": [
    "a,b = bissect(a,b,np.arctan,cauchy,0,0,10000)"
   ]
  },
  {
   "cell_type": "code",
   "execution_count": 14,
   "metadata": {
    "deletable": false,
    "editable": false,
    "nbgrader": {
     "cell_type": "code",
     "checksum": "113d5fa9a5973abbb4a75c34b287ae28",
     "grade": true,
     "grade_id": "cell-900b92ffc8034df2",
     "locked": true,
     "points": 1,
     "schema_version": 3,
     "solution": false,
     "task": false
    }
   },
   "outputs": [],
   "source": [
    "r, n = newton_solve(np.arctan, cauchy, 0, a, maxiter=100)\n",
    "assert np.abs(r) < 1e-8\n",
    "assert 30 < n < 100"
   ]
  },
  {
   "cell_type": "code",
   "execution_count": 15,
   "metadata": {
    "deletable": false,
    "editable": false,
    "nbgrader": {
     "cell_type": "code",
     "checksum": "6da6724b36b1901fce132ecf178c898a",
     "grade": true,
     "grade_id": "cell-f56db44e5c9c0da5",
     "locked": true,
     "points": 1,
     "schema_version": 3,
     "solution": false,
     "task": false
    }
   },
   "outputs": [],
   "source": [
    "r, n = newton_solve(np.arctan, cauchy, 0, b, maxiter=1000)\n",
    "assert np.abs(r) > 1e-1\n",
    "assert n == 1000"
   ]
  },
  {
   "cell_type": "code",
   "execution_count": 16,
   "metadata": {
    "deletable": false,
    "editable": false,
    "nbgrader": {
     "cell_type": "code",
     "checksum": "fff0944b47834fc01f99f99f3e67eabc",
     "grade": true,
     "grade_id": "cell-1f5166387f018169",
     "locked": true,
     "points": 1,
     "schema_version": 3,
     "solution": false,
     "task": false
    }
   },
   "outputs": [],
   "source": [
    "assert 0 < b-a < 3e-16"
   ]
  },
  {
   "cell_type": "markdown",
   "metadata": {},
   "source": [
    "## Questão 3: Um gráfico mais preciso\n",
    "\n",
    "Faça o gráfico do número de iterações para vários pontos \"até chegar em $a$\".\n",
    "Pense nas escalas, e também em como \"se aproximar de $a$\"."
   ]
  },
  {
   "cell_type": "code",
   "execution_count": 17,
   "metadata": {},
   "outputs": [
    {
     "data": {
      "text/plain": [
       "1.3917452002707347"
      ]
     },
     "execution_count": 17,
     "metadata": {},
     "output_type": "execute_result"
    }
   ],
   "source": [
    "a"
   ]
  },
  {
   "cell_type": "code",
   "execution_count": 18,
   "metadata": {
    "deletable": false,
    "nbgrader": {
     "cell_type": "code",
     "checksum": "1cbeda6ad03eafa970f765b54fb675fa",
     "grade": false,
     "grade_id": "cell-cee06cf8b3131266",
     "locked": false,
     "schema_version": 3,
     "solution": true,
     "task": false
    }
   },
   "outputs": [
    {
     "data": {
      "image/png": "[encoded data removed]",
      "text/plain": [
       "<Figure size 432x288 with 1 Axes>"
      ]
     },
     "metadata": {
      "needs_background": "light"
     },
     "output_type": "display_data"
    }
   ],
   "source": [
    "x = np.logspace(np.log(1.3),np.log(a-1e-20),100, base = np.e)\n",
    "plt.plot(x, [newton_solve(np.arctan,cauchy,0,xi)[1] for xi in x])\n",
    "plt.xlabel('Ponto final do intervalo')\n",
    "plt.ylabel('Número de iterações')\n",
    "ax = plt.gca()"
   ]
  },
  {
   "cell_type": "code",
   "execution_count": 19,
   "metadata": {
    "deletable": false,
    "editable": false,
    "nbgrader": {
     "cell_type": "code",
     "checksum": "44f6b6588d50b6cb888d679e82fa50ca",
     "grade": true,
     "grade_id": "cell-609d4fd9e9bae1ed",
     "locked": true,
     "points": 1,
     "schema_version": 3,
     "solution": false,
     "task": false
    }
   },
   "outputs": [],
   "source": [
    "assert len(ax.lines) == 1\n",
    "assert ax.get_xlabel() != \"\"\n",
    "assert ax.get_ylabel() != \"\"\n",
    "\n",
    "ys = ax.lines[0].get_ydata()\n",
    "assert 3 <= min(ys) <= 10\n",
    "assert 40 < max(ys) < 60"
   ]
  },
  {
   "cell_type": "code",
   "execution_count": 20,
   "metadata": {},
   "outputs": [],
   "source": [
    "ax = None"
   ]
  },
  {
   "cell_type": "markdown",
   "metadata": {},
   "source": [
    "Quão rápido (ou devagar) o método de Newton para de funcionar ao se aproximar de $a$?"
   ]
  },
  {
   "cell_type": "markdown",
   "metadata": {
    "deletable": false,
    "nbgrader": {
     "cell_type": "markdown",
     "checksum": "ca63e38e1781acc9774c99aca37cd3f0",
     "grade": true,
     "grade_id": "cell-080cb35e6218e2b7",
     "locked": false,
     "points": 2,
     "schema_version": 3,
     "solution": true,
     "task": false
    }
   },
   "source": [
    "O método demora para parar de funcionar, somente quando está muito próximo de a que o número de iterações atinge um valor alto. Assim, quando está perto de a, o crescimento é extremamente rapido."
   ]
  },
  {
   "cell_type": "markdown",
   "metadata": {},
   "source": [
    "O que acontece com o método de Newton no ponto $b$?\n",
    "Faça as contas (ou gráfico(s)) abaixo, e explique em seguida"
   ]
  },
  {
   "cell_type": "code",
   "execution_count": 21,
   "metadata": {},
   "outputs": [
    {
     "data": {
      "text/plain": [
       "1.391745200270735"
      ]
     },
     "execution_count": 21,
     "metadata": {},
     "output_type": "execute_result"
    }
   ],
   "source": [
    "b"
   ]
  },
  {
   "cell_type": "code",
   "execution_count": 22,
   "metadata": {
    "deletable": false,
    "nbgrader": {
     "cell_type": "code",
     "checksum": "9ba431e2fd894ba038daafa505195b33",
     "grade": true,
     "grade_id": "cell-876500e8cf5832df",
     "locked": false,
     "points": 1,
     "schema_version": 3,
     "solution": true,
     "task": false
    }
   },
   "outputs": [
    {
     "data": {
      "image/png": "[encoded data removed]",
      "text/plain": [
       "<Figure size 432x288 with 1 Axes>"
      ]
     },
     "metadata": {
      "needs_background": "light"
     },
     "output_type": "display_data"
    }
   ],
   "source": [
    "x = np.logspace(np.log(1.3),np.log(b-1e-20),100, base = np.e)\n",
    "plt.plot(x, [newton_solve(np.arctan,cauchy,0,xi)[1] for xi in x])\n",
    "plt.xlabel('Ponto final do intervalo')\n",
    "plt.ylabel('Número de iterações')\n",
    "ax = plt.gca()"
   ]
  },
  {
   "cell_type": "markdown",
   "metadata": {
    "deletable": false,
    "nbgrader": {
     "cell_type": "markdown",
     "checksum": "5d3b00c2ff38989db21c33e042135412",
     "grade": true,
     "grade_id": "cell-1e94c8e31bbbe1a0",
     "locked": false,
     "points": 1,
     "schema_version": 3,
     "solution": true,
     "task": false
    }
   },
   "source": [
    "O gráfico indica que o método é ainda mais devegar para parar de funcionar quando chega em b."
   ]
  },
  {
   "cell_type": "markdown",
   "metadata": {},
   "source": [
    "## Questão 4: Encontrando outras raízes\n",
    "\n",
    "Vamos ver o que acontece quando, em vez de zero, queremos resolver $\\arctan(x) = y$, para outros valores de $y$."
   ]
  },
  {
   "cell_type": "code",
   "execution_count": 23,
   "metadata": {
    "deletable": false,
    "nbgrader": {
     "cell_type": "code",
     "checksum": "5644c6347cc7665d8d053892c5918899",
     "grade": false,
     "grade_id": "cell-4990be745e37496a",
     "locked": false,
     "schema_version": 3,
     "solution": true,
     "task": false
    }
   },
   "outputs": [],
   "source": [
    "def transição(f, df, y, a, b):\n",
    "    \"\"\"Encontra uma transição do método de Newton para resolver  f(x) = y  no intervalo [a,b].\n",
    "    Retorna o par de pontos limite.\"\"\"\n",
    "    return bissect(a,b,f,df,y,xtol=0,maxiter=10000)"
   ]
  },
  {
   "cell_type": "code",
   "execution_count": 24,
   "metadata": {
    "deletable": false,
    "editable": false,
    "nbgrader": {
     "cell_type": "code",
     "checksum": "1a15f84187a6a5aaac8340c1d5a0c7bb",
     "grade": true,
     "grade_id": "cell-467ccc0c18c7afbd",
     "locked": true,
     "points": 1,
     "schema_version": 3,
     "solution": false,
     "task": false
    }
   },
   "outputs": [],
   "source": [
    "# Deveria reproduzir os resultados da parte anterior\n",
    "a, b = transição(np.arctan, cauchy, 0, 0, 2)\n",
    "assert 0 < b-a < 3e-16"
   ]
  },
  {
   "cell_type": "code",
   "execution_count": 25,
   "metadata": {
    "deletable": false,
    "editable": false,
    "nbgrader": {
     "cell_type": "code",
     "checksum": "390b3a1992a853f5357ca574f4e75f4f",
     "grade": true,
     "grade_id": "cell-7edc0caf032f1c9e",
     "locked": true,
     "points": 1,
     "schema_version": 3,
     "solution": false,
     "task": false
    }
   },
   "outputs": [],
   "source": [
    "# Agora, tentando achar outra raiz\n",
    "a, b = transição(np.arctan, cauchy, 0.1, 0, 4)\n",
    "assert 0 < b-a < 3e-16"
   ]
  },
  {
   "cell_type": "code",
   "execution_count": 26,
   "metadata": {
    "deletable": false,
    "editable": false,
    "nbgrader": {
     "cell_type": "code",
     "checksum": "f0e985ad945fac8d9d74256d7d1b582f",
     "grade": true,
     "grade_id": "cell-21a41fdf75bc4ac4",
     "locked": true,
     "points": 1,
     "schema_version": 3,
     "solution": false,
     "task": false
    }
   },
   "outputs": [],
   "source": [
    "xsol, niters = newton_solve(np.arctan, cauchy, 0.1, a)\n",
    "assert np.isclose(np.arctan(xsol), 0.1)\n",
    "\n",
    "xsol, niters = newton_solve(np.arctan, cauchy, 0.1, b)\n",
    "assert niters == 100"
   ]
  },
  {
   "cell_type": "code",
   "execution_count": 27,
   "metadata": {
    "deletable": false,
    "editable": false,
    "nbgrader": {
     "cell_type": "code",
     "checksum": "fbc85150431501ca830c1ecddea11093",
     "grade": true,
     "grade_id": "cell-138417da9ab7421c",
     "locked": true,
     "points": 1,
     "schema_version": 3,
     "solution": false,
     "task": false
    }
   },
   "outputs": [],
   "source": [
    "# Transição para uma raiz ainda mais longe\n",
    "a, b = transição(np.arctan, cauchy, 1, 0, 4)\n",
    "assert 0 < b-a < 5e-16"
   ]
  },
  {
   "cell_type": "markdown",
   "metadata": {},
   "source": [
    "## Questão 5: Iterações perto da transição\n",
    "\n",
    "Quais são os 20 primeiros valores gerados a partir de $a$, ao resolver $\\arctan(x) = 1$?\n",
    "E $b$?\n",
    "Faça um gráfico, para comparar."
   ]
  },
  {
   "cell_type": "code",
   "execution_count": 28,
   "metadata": {
    "deletable": false,
    "nbgrader": {
     "cell_type": "code",
     "checksum": "fe858e61849649e58f83c399ea623b77",
     "grade": false,
     "grade_id": "cell-5b15363c16c348d0",
     "locked": false,
     "schema_version": 3,
     "solution": true,
     "task": false
    }
   },
   "outputs": [
    {
     "data": {
      "image/png": "[encoded data removed]",
      "text/plain": [
       "<Figure size 432x288 with 1 Axes>"
      ]
     },
     "metadata": {
      "needs_background": "light"
     },
     "output_type": "display_data"
    }
   ],
   "source": [
    "a, b = transição(np.arctan, cauchy, 1, 0, 4)\n",
    "xsola, nitersa = newton_solve(np.arctan, cauchy, 1, a, full=True)\n",
    "xsolb, nitersb = newton_solve(np.arctan, cauchy, 1, b, full=True)\n",
    "x = np.arange(0,20)\n",
    "plt.plot(x, [xsola[i] for i in x])\n",
    "plt.plot(x, [xsolb[i] for i in x])\n",
    "plt.title('Valores gerados próximos de a e b')\n",
    "plt.xlabel('Posição do valores gerado')\n",
    "ax = plt.gca()"
   ]
  },
  {
   "cell_type": "code",
   "execution_count": 29,
   "metadata": {
    "deletable": false,
    "editable": false,
    "nbgrader": {
     "cell_type": "code",
     "checksum": "a838d60cca5b3b1b16f2ca8ab528eeb2",
     "grade": true,
     "grade_id": "cell-fd62b9761a8153f9",
     "locked": true,
     "points": 1,
     "schema_version": 3,
     "solution": false,
     "task": false
    }
   },
   "outputs": [],
   "source": [
    "assert len(ax.lines) == 2\n",
    "assert ax.get_title() != \"\"\n",
    "assert ax.get_xlabel() != \"\""
   ]
  },
  {
   "cell_type": "code",
   "execution_count": 30,
   "metadata": {
    "deletable": false,
    "editable": false,
    "nbgrader": {
     "cell_type": "code",
     "checksum": "ae9c5d46ee5e90450b98ff4f024fe2db",
     "grade": true,
     "grade_id": "cell-8b8b498336c487b8",
     "locked": true,
     "points": 1,
     "schema_version": 3,
     "solution": false,
     "task": false
    }
   },
   "outputs": [],
   "source": [
    "for l in ax.lines:\n",
    "    xs = l.get_xdata()\n",
    "    ys = l.get_ydata()\n",
    "    assert 0 == min(xs)\n",
    "    assert max(xs) >= 19\n",
    "    assert  3.5 <= max(ys) <= 4\n",
    "    assert -1.5 <= min(ys) <= -1"
   ]
  },
  {
   "cell_type": "code",
   "execution_count": 31,
   "metadata": {
    "deletable": false,
    "editable": false,
    "nbgrader": {
     "cell_type": "code",
     "checksum": "377b2e3678e8f3a0fc896cf8ea580e85",
     "grade": false,
     "grade_id": "cell-500cd1f912528b5d",
     "locked": true,
     "schema_version": 3,
     "solution": false,
     "task": false
    }
   },
   "outputs": [],
   "source": [
    "ax = None"
   ]
  },
  {
   "cell_type": "markdown",
   "metadata": {},
   "source": [
    "Faça um gráfico (usando os 20 pontos gerados a partir de $a$ e $b$) que ajude a ver porque esses métodos estão dando resultados diferentes"
   ]
  },
  {
   "cell_type": "code",
   "execution_count": 32,
   "metadata": {
    "deletable": false,
    "nbgrader": {
     "cell_type": "code",
     "checksum": "8f3a60337d4a35fabd4af7ef2ffdddb1",
     "grade": true,
     "grade_id": "cell-1337c4d8f9127e4c",
     "locked": false,
     "points": 2,
     "schema_version": 3,
     "solution": true,
     "task": false
    }
   },
   "outputs": [
    {
     "data": {
      "text/plain": [
       "1.3526063785153577"
      ]
     },
     "execution_count": 32,
     "metadata": {},
     "output_type": "execute_result"
    }
   ],
   "source": [
    "np.mean(xsola)"
   ]
  },
  {
   "cell_type": "markdown",
   "metadata": {},
   "source": [
    "O que este gráfico mostra?\n",
    "Porque ajuda a entender o comportamento perto de $a$ e $b$?"
   ]
  },
  {
   "cell_type": "markdown",
   "metadata": {
    "deletable": false,
    "nbgrader": {
     "cell_type": "markdown",
     "checksum": "41f4a1d020ef6eba23ad54071987b6a6",
     "grade": true,
     "grade_id": "cell-bf1f25dbe321fe72",
     "locked": false,
     "points": 2,
     "schema_version": 3,
     "solution": true,
     "task": false
    }
   },
   "source": [
    "O gráfico mostra uma oscilação dos autovalores encontrados de forma iterativa em torno de 1,35. Devido ao comportamento cíclico, o algoritmo é incapaz de convergir, fazendo com que a condição de término seja estritamente o número de iterações. "
   ]
  },
  {
   "cell_type": "markdown",
   "metadata": {},
   "source": [
    "Faça o gráfico dos 10 pontos **seguintes** para cada um dos casos, no mesmo eixo.\n",
    "Use o recorte em $y$ indicado."
   ]
  },
  {
   "cell_type": "code",
   "execution_count": 33,
   "metadata": {
    "deletable": false,
    "nbgrader": {
     "cell_type": "code",
     "checksum": "442492eda125337da5f7b917abee5d46",
     "grade": false,
     "grade_id": "cell-1123351b7f277bda",
     "locked": false,
     "schema_version": 3,
     "solution": true,
     "task": false
    }
   },
   "outputs": [
    {
     "data": {
      "image/png": "[encoded data removed]",
      "text/plain": [
       "<Figure size 432x288 with 1 Axes>"
      ]
     },
     "metadata": {
      "needs_background": "light"
     },
     "output_type": "display_data"
    }
   ],
   "source": [
    "x = np.arange(0,10)\n",
    "plt.plot(x, [xsola[i+20] for i in x], label = '10 valores seguintes - começando em a')\n",
    "plt.plot(x, [xsolb[i+20] for i in x], label = '10 valores seguintes - começando em b')\n",
    "plt.legend()\n",
    "\n",
    "ax = plt.gca()\n",
    "ax.set_ylim([-2.08,6.08]);"
   ]
  },
  {
   "cell_type": "code",
   "execution_count": 34,
   "metadata": {
    "deletable": false,
    "editable": false,
    "nbgrader": {
     "cell_type": "code",
     "checksum": "332a62ad6ec55306e082d475fd9044c1",
     "grade": true,
     "grade_id": "cell-c7e32ce9d5bc18fd",
     "locked": true,
     "points": 1,
     "schema_version": 3,
     "solution": false,
     "task": false
    }
   },
   "outputs": [],
   "source": [
    "assert len(ax.lines) == 2\n",
    "assert len(ax.legend().texts) == 2"
   ]
  },
  {
   "cell_type": "code",
   "execution_count": 35,
   "metadata": {
    "deletable": false,
    "editable": false,
    "nbgrader": {
     "cell_type": "code",
     "checksum": "be655bcf4f464a7791570f1af4591ad2",
     "grade": true,
     "grade_id": "cell-52c99b52b19ebc79",
     "locked": true,
     "points": 1,
     "schema_version": 3,
     "solution": false,
     "task": false
    }
   },
   "outputs": [],
   "source": [
    "for l in ax.lines:\n",
    "    xs = l.get_xdata()\n",
    "    ys = l.get_ydata()\n",
    "    assert 0 == min(xs)\n",
    "    assert 9 == max(xs)"
   ]
  },
  {
   "cell_type": "markdown",
   "metadata": {},
   "source": [
    "Esse caso é ligeiramente diferente do anterior no comportamento das iterações a partir de $b$.\n",
    "É um problema de precisão: se houvesse mais números entre $a$ e $b$, seria possível ver o mesmo comportamento.\n",
    "\n",
    "Explique porquê."
   ]
  },
  {
   "cell_type": "markdown",
   "metadata": {
    "deletable": false,
    "nbgrader": {
     "cell_type": "markdown",
     "checksum": "ce1a46ab362bc3cee0ef084b0bcdc9b9",
     "grade": true,
     "grade_id": "cell-9d4b0094db097cbd",
     "locked": false,
     "points": 2,
     "schema_version": 3,
     "solution": true,
     "task": false
    }
   },
   "source": []
  },
  {
   "cell_type": "markdown",
   "metadata": {},
   "source": [
    "# Parte 2: Autovalores e Autovetores\n",
    "\n",
    "## Questão 6: O maior autovalor\n",
    "\n",
    "Dê, abaixo, o código para calcular o maior autovalor de uma matriz $A$, começando a partir do vetor $v$:"
   ]
  },
  {
   "cell_type": "code",
   "execution_count": 36,
   "metadata": {
    "deletable": false,
    "nbgrader": {
     "cell_type": "code",
     "checksum": "9b3c2a47e64b0d9913a994ceb2cbe449",
     "grade": false,
     "grade_id": "cell-1953e49f78f58536",
     "locked": false,
     "schema_version": 3,
     "solution": true,
     "task": false
    }
   },
   "outputs": [],
   "source": [
    "def max_ev(A, v, tol=1e-8):\n",
    "    \"\"\"Iteração de potência para encontrar Au = lu, com o maior autovalor em módulo de uma matriz.\n",
    "    Retorna par (autovalor, autovetor), e o número de iterações\"\"\"\n",
    "    n, m = np.shape(A)\n",
    "    assert n == m\n",
    "    z = v/np.linalg.norm(v)\n",
    "    residuo = 1000\n",
    "    l = niters = 0\n",
    "    while(residuo > tol):\n",
    "        v = np.dot(A,z)\n",
    "        norm = np.linalg.norm(v)\n",
    "        l = np.dot(v,z)\n",
    "        residuo = np.linalg.norm(A@z-l*z)\n",
    "        z = v / norm\n",
    "        niters += 1\n",
    "    return z,l,niters"
   ]
  },
  {
   "cell_type": "code",
   "execution_count": 37,
   "metadata": {
    "deletable": false,
    "editable": false,
    "nbgrader": {
     "cell_type": "code",
     "checksum": "410910aa6fa302f662921d9203cd5a9a",
     "grade": true,
     "grade_id": "cell-1c6a8a7ca2c2742a",
     "locked": true,
     "points": 1,
     "schema_version": 3,
     "solution": false,
     "task": false
    }
   },
   "outputs": [
    {
     "ename": "AssertionError",
     "evalue": "",
     "output_type": "error",
     "traceback": [
      "\u001b[1;31m---------------------------------------------------------------------------\u001b[0m",
      "\u001b[1;31mAssertionError\u001b[0m                            Traceback (most recent call last)",
      "\u001b[1;32m<ipython-input-37-ca6b26b94ee0>\u001b[0m in \u001b[0;36m<module>\u001b[1;34m\u001b[0m\n\u001b[0;32m      3\u001b[0m \u001b[1;32massert\u001b[0m \u001b[0ml\u001b[0m \u001b[1;33m>\u001b[0m \u001b[1;36m4\u001b[0m\u001b[1;33m\u001b[0m\u001b[1;33m\u001b[0m\u001b[0m\n\u001b[0;32m      4\u001b[0m \u001b[1;32massert\u001b[0m \u001b[0mnp\u001b[0m\u001b[1;33m.\u001b[0m\u001b[0mallclose\u001b[0m\u001b[1;33m(\u001b[0m\u001b[0mA\u001b[0m\u001b[1;33m@\u001b[0m\u001b[0mu\u001b[0m\u001b[1;33m,\u001b[0m \u001b[0ml\u001b[0m\u001b[1;33m*\u001b[0m\u001b[0mu\u001b[0m\u001b[1;33m)\u001b[0m\u001b[1;33m\u001b[0m\u001b[1;33m\u001b[0m\u001b[0m\n\u001b[1;32m----> 5\u001b[1;33m \u001b[1;32massert\u001b[0m \u001b[1;36m4\u001b[0m \u001b[1;33m<\u001b[0m \u001b[0mniters\u001b[0m \u001b[1;33m<\u001b[0m \u001b[1;36m8\u001b[0m\u001b[1;33m\u001b[0m\u001b[1;33m\u001b[0m\u001b[0m\n\u001b[0m",
      "\u001b[1;31mAssertionError\u001b[0m: "
     ]
    }
   ],
   "source": [
    "A = [[1, 2], [2, 3]]\n",
    "u, l, niters = max_ev(A, [1,1])\n",
    "assert l > 4\n",
    "assert np.allclose(A@u, l*u)\n",
    "assert 4 < niters < 8"
   ]
  },
  {
   "cell_type": "code",
   "execution_count": 38,
   "metadata": {
    "deletable": false,
    "editable": false,
    "nbgrader": {
     "cell_type": "code",
     "checksum": "468d7200c51b6e85fd74f74b60ef1a5d",
     "grade": true,
     "grade_id": "cell-41fe480a56f6068e",
     "locked": true,
     "points": 1,
     "schema_version": 3,
     "solution": false,
     "task": false
    }
   },
   "outputs": [
    {
     "ename": "AssertionError",
     "evalue": "",
     "output_type": "error",
     "traceback": [
      "\u001b[1;31m---------------------------------------------------------------------------\u001b[0m",
      "\u001b[1;31mAssertionError\u001b[0m                            Traceback (most recent call last)",
      "\u001b[1;32m<ipython-input-38-2eb83d8bd2b6>\u001b[0m in \u001b[0;36m<module>\u001b[1;34m\u001b[0m\n\u001b[0;32m      3\u001b[0m \u001b[1;32massert\u001b[0m \u001b[0ml\u001b[0m \u001b[1;33m>\u001b[0m \u001b[1;36m4\u001b[0m\u001b[1;33m\u001b[0m\u001b[1;33m\u001b[0m\u001b[0m\n\u001b[0;32m      4\u001b[0m \u001b[1;32massert\u001b[0m \u001b[0mnp\u001b[0m\u001b[1;33m.\u001b[0m\u001b[0mallclose\u001b[0m\u001b[1;33m(\u001b[0m\u001b[0mA\u001b[0m\u001b[1;33m@\u001b[0m\u001b[0mu\u001b[0m\u001b[1;33m,\u001b[0m \u001b[0ml\u001b[0m\u001b[1;33m*\u001b[0m\u001b[0mu\u001b[0m\u001b[1;33m,\u001b[0m \u001b[0matol\u001b[0m\u001b[1;33m=\u001b[0m\u001b[1;36m1e-12\u001b[0m\u001b[1;33m,\u001b[0m \u001b[0mrtol\u001b[0m\u001b[1;33m=\u001b[0m\u001b[1;36m1e-12\u001b[0m\u001b[1;33m)\u001b[0m\u001b[1;33m\u001b[0m\u001b[1;33m\u001b[0m\u001b[0m\n\u001b[1;32m----> 5\u001b[1;33m \u001b[1;32massert\u001b[0m \u001b[1;36m8\u001b[0m \u001b[1;33m<\u001b[0m \u001b[0mniters\u001b[0m \u001b[1;33m<\u001b[0m \u001b[1;36m12\u001b[0m\u001b[1;33m\u001b[0m\u001b[1;33m\u001b[0m\u001b[0m\n\u001b[0m",
      "\u001b[1;31mAssertionError\u001b[0m: "
     ]
    }
   ],
   "source": [
    "A = [[1, 2], [2, 3]]\n",
    "u, l, niters = max_ev(A, [1,1], tol=1e-13)\n",
    "assert l > 4\n",
    "assert np.allclose(A@u, l*u, atol=1e-12, rtol=1e-12)\n",
    "assert 8 < niters < 12"
   ]
  },
  {
   "cell_type": "code",
   "execution_count": 39,
   "metadata": {
    "deletable": false,
    "editable": false,
    "nbgrader": {
     "cell_type": "code",
     "checksum": "843d20d84e9785fb83ca3e8ab7cd197b",
     "grade": true,
     "grade_id": "cell-e0ace83141db0baf",
     "locked": true,
     "points": 1,
     "schema_version": 3,
     "solution": false,
     "task": false
    }
   },
   "outputs": [],
   "source": [
    "np.random.seed(7)\n",
    "A = np.random.randn(7,7)\n",
    "A += A.T\n",
    "u, l, niters = max_ev(A, np.ones(7))\n",
    "assert np.allclose(A@u, l*u)\n",
    "assert 150 < niters < 250"
   ]
  },
  {
   "cell_type": "code",
   "execution_count": 40,
   "metadata": {
    "deletable": false,
    "editable": false,
    "nbgrader": {
     "cell_type": "code",
     "checksum": "b4cb437d6e51233cdc720a3039c6152a",
     "grade": true,
     "grade_id": "cell-b626f4aafb268c58",
     "locked": true,
     "points": 1,
     "schema_version": 3,
     "solution": false,
     "task": false
    }
   },
   "outputs": [],
   "source": [
    "np.random.seed(7)\n",
    "A = np.random.randn(7,7)\n",
    "A += A.T\n",
    "u, l, niters = max_ev(A, np.ones(7), tol=1e-12)\n",
    "assert np.allclose(A@u, l*u, atol=1e-11, rtol=1e-11)\n",
    "assert 250 < niters < 350"
   ]
  },
  {
   "cell_type": "markdown",
   "metadata": {},
   "source": [
    "## Questão 7: Variando o vetor inicial\n",
    "\n",
    "Em $R^2$, podemos variar o vetor inicial dando um ângulo entre $0$ e $2\\pi$.\n",
    "Faça o gráfico do número de iterações necessárias para atingir precisão $10^{-12}$, em função do ângulo."
   ]
  },
  {
   "cell_type": "code",
   "execution_count": 41,
   "metadata": {
    "deletable": false,
    "nbgrader": {
     "cell_type": "code",
     "checksum": "681a6be77515243be3d1eac23737a033",
     "grade": false,
     "grade_id": "cell-d58254956b52d006",
     "locked": false,
     "schema_version": 3,
     "solution": true,
     "task": false
    }
   },
   "outputs": [
    {
     "data": {
      "image/png": "[encoded data removed]",
      "text/plain": [
       "<Figure size 432x288 with 1 Axes>"
      ]
     },
     "metadata": {
      "needs_background": "light"
     },
     "output_type": "display_data"
    }
   ],
   "source": [
    "A = [[1, 2], [2,3]]\n",
    "thetas = np.linspace(0, 2*np.pi, num=300)\n",
    "n_iters = []\n",
    "for theta in thetas:\n",
    "    v = np.array([np.cos(theta),np.sin(theta)])\n",
    "    n_iters.append(max_ev(A,v,1e-12)[2])\n",
    "plt.plot(thetas,n_iters)  \n",
    "plt.xlabel(\"Theta\")\n",
    "plt.ylabel(\"#Iter\")\n",
    "plt.grid()\n",
    "ax = plt.gca()"
   ]
  },
  {
   "cell_type": "code",
   "execution_count": 42,
   "metadata": {
    "deletable": false,
    "editable": false,
    "nbgrader": {
     "cell_type": "code",
     "checksum": "bfe0c0ad5a0694c4961fe87597f690d3",
     "grade": true,
     "grade_id": "cell-80ed1fed32824647",
     "locked": true,
     "points": 1,
     "schema_version": 3,
     "solution": false,
     "task": false
    }
   },
   "outputs": [],
   "source": [
    "assert len(ax.lines) == 1\n",
    "assert ax.get_xlabel() != \"\"\n",
    "assert ax.get_ylabel() != \"\""
   ]
  },
  {
   "cell_type": "code",
   "execution_count": 43,
   "metadata": {
    "deletable": false,
    "editable": false,
    "nbgrader": {
     "cell_type": "code",
     "checksum": "c1b1948edeb806f62de1d89f564e0a9a",
     "grade": false,
     "grade_id": "cell-526ecc7c2117043f",
     "locked": true,
     "schema_version": 3,
     "solution": false,
     "task": false
    }
   },
   "outputs": [],
   "source": [
    "ax = None"
   ]
  },
  {
   "cell_type": "markdown",
   "metadata": {},
   "source": [
    "O que você observa no gráfico?"
   ]
  },
  {
   "cell_type": "markdown",
   "metadata": {
    "deletable": false,
    "nbgrader": {
     "cell_type": "markdown",
     "checksum": "f8065b46c3b12cdacf6d002b9d289eaf",
     "grade": true,
     "grade_id": "cell-f9b1b22d87c3e698",
     "locked": false,
     "points": 2,
     "schema_version": 3,
     "solution": true,
     "task": false
    }
   },
   "source": [
    "Primeiramente percebe-se que ele é cíclico. Em segundo lugar, o gráfico gerado se assemelha a sobreposicao de funções onda quadradas, cada qual com magnitude e períodos distintos."
   ]
  },
  {
   "cell_type": "markdown",
   "metadata": {},
   "source": [
    "## Questão 8: Menos iterações\n",
    "\n",
    "Faça um \"zoom\" numa vizinhança do ângulo com menos interações."
   ]
  },
  {
   "cell_type": "code",
   "execution_count": 49,
   "metadata": {
    "deletable": false,
    "nbgrader": {
     "cell_type": "code",
     "checksum": "93c9d113f1c4269511c8dd7e9826601d",
     "grade": false,
     "grade_id": "cell-cbe168dd85dcf04a",
     "locked": false,
     "schema_version": 3,
     "solution": true,
     "task": false
    }
   },
   "outputs": [
    {
     "data": {
      "image/png": "[encoded data removed]",
      "text/plain": [
       "<Figure size 432x288 with 1 Axes>"
      ]
     },
     "metadata": {
      "needs_background": "light"
     },
     "output_type": "display_data"
    }
   ],
   "source": [
    "thetas = np.linspace(4.1575, 4.16, num=1000)\n",
    "n_iters = []\n",
    "for theta in thetas:\n",
    "    v = np.array([np.cos(theta),np.sin(theta)])\n",
    "    n_iters.append(max_ev(A,v,1e-12)[2])\n",
    "plt.plot(thetas,n_iters)  \n",
    "plt.xlabel(\"Theta\")\n",
    "plt.ylabel(\"#Iter\")\n",
    "plt.grid()\n",
    "ax = plt.gca()"
   ]
  },
  {
   "cell_type": "code",
   "execution_count": 50,
   "metadata": {
    "deletable": false,
    "editable": false,
    "nbgrader": {
     "cell_type": "code",
     "checksum": "f30494f6ed112c3f2e6e621d9109449f",
     "grade": true,
     "grade_id": "cell-e5aadb653aa30b20",
     "locked": true,
     "points": 2,
     "schema_version": 3,
     "solution": false,
     "task": false
    }
   },
   "outputs": [],
   "source": [
    "assert len(ax.lines) == 1\n",
    "\n",
    "xs = ax.lines[0].get_xdata()\n",
    "assert max(xs) - min(xs) <= 0.1\n",
    "\n",
    "ys = ax.lines[0].get_ydata()\n",
    "assert max(ys) < 10\n",
    "assert min(ys) < 8"
   ]
  },
  {
   "cell_type": "code",
   "execution_count": 51,
   "metadata": {},
   "outputs": [],
   "source": [
    "def get_Rayleigh_quocient(A,v):\n",
    "    return np.dot(v.T,np.dot(A,v))/np.dot(v.T,v)"
   ]
  },
  {
   "cell_type": "code",
   "execution_count": 52,
   "metadata": {},
   "outputs": [
    {
     "data": {
      "text/plain": [
       "3.0"
      ]
     },
     "execution_count": 52,
     "metadata": {},
     "output_type": "execute_result"
    }
   ],
   "source": [
    "get_Rayleigh_quocient(A,np.array([0,1]))"
   ]
  },
  {
   "cell_type": "markdown",
   "metadata": {},
   "source": [
    "Como calcular um ângulo com menos iterações ainda?\n",
    "Explique na caixa abaixo, e em seguida calcule $\\theta_\\text{min}$.\n",
    "\n",
    "Dica: Veja a função `np.arctan2`."
   ]
  },
  {
   "cell_type": "markdown",
   "metadata": {
    "deletable": false,
    "nbgrader": {
     "cell_type": "markdown",
     "checksum": "5498fc1dea5dd906c2d3a8a3e86b6e10",
     "grade": true,
     "grade_id": "cell-def6c48444d657db",
     "locked": false,
     "points": 2,
     "schema_version": 3,
     "solution": true,
     "task": false
    }
   },
   "source": [
    "Podemos ver a metriz acima como "
   ]
  },
  {
   "cell_type": "markdown",
   "metadata": {},
   "source": [
    "Basta obter um vetor inicial que consiga obter menos iterações e, então, utilizar a função sugerida para calcular seu angulo, considerando as entradas do vetor como coordenadas no plano. Um vetor que tenha menos iterações será o algo próximo do próprio autovetor, abaixo então foi feito um calculo do autovetor e encontrado seu angulo."
   ]
  },
  {
   "cell_type": "code",
   "execution_count": 53,
   "metadata": {
    "deletable": false,
    "nbgrader": {
     "cell_type": "code",
     "checksum": "37852adc5797da8e6d2628b3234b8723",
     "grade": true,
     "grade_id": "cell-863588ef9ad67f6a",
     "locked": false,
     "points": 1,
     "schema_version": 3,
     "solution": true,
     "task": false
    }
   },
   "outputs": [
    {
     "data": {
      "text/plain": [
       "-2.124370685691948"
      ]
     },
     "execution_count": 53,
     "metadata": {},
     "output_type": "execute_result"
    }
   ],
   "source": [
    "einv= max_ev(A,v,1e-12)[0]\n",
    "np.arctan2(einv[1],einv[0])"
   ]
  },
  {
   "cell_type": "code",
   "execution_count": 61,
   "metadata": {},
   "outputs": [
    {
     "data": {
      "text/plain": [
       "4.158814621487638"
      ]
     },
     "execution_count": 61,
     "metadata": {},
     "output_type": "execute_result"
    }
   ],
   "source": [
    "-2.124370685691948 + 2*np.pi"
   ]
  },
  {
   "cell_type": "markdown",
   "metadata": {},
   "source": [
    "Com isso, faça um gráfico mostrando todos os números de iteração menores do que 8 que você conseguir."
   ]
  },
  {
   "cell_type": "code",
   "execution_count": 62,
   "metadata": {
    "deletable": false,
    "nbgrader": {
     "cell_type": "code",
     "checksum": "4128094bbe9e6ca2d8c2eaed0989cef3",
     "grade": true,
     "grade_id": "cell-b6483a4407b80c83",
     "locked": false,
     "points": 2,
     "schema_version": 3,
     "solution": true,
     "task": false
    }
   },
   "outputs": [
    {
     "data": {
      "image/png": "[encoded data removed]",
      "text/plain": [
       "<Figure size 432x288 with 1 Axes>"
      ]
     },
     "metadata": {
      "needs_background": "light"
     },
     "output_type": "display_data"
    }
   ],
   "source": [
    "e = 0.000001\n",
    "thetas = np.linspace(4.158814621487638-e,4.158814621487638+e, num=1000)\n",
    "n_iters = []\n",
    "for theta in thetas:\n",
    "    v = np.array([np.cos(theta),np.sin(theta)])\n",
    "    if max_ev(A,v,1e-12)[2]<= 8:\n",
    "        n_iters.append(max_ev(A,v,1e-12)[2])\n",
    "    else:\n",
    "        thetas = np.delete(thetas,np.where(thetas==theta))\n",
    "plt.plot(thetas,n_iters)  \n",
    "plt.xlabel(\"Theta\")\n",
    "plt.ylabel(\"#Iter\")\n",
    "plt.grid()\n",
    "ax = plt.gca()"
   ]
  },
  {
   "cell_type": "markdown",
   "metadata": {},
   "source": [
    "O que você observa no gráfico acima?"
   ]
  },
  {
   "cell_type": "markdown",
   "metadata": {
    "deletable": false,
    "nbgrader": {
     "cell_type": "markdown",
     "checksum": "36312f44cd519afd3e130f267be6504e",
     "grade": true,
     "grade_id": "cell-110308ae93ca2331",
     "locked": false,
     "points": 2,
     "schema_version": 3,
     "solution": true,
     "task": false
    }
   },
   "source": [
    "O gráfico acima tenta ser centrado no ângulo do autovetor e por isso parece simétrico (apesar de não ser exatamente). Seus valores mais internos (mais próximos do ângulo real) apresentam menos iterações, como esperado, e os mais afastados apresentam um máximo de 5 iterações, como requisitado"
   ]
  },
  {
   "cell_type": "markdown",
   "metadata": {},
   "source": [
    "O que este gráfico tem a ver com a velocidade de convergência do método?"
   ]
  },
  {
   "cell_type": "markdown",
   "metadata": {
    "deletable": false,
    "nbgrader": {
     "cell_type": "markdown",
     "checksum": "e23e84041385e5fd2ba04f109a01fa68",
     "grade": true,
     "grade_id": "cell-4c0e0368098b5048",
     "locked": false,
     "points": 2,
     "schema_version": 3,
     "solution": true,
     "task": false
    }
   },
   "source": [
    "Primeiramente, quanto mais próximo do valor correto, mais rápido o algoritmo converge, como pode ser visto no gráfico. Segundo, o método em pequenos intervalos tem passos de somente uma iteração, por conta dos valores serem muito próximos. Além disso, eles são trivialmente discretos."
   ]
  },
  {
   "cell_type": "markdown",
   "metadata": {},
   "source": [
    "## Questão 9: Mais iterações\n",
    "\n",
    "Como calcular o ângulo correspondente ao maior número de iterações?\n",
    "Explique abaixo, e calcule em seguida."
   ]
  },
  {
   "cell_type": "markdown",
   "metadata": {
    "deletable": false,
    "nbgrader": {
     "cell_type": "markdown",
     "checksum": "2864b07f11debb4a7ceaa287e360a494",
     "grade": true,
     "grade_id": "cell-3357d3216afd45a7",
     "locked": false,
     "points": 1,
     "schema_version": 3,
     "solution": true,
     "task": false
    }
   },
   "source": [
    "Podemos pensar que o vetor que mais demora a se aproximar do autovetor é aquele que está mais distante, relativamente ao angulo que faz com o autovetor. Portanto, é natural que consideremos uma rotação de 90 graus entre os dois, o que de fato os gráficos anteriores parecem indicar. Tendo as \"coordenadas\" basta utilizar a funcao arctan2."
   ]
  },
  {
   "cell_type": "code",
   "execution_count": 65,
   "metadata": {},
   "outputs": [
    {
     "data": {
      "text/plain": [
       "array([-0.52573111, -0.85065081])"
      ]
     },
     "execution_count": 65,
     "metadata": {},
     "output_type": "execute_result"
    }
   ],
   "source": [
    "einv"
   ]
  },
  {
   "cell_type": "code",
   "execution_count": 66,
   "metadata": {
    "deletable": false,
    "nbgrader": {
     "cell_type": "code",
     "checksum": "57d5c2bef4408e84d697cf8dfbc7ef98",
     "grade": true,
     "grade_id": "cell-59f3df33df931c6f",
     "locked": false,
     "points": 1,
     "schema_version": 3,
     "solution": true,
     "task": false
    }
   },
   "outputs": [
    {
     "data": {
      "text/plain": [
       "18"
      ]
     },
     "execution_count": 66,
     "metadata": {},
     "output_type": "execute_result"
    }
   ],
   "source": [
    "maxe = np.array([0.85065081,-0.52573111])\n",
    "max_ev(A,maxe,1e-12)[2]"
   ]
  },
  {
   "cell_type": "code",
   "execution_count": 67,
   "metadata": {
    "scrolled": true
   },
   "outputs": [
    {
     "data": {
      "text/plain": [
       "-0.5535743562280186"
      ]
     },
     "execution_count": 67,
     "metadata": {},
     "output_type": "execute_result"
    }
   ],
   "source": [
    "np.arctan2(maxe[1],maxe[0])"
   ]
  },
  {
   "cell_type": "code",
   "execution_count": 68,
   "metadata": {},
   "outputs": [
    {
     "data": {
      "text/plain": [
       "5.729610950951567"
      ]
     },
     "execution_count": 68,
     "metadata": {},
     "output_type": "execute_result"
    }
   ],
   "source": [
    "-0.5535743562280186 + 2*np.pi"
   ]
  },
  {
   "cell_type": "markdown",
   "metadata": {},
   "source": [
    "Conhecendo o valor do angulo mínimo, outra forma direta para obter o máximo seria somar pi/2."
   ]
  },
  {
   "cell_type": "markdown",
   "metadata": {},
   "source": [
    "Faça, então, um gráfico mostrando, pelo menos, desde 12 até o maior número possível de iterações.\n",
    "\n",
    "Obs: uma forma de aumentar o número de iterações é reduzir a tolerância.\n",
    "Só não tente ser \"preciso demais\", pois isso pode acabar sendo mais do que a precisão do computador,\n",
    "e daí a iteração nunca mais pára."
   ]
  },
  {
   "cell_type": "code",
   "execution_count": 74,
   "metadata": {
    "deletable": false,
    "nbgrader": {
     "cell_type": "code",
     "checksum": "dfae8f760bb22c3a6be92ba961c33a02",
     "grade": true,
     "grade_id": "cell-b1ecd8486ce01f30",
     "locked": false,
     "points": 2,
     "schema_version": 3,
     "solution": true,
     "task": false
    }
   },
   "outputs": [
    {
     "data": {
      "image/png": "[encoded data removed]",
      "text/plain": [
       "<Figure size 432x288 with 1 Axes>"
      ]
     },
     "metadata": {
      "needs_background": "light"
     },
     "output_type": "display_data"
    }
   ],
   "source": [
    "e = 0.1\n",
    "thetas = np.linspace(5.729610950951567-e, 5.729610950951567+e, num=1000)\n",
    "n_iters = []\n",
    "for theta in thetas:\n",
    "    v = np.array([np.cos(theta),np.sin(theta)])\n",
    "    if max_ev(A,v,1e-12)[2]>= 12:\n",
    "        n_iters.append(max_ev(A,v,1e-12)[2])\n",
    "    else:\n",
    "        thetas = np.delete(thetas,np.where(thetas==theta))\n",
    "plt.plot(thetas,n_iters)  \n",
    "plt.xlabel(\"Theta\")\n",
    "plt.ylabel(\"#Iter\")\n",
    "plt.grid()\n",
    "ax = plt.gca()"
   ]
  },
  {
   "cell_type": "markdown",
   "metadata": {},
   "source": [
    "## Questão 10: Aplicação de iteração\n",
    "\n",
    "Programe a função $h : [-\\pi, \\pi] \\mapsto [-\\pi, \\pi]$ que, a um ângulo $\\theta$,\n",
    "associa o ângulo do vetor $Av$, onde $v$ tem ângulo $\\theta$."
   ]
  },
  {
   "cell_type": "code",
   "execution_count": 75,
   "metadata": {
    "deletable": false,
    "nbgrader": {
     "cell_type": "code",
     "checksum": "34f2abffbf3c50f5f7314aa9801ecf49",
     "grade": false,
     "grade_id": "cell-83316c5976428098",
     "locked": false,
     "schema_version": 3,
     "solution": true,
     "task": false
    }
   },
   "outputs": [],
   "source": [
    "def h(A, theta):\n",
    "    m, n = np.shape(A)\n",
    "    assert m == n == 2\n",
    "    v = np.array([np.cos(theta), np.sin(theta)])\n",
    "    w = A@v\n",
    "    return np.arctan2(w[1],w[0])"
   ]
  },
  {
   "cell_type": "code",
   "execution_count": 76,
   "metadata": {
    "deletable": false,
    "editable": false,
    "nbgrader": {
     "cell_type": "code",
     "checksum": "232826ba190ec9c0ea7d80653cd267d0",
     "grade": true,
     "grade_id": "cell-d5234fd8145161fd",
     "locked": true,
     "points": 1,
     "schema_version": 3,
     "solution": false,
     "task": false
    }
   },
   "outputs": [],
   "source": [
    "assert h(A, 1) > 1"
   ]
  },
  {
   "cell_type": "code",
   "execution_count": 77,
   "metadata": {
    "deletable": false,
    "editable": false,
    "nbgrader": {
     "cell_type": "code",
     "checksum": "6d920e25fdf75a0d062d2bbe58ce25f2",
     "grade": true,
     "grade_id": "cell-0876609d0748bd62",
     "locked": true,
     "points": 1,
     "schema_version": 3,
     "solution": false,
     "task": false
    }
   },
   "outputs": [],
   "source": [
    "assert h(A, 2) < 2"
   ]
  },
  {
   "cell_type": "code",
   "execution_count": 78,
   "metadata": {
    "deletable": false,
    "editable": false,
    "nbgrader": {
     "cell_type": "code",
     "checksum": "876572dae26e0f11229a6f9fcb12bf47",
     "grade": true,
     "grade_id": "cell-64413e377d1928b5",
     "locked": true,
     "points": 1,
     "schema_version": 3,
     "solution": false,
     "task": false
    }
   },
   "outputs": [],
   "source": [
    "assert h(A, -2) < -2"
   ]
  },
  {
   "cell_type": "markdown",
   "metadata": {},
   "source": [
    "Qual a imagem do intervalo $I_0 = [0, \\pi/2]$ por esta aplicação?"
   ]
  },
  {
   "cell_type": "code",
   "execution_count": 79,
   "metadata": {
    "deletable": false,
    "nbgrader": {
     "cell_type": "code",
     "checksum": "3878a8c21a6768b89f4cf745b6db493d",
     "grade": true,
     "grade_id": "cell-d5f478d6f781e417",
     "locked": false,
     "points": 1,
     "schema_version": 3,
     "solution": true,
     "task": false
    }
   },
   "outputs": [
    {
     "data": {
      "image/png": "[encoded data removed]",
      "text/plain": [
       "<Figure size 432x288 with 1 Axes>"
      ]
     },
     "metadata": {
      "needs_background": "light"
     },
     "output_type": "display_data"
    }
   ],
   "source": [
    "I = np.linspace(0,np.pi/2, num=500)\n",
    "plt.plot(I,h(A,I))\n",
    "plt.grid();"
   ]
  },
  {
   "cell_type": "markdown",
   "metadata": {},
   "source": [
    "A imagem é [arctan(3/2), arctan(2)], ou seja, o intervalo entre os angulos dos vetores colunas da matriz A."
   ]
  },
  {
   "cell_type": "code",
   "execution_count": 88,
   "metadata": {},
   "outputs": [
    {
     "data": {
      "text/plain": [
       "1.1071487177940904"
      ]
     },
     "execution_count": 88,
     "metadata": {},
     "output_type": "execute_result"
    }
   ],
   "source": [
    "np.arctan(2)"
   ]
  },
  {
   "cell_type": "code",
   "execution_count": 89,
   "metadata": {},
   "outputs": [
    {
     "data": {
      "text/plain": [
       "0.982793723247329"
      ]
     },
     "execution_count": 89,
     "metadata": {},
     "output_type": "execute_result"
    }
   ],
   "source": [
    "np.arctan(3/2)"
   ]
  },
  {
   "cell_type": "markdown",
   "metadata": {},
   "source": [
    "Agora, faça um gráfico do comprimento da imagem dos intervalos $I_n = h(I_{n-1})$, em função de $n$."
   ]
  },
  {
   "cell_type": "code",
   "execution_count": 91,
   "metadata": {
    "deletable": false,
    "nbgrader": {
     "cell_type": "code",
     "checksum": "ea7da15f158d755d7b79525eb9f86dbb",
     "grade": true,
     "grade_id": "cell-798e8545e99c09e1",
     "locked": false,
     "points": 1,
     "schema_version": 3,
     "solution": true,
     "task": false
    }
   },
   "outputs": [
    {
     "data": {
      "image/png": "[encoded data removed]",
      "text/plain": [
       "<Figure size 432x288 with 1 Axes>"
      ]
     },
     "metadata": {
      "needs_background": "light"
     },
     "output_type": "display_data"
    }
   ],
   "source": [
    "last = h(A,I)\n",
    "images = [np.amax(last)-np.amin(last)]\n",
    "ns = np.linspace(1,1000, num=12)\n",
    "for i in range(len(ns)-1):\n",
    "    last  = h(A,last)\n",
    "    images+=[np.amax(last)-np.amin(last)]\n",
    "    \n",
    "\n",
    "plt.plot(ns,images)\n",
    "plt.ylabel('Comprimento dos intervalos')\n",
    "plt.xlabel('Valores de n')\n",
    "plt.yscale('log')\n",
    "ax = plt.gca()"
   ]
  },
  {
   "cell_type": "code",
   "execution_count": 92,
   "metadata": {
    "deletable": false,
    "editable": false,
    "nbgrader": {
     "cell_type": "code",
     "checksum": "699bca2175b23f89cc2bf2b26345839a",
     "grade": true,
     "grade_id": "cell-eb9a469a44347d11",
     "locked": true,
     "points": 1,
     "schema_version": 3,
     "solution": false,
     "task": false
    }
   },
   "outputs": [],
   "source": [
    "assert len(ax.lines) == 1\n",
    "assert ax.get_xlabel() != \"\"\n",
    "assert ax.get_ylabel() != \"\""
   ]
  },
  {
   "cell_type": "markdown",
   "metadata": {},
   "source": [
    "Enfim, faça um gráfico de $h$, no intervalo $[-\\pi, \\pi]$.\n",
    "\n",
    "Trace, também, a diagonal $y = x$."
   ]
  },
  {
   "cell_type": "code",
   "execution_count": 93,
   "metadata": {
    "deletable": false,
    "nbgrader": {
     "cell_type": "code",
     "checksum": "163a83306f851e0f9c3ac033f1a36888",
     "grade": false,
     "grade_id": "cell-8c053741946f65b2",
     "locked": false,
     "schema_version": 3,
     "solution": true,
     "task": false
    }
   },
   "outputs": [
    {
     "data": {
      "image/png": "[encoded data removed]",
      "text/plain": [
       "<Figure size 432x288 with 1 Axes>"
      ]
     },
     "metadata": {
      "needs_background": "light"
     },
     "output_type": "display_data"
    }
   ],
   "source": [
    "thetas = np.linspace(-np.pi, np.pi, num=300)\n",
    "\n",
    "plt.plot(thetas, h(A,thetas), label = 'h')\n",
    "plt.plot(thetas, thetas, label = 'diagonal')\n",
    "plt.legend()\n",
    "ax = plt.gca()"
   ]
  },
  {
   "cell_type": "code",
   "execution_count": 94,
   "metadata": {
    "deletable": false,
    "editable": false,
    "nbgrader": {
     "cell_type": "code",
     "checksum": "c48df46f0ef7cf50919678721308f8c4",
     "grade": true,
     "grade_id": "cell-1d546ed8b197c83d",
     "locked": true,
     "points": 1,
     "schema_version": 3,
     "solution": false,
     "task": false
    }
   },
   "outputs": [],
   "source": [
    "assert len(ax.lines) == 2\n",
    "assert len(ax.get_legend().texts) == 2"
   ]
  },
  {
   "cell_type": "code",
   "execution_count": 95,
   "metadata": {
    "deletable": false,
    "editable": false,
    "nbgrader": {
     "cell_type": "code",
     "checksum": "3252ebee9b61d65c909a55494902b8da",
     "grade": true,
     "grade_id": "cell-77095a20ece4ad08",
     "locked": true,
     "points": 1,
     "schema_version": 3,
     "solution": false,
     "task": false
    }
   },
   "outputs": [],
   "source": [
    "for l in ax.lines:\n",
    "    xs = l.get_xdata()\n",
    "    ys = l.get_ydata()\n",
    "    assert np.isclose(min(xs), -np.pi)\n",
    "    assert np.isclose(max(xs),  np.pi)\n",
    "    assert np.isclose(min(ys), -np.pi, rtol=1e-1)\n",
    "    assert np.isclose(max(ys),  np.pi, rtol=1e-1)"
   ]
  },
  {
   "cell_type": "markdown",
   "metadata": {},
   "source": [
    "Como esse gráfico ajuda a explicar as questões anteriores?"
   ]
  },
  {
   "cell_type": "markdown",
   "metadata": {
    "deletable": false,
    "nbgrader": {
     "cell_type": "markdown",
     "checksum": "1f83b83e8b23fb62e749c1359d045040",
     "grade": true,
     "grade_id": "cell-4546a632d241fab8",
     "locked": false,
     "points": 2,
     "schema_version": 3,
     "solution": true,
     "task": false
    }
   },
   "source": [
    "A função h iterada, como feito para encontrar o comprimento das imagens, funciona de forma similar ao método da potência nesse caso. Isto é, começamos com um angulo (que equivale ao vetor de chute inicial) e, ao aplicar h sucessivamente, convergimos para um outro angulo que é, de fato, o angulo de algum autovetor da matriz A dada."
   ]
  },
  {
   "cell_type": "markdown",
   "metadata": {},
   "source": [
    "Portanto, o gráfico acima traduz o comportamento explicitado nas questões anteriores. Nos pontos de encontro entre h e a diagonal temos que a direção dos vetores v e Av são a mesma, ou seja, são os autovetores. Dessa forma, o gráfico em azul acima explica a quantidade de iterações seguir um comportamento quase simétrico em relação aos angulos dos autovalores - aqui mostrados como essas interseções, tendo seus pontos de mínimo/máximo nos locais que mais iterações são necessárias."
   ]
  },
  {
   "cell_type": "code",
   "execution_count": 97,
   "metadata": {},
   "outputs": [
    {
     "data": {
      "image/png": "[encoded data removed]",
      "text/plain": [
       "<Figure size 432x288 with 1 Axes>"
      ]
     },
     "metadata": {
      "needs_background": "light"
     },
     "output_type": "display_data"
    }
   ],
   "source": [
    "A = [[1, 2], [2,3]]\n",
    "thetas = np.linspace(-np.pi, np.pi, num=300)\n",
    "n_iters = []\n",
    "for theta in thetas:\n",
    "    v = np.array([np.cos(theta),np.sin(theta)])\n",
    "    n_iters.append(max_ev(A,v,1e-12)[2])\n",
    "plt.plot(thetas,n_iters)  \n",
    "plt.xlabel(\"Theta\")\n",
    "plt.ylabel(\"#Iter\")\n",
    "plt.grid()\n",
    "ax = plt.gca()"
   ]
  },
  {
   "cell_type": "markdown",
   "metadata": {},
   "source": [
    "Acima está reproduzido o gráfico para o número de iterações considerando o intervalo [-pi,pi]. Nota-se, como explicado acima, que os pontos de minimo são as interções da reta com o gráfico de h e os máximo são os pontos mais distantes destes."
   ]
  }
 ],
 "metadata": {
  "kernelspec": {
   "display_name": "Python 3",
   "language": "python",
   "name": "python3"
  },
  "language_info": {
   "codemirror_mode": {
    "name": "ipython",
    "version": 3
   },
   "file_extension": ".py",
   "mimetype": "text/x-python",
   "name": "python",
   "nbconvert_exporter": "python",
   "pygments_lexer": "ipython3",
   "version": "3.8.5"
  }
 },
 "nbformat": 4,
 "nbformat_minor": 4
}

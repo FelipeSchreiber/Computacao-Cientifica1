{
 "cells": [
  {
   "cell_type": "markdown",
   "metadata": {},
   "source": [
    "![CC-BY-SA](https://mirrors.creativecommons.org/presskit/buttons/88x31/svg/by-sa.svg)\n",
    "\n",
    "\n",
    "This notebook was created by [Bernardo Freitas Paulo da Costa](http://www.im.ufrj.br/bernardofpc),\n",
    "and is licensed under Creative Commons BY-SA."
   ]
  },
  {
   "cell_type": "markdown",
   "metadata": {},
   "source": [
    "Antes de enviar este Teste, verifique que tudo está funcionando como esperado.\n",
    "Por exemplo, **rode o código inteiro, do zero**.\n",
    "Para isso, vá no menu, escolha _Kernel_, depois _Restart & Run All_.\n",
    "\n",
    "Verifique, também, que você respondeu todas as questões:\n",
    "* as questões de código têm `YOUR CODE HERE` (e você pode apagar o `raise NotImplemented` ao incluir sua resposta)\n",
    "* as questões discursivas têm \"YOUR ANSWER HERE\"."
   ]
  },
  {
   "cell_type": "markdown",
   "metadata": {},
   "source": [
    "---"
   ]
  },
  {
   "cell_type": "markdown",
   "metadata": {
    "deletable": false,
    "editable": false,
    "nbgrader": {
     "cell_type": "markdown",
     "checksum": "9fdd8680dff6e6d25c487ef80fdc7fa5",
     "grade": false,
     "grade_id": "cell-b55aae11f3b4295b",
     "locked": true,
     "schema_version": 3,
     "solution": false,
     "task": false
    }
   },
   "source": [
    "# Funções inversas e algoritmos de cálculo de raízes"
   ]
  },
  {
   "cell_type": "code",
   "execution_count": 1,
   "metadata": {
    "deletable": false,
    "editable": false,
    "nbgrader": {
     "cell_type": "code",
     "checksum": "95b1d86bf80872478e5b6c85a6daa982",
     "grade": false,
     "grade_id": "cell-1a3e54d71d633ff5",
     "locked": true,
     "schema_version": 3,
     "solution": false,
     "task": false
    }
   },
   "outputs": [],
   "source": [
    "import numpy as np\n",
    "import matplotlib.pyplot as plt"
   ]
  },
  {
   "cell_type": "markdown",
   "metadata": {
    "deletable": false,
    "editable": false,
    "nbgrader": {
     "cell_type": "markdown",
     "checksum": "d9b9b13efa184434e57b7c8da57739aa",
     "grade": false,
     "grade_id": "cell-a8ca76438cd9863f",
     "locked": true,
     "schema_version": 3,
     "solution": false,
     "task": false
    }
   },
   "source": [
    "# Parte 0: Inversa em um intervalo\n",
    "\n",
    "Se a função $f: [a,b] \\to R$ é injetiva em $[a,b]$,\n",
    "ela possui uma inversa $g$, definida da imagem de $f$ e com valores no intervalo $[a,b]$."
   ]
  },
  {
   "cell_type": "markdown",
   "metadata": {
    "deletable": false,
    "editable": false,
    "nbgrader": {
     "cell_type": "markdown",
     "checksum": "6b132172e5b737f7822bc1cdfc21794a",
     "grade": false,
     "grade_id": "cell-fc15e54d3ef3127e",
     "locked": true,
     "schema_version": 3,
     "solution": false,
     "task": false
    }
   },
   "source": [
    "Explique porque $f$ ser contínua e monótona garante que $f(x) = y$\n",
    "sempre terá uma única raiz para $y$ entre $f(a)$ e $f(b)$.\n",
    "\n",
    "Conclua que a bisseção sempre funciona neste caso."
   ]
  },
  {
   "cell_type": "markdown",
   "metadata": {
    "deletable": false,
    "nbgrader": {
     "cell_type": "markdown",
     "checksum": "85799f2f36d00790c64ef117f726ed30",
     "grade": true,
     "grade_id": "cell-1a9b124157ff2936",
     "locked": false,
     "points": 3,
     "schema_version": 3,
     "solution": true,
     "task": false
    }
   },
   "source": [
    "#isso é apenas a minha ideia de resposta, podem modificar\\\n",
    "Primeiro, vamos definir a função $h$, de modo que $h(x) = f(x) - y$. Como estamos apenas deslocando o valor de $f(x)$ por y unidades, a função $h$ também será contínua e monótona.\n",
    "Como $h$ é contínua no intervalo, supondo que $h(a)$ e $h(b)$ tem sinais opostos, o Teorema do Valor Intermediário nos garante que existe $c$, tal que $h(c) = 0$(no caso de $h(a)$ ou $h(b)$ serem $0$, o resultado é imediato).\\\n",
    "Além disso, como $h$ é monótona, isso implica que sua derivada, $h´$, no intervalo, é sempre positiva ou negativa, ou seja, a função é estritamente crescente ou decrescente dentro daquele intervalo, respectivamente.\\\n",
    "Suponha, por absurdo, que exista outro ponto, $d$, tal que $h(d) = 0$.Pelo Teorema de Rolle, existiria um ponto $e$, entre $c$ e $d$, tal que $h´(e) = 0$.\\\n",
    "Entretanto, isso é uma contradição com o fato da função ser monótona.\\\n",
    "Portanto, não pode existir outra raiz de $h$ no intervalo $[a,b]$. Como consequência, há apenas uma raiz para $f$ nesse intervalo.\n",
    "\n",
    "Com o exposto acima, podemos concluir que de fato a bisseção sempre funciona nesse caso.\\\n",
    "Isso porque, ao dividirmos o intervalo $[a,b]$ na metade, teremos duas opções: ou $h(\\frac{a+b}{2})$ é zero, ou não é.\\\n",
    "A primeira opção representa um dos possíveis critérios de término do algoritmo, assim como confirma a existência da raiz.\\\n",
    "Já a segunda, seja o resultado positivo ou negativo, poderemos construir um novo intervalo com  as mesmas propriedades do anterior(basta substituir um dos extremos por $\\frac{a+b}{2}$, de modo que $h(extremo)$ possua mesmo sinal que $h(\\frac{a+b}{2})$) e que esteja contido nele, ou seja, construiremos intervalos encaixantes.\\\n",
    "Desse modo, teremos intervalos de tamanho tão pequeno quanto se queira($[m - \\epsilon, m + \\epsilon]$), com as mesmas propriedades do original, o que nos garante a existência da raiz."
   ]
  },
  {
   "cell_type": "markdown",
   "metadata": {
    "deletable": false,
    "editable": false,
    "nbgrader": {
     "cell_type": "markdown",
     "checksum": "33692605ec15888fdc91036b108c7748",
     "grade": false,
     "grade_id": "cell-98cde122ae409c5c",
     "locked": true,
     "schema_version": 3,
     "solution": false,
     "task": false
    }
   },
   "source": [
    "Se, além disso, $f$ for derivável, isso garante que o método de Newton vai encontrar uma raiz para $f(x) = y$?"
   ]
  },
  {
   "cell_type": "markdown",
   "metadata": {
    "deletable": false,
    "nbgrader": {
     "cell_type": "markdown",
     "checksum": "5e209d0a9ebb97655d57c6a4f4bb2969",
     "grade": true,
     "grade_id": "cell-67e54abe65012bf6",
     "locked": false,
     "points": 2,
     "schema_version": 3,
     "solution": true,
     "task": false
    }
   },
   "source": [
    "Não garante que o método de Newton encontre uma raiz. Suponha uma função estritamente contínua e crescente nesse intervalo. Se a sua derivada e $x_0$ for tal que $x_1 = x_0 - f(x_0)/f'(x_0)$ e $x_0 = x_1 - f(x_1)/f'(x_1)$ então temos a ocorrência de um ciclo. No entanto, há ainda casos em que existem muito mais pontos entre a repetição do $x_0$, que não são tão difíceis de mostrar."
   ]
  },
  {
   "cell_type": "markdown",
   "metadata": {
    "deletable": false,
    "editable": false,
    "nbgrader": {
     "cell_type": "markdown",
     "checksum": "58fec5e4039c56cf1443aae4a1dc1ff2",
     "grade": false,
     "grade_id": "cell-d641a5c92ed1a636",
     "locked": true,
     "schema_version": 3,
     "solution": false,
     "task": false
    }
   },
   "source": [
    "# Parte 1: Usando a bisseção"
   ]
  },
  {
   "cell_type": "markdown",
   "metadata": {
    "deletable": false,
    "editable": false,
    "nbgrader": {
     "cell_type": "markdown",
     "checksum": "9abeb14fdedf65ae7d6db3a9dfeb0cce",
     "grade": false,
     "grade_id": "cell-8ca04a0116344dea",
     "locked": true,
     "schema_version": 3,
     "solution": false,
     "task": false
    }
   },
   "source": [
    "## Questão 1: Implementação\n",
    "\n",
    "Escreva uma função `biss_solve(f, y, a, b)` que encontra a solução de $f(x) = y$ no intervalo $[a,b]$,\n",
    "supondo que $f$ é contínua e monótona neste intervalo.\n",
    "Não esqueça de testar que, de fato, tem uma solução!"
   ]
  },
  {
   "cell_type": "code",
   "execution_count": 2,
   "metadata": {
    "deletable": false,
    "nbgrader": {
     "cell_type": "code",
     "checksum": "8862d9c3b0a5b3fa32d02add93b824af",
     "grade": false,
     "grade_id": "cell-a895bd89981bb8fa",
     "locked": false,
     "schema_version": 3,
     "solution": true,
     "task": false
    }
   },
   "outputs": [],
   "source": [
    "def biss_solve(f, y, a, b, xtol=1e-8, ytol=1e-8):\n",
    "    \"\"\"Bissects the interval  [a,b]  until an approximate solution to  f(x) = y  is found.\n",
    "    Also returns the number of bissections\"\"\"\n",
    "    #assert (f(a)-y)*(f(b)-y) < 0, 'Não há solução'\n",
    "    m = (a+b)/2\n",
    "    nbiss = 1\n",
    "    #Checar se a função é decrescente\n",
    "    if f(b) < f(a):\n",
    "         while not abs(f(m)-y) < ytol or abs(b-a) < xtol:\n",
    "            if f(m) > y: #Nesse caso, temos que pensar 'ao contrário'\n",
    "                a = m\n",
    "            else:\n",
    "                b = m\n",
    "            m = (a+b) / 2\n",
    "            nbiss += 1 \n",
    "    #Se for crescente        \n",
    "    else: \n",
    "        while not abs(f(m)-y) < ytol or abs(b-a) < xtol:\n",
    "            if f(m) < y: #Procedimento padrão\n",
    "                a = m\n",
    "            else:\n",
    "                b = m\n",
    "            m = (a+b) / 2\n",
    "            nbiss += 1 \n",
    "    return m, nbiss"
   ]
  },
  {
   "cell_type": "markdown",
   "metadata": {
    "deletable": false,
    "editable": false,
    "nbgrader": {
     "cell_type": "markdown",
     "checksum": "de43a60226d71b983900b74f4bb4e639",
     "grade": false,
     "grade_id": "cell-c89f44076a21b705",
     "locked": true,
     "schema_version": 3,
     "solution": false,
     "task": false
    }
   },
   "source": [
    "### Testes da bisseção"
   ]
  },
  {
   "cell_type": "code",
   "execution_count": 3,
   "metadata": {
    "deletable": false,
    "editable": false,
    "nbgrader": {
     "cell_type": "code",
     "checksum": "28d53dcf79b6a180510aa7214ba01f04",
     "grade": true,
     "grade_id": "cell-b853f2aa1fba546a",
     "locked": true,
     "points": 1,
     "schema_version": 3,
     "solution": false,
     "task": false
    }
   },
   "outputs": [],
   "source": [
    "z1, n1 = biss_solve(np.sin, 0.5, 0, np.pi/2)\n",
    "z2, n2 = biss_solve(np.sin, 0.5, -np.pi/2, np.pi/2)\n",
    "assert np.sin(z1) <= 1e-8 or abs(np.arcsin(0.5) - z1) < 1e-8\n",
    "assert np.sin(z2) <= 1e-8 or abs(np.arcsin(0.5) - z2) < 1e-8"
   ]
  },
  {
   "cell_type": "code",
   "execution_count": 4,
   "metadata": {
    "deletable": false,
    "editable": false,
    "nbgrader": {
     "cell_type": "code",
     "checksum": "87e7e317cdc52a696c52b19f232be43a",
     "grade": true,
     "grade_id": "cell-9b75beecdd10af5c",
     "locked": true,
     "points": 1,
     "schema_version": 3,
     "solution": false,
     "task": false
    }
   },
   "outputs": [],
   "source": [
    "z1, n1 = biss_solve(np.sin, 0.5, 0, np.pi/2)\n",
    "z2, n2 = biss_solve(np.sin, 0.5, -np.pi/2, np.pi/2)\n",
    "assert 20 <= n1 <= 30\n",
    "assert 20 <= n2 <= 30"
   ]
  },
  {
   "cell_type": "code",
   "execution_count": 5,
   "metadata": {
    "deletable": false,
    "editable": false,
    "nbgrader": {
     "cell_type": "code",
     "checksum": "f385514bc9094fbe8f97d6ecaa665ef3",
     "grade": true,
     "grade_id": "cell-7a44f6087c5b5b27",
     "locked": true,
     "points": 1,
     "schema_version": 3,
     "solution": false,
     "task": false
    }
   },
   "outputs": [],
   "source": [
    "z1, n1 = biss_solve(np.sin, 0.5, 0, np.pi/2)\n",
    "z2, n2 = biss_solve(np.sin, 0.5, -np.pi/2, np.pi/2)\n",
    "assert z1 == z2\n",
    "assert n1 + 1 == n2"
   ]
  },
  {
   "cell_type": "markdown",
   "metadata": {
    "deletable": false,
    "editable": false,
    "nbgrader": {
     "cell_type": "markdown",
     "checksum": "98a7975a3d6f61da7988ec5767d1425c",
     "grade": false,
     "grade_id": "cell-54e72a3dbfe2e150",
     "locked": true,
     "schema_version": 3,
     "solution": false,
     "task": false
    }
   },
   "source": [
    "Explique os testes da caixa acima."
   ]
  },
  {
   "cell_type": "markdown",
   "metadata": {
    "deletable": false,
    "nbgrader": {
     "cell_type": "markdown",
     "checksum": "1c195460444d8ad36085363ac8c0770b",
     "grade": true,
     "grade_id": "cell-62e7ae256b09a0a1",
     "locked": false,
     "points": 2,
     "schema_version": 3,
     "solution": true,
     "task": false
    }
   },
   "source": [
    "Na primeira caixa de testes as chamadas para bisseção é feita com dois intervalos distintos, $z_1 \\in [0,\\frac{\\pi}{2}]$ e $z_2 \\in [\\frac{-\\pi}{2},\\frac{\\pi}{2}]$. A solução da função $sen(x) = 0.5$ nos fornece um x para o qual sen(x) = 0.5, ou seja, calcula a função inversa do seno: a função arcosseno. Como a solução se encontra na parte positiva, ao incializarmos o algoritmo com o intervalo $[\\frac{-\\pi}{2},\\frac{\\pi}{2}]$ na segunda iteração teremos que o próximo intervalo de busca é $[\\frac{-\\pi}{2},\\frac{\\pi}{2}]$. Logo, começando com um intervalo que é exatamente metade dele, teremos que o algoritmo necessita de um passo a menos e ambos convergem para o mesmo valor, dado que inevitavelmente ambos recaem no problema de encontrar a raiz partindo do mesmo intervalo. <p>Vale notar também o números de iterações que leva para o algoritmo convergir. No caso em comçamos com o intervalo $[\\frac{-\\pi}{2},\\frac{\\pi}{2}]$ temos um intervalo de tamanho igual a $\\pi$. Queremos um erro em x na ordem de $1e-8$. Assim, seja o ponto médio $M_n$ do intervalo na n-ésima iteração e $M$ a raiz, logo por construção temos que $|M_n - M|\\leq \\frac{|a - b|}{2^n}$, independente da função que queremos achar a raiz. Logo precisaríamos resolver a equação $1e-8 \\geq \\frac{\\pi}{2^n}$, o que nos fornece n = 29. Vemos que para n = 20 temos um erro aproximadamente na ordem de $1e-6$ e, para n = 30, $1e-9$, logo certamente a solução tem que estar nesse intervalo. "
   ]
  },
  {
   "cell_type": "markdown",
   "metadata": {
    "deletable": false,
    "editable": false,
    "nbgrader": {
     "cell_type": "markdown",
     "checksum": "290179de000ca7781964ee9eed608fb7",
     "grade": false,
     "grade_id": "cell-e33240a3fadc3687",
     "locked": true,
     "schema_version": 3,
     "solution": false,
     "task": false
    }
   },
   "source": [
    "### E mais testes..."
   ]
  },
  {
   "cell_type": "code",
   "execution_count": 6,
   "metadata": {
    "deletable": false,
    "editable": false,
    "nbgrader": {
     "cell_type": "code",
     "checksum": "7f7a84e7a6e54d45e6fdc43e9fe48e25",
     "grade": true,
     "grade_id": "cell-1900fc29c52b5e2e",
     "locked": true,
     "points": 1,
     "schema_version": 3,
     "solution": false,
     "task": false
    }
   },
   "outputs": [],
   "source": [
    "z1, n1 = biss_solve(np.sin, 0.5, np.pi/2, 3*np.pi/2)\n",
    "assert np.sin(z1) <= 1e-8 or abs(np.pi - np.arcsin(0.5) - z1) < 1e-8\n",
    "assert 20 <= n1 <= 30"
   ]
  },
  {
   "cell_type": "code",
   "execution_count": 7,
   "metadata": {
    "deletable": false,
    "editable": false,
    "nbgrader": {
     "cell_type": "code",
     "checksum": "47b3e9de86ce51a99b01089e24a3bf1d",
     "grade": true,
     "grade_id": "cell-788fdbf2d3a9cc6d",
     "locked": true,
     "points": 1,
     "schema_version": 3,
     "solution": false,
     "task": false
    }
   },
   "outputs": [],
   "source": [
    "z1, n1 = biss_solve(np.sin, 0.5, 5*np.pi/2, 3*np.pi/2)\n",
    "assert np.sin(z1) <= 1e-8 or abs(2*np.pi + np.arcsin(0.5) - z1) < 1e-8\n",
    "assert 20 <= n1 <= 30"
   ]
  },
  {
   "cell_type": "markdown",
   "metadata": {
    "deletable": false,
    "editable": false,
    "nbgrader": {
     "cell_type": "markdown",
     "checksum": "ab95c68f1f82acc0ae8b149d35574f15",
     "grade": false,
     "grade_id": "cell-2b5e6ad6ed60ada4",
     "locked": true,
     "schema_version": 3,
     "solution": false,
     "task": false
    }
   },
   "source": [
    "Comente os testes das duas caixas acima."
   ]
  },
  {
   "cell_type": "markdown",
   "metadata": {
    "deletable": false,
    "nbgrader": {
     "cell_type": "markdown",
     "checksum": "8d1a3c2d7dca35dd858a6c146b185a0c",
     "grade": true,
     "grade_id": "cell-ddeb67af1320d169",
     "locked": false,
     "points": 1,
     "schema_version": 3,
     "solution": true,
     "task": false
    }
   },
   "source": [
    "Na primeira caixa estamos resolvendo x tal que sen(x) = 0.5, no entanto isso é feito para intervalo $[\\frac{\\pi}{2},\\frac{3\\pi}{2}]$, embora o domínio da função seno é $[-\\frac{\\pi}{2},\\frac{\\pi}{2}]$. Com isso, o resultado que encontrarmos nesse novo intervalo será exatamente a mesma que aquela encontrada para o domínio original acrescida de $\\pi$. Assim, se fizermos $\\pi - \\arcsin(0.5) - z1$, caso encontrássemos a raiz z1 exata, deveria dar 0. No entanto como estamos resolvendo numericamente, encerramos o algoritmo quando essa diferença for menor que $1e-8$. De forma análoga fazemos para a segunda caixa, que é exatamente o domínio com uma volta ($2\\pi$) a mais. "
   ]
  },
  {
   "cell_type": "markdown",
   "metadata": {
    "deletable": false,
    "editable": false,
    "nbgrader": {
     "cell_type": "markdown",
     "checksum": "772bd92bdf4ccb1b1af2fa0bb18f9b00",
     "grade": false,
     "grade_id": "cell-0dc7ce231060398e",
     "locked": true,
     "schema_version": 3,
     "solution": false,
     "task": false
    }
   },
   "source": [
    "## Questão 2: Gráficos\n",
    "\n",
    "Varie $y$ no intervalo $[0.05, 0.95]$ e faça o gráfico do número de iterações,\n",
    "em função de y, para encontrar uma raiz de $\\sin(x) = y$ no intervalo $[-\\pi/2, \\pi/2]$.\n",
    "\n",
    "Use as tolerâncias padrão."
   ]
  },
  {
   "cell_type": "code",
   "execution_count": 8,
   "metadata": {
    "deletable": false,
    "nbgrader": {
     "cell_type": "code",
     "checksum": "8369b0067a31cbc339f82a461d5acadc",
     "grade": true,
     "grade_id": "cell-aa115151385cf047",
     "locked": false,
     "points": 1,
     "schema_version": 3,
     "solution": true,
     "task": false
    }
   },
   "outputs": [
    {
     "data": {
      "image/png": "[encoded data removed]",
      "text/plain": [
       "<Figure size 432x288 with 1 Axes>"
      ]
     },
     "metadata": {
      "needs_background": "light"
     },
     "output_type": "display_data"
    }
   ],
   "source": [
    "ys = np.linspace(0.05,0.95, num=50)\n",
    "xs = [biss_solve(np.sin,y,-np.pi/2,np.pi/2)[1] for y in ys]\n",
    "\n",
    "plt.plot(ys,xs,'ro-',label='sen(x) = y')\n",
    "plt.title('Número de iterações em função de y')\n",
    "plt.ylabel('Número de iterações')\n",
    "plt.xlabel('Valores de y')\n",
    "plt.legend()\n",
    "\n",
    "ax = plt.gca()"
   ]
  },
  {
   "cell_type": "code",
   "execution_count": 9,
   "metadata": {
    "deletable": false,
    "editable": false,
    "nbgrader": {
     "cell_type": "code",
     "checksum": "f23c3e050f0bdcb813fe12f07e5c0346",
     "grade": true,
     "grade_id": "cell-5c10381e0a4e6c80",
     "locked": true,
     "points": 1,
     "schema_version": 3,
     "solution": false,
     "task": false
    }
   },
   "outputs": [],
   "source": [
    "assert len(ax.lines) == 1\n",
    "assert ax.title.get_text() != \"\"\n",
    "assert ax.get_xlabel() != \"\"\n",
    "assert ax.get_ylabel() != \"\""
   ]
  },
  {
   "cell_type": "markdown",
   "metadata": {
    "deletable": false,
    "editable": false,
    "nbgrader": {
     "cell_type": "markdown",
     "checksum": "8f4f87003758ee4f364258d85df96c0a",
     "grade": false,
     "grade_id": "cell-f0a87b5b3ddcc648",
     "locked": true,
     "schema_version": 3,
     "solution": false,
     "task": false
    }
   },
   "source": [
    "Faça, agora, o gráfico do erro em $x$ (usando `np.arcsin`) e em $y$."
   ]
  },
  {
   "cell_type": "code",
   "execution_count": 10,
   "metadata": {
    "deletable": false,
    "nbgrader": {
     "cell_type": "code",
     "checksum": "83e6673e23ab79725b3d76b968d4993b",
     "grade": true,
     "grade_id": "cell-6aac1a9d3bdaf7f9",
     "locked": false,
     "points": 1,
     "schema_version": 3,
     "solution": true,
     "task": false
    }
   },
   "outputs": [
    {
     "data": {
      "image/png": "[encoded data removed]",
      "text/plain": [
       "<Figure size 432x288 with 1 Axes>"
      ]
     },
     "metadata": {
      "needs_background": "light"
     },
     "output_type": "display_data"
    }
   ],
   "source": [
    "ys = np.linspace(0.05,0.95, num=50)\n",
    "xs = np.abs([biss_solve(np.sin,y,-np.pi/2,np.pi/2)[0] - np.arcsin(y) for y in ys]) #Erro em x\n",
    "xs2 = np.abs([np.sin(biss_solve(np.sin,y,-np.pi/2,np.pi/2)[0]) - y for y in ys]) #Erro em y\n",
    "plt.plot(ys,xs,'ro-',label='Erro em X')\n",
    "plt.plot(ys,xs2,'go--',label='Erro em Y')\n",
    "plt.title('Erro absoluto em X e Y')\n",
    "plt.ylabel('Erro absoluto')\n",
    "plt.xlabel('Valores de y')\n",
    "plt.legend()\n",
    "ax = plt.gca()"
   ]
  },
  {
   "cell_type": "code",
   "execution_count": 11,
   "metadata": {
    "deletable": false,
    "editable": false,
    "nbgrader": {
     "cell_type": "code",
     "checksum": "ac9ca34e7f061be7ccb01170e3f4521d",
     "grade": true,
     "grade_id": "cell-659b21d6ac4866a9",
     "locked": true,
     "points": 1,
     "schema_version": 3,
     "solution": false,
     "task": false
    }
   },
   "outputs": [],
   "source": [
    "assert len(ax.lines) == 2\n",
    "assert len(ax.legend().texts) == 2"
   ]
  },
  {
   "cell_type": "code",
   "execution_count": 12,
   "metadata": {
    "deletable": false,
    "editable": false,
    "nbgrader": {
     "cell_type": "code",
     "checksum": "2075c49076b3524dfe00dff62c62c68f",
     "grade": true,
     "grade_id": "cell-df9afbd30cd1dd0a",
     "locked": true,
     "points": 1,
     "schema_version": 3,
     "solution": false,
     "task": false
    }
   },
   "outputs": [],
   "source": [
    "assert ax.title.get_text() != \"\"\n",
    "assert ax.get_xlabel() != \"\"\n",
    "assert ax.get_ylabel() != \"\""
   ]
  },
  {
   "cell_type": "markdown",
   "metadata": {
    "deletable": false,
    "editable": false,
    "nbgrader": {
     "cell_type": "markdown",
     "checksum": "4a509b98965835097687da4264f25762",
     "grade": false,
     "grade_id": "cell-df14645d3c62e335",
     "locked": true,
     "schema_version": 3,
     "solution": false,
     "task": false
    }
   },
   "source": [
    "O que você percebe neste gráfico?"
   ]
  },
  {
   "cell_type": "markdown",
   "metadata": {
    "deletable": false,
    "nbgrader": {
     "cell_type": "markdown",
     "checksum": "384f0d3d410df2205a75d9376699d0a5",
     "grade": true,
     "grade_id": "cell-d2e03e8d8e7824d9",
     "locked": false,
     "points": 2,
     "schema_version": 3,
     "solution": true,
     "task": false
    }
   },
   "source": [
    "Vemos que o erro em X é aproximadamente igual ao erro em y, para todos os valores de y no intervalo 0.05 a 0.95. Isso acontece pois nesse intervalo vale que $sen(x) \\approx x$. No entanto, conforme os valores de y aumentam, a diferença entre o erro absoluto em Y e em X também aumentam, uma vez que a aproximação $sen(x) \\approx x$ piora conforme mais distante estamos de $x = 0$. "
   ]
  },
  {
   "cell_type": "markdown",
   "metadata": {
    "deletable": false,
    "editable": false,
    "nbgrader": {
     "cell_type": "markdown",
     "checksum": "bbe1601432c011913926c85c45f2eecb",
     "grade": false,
     "grade_id": "cell-a7142d9d0ee527a2",
     "locked": true,
     "schema_version": 3,
     "solution": false,
     "task": false
    }
   },
   "source": [
    "Faça um gráfico do quociente entre os erros."
   ]
  },
  {
   "cell_type": "code",
   "execution_count": 13,
   "metadata": {
    "deletable": false,
    "nbgrader": {
     "cell_type": "code",
     "checksum": "f82a935b3f8497b71db50fddf3a33dba",
     "grade": true,
     "grade_id": "cell-216e4515d4c1b61e",
     "locked": false,
     "points": 1,
     "schema_version": 3,
     "solution": true,
     "task": false
    }
   },
   "outputs": [
    {
     "data": {
      "text/plain": [
       "<matplotlib.legend.Legend at 0x7fe9d63a88b0>"
      ]
     },
     "execution_count": 13,
     "metadata": {},
     "output_type": "execute_result"
    },
    {
     "data": {
      "image/png": "[encoded data removed]",
      "text/plain": [
       "<Figure size 432x288 with 1 Axes>"
      ]
     },
     "metadata": {
      "needs_background": "light"
     },
     "output_type": "display_data"
    }
   ],
   "source": [
    "ys = np.linspace(0.05,0.95, num=50)\n",
    "xs3 = xs / xs2 #Erro em x sobre erro em y\n",
    "plt.plot(ys,xs3,'ro-',label='Erro em X')\n",
    "plt.title('Quociente entre erros absolutos em X e Y para alguns pontos')\n",
    "plt.xlabel('Pontos')\n",
    "plt.ylabel('Quociente entre X e Y')\n",
    "plt.legend()"
   ]
  },
  {
   "cell_type": "markdown",
   "metadata": {
    "deletable": false,
    "editable": false,
    "nbgrader": {
     "cell_type": "markdown",
     "checksum": "48600197375a7d5a7a21db5592051f4b",
     "grade": false,
     "grade_id": "cell-3c24203297096e87",
     "locked": true,
     "schema_version": 3,
     "solution": false,
     "task": false
    }
   },
   "source": [
    "Como este gráfico ajuda a explicar o anterior?"
   ]
  },
  {
   "cell_type": "markdown",
   "metadata": {
    "deletable": false,
    "nbgrader": {
     "cell_type": "markdown",
     "checksum": "5ac674561ef75771ae0f97912a07803d",
     "grade": true,
     "grade_id": "cell-ef13ed4aa3cd24b4",
     "locked": false,
     "points": 2,
     "schema_version": 3,
     "solution": true,
     "task": false
    }
   },
   "source": [
    "Sabemos que a $sen(x) \\approx x$ é válida apenas para $x \\approx 0$. Assim, no caso em que essa relação é válida, esperamos que a razão entre os erros seja 1. No entanto o gráfico acima mostra que o erro em y dessa aproximação cresce de forma exponencial conforme x se distancia de 0."
   ]
  },
  {
   "cell_type": "markdown",
   "metadata": {
    "deletable": false,
    "editable": false,
    "nbgrader": {
     "cell_type": "markdown",
     "checksum": "0bc1d70a90ddda8ee68bfce34c60ef90",
     "grade": false,
     "grade_id": "cell-cb5acc256855fd7a",
     "locked": true,
     "schema_version": 3,
     "solution": false,
     "task": false
    }
   },
   "source": [
    "# Parte 2: Newton"
   ]
  },
  {
   "cell_type": "markdown",
   "metadata": {
    "deletable": false,
    "editable": false,
    "nbgrader": {
     "cell_type": "markdown",
     "checksum": "fe05ac760bfaf79f6dccfd345a205cf8",
     "grade": false,
     "grade_id": "cell-4537ceb4073a55c8",
     "locked": true,
     "schema_version": 3,
     "solution": false,
     "task": false
    }
   },
   "source": [
    "## Questão 3: Implementação\n",
    "\n",
    "Escreva uma função `newton_solve(f, df, y, x0)` que encontra uma solução de $f(x) = y$,\n",
    "a partir de $x_0$."
   ]
  },
  {
   "cell_type": "code",
   "execution_count": 14,
   "metadata": {
    "deletable": false,
    "nbgrader": {
     "cell_type": "code",
     "checksum": "14864ce88f86d58be55812bfc75a5f1f",
     "grade": false,
     "grade_id": "cell-b4601196fa5db578",
     "locked": false,
     "schema_version": 3,
     "solution": true,
     "task": false
    }
   },
   "outputs": [],
   "source": [
    "pts = []\n",
    "def newton_solve(f, df, y, x0, xtol=1e-8, ytol=1e-8, maxiter=100):\n",
    "    \"\"\"Newton's algorithm for solving  f(x) = y  starting from  x0.\n",
    "    Also returns the number of evaluations of f\"\"\"\n",
    "    nevals = 0\n",
    "    x_at = x0\n",
    "    pts.append(x_at)\n",
    "    for iteracao in range(maxiter):\n",
    "        passo = (f(x_at)-y) / df(x_at)       \n",
    "        x_at -= passo\n",
    "        pts.append(x_at)\n",
    "        nevals += 1\n",
    "        if abs(f(x_at)-y) < ytol or abs(passo) < xtol:\n",
    "            nevals += 1\n",
    "            return x_at,nevals\n",
    "    return x_at,nevals"
   ]
  },
  {
   "cell_type": "markdown",
   "metadata": {
    "deletable": false,
    "editable": false,
    "nbgrader": {
     "cell_type": "markdown",
     "checksum": "1014aef36945d84b465da2ff5c962c1a",
     "grade": false,
     "grade_id": "cell-4a01aeae5488f66b",
     "locked": true,
     "schema_version": 3,
     "solution": false,
     "task": false
    }
   },
   "source": [
    "### Testes do algoritmo de Newton"
   ]
  },
  {
   "cell_type": "code",
   "execution_count": 15,
   "metadata": {
    "deletable": false,
    "editable": false,
    "nbgrader": {
     "cell_type": "code",
     "checksum": "6cc14ce2ca2185ac7a357627846d4d52",
     "grade": true,
     "grade_id": "cell-eafc03e88f24ac88",
     "locked": true,
     "points": 1,
     "schema_version": 3,
     "solution": false,
     "task": false
    }
   },
   "outputs": [],
   "source": [
    "z1, n1 = newton_solve(np.sin, np.cos, 0.5, 0)\n",
    "z2, n2 = newton_solve(np.sin, np.cos, 0.5, 0.5)\n",
    "assert np.sin(z1) <= 1e-8 or abs(np.arcsin(0.5) - z1) < 1e-8\n",
    "assert np.sin(z2) <= 1e-8 or abs(np.arcsin(0.5) - z2) < 1e-8"
   ]
  },
  {
   "cell_type": "code",
   "execution_count": 16,
   "metadata": {
    "deletable": false,
    "editable": false,
    "nbgrader": {
     "cell_type": "code",
     "checksum": "ec57a7ac9766ed88145ea4e50e451143",
     "grade": true,
     "grade_id": "cell-ee25431086ff5de5",
     "locked": true,
     "points": 1,
     "schema_version": 3,
     "solution": false,
     "task": false
    }
   },
   "outputs": [],
   "source": [
    "z1, n1 = newton_solve(np.sin, np.cos, 0.5, 0)\n",
    "z2, n2 = newton_solve(np.sin, np.cos, 0.5, 0.5)\n",
    "assert 3 <= n1 <= 6\n",
    "assert 3 <= n2 <= 6"
   ]
  },
  {
   "cell_type": "code",
   "execution_count": 17,
   "metadata": {
    "deletable": false,
    "editable": false,
    "nbgrader": {
     "cell_type": "code",
     "checksum": "f29eb74ef118001e6fd08eb839674b62",
     "grade": true,
     "grade_id": "cell-b8952664190cc62c",
     "locked": true,
     "points": 1,
     "schema_version": 3,
     "solution": false,
     "task": false
    }
   },
   "outputs": [],
   "source": [
    "z1, n1 = newton_solve(np.sin, np.cos, 0.5, 0)\n",
    "z2, n2 = newton_solve(np.sin, np.cos, 0.5, 0.5)\n",
    "assert z1 == z2\n",
    "assert n1 == n2 + 1"
   ]
  },
  {
   "cell_type": "markdown",
   "metadata": {
    "deletable": false,
    "editable": false,
    "nbgrader": {
     "cell_type": "markdown",
     "checksum": "453603ec8fc8f68724f761e7fba8d1c9",
     "grade": false,
     "grade_id": "cell-be3b29780cc2b75d",
     "locked": true,
     "schema_version": 3,
     "solution": false,
     "task": false
    }
   },
   "source": [
    "Explique os testes da caixa acima, e compare com o teste equivalente para a bisseção."
   ]
  },
  {
   "cell_type": "markdown",
   "metadata": {
    "deletable": false,
    "nbgrader": {
     "cell_type": "markdown",
     "checksum": "087829a93c5e476b649147a27ce2b097",
     "grade": true,
     "grade_id": "cell-b87571f0079ec8e7",
     "locked": false,
     "points": 2,
     "schema_version": 3,
     "solution": true,
     "task": false
    }
   },
   "source": [
    "Assim como na bisseção, o primeiro assert apenas verifica que a solução encontrada é a mesma para os dois pontos de início.\n",
    "Vamos avaliar o que acontece quando começamos o método em $x{0} = 0$.\n",
    "Fazendo o passo, teremos que $x{1} = - \\frac{f(0)-0.5}{f'(0)}$, mas sabemos que $f'(0) = cos(0) = 1$ e $f(0) = sen(0) = 0$, entao $x_{1} = 0.5$.\n",
    "Agora,basta observar que esse é exatamente o ponto de início do outro teste. Portanto, teremos exatamente uma iteração a mais caso comecemos em $x = 0$, o que é vericado por assert n1 == n2 + 1."
   ]
  },
  {
   "cell_type": "markdown",
   "metadata": {
    "deletable": false,
    "editable": false,
    "nbgrader": {
     "cell_type": "markdown",
     "checksum": "1289eae5bd96770d397b875b170e8e3a",
     "grade": false,
     "grade_id": "cell-a6b3cf48e9a4a09f",
     "locked": true,
     "schema_version": 3,
     "solution": false,
     "task": false
    }
   },
   "source": [
    "### E mais testes..."
   ]
  },
  {
   "cell_type": "code",
   "execution_count": 18,
   "metadata": {
    "deletable": false,
    "editable": false,
    "nbgrader": {
     "cell_type": "code",
     "checksum": "c14d1dcebfb80de150533217bd59d81b",
     "grade": true,
     "grade_id": "cell-10b72ac1045a2e41",
     "locked": true,
     "points": 1,
     "schema_version": 3,
     "solution": false,
     "task": false
    }
   },
   "outputs": [],
   "source": [
    "z0, n0 = newton_solve(np.sin, np.cos, 0.5, 0)\n",
    "\n",
    "for n in range(1,100):\n",
    "    z1, n1 = newton_solve(np.sin, np.cos, 0.5, 2*n*np.pi)\n",
    "    assert np.sin(z1) <= 1e-8 or abs(2*n*np.pi + np.arcsin(0.5) - z1) < 1e-8, n\n",
    "    assert 2 <= n1 <= 6, n\n",
    "    assert n1 == n0, n\n",
    "    assert np.isclose(z1, z0 + (2*n*np.pi), atol=1e-15, rtol=1e-15), n"
   ]
  },
  {
   "cell_type": "markdown",
   "metadata": {
    "deletable": false,
    "editable": false,
    "nbgrader": {
     "cell_type": "markdown",
     "checksum": "7c6884629a6805eebd5a80ef71844136",
     "grade": false,
     "grade_id": "cell-83db4d041aa22027",
     "locked": true,
     "schema_version": 3,
     "solution": false,
     "task": false
    }
   },
   "source": [
    "Comente a caixa anterior."
   ]
  },
  {
   "cell_type": "markdown",
   "metadata": {
    "deletable": false,
    "nbgrader": {
     "cell_type": "markdown",
     "checksum": "cca3e238a8d9961b7f6ab58169d36d6c",
     "grade": true,
     "grade_id": "cell-e3eaee34f4567475",
     "locked": false,
     "points": 2,
     "schema_version": 3,
     "solution": true,
     "task": false
    }
   },
   "source": [
    "Notamos que a caixa acima executa testes variando o x inicial de $2\\pi$ em $2\\pi$. Dessa forma esperamos que a cada iteração encontremos uma raiz exatamente igual a anterior, embora deslocada de $2\\pi$. O teste abs(2*n*np.pi + np.arcsin(0.5) - z1) < 1e-8 verifica se z1 está próximo da solução exata para a n-ésima iteração, isto é, se z1 está perto o suficiente da raiz exata para o domínio da função, dada por np.arcsin(0.5), somada de $2n\\pi$. Por outro lado o teste com np.isclose calcula internamente se absolute(z1 - (z0 + 2\\*n\\*np.pi) ) <= (atol + rtol * absolute(z0+(2\\*n\\*np.pi) ) ), retornando True em caso positivo. Esse último teste é similar ao anterior, no entanto além da tolerância absoluta, ele leva em conta também a tolerância relativa. Isso é muito útil pois errar em 1 unidade para uma raiz que é 1.000.000 é muito melhor do que errar em 1 unidade quando a raiz é 2 por exemplo, e a tolerância relativa leva isso em conta. "
   ]
  },
  {
   "cell_type": "markdown",
   "metadata": {
    "deletable": false,
    "editable": false,
    "nbgrader": {
     "cell_type": "markdown",
     "checksum": "5ee1b3ca6afb97f46675236fd7685391",
     "grade": false,
     "grade_id": "cell-c9ec5a65844c19e8",
     "locked": true,
     "schema_version": 3,
     "solution": false,
     "task": false
    }
   },
   "source": [
    "## Questão 4: Gráficos\n",
    "\n",
    "Varie $y$ no intervalo $[0.05, 0.95]$ e faça o gráfico do número de iterações,\n",
    "em função de y, para encontrar uma raiz de $\\sin(x) = y$ no intervalo $[-\\pi/2, \\pi/2]$.\n",
    "\n",
    "Use as tolerâncias padrão."
   ]
  },
  {
   "cell_type": "code",
   "execution_count": 19,
   "metadata": {
    "deletable": false,
    "nbgrader": {
     "cell_type": "code",
     "checksum": "7283219380a0f675cdbac26855ff084b",
     "grade": false,
     "grade_id": "cell-362d141732651100",
     "locked": false,
     "schema_version": 3,
     "solution": true,
     "task": false
    }
   },
   "outputs": [
    {
     "data": {
      "image/png": "[encoded data removed]",
      "text/plain": [
       "<Figure size 432x288 with 1 Axes>"
      ]
     },
     "metadata": {
      "needs_background": "light"
     },
     "output_type": "display_data"
    }
   ],
   "source": [
    "ys = np.linspace(0.05,0.95, num=50)\n",
    "xs = [newton_solve(np.sin,np.cos,y,0)[1] for y in ys]\n",
    "\n",
    "plt.plot(ys,xs,'ro-',label='sen(x) = y')\n",
    "plt.title('Número de iterações em função de y')\n",
    "plt.ylabel('Número de iterações')\n",
    "plt.xlabel('Valores de y')\n",
    "plt.legend()\n",
    "\n",
    "ax = plt.gca()"
   ]
  },
  {
   "cell_type": "code",
   "execution_count": 20,
   "metadata": {
    "deletable": false,
    "editable": false,
    "nbgrader": {
     "cell_type": "code",
     "checksum": "71fc48f0e54679c539f567bc8655ad41",
     "grade": true,
     "grade_id": "cell-03bdf4e90851e28f",
     "locked": true,
     "points": 1,
     "schema_version": 3,
     "solution": false,
     "task": false
    }
   },
   "outputs": [],
   "source": [
    "assert len(ax.lines) == 1\n",
    "assert ax.title.get_text() != \"\"\n",
    "assert ax.get_xlabel() != \"\"\n",
    "assert ax.get_ylabel() != \"\""
   ]
  },
  {
   "cell_type": "markdown",
   "metadata": {
    "deletable": false,
    "editable": false,
    "nbgrader": {
     "cell_type": "markdown",
     "checksum": "f58e2c2e2b16195f74bf37cf087b6ec5",
     "grade": false,
     "grade_id": "cell-072dd0578623e381",
     "locked": true,
     "schema_version": 3,
     "solution": false,
     "task": false
    }
   },
   "source": [
    "Comente as diferenças entre este gráfico e o correpondente para a bisseção."
   ]
  },
  {
   "cell_type": "markdown",
   "metadata": {
    "deletable": false,
    "nbgrader": {
     "cell_type": "markdown",
     "checksum": "b0d22345dd2ca085e924734e3996045b",
     "grade": true,
     "grade_id": "cell-6379e66d59544cd6",
     "locked": false,
     "points": 2,
     "schema_version": 3,
     "solution": true,
     "task": false
    }
   },
   "source": [
    "Nesse gráfico, para cada intervalo de valores, há um número fixo de iterações, ao contrário da bisseção, no qual não há nenhum padrão aparente. Aliado a esse fato, também se pode destacar que o número de iterações foi estritamente crescente conforme o ponto y se aproximou de um ponto crítico da $f$(máximo local), fator que não tem influência no método da bisseção. Além disso, podemos afirmar que o algoritmo foi muito mais eficiente, visto que o máximo de iterações usadas foram 6, enquanto na bisseção foram 28."
   ]
  },
  {
   "cell_type": "markdown",
   "metadata": {
    "deletable": false,
    "editable": false,
    "nbgrader": {
     "cell_type": "markdown",
     "checksum": "6b7b82d29c71ed63aa1c8bbc69793748",
     "grade": false,
     "grade_id": "cell-d1eb8c7ca6a3606e",
     "locked": true,
     "schema_version": 3,
     "solution": false,
     "task": false
    }
   },
   "source": [
    "Como você explica estas diferenças?"
   ]
  },
  {
   "cell_type": "code",
   "execution_count": 21,
   "metadata": {},
   "outputs": [
    {
     "data": {
      "image/png": "[encoded data removed]",
      "text/plain": [
       "<Figure size 432x288 with 1 Axes>"
      ]
     },
     "metadata": {
      "needs_background": "light"
     },
     "output_type": "display_data"
    },
    {
     "name": "stdout",
     "output_type": "stream",
     "text": [
      "Bissection: [0.10710678118654748, 0.2173165676349102, 0.0444297669803978, 0.03439328416364551, 0.004300695507566621, 0.015231590580626841, 0.005511041404325567, 0.0006164793838689953, 0.0018392930036575939, 0.000610701599435326, 3.0653753890774738e-06, 0.0003037740137915579, 0.00015034329182272987, 7.363620101963342e-05, 3.52847234719178e-05, 1.610950170005676e-05, 6.522020069565926e-06, 1.7283115686383965e-06, 6.68534603120996e-07, 5.298878095194581e-07, 6.932356522160177e-08, 2.3028208007147555e-07, 8.047924693332931e-08, 5.57783819132851e-09] \n",
      " Newton: [0.6, 0.035357526604964606, 0.0005288737514856923, 1.3090605899268581e-07, 8.104628079763643e-15]\n"
     ]
    }
   ],
   "source": [
    "def newton_teste(f, df, y, x0, xtol=1e-8, ytol=1e-8, maxiter=100):\n",
    "    \"\"\"Newton's algorithm for solving  f(x) = y  starting from  x0.\n",
    "    Also returns the number of evaluations of f\"\"\"\n",
    "    nevals = 0\n",
    "    x_at = x0\n",
    "    lista = [x_at]\n",
    "    for iteracao in range(maxiter):\n",
    "        passo = (f(x_at)-y) / df(x_at)\n",
    "        x_at -= passo\n",
    "        nevals += 1\n",
    "        lista.append(x_at)\n",
    "        if abs(f(x_at)-y) < ytol or abs(passo) < xtol:\n",
    "            nevals += 1\n",
    "            return lista,x_at,nevals\n",
    "    return lista,x_at,nevals\n",
    "\n",
    "def biss_teste(f, y, a, b, xtol=1e-8, ytol=1e-8):\n",
    "    \"\"\"Bissects the interval  [a,b]  until an approximate solution to  f(x) = y  is found.\n",
    "    Also returns the number of bissections\"\"\"\n",
    "    #Implementar checagem para ver se há solução\n",
    "    m = (a+b)/2\n",
    "    nbiss = 1\n",
    "    lista = [m]\n",
    "    #Checar se a função é decrescente\n",
    "    if f(b) < f(a):\n",
    "         while not abs(f(m)-y) < ytol or abs(b-a) < xtol:\n",
    "            if f(m) > y: #Nesse caso, temos que pensar 'ao contrário'\n",
    "                a = m\n",
    "            else:\n",
    "                b = m\n",
    "            m = (a+b) / 2\n",
    "            nbiss += 1\n",
    "            lista.append(m)\n",
    "    #Se for crescente        \n",
    "    else: \n",
    "        while not abs(f(m)-y) < ytol or abs(b-a) < xtol:\n",
    "            if f(m) < y: #Procedimento padrão\n",
    "                a = m\n",
    "            else:\n",
    "                b = m\n",
    "            m = (a+b) / 2\n",
    "            nbiss += 1\n",
    "            lista.append(m)\n",
    "    return lista, m, nbiss\n",
    "\n",
    "\n",
    "a = biss_teste(np.sin,0.6,0,np.pi/2)[0]\n",
    "a1 = [abs(np.sin(az) - 0.6) for az in a]\n",
    "b = newton_teste(np.sin,np.cos,0.6,0)[0]\n",
    "b2 = [abs(np.sin(bz) - 0.6) for bz in b]\n",
    "plt.semilogy(np.arange(1,len(a1) + 1),a1,'ro-',label='bissection')\n",
    "plt.semilogy(np.arange(1,len(b2) + 1),b2,'go-',label='newton')\n",
    "plt.legend()\n",
    "plt.grid()\n",
    "plt.xlabel('# iter')\n",
    "plt.ylabel('Erro absoluto em y')\n",
    "plt.title('#iter vs erro absoluto em y')\n",
    "plt.show()\n",
    "print(f'Bissection: {a1}','\\n',f'Newton: {b2}')"
   ]
  },
  {
   "cell_type": "code",
   "execution_count": 22,
   "metadata": {},
   "outputs": [
    {
     "data": {
      "text/plain": [
       "Text(0.5, 1.0, 'Razão de convergencia')"
      ]
     },
     "execution_count": 22,
     "metadata": {},
     "output_type": "execute_result"
    },
    {
     "data": {
      "image/png": "[encoded data removed]",
      "text/plain": [
       "<Figure size 432x288 with 1 Axes>"
      ]
     },
     "metadata": {
      "needs_background": "light"
     },
     "output_type": "display_data"
    }
   ],
   "source": [
    "ax = plt.gca()\n",
    "r_f = [np.abs(a1[i]/a1[i-1]) for i in range(1,len(a1))]\n",
    "r_g = [np.abs(b2[i]/b2[i-1]) for i in range(1,len(b2))]\n",
    "ax.plot(np.arange(len(a1) - 1), r_f, label=\"bisseção\")\n",
    "ax.plot(np.arange(len(b2) - 1), r_g, label=\"newton\")\n",
    "ax.legend()\n",
    "ax.set_xlabel(\"iterações\")\n",
    "ax.set_ylabel(\"| ytol(i) / ytol(i-1) |\") \n",
    "ax.set_title(\"Razão de convergencia\")"
   ]
  },
  {
   "cell_type": "markdown",
   "metadata": {
    "deletable": false,
    "nbgrader": {
     "cell_type": "markdown",
     "checksum": "3315491431984c4616f1716755654d72",
     "grade": true,
     "grade_id": "cell-9271081f4894aa8d",
     "locked": false,
     "points": 2,
     "schema_version": 3,
     "solution": true,
     "task": false
    }
   },
   "source": [
    "Observando o gráfico e as correspondentes listas acima, podemos perceber que a redução do erro em y para o método de newton é de ordem quadrática, enquanto no método da bisseção é de ordem linear, o que explica a diferença de eficiência.\n",
    "Note também que o erro do último ponto no método de Newton é muito inferior à tolerância mínima exigida. Então, dado que a função é localmente contínua e monótona, para valores de y próximos ao escolhido, o número de iterações será o mesmo. Isso não ocorre na bisseção, já que, em geral, a quantidade de iterações está relacionada ao tamanho do intervalo passado."
   ]
  },
  {
   "cell_type": "markdown",
   "metadata": {
    "deletable": false,
    "editable": false,
    "nbgrader": {
     "cell_type": "markdown",
     "checksum": "dcd475ea64f3736b143385af9a432560",
     "grade": false,
     "grade_id": "cell-57404fbbd59abbb0",
     "locked": true,
     "schema_version": 3,
     "solution": false,
     "task": false
    }
   },
   "source": [
    "Faça, agora, o gráfico do erro em $x$ (usando `np.arcsin`) e em $y$."
   ]
  },
  {
   "cell_type": "code",
   "execution_count": 23,
   "metadata": {
    "deletable": false,
    "nbgrader": {
     "cell_type": "code",
     "checksum": "d0d8c1f204a10ce858043b397fe5d7fe",
     "grade": false,
     "grade_id": "cell-db87524237962a2c",
     "locked": false,
     "schema_version": 3,
     "solution": true,
     "task": false
    }
   },
   "outputs": [
    {
     "data": {
      "image/png": "[encoded data removed]",
      "text/plain": [
       "<Figure size 432x288 with 1 Axes>"
      ]
     },
     "metadata": {
      "needs_background": "light"
     },
     "output_type": "display_data"
    }
   ],
   "source": [
    "ys = np.linspace(0.05,0.95, num=50)\n",
    "xs = np.abs([newton_solve(np.sin,np.cos,y,0)[0] - np.arcsin(y) for y in ys]) #Erro em x\n",
    "xs2 = np.abs([np.sin(newton_solve(np.sin,np.cos,y,0)[0]) - y for y in ys]) #Erro em y\n",
    "plt.plot(ys,xs,'ro-',label='Erro em X')\n",
    "plt.plot(ys,xs2,'go--',label='Erro em Y')\n",
    "plt.semilogy()\n",
    "plt.title('Erro absoluto em X e Y')\n",
    "plt.ylabel('Erro absoluto')\n",
    "plt.xlabel('Valores de y')\n",
    "plt.legend()\n",
    "\n",
    "ax = plt.gca()"
   ]
  },
  {
   "cell_type": "code",
   "execution_count": 24,
   "metadata": {
    "deletable": false,
    "editable": false,
    "nbgrader": {
     "cell_type": "code",
     "checksum": "1b516917da79b6559131b89e21601c13",
     "grade": true,
     "grade_id": "cell-f9ad65fd49094a66",
     "locked": true,
     "points": 1,
     "schema_version": 3,
     "solution": false,
     "task": false
    }
   },
   "outputs": [],
   "source": [
    "assert len(ax.lines) == 2\n",
    "assert len(ax.legend().texts) == 2\n",
    "\n",
    "assert ax.title.get_text() != \"\"\n",
    "assert ax.get_xlabel() != \"\"\n",
    "assert ax.get_ylabel() != \"\""
   ]
  },
  {
   "cell_type": "markdown",
   "metadata": {
    "deletable": false,
    "editable": false,
    "nbgrader": {
     "cell_type": "markdown",
     "checksum": "a58592c4fcb9d29e8f6edf87e7c23084",
     "grade": false,
     "grade_id": "cell-a1191845fcac8844",
     "locked": true,
     "schema_version": 3,
     "solution": false,
     "task": false
    }
   },
   "source": [
    "O que você percebe neste gráfico?\n",
    "Em que sentido ele é similar ao correspondente à bisseção, e em que sentido ele é diferente?"
   ]
  },
  {
   "cell_type": "markdown",
   "metadata": {
    "deletable": false,
    "nbgrader": {
     "cell_type": "markdown",
     "checksum": "bf994860d4a73df3b5383702feb7fe4e",
     "grade": true,
     "grade_id": "cell-5f26f201808c4771",
     "locked": false,
     "points": 3,
     "schema_version": 3,
     "solution": true,
     "task": false
    }
   },
   "source": [
    "Primeiramente, vamos analisar o gráfico. Podemos notar uma certa \"periodicidade\" no erro,  que é ocasionada pela tolerância passada.\n",
    "Observe o quinto ponto do gráfico acima: ele está no limite da nossa tolerância($10^{-8}$), então se quisermos encontrar uma raiz mais à direita, começando do mesmo ponto, teremos que fazer mais uma iteração do método. Como esse método reduz o erro quadraticamente, obtemos um erro da ordem de $10^{-16}$, o que explica a queda abrupta no gráfico do quinto para o sexto ponto. Continuando o processo, ou seja, procurando raízes mais à direita, o mesmo fenômeno ocorre, porém como o erro anterior aumenta(isso é, sendo o ponto encontrado pelo método $x_i$, abs$(x_{i-1})$ - arcsin(y) aumenta), então ao reduzirmos esse erro quadraticamente, obteremos um erro maior, o que é representado graficamente pela curva crescente a partir do sexto ponto. Esse 'comportamento periódico' do erro continua e o intervalo entre os 'saltos' se torna mais frequente aos nos aproximarmos de um ponto crítico de $f$.\n",
    "Uma similaridade com o gráfico da bisseção, é que nos dois o erro em x é maior que o erro em y conforme y aumenta.\n",
    "Além da diferença na 'periodicidade do erro', também podemos observar que o erro inferior médio do método do newton é muito inferior ao da bisseção"
   ]
  },
  {
   "cell_type": "markdown",
   "metadata": {
    "deletable": false,
    "editable": false,
    "nbgrader": {
     "cell_type": "markdown",
     "checksum": "048a476d24ce8a84b1c637b61e7016fa",
     "grade": false,
     "grade_id": "cell-e90865a028c451b0",
     "locked": true,
     "schema_version": 3,
     "solution": false,
     "task": false
    }
   },
   "source": [
    "# Parte 3: Aproximações sucessivas\n",
    "\n",
    "O método de Newton funciona bem quando o valor de $x_0$, candidato a raiz de $f(x) = y$,\n",
    "está próximo da raiz real $x = f^{-1}(y)$.\n",
    "\n",
    "Nesta parte, vamos investigar um pouco a ideia de \"começar em um ponto conhecido e seguir daí em diante\"."
   ]
  },
  {
   "cell_type": "markdown",
   "metadata": {
    "deletable": false,
    "editable": false,
    "nbgrader": {
     "cell_type": "markdown",
     "checksum": "dfdb06d1334744874896fa0a129e21d6",
     "grade": false,
     "grade_id": "cell-940b6bc4d7f405e3",
     "locked": true,
     "schema_version": 3,
     "solution": false,
     "task": false
    }
   },
   "source": [
    "## Questão 5: Newton por partes\n",
    "\n",
    "Implemente a função `newton_inv(f, df, ys, x0)`, que calcula todas as soluções de $f(x) = y$,\n",
    "para cada $y$ no vetor `ys`, que supomos ordenado.\n",
    "Use $x_0$ para iniciar o método, e depois use a raiz anterior para continuar."
   ]
  },
  {
   "cell_type": "code",
   "execution_count": 25,
   "metadata": {
    "deletable": false,
    "nbgrader": {
     "cell_type": "code",
     "checksum": "9b884ff0de73da317baea68ea307bd66",
     "grade": false,
     "grade_id": "cell-09e4b4951c1af3fa",
     "locked": false,
     "schema_version": 3,
     "solution": true,
     "task": false
    }
   },
   "outputs": [],
   "source": [
    "def newton_inv(f, df, ys, x0, xtol=1e-8, ytol=1e-8, maxiter=100):\n",
    "    \"\"\"Newton's algorithm for solving  f(x) = y  for each  y  in the list  ys.\n",
    "    Returns two lists, one of the (approximate) roots, another of the iterations for each one.\"\"\"\n",
    "    xs     = []\n",
    "    nevals = []\n",
    "    for y in ys:\n",
    "        if len(xs) != 0: #Se já tivermos valor no cache, vamos usá-lo como ponto inicial\n",
    "            x_at = xs[-1]\n",
    "        else: #Se for o primeiro, então usar x0 fornecido\n",
    "            x_at = x0\n",
    "        iters = 0\n",
    "        for iteracoes in range(maxiter):\n",
    "            passo = (f(x_at)-y) / df(x_at)       \n",
    "            x_at -= passo\n",
    "            iters += 1\n",
    "            if abs(f(x_at)-y) < ytol or abs(passo) < xtol:\n",
    "                xs.append(x_at)\n",
    "                nevals.append(iters)\n",
    "                break #Temos que interromper aqui para adicionar apenas 1 elemento a cada lista para cada y iterado\n",
    "    return xs, nevals"
   ]
  },
  {
   "cell_type": "code",
   "execution_count": 26,
   "metadata": {
    "deletable": false,
    "editable": false,
    "nbgrader": {
     "cell_type": "code",
     "checksum": "4f55e1e3f41df6ad64da56ce68a31aab",
     "grade": true,
     "grade_id": "cell-4a4cae0a719651e2",
     "locked": true,
     "points": 1,
     "schema_version": 3,
     "solution": false,
     "task": false
    }
   },
   "outputs": [],
   "source": [
    "ys = np.linspace(0,0.5,num=6)\n",
    "xs, ns = newton_inv(np.sin, np.cos, ys, 0, xtol=1e-12, ytol=1e-12)\n",
    "assert len(xs) == len(ys)\n",
    "assert len(ns) == len(ys)"
   ]
  },
  {
   "cell_type": "code",
   "execution_count": 27,
   "metadata": {
    "deletable": false,
    "editable": false,
    "nbgrader": {
     "cell_type": "code",
     "checksum": "955125535e563c2275decd167aa87ab7",
     "grade": true,
     "grade_id": "cell-4f7ab9ed2dedbf2a",
     "locked": true,
     "points": 1,
     "schema_version": 3,
     "solution": false,
     "task": false
    }
   },
   "outputs": [],
   "source": [
    "ys = np.linspace(0,0.5,num=6)\n",
    "xs, ns = newton_inv(np.sin, np.cos, ys, 0, xtol=1e-12, ytol=1e-12)\n",
    "assert np.allclose(np.sin(xs), ys, atol=1e-12, rtol=1e-12)"
   ]
  },
  {
   "cell_type": "code",
   "execution_count": 28,
   "metadata": {
    "deletable": false,
    "editable": false,
    "nbgrader": {
     "cell_type": "code",
     "checksum": "192b9683323135e2f7bd058c15574953",
     "grade": true,
     "grade_id": "cell-d81092b99f7cc5d3",
     "locked": true,
     "points": 1,
     "schema_version": 3,
     "solution": false,
     "task": false
    }
   },
   "outputs": [],
   "source": [
    "ys = np.linspace(0,0.5,num=6)\n",
    "xs, ns = newton_inv(np.sin, np.cos, ys, 0, xtol=1e-12, ytol=1e-12)\n",
    "assert ns[0] == 1\n",
    "assert np.all(3 <= np.array(ns[1:]))\n",
    "assert np.all(np.array(ns[1:]) <= 6)"
   ]
  },
  {
   "cell_type": "code",
   "execution_count": 29,
   "metadata": {
    "deletable": false,
    "editable": false,
    "nbgrader": {
     "cell_type": "code",
     "checksum": "32157a9ed30e1e1ee4549f91ce285f9c",
     "grade": true,
     "grade_id": "cell-ff2332868a7c5816",
     "locked": true,
     "points": 1,
     "schema_version": 3,
     "solution": false,
     "task": false
    }
   },
   "outputs": [],
   "source": [
    "ys = np.linspace(0,0.5,num=11)\n",
    "xs, ns = newton_inv(np.sin, np.cos, ys, 0, xtol=1e-15, ytol=1e-15)\n",
    "assert np.allclose(np.sin(xs), ys, atol=1e-15, rtol=1e-15)"
   ]
  },
  {
   "cell_type": "markdown",
   "metadata": {
    "deletable": false,
    "editable": false,
    "nbgrader": {
     "cell_type": "markdown",
     "checksum": "56455ba6c5318b8f6b67e495c8c389c8",
     "grade": false,
     "grade_id": "cell-0e8f4f8f58e8fdd4",
     "locked": true,
     "schema_version": 3,
     "solution": false,
     "task": false
    }
   },
   "source": [
    "## Questão 6: Gráficos\n",
    "\n",
    "Faça um gráfico do número de iterações necessárias para calcular a inversa do seno,\n",
    "em cada ponto do intervalo $[0, 0.9]$, com precisão de $10^{-15}$,\n",
    "para os três métodos:\n",
    "- bisseção\n",
    "- Newton\n",
    "- Newton por partes"
   ]
  },
  {
   "cell_type": "code",
   "execution_count": 30,
   "metadata": {
    "deletable": false,
    "nbgrader": {
     "cell_type": "code",
     "checksum": "89361dfb654a0db4fa65732b6426e7db",
     "grade": false,
     "grade_id": "cell-e2beb8ea34012b46",
     "locked": false,
     "schema_version": 3,
     "solution": true,
     "task": false
    }
   },
   "outputs": [
    {
     "data": {
      "image/png": "[encoded data removed]",
      "text/plain": [
       "<Figure size 432x288 with 1 Axes>"
      ]
     },
     "metadata": {
      "needs_background": "light"
     },
     "output_type": "display_data"
    }
   ],
   "source": [
    "ys = np.linspace(0,0.95, num=150)\n",
    "xs1 = [biss_solve(np.sin,y,0,np.pi/2,xtol = 1e-15, ytol = 1e-15)[1] for y in ys]\n",
    "xs2 = [newton_solve(np.sin,np.cos,y,0,xtol = 1e-15, ytol = 1e-15)[1] for y in ys]\n",
    "xs3 = newton_inv(np.sin,np.cos,ys,0,xtol = 1e-15, ytol = 1e-15)[0]\n",
    "\n",
    "plt.plot(ys,xs1,'r.-',label='Bisseção')\n",
    "plt.plot(ys,xs2,'g.-',label='Newton')\n",
    "plt.plot(ys,xs3,'b.-',label='Newton por Partes')\n",
    "\n",
    "plt.title('Número de iterações em função de y')\n",
    "plt.ylabel('Número de iterações')\n",
    "plt.xlabel('Valores de y')\n",
    "plt.legend()\n",
    "plt.grid()\n",
    "\n",
    "ax = plt.gca()"
   ]
  },
  {
   "cell_type": "code",
   "execution_count": 31,
   "metadata": {
    "deletable": false,
    "editable": false,
    "nbgrader": {
     "cell_type": "code",
     "checksum": "18e3592d2d60aac9877df1b34e9ee722",
     "grade": true,
     "grade_id": "cell-f2e4f5c631726dc8",
     "locked": true,
     "points": 2,
     "schema_version": 3,
     "solution": false,
     "task": false
    }
   },
   "outputs": [],
   "source": [
    "assert len(ax.lines) == 3\n",
    "assert len(ax.legend().texts) == 3\n",
    "\n",
    "assert ax.title.get_text() != \"\"\n",
    "assert ax.get_xlabel() != \"\"\n",
    "assert ax.get_ylabel() != \"\""
   ]
  },
  {
   "cell_type": "markdown",
   "metadata": {
    "deletable": false,
    "editable": false,
    "nbgrader": {
     "cell_type": "markdown",
     "checksum": "33c084e8c2ed072a7e8706189f65941f",
     "grade": false,
     "grade_id": "cell-2ab96277ff22a6b9",
     "locked": true,
     "schema_version": 3,
     "solution": false,
     "task": false
    }
   },
   "source": [
    "O que você observa?"
   ]
  },
  {
   "cell_type": "markdown",
   "metadata": {
    "deletable": false,
    "nbgrader": {
     "cell_type": "markdown",
     "checksum": "1b11788083dd250c2aa1d42abf349009",
     "grade": true,
     "grade_id": "cell-3cfa5cea1cb4c3f0",
     "locked": false,
     "points": 2,
     "schema_version": 3,
     "solution": true,
     "task": false
    }
   },
   "source": [
    "A priori, podemos observar que o método de Newton por partes é o mais eficiente entre os três, para todos os casos, sendo ambos extremamente superiores à bisseção.\\\n",
    "Outro ponto que é possível avaliar, é que enquanto a bisseção não parece ter um padrão para o número de iterações em relação ao y, tanto o método de Newton comum quanto o por partes, parecem apresentar resultados mais padronizados. Podemos observar, por exemplo, que o número de iterações cresce estritamente enquanto o y se aproxima de um ponto crítico da função $f$. Além disso, para todos os pontos num certo intervalo, o método necessita do mesmo número de iterações, enquanto na bisseção não há relação aparente."
   ]
  },
  {
   "cell_type": "markdown",
   "metadata": {
    "deletable": false,
    "editable": false,
    "nbgrader": {
     "cell_type": "markdown",
     "checksum": "53b85d31202889cc4819b395b5f6b201",
     "grade": false,
     "grade_id": "cell-e86bc1b9fb53084c",
     "locked": true,
     "schema_version": 3,
     "solution": false,
     "task": false
    }
   },
   "source": [
    "## Questão 7: Logaritmos e Exponenciais"
   ]
  },
  {
   "cell_type": "code",
   "execution_count": 32,
   "metadata": {
    "deletable": false,
    "editable": false,
    "nbgrader": {
     "cell_type": "code",
     "checksum": "5912305c302f820fe0af224b2e3703cf",
     "grade": false,
     "grade_id": "cell-e6e2736e6c6ffaa7",
     "locked": true,
     "schema_version": 3,
     "solution": false,
     "task": false
    }
   },
   "outputs": [],
   "source": [
    "def mulinv(x):\n",
    "    return 1/x"
   ]
  },
  {
   "cell_type": "code",
   "execution_count": 33,
   "metadata": {
    "deletable": false,
    "editable": false,
    "nbgrader": {
     "cell_type": "code",
     "checksum": "89907b49b4da52b834d95caa29497cb4",
     "grade": true,
     "grade_id": "cell-9cfa78985f984779",
     "locked": true,
     "points": 1,
     "schema_version": 3,
     "solution": false,
     "task": false
    }
   },
   "outputs": [],
   "source": [
    "x, n = newton_solve(np.log, mulinv, -0.1, 1)\n",
    "assert np.isclose(np.log(x), -0.1)"
   ]
  },
  {
   "cell_type": "code",
   "execution_count": 34,
   "metadata": {},
   "outputs": [
    {
     "data": {
      "text/plain": [
       "<matplotlib.legend.Legend at 0x7fe9d61c8190>"
      ]
     },
     "execution_count": 34,
     "metadata": {},
     "output_type": "execute_result"
    },
    {
     "data": {
      "image/png": "[encoded data removed]",
      "text/plain": [
       "<Figure size 432x288 with 1 Axes>"
      ]
     },
     "metadata": {
      "needs_background": "light"
     },
     "output_type": "display_data"
    }
   ],
   "source": [
    "x = np.arange(0.9,5,0.1)\n",
    "y = np.log(x)\n",
    "d_y = [mulinv(a) for a in x]\n",
    "plt.plot(x,y,label=\"log(x)\")\n",
    "plt.plot(x,d_y,label=\"1/x\")\n",
    "plt.legend()"
   ]
  },
  {
   "cell_type": "code",
   "execution_count": 35,
   "metadata": {
    "deletable": false,
    "editable": false,
    "nbgrader": {
     "cell_type": "code",
     "checksum": "0e9b844782759ca9b4cce54b0a2a95e5",
     "grade": false,
     "grade_id": "cell-7d680ea350bbf2bf",
     "locked": true,
     "schema_version": 3,
     "solution": false,
     "task": false
    }
   },
   "outputs": [
    {
     "name": "stdout",
     "output_type": "stream",
     "text": [
      "0.9 (0.4065696597090395, 7)\n",
      "0.99 (0.3715766910220403, 9)\n",
      "0.999 (0.36824750461324673, 10)\n",
      "0.9999 (0.36791623095413534, 11)\n",
      "0.99999 (0.36788311998397466, 12)\n"
     ]
    }
   ],
   "source": [
    "for y in [0.9, 0.99, 0.999, 0.9999, 0.99999]:\n",
    "    print(y, newton_solve(np.log, mulinv, -y, 1))"
   ]
  },
  {
   "cell_type": "code",
   "execution_count": 36,
   "metadata": {},
   "outputs": [
    {
     "data": {
      "text/plain": [
       "[0,\n",
       " 0.5,\n",
       " 0.523444473818484,\n",
       " 0.5235987687270579,\n",
       " 0.5,\n",
       " 0.523444473818484,\n",
       " 0.5235987687270579,\n",
       " 0,\n",
       " 0.5,\n",
       " 0.523444473818484,\n",
       " 0.5235987687270579,\n",
       " 0.5,\n",
       " 0.523444473818484,\n",
       " 0.5235987687270579,\n",
       " 0,\n",
       " 0.5,\n",
       " 0.523444473818484,\n",
       " 0.5235987687270579,\n",
       " 0.5,\n",
       " 0.523444473818484,\n",
       " 0.5235987687270579,\n",
       " 0,\n",
       " 0.5,\n",
       " 0.523444473818484,\n",
       " 0.5235987687270579,\n",
       " 6.283185307179586,\n",
       " 6.783185307179586,\n",
       " 6.806629780998071,\n",
       " 6.806784075906644,\n",
       " 12.566370614359172,\n",
       " 13.066370614359172,\n",
       " 13.089815088177657,\n",
       " 13.089969383086231,\n",
       " 18.84955592153876,\n",
       " 19.34955592153876,\n",
       " 19.373000395357245,\n",
       " 19.373154690265817,\n",
       " 25.132741228718345,\n",
       " 25.632741228718345,\n",
       " 25.65618570253683,\n",
       " 25.656339997445404,\n",
       " 31.41592653589793,\n",
       " 31.91592653589793,\n",
       " 31.939371009716417,\n",
       " 31.93952530462499,\n",
       " 37.69911184307752,\n",
       " 38.19911184307752,\n",
       " 38.222556316896004,\n",
       " 38.22271061180458,\n",
       " 43.982297150257104,\n",
       " 44.482297150257104,\n",
       " 44.50574162407559,\n",
       " 44.505895918984166,\n",
       " 50.26548245743669,\n",
       " 50.76548245743669,\n",
       " 50.788926931255176,\n",
       " 50.78908122616375,\n",
       " 56.548667764616276,\n",
       " 57.048667764616276,\n",
       " 57.07211223843476,\n",
       " 57.07226653334334,\n",
       " 62.83185307179586,\n",
       " 63.33185307179586,\n",
       " 63.35529754561435,\n",
       " 63.355451840522925,\n",
       " 69.11503837897544,\n",
       " 69.61503837897546,\n",
       " 69.63848285279394,\n",
       " 69.63863714770251,\n",
       " 75.39822368615503,\n",
       " 75.89822368615503,\n",
       " 75.92166815997352,\n",
       " 75.92182245488209,\n",
       " 81.68140899333463,\n",
       " 82.18140899333463,\n",
       " 82.20485346715311,\n",
       " 82.20500776206168,\n",
       " 87.96459430051421,\n",
       " 88.46459430051421,\n",
       " 88.4880387743327,\n",
       " 88.48819306924126,\n",
       " 94.24777960769379,\n",
       " 94.7477796076938,\n",
       " 94.77122408151229,\n",
       " 94.77137837642086,\n",
       " 100.53096491487338,\n",
       " 101.03096491487338,\n",
       " 101.05440938869187,\n",
       " 101.05456368360043,\n",
       " 106.81415022205297,\n",
       " 107.31415022205297,\n",
       " 107.33759469587146,\n",
       " 107.33774899078003,\n",
       " 113.09733552923255,\n",
       " 113.59733552923255,\n",
       " 113.62078000305104,\n",
       " 113.62093429795962,\n",
       " 119.38052083641213,\n",
       " 119.88052083641215,\n",
       " 119.90396531023063,\n",
       " 119.9041196051392,\n",
       " 125.66370614359172,\n",
       " 126.16370614359172,\n",
       " 126.18715061741021,\n",
       " 126.1873049123188,\n",
       " 131.94689145077132,\n",
       " 132.44689145077132,\n",
       " 132.4703359245898,\n",
       " 132.47049021949837,\n",
       " 138.23007675795088,\n",
       " 138.7300767579509,\n",
       " 138.75352123176938,\n",
       " 138.75367552667797,\n",
       " 144.51326206513048,\n",
       " 145.01326206513048,\n",
       " 145.03670653894898,\n",
       " 145.03686083385756,\n",
       " 150.79644737231007,\n",
       " 151.29644737231007,\n",
       " 151.31989184612857,\n",
       " 151.32004614103712,\n",
       " 157.07963267948966,\n",
       " 157.57963267948966,\n",
       " 157.60307715330813,\n",
       " 157.60323144821672,\n",
       " 163.36281798666926,\n",
       " 163.86281798666926,\n",
       " 163.88626246048773,\n",
       " 163.8864167553963,\n",
       " 169.64600329384882,\n",
       " 170.14600329384882,\n",
       " 170.16944776766732,\n",
       " 170.1696020625759,\n",
       " 175.92918860102841,\n",
       " 176.42918860102841,\n",
       " 176.45263307484691,\n",
       " 176.45278736975547,\n",
       " 182.212373908208,\n",
       " 182.712373908208,\n",
       " 182.73581838202648,\n",
       " 182.73597267693506,\n",
       " 188.49555921538757,\n",
       " 188.9955592153876,\n",
       " 189.01900368920607,\n",
       " 189.01915798411466,\n",
       " 194.77874452256717,\n",
       " 195.2787445225672,\n",
       " 195.30218899638567,\n",
       " 195.30234329129425,\n",
       " 201.06192982974676,\n",
       " 201.56192982974676,\n",
       " 201.58537430356526,\n",
       " 201.58552859847381,\n",
       " 207.34511513692635,\n",
       " 207.84511513692635,\n",
       " 207.86855961074482,\n",
       " 207.8687139056534,\n",
       " 213.62830044410595,\n",
       " 214.12830044410595,\n",
       " 214.15174491792442,\n",
       " 214.151899212833,\n",
       " 219.9114857512855,\n",
       " 220.41148575128554,\n",
       " 220.434930225104,\n",
       " 220.4350845200126,\n",
       " 226.1946710584651,\n",
       " 226.6946710584651,\n",
       " 226.7181155322836,\n",
       " 226.71826982719216,\n",
       " 232.4778563656447,\n",
       " 232.9778563656447,\n",
       " 233.00130083946317,\n",
       " 233.00145513437175,\n",
       " 238.76104167282426,\n",
       " 239.2610416728243,\n",
       " 239.28448614664276,\n",
       " 239.28464044155135,\n",
       " 245.04422698000386,\n",
       " 245.54422698000388,\n",
       " 245.56767145382236,\n",
       " 245.56782574873094,\n",
       " 251.32741228718345,\n",
       " 251.82741228718345,\n",
       " 251.85085676100195,\n",
       " 251.8510110559105,\n",
       " 257.610597594363,\n",
       " 258.11059759436307,\n",
       " 258.13404206818154,\n",
       " 258.1341963630901,\n",
       " 263.89378290154264,\n",
       " 264.39378290154264,\n",
       " 264.4172273753611,\n",
       " 264.41738167026966,\n",
       " 270.1769682087222,\n",
       " 270.6769682087222,\n",
       " 270.70041268254073,\n",
       " 270.7005669774493,\n",
       " 276.46015351590177,\n",
       " 276.9601535159018,\n",
       " 276.9835979897203,\n",
       " 276.98375228462885,\n",
       " 282.7433388230814,\n",
       " 283.2433388230814,\n",
       " 283.26678329689986,\n",
       " 283.26693759180847,\n",
       " 289.02652413026095,\n",
       " 289.52652413026095,\n",
       " 289.5499686040795,\n",
       " 289.55012289898804,\n",
       " 295.3097094374406,\n",
       " 295.8097094374406,\n",
       " 295.83315391125905,\n",
       " 295.8333082061676,\n",
       " 301.59289474462014,\n",
       " 302.09289474462014,\n",
       " 302.1163392184386,\n",
       " 302.1164935133472,\n",
       " 307.8760800517997,\n",
       " 308.37608005179976,\n",
       " 308.39952452561823,\n",
       " 308.3996788205268,\n",
       " 314.1592653589793,\n",
       " 314.6592653589793,\n",
       " 314.6827098327978,\n",
       " 314.6828641277064,\n",
       " 320.4424506661589,\n",
       " 320.9424506661589,\n",
       " 320.9658951399774,\n",
       " 320.966049434886,\n",
       " 326.7256359733385,\n",
       " 327.2256359733385,\n",
       " 327.249080447157,\n",
       " 327.24923474206554,\n",
       " 333.0088212805181,\n",
       " 333.5088212805181,\n",
       " 333.53226575433655,\n",
       " 333.53242004924516,\n",
       " 339.29200658769764,\n",
       " 339.79200658769764,\n",
       " 339.81545106151617,\n",
       " 339.8156053564247,\n",
       " 345.57519189487726,\n",
       " 346.07519189487726,\n",
       " 346.09863636869574,\n",
       " 346.0987906636043,\n",
       " 351.85837720205683,\n",
       " 352.35837720205683,\n",
       " 352.3818216758753,\n",
       " 352.3819759707839,\n",
       " 358.1415625092364,\n",
       " 358.64156250923645,\n",
       " 358.6650069830549,\n",
       " 358.6651612779635,\n",
       " 364.424747816416,\n",
       " 364.924747816416,\n",
       " 364.9481922902345,\n",
       " 364.9483465851431,\n",
       " 370.7079331235956,\n",
       " 371.2079331235956,\n",
       " 371.2313775974141,\n",
       " 371.23153189232266,\n",
       " 376.99111843077515,\n",
       " 377.4911184307752,\n",
       " 377.5145629045937,\n",
       " 377.51471719950223,\n",
       " 383.27430373795477,\n",
       " 383.77430373795477,\n",
       " 383.79774821177324,\n",
       " 383.79790250668185,\n",
       " 389.55748904513433,\n",
       " 390.0574890451344,\n",
       " 390.08093351895286,\n",
       " 390.0810878138614,\n",
       " 395.84067435231395,\n",
       " 396.34067435231395,\n",
       " 396.3641188261324,\n",
       " 396.364273121041,\n",
       " 402.1238596594935,\n",
       " 402.6238596594935,\n",
       " 402.647304133312,\n",
       " 402.6474584282206,\n",
       " 408.4070449666731,\n",
       " 408.90704496667314,\n",
       " 408.9304894404916,\n",
       " 408.93064373540017,\n",
       " 414.6902302738527,\n",
       " 415.1902302738527,\n",
       " 415.2136747476712,\n",
       " 415.2138290425798,\n",
       " 420.97341558103227,\n",
       " 421.47341558103227,\n",
       " 421.4968600548508,\n",
       " 421.49701434975935,\n",
       " 427.2566008882119,\n",
       " 427.7566008882119,\n",
       " 427.78004536203036,\n",
       " 427.7801996569389,\n",
       " 433.53978619539146,\n",
       " 434.03978619539146,\n",
       " 434.06323066920993,\n",
       " 434.06338496411854,\n",
       " 439.822971502571,\n",
       " 440.3229715025711,\n",
       " 440.34641597638955,\n",
       " 440.3465702712981,\n",
       " 446.10615680975064,\n",
       " 446.60615680975064,\n",
       " 446.6296012835691,\n",
       " 446.62975557847767,\n",
       " 452.3893421169302,\n",
       " 452.8893421169302,\n",
       " 452.91278659074874,\n",
       " 452.9129408856573,\n",
       " 458.6725274241098,\n",
       " 459.17252742410983,\n",
       " 459.1959718979283,\n",
       " 459.19612619283686,\n",
       " 464.9557127312894,\n",
       " 465.4557127312894,\n",
       " 465.47915720510787,\n",
       " 465.4793115000165,\n",
       " 471.23889803846896,\n",
       " 471.73889803846896,\n",
       " 471.7623425122875,\n",
       " 471.76249680719604,\n",
       " 477.5220833456485,\n",
       " 478.0220833456486,\n",
       " 478.04552781946705,\n",
       " 478.0456821143756,\n",
       " 483.80526865282815,\n",
       " 484.30526865282815,\n",
       " 484.3287131266466,\n",
       " 484.32886742155523,\n",
       " 490.0884539600077,\n",
       " 490.58845396000777,\n",
       " 490.61189843382624,\n",
       " 490.6120527287348,\n",
       " 496.37163926718733,\n",
       " 496.87163926718733,\n",
       " 496.8950837410058,\n",
       " 496.8952380359144,\n",
       " 502.6548245743669,\n",
       " 503.1548245743669,\n",
       " 503.1782690481854,\n",
       " 503.178423343094,\n",
       " 508.93800988154646,\n",
       " 509.4380098815465,\n",
       " 509.461454355365,\n",
       " 509.46160865027355,\n",
       " 515.221195188726,\n",
       " 515.7211951887261,\n",
       " 515.7446396625446,\n",
       " 515.7447939574531,\n",
       " 521.5043804959057,\n",
       " 522.0043804959057,\n",
       " 522.0278249697242,\n",
       " 522.0279792646328,\n",
       " 527.7875658030853,\n",
       " 528.2875658030853,\n",
       " 528.3110102769037,\n",
       " 528.3111645718124,\n",
       " 534.0707511102648,\n",
       " 534.5707511102648,\n",
       " 534.5941955840833,\n",
       " 534.5943498789919,\n",
       " 540.3539364174444,\n",
       " 540.8539364174444,\n",
       " 540.8773808912629,\n",
       " 540.8775351861715,\n",
       " 546.637121724624,\n",
       " 547.137121724624,\n",
       " 547.1605661984426,\n",
       " 547.160720493351,\n",
       " 552.9203070318035,\n",
       " 553.4203070318036,\n",
       " 553.4437515056221,\n",
       " 553.4439058005306,\n",
       " 559.2034923389832,\n",
       " 559.7034923389832,\n",
       " 559.7269368128017,\n",
       " 559.7270911077103,\n",
       " 565.4866776461628,\n",
       " 565.9866776461628,\n",
       " 566.0101221199812,\n",
       " 566.0102764148899,\n",
       " 571.7698629533423,\n",
       " 572.2698629533423,\n",
       " 572.2933074271608,\n",
       " 572.2934617220694,\n",
       " 578.0530482605219,\n",
       " 578.5530482605219,\n",
       " 578.5764927343405,\n",
       " 578.576647029249,\n",
       " 584.3362335677015,\n",
       " 584.8362335677016,\n",
       " 584.85967804152,\n",
       " 584.8598323364286,\n",
       " 590.6194188748811,\n",
       " 591.1194188748811,\n",
       " 591.1428633486996,\n",
       " 591.1430176436082,\n",
       " 596.9026041820607,\n",
       " 597.4026041820607,\n",
       " 597.4260486558792,\n",
       " 597.4262029507878,\n",
       " 603.1857894892403,\n",
       " 603.6857894892403,\n",
       " 603.7092339630588,\n",
       " 603.7093882579674,\n",
       " 609.4689747964198,\n",
       " 609.9689747964198,\n",
       " 609.9924192702383,\n",
       " 609.9925735651469,\n",
       " 615.7521601035994,\n",
       " 616.2521601035995,\n",
       " 616.275604577418,\n",
       " 616.2757588723265,\n",
       " 622.0353454107791,\n",
       " 622.5353454107791,\n",
       " 622.5587898845976,\n",
       " 622.5589441795062,\n",
       " 0,\n",
       " 0.05,\n",
       " 0.05002085679488428,\n",
       " 0,\n",
       " 0.06836734693877551,\n",
       " 0.06842071841210112,\n",
       " 0,\n",
       " 0.08673469387755102,\n",
       " 0.08684381267501327,\n",
       " 0,\n",
       " 0.10510204081632653,\n",
       " 0.10529650761107927,\n",
       " 0,\n",
       " 0.12346938775510204,\n",
       " 0.12378526211930209,\n",
       " 0,\n",
       " 0.14183673469387753,\n",
       " 0.14231664633428603,\n",
       " 0.14231666279783414,\n",
       " 0,\n",
       " 0.16020408163265304,\n",
       " 0.16089736265195137,\n",
       " 0.16089740154477292,\n",
       " 0,\n",
       " 0.17857142857142855,\n",
       " 0.17953426754852878,\n",
       " 0.17953435137619822,\n",
       " 0,\n",
       " 0.19693877551020406,\n",
       " 0.1982343943326019,\n",
       " 0.19823456220272093,\n",
       " 0,\n",
       " 0.21530612244897956,\n",
       " 0.21700497697966634,\n",
       " 0.2170052935047584,\n",
       " 0,\n",
       " 0.23367346938775507,\n",
       " 0.23585347521007774,\n",
       " 0.23585404282233832,\n",
       " 0,\n",
       " 0.2520408163265306,\n",
       " 0.2547876009845607,\n",
       " 0.25478857659194454,\n",
       " 0,\n",
       " 0.2704081632653061,\n",
       " 0.2738153466068628,\n",
       " 0.2738169637137049,\n",
       " 0,\n",
       " 0.2887755102040816,\n",
       " 0.29294501464092204,\n",
       " 0.29294761228944716,\n",
       " 0,\n",
       " 0.3071428571428571,\n",
       " 0.3121852498703837,\n",
       " 0.31218931004121436,\n",
       " 0,\n",
       " 0.3255102040816326,\n",
       " 0.33154507355180896,\n",
       " 0.33155126900334386,\n",
       " 0,\n",
       " 0.3438775510204081,\n",
       " 0.35103392023988955,\n",
       " 0.35104317518245554,\n",
       " 0,\n",
       " 0.36224489795918363,\n",
       " 0.3706616774939193,\n",
       " 0.3706752440028459,\n",
       " 0,\n",
       " 0.38061224489795914,\n",
       " 0.3904387288102536,\n",
       " 0.3904582825051653,\n",
       " 0,\n",
       " 0.39897959183673465,\n",
       " 0.4103760001662104,\n",
       " 0.41040375945069396,\n",
       " 0,\n",
       " 0.41734693877551016,\n",
       " 0.43048501060763616,\n",
       " 0.43052388471083725,\n",
       " 0,\n",
       " 0.43571428571428567,\n",
       " 0.45077792736613764,\n",
       " 0.45083169960306535,\n",
       " 0,\n",
       " 0.4540816326530612,\n",
       " 0.47126762605390266,\n",
       " 0.4713411801853679,\n",
       " 0,\n",
       " 0.4724489795918367,\n",
       " 0.49196775655544533,\n",
       " 0.49206735596104584,\n",
       " 0,\n",
       " 0.4908163265306122,\n",
       " 0.5128928153181053,\n",
       " 0.5130264470003945,\n",
       " 0,\n",
       " 0.5091836734693878,\n",
       " 0.534058224838622,\n",
       " 0.5342360231903883,\n",
       " 0,\n",
       " 0.5275510204081633,\n",
       " 0.5554804212538574,\n",
       " 0.5557151902248043,\n",
       " 0.5557152073340574,\n",
       " 0,\n",
       " 0.5459183673469388,\n",
       " 0.5771769510724853,\n",
       " 0.5774848081091528,\n",
       " 0.5774848389764623,\n",
       " 0,\n",
       " 0.5642857142857143,\n",
       " 0.5991665782344675,\n",
       " 0.5995677494648565,\n",
       " 0.5995678044442121,\n",
       " 0,\n",
       " 0.5826530612244898,\n",
       " 0.6214694028603515,\n",
       " 0.621989206896682,\n",
       " 0.6219893037039047,\n",
       " 0,\n",
       " 0.6010204081632653,\n",
       " 0.6441069932575915,\n",
       " 0.644777061306262,\n",
       " 0.6447772300256548,\n",
       " 0,\n",
       " 0.6193877551020408,\n",
       " 0.667102532992023,\n",
       " 0.6679623265330773,\n",
       " 0.6679626179321643,\n",
       " 0,\n",
       " 0.6377551020408163,\n",
       " 0.6904809851163086,\n",
       " 0.6915796904267388,\n",
       " 0.6915801897431508,\n",
       " 0,\n",
       " 0.6561224489795918,\n",
       " 0.7142692759822215,\n",
       " 0.7156681789001104,\n",
       " 0.7156690286964627,\n",
       " 0,\n",
       " 0.6744897959183673,\n",
       " 0.7384965014605522,\n",
       " 0.7402719784155917,\n",
       " 0.740273416509593,\n",
       " 0,\n",
       " 0.6928571428571428,\n",
       " 0.763194158864153,\n",
       " 0.7654414648109853,\n",
       " 0.7654438873868844,\n",
       " 0,\n",
       " 0.7112244897959183,\n",
       " 0.7883964084321463,\n",
       " 0.7912345040338828,\n",
       " 0.7912385710859198,\n",
       " 0,\n",
       " 0.7295918367346939,\n",
       " 0.8141403689064498,\n",
       " 0.8177181157760844,\n",
       " 0.817724928300789,\n",
       " 0,\n",
       " 0.7479591836734694,\n",
       " 0.8404664525401817,\n",
       " 0.8449706281830714,\n",
       " 0.8449820282248908,\n",
       " 0,\n",
       " 0.7663265306122449,\n",
       " 0.8674187458520988,\n",
       " 0.8730845071555791,\n",
       " 0.87310359084829,\n",
       " 0,\n",
       " 0.7846938775510204,\n",
       " 0.8950454436207993,\n",
       " 0.9021701277128497,\n",
       " 0.9022021332124951,\n",
       " 0,\n",
       " 0.8030612244897959,\n",
       " 0.9233993450460529,\n",
       " 0.9323608849322318,\n",
       " 0.9324147522889982,\n",
       " 0,\n",
       " 0.8214285714285714,\n",
       " 0.9525384227545289,\n",
       " 0.963820248125783,\n",
       " 0.9639114101335731,\n",
       " 0,\n",
       " 0.8397959183673469,\n",
       " 0.9825264774728923,\n",
       " 0.9967516971720656,\n",
       " 0.9969071856714452,\n",
       " 0.9969072043692049,\n",
       " 0,\n",
       " 0.8581632653061224,\n",
       " 1.0134338938346874,\n",
       " 1.0314130409818667,\n",
       " 1.0316810905396634,\n",
       " 1.0316811505861112,\n",
       " 0,\n",
       " 0.8765306122448979,\n",
       " 1.0453385160603488,\n",
       " 1.06813758776055,\n",
       " 1.0686063260753131,\n",
       " 1.0686065260917856,\n",
       " 0,\n",
       " 0.8948979591836734,\n",
       " 1.0783266663231006,\n",
       " 1.1073663750592049,\n",
       " 1.1082017985227788,\n",
       " 1.1082024981019902,\n",
       " 0,\n",
       " 0.9132653061224489,\n",
       " 1.1124943337110411,\n",
       " 1.1496989172809349,\n",
       " 1.1512264452178378,\n",
       " 1.1512290595492376,\n",
       " 0,\n",
       " 0.9316326530612244,\n",
       " 1.147948568111653,\n",
       " 1.195976305897633,\n",
       " 1.1988692592051486,\n",
       " 1.1988799785787667,\n",
       " 0,\n",
       " 0.95,\n",
       " 1.184809121469409,\n",
       " 1.2474237495822553,\n",
       " 1.253185465968523,\n",
       " 1.2532358936350385,\n",
       " 0,\n",
       " 0.05,\n",
       " 0.05002085679488428,\n",
       " 0,\n",
       " 0.06836734693877551,\n",
       " 0.06842071841210112,\n",
       " 0,\n",
       " 0.08673469387755102,\n",
       " 0.08684381267501327,\n",
       " 0,\n",
       " 0.10510204081632653,\n",
       " 0.10529650761107927,\n",
       " 0,\n",
       " 0.12346938775510204,\n",
       " 0.12378526211930209,\n",
       " 0,\n",
       " 0.14183673469387753,\n",
       " 0.14231664633428603,\n",
       " 0.14231666279783414,\n",
       " 0,\n",
       " 0.16020408163265304,\n",
       " 0.16089736265195137,\n",
       " 0.16089740154477292,\n",
       " 0,\n",
       " 0.17857142857142855,\n",
       " 0.17953426754852878,\n",
       " 0.17953435137619822,\n",
       " 0,\n",
       " 0.19693877551020406,\n",
       " 0.1982343943326019,\n",
       " 0.19823456220272093,\n",
       " 0,\n",
       " 0.21530612244897956,\n",
       " 0.21700497697966634,\n",
       " 0.2170052935047584,\n",
       " 0,\n",
       " 0.23367346938775507,\n",
       " 0.23585347521007774,\n",
       " 0.23585404282233832,\n",
       " 0,\n",
       " 0.2520408163265306,\n",
       " 0.2547876009845607,\n",
       " 0.25478857659194454,\n",
       " 0,\n",
       " 0.2704081632653061,\n",
       " 0.2738153466068628,\n",
       " 0.2738169637137049,\n",
       " 0,\n",
       " 0.2887755102040816,\n",
       " 0.29294501464092204,\n",
       " 0.29294761228944716,\n",
       " 0,\n",
       " 0.3071428571428571,\n",
       " 0.3121852498703837,\n",
       " 0.31218931004121436,\n",
       " 0,\n",
       " 0.3255102040816326,\n",
       " 0.33154507355180896,\n",
       " 0.33155126900334386,\n",
       " 0,\n",
       " 0.3438775510204081,\n",
       " 0.35103392023988955,\n",
       " 0.35104317518245554,\n",
       " 0,\n",
       " 0.36224489795918363,\n",
       " 0.3706616774939193,\n",
       " 0.3706752440028459,\n",
       " 0,\n",
       " 0.38061224489795914,\n",
       " 0.3904387288102536,\n",
       " 0.3904582825051653,\n",
       " 0,\n",
       " 0.39897959183673465,\n",
       " 0.4103760001662104,\n",
       " 0.41040375945069396,\n",
       " 0,\n",
       " 0.41734693877551016,\n",
       " 0.43048501060763616,\n",
       " 0.43052388471083725,\n",
       " 0,\n",
       " 0.43571428571428567,\n",
       " 0.45077792736613764,\n",
       " 0.45083169960306535,\n",
       " 0,\n",
       " 0.4540816326530612,\n",
       " 0.47126762605390266,\n",
       " 0.4713411801853679,\n",
       " 0,\n",
       " 0.4724489795918367,\n",
       " 0.49196775655544533,\n",
       " 0.49206735596104584,\n",
       " 0,\n",
       " 0.4908163265306122,\n",
       " 0.5128928153181053,\n",
       " 0.5130264470003945,\n",
       " 0,\n",
       " 0.5091836734693878,\n",
       " 0.534058224838622,\n",
       " 0.5342360231903883,\n",
       " 0,\n",
       " 0.5275510204081633,\n",
       " 0.5554804212538574,\n",
       " 0.5557151902248043,\n",
       " 0.5557152073340574,\n",
       " 0,\n",
       " 0.5459183673469388,\n",
       " 0.5771769510724853,\n",
       " 0.5774848081091528,\n",
       " 0.5774848389764623,\n",
       " 0,\n",
       " 0.5642857142857143,\n",
       " 0.5991665782344675,\n",
       " 0.5995677494648565,\n",
       " 0.5995678044442121,\n",
       " 0,\n",
       " 0.5826530612244898,\n",
       " 0.6214694028603515,\n",
       " 0.621989206896682,\n",
       " 0.6219893037039047,\n",
       " 0,\n",
       " 0.6010204081632653,\n",
       " 0.6441069932575915,\n",
       " 0.644777061306262,\n",
       " 0.6447772300256548,\n",
       " 0,\n",
       " 0.6193877551020408,\n",
       " 0.667102532992023,\n",
       " 0.6679623265330773,\n",
       " 0.6679626179321643,\n",
       " 0,\n",
       " 0.6377551020408163,\n",
       " 0.6904809851163086,\n",
       " 0.6915796904267388,\n",
       " 0.6915801897431508,\n",
       " 0,\n",
       " 0.6561224489795918,\n",
       " 0.7142692759822215,\n",
       " 0.7156681789001104,\n",
       " 0.7156690286964627,\n",
       " 0,\n",
       " 0.6744897959183673,\n",
       " 0.7384965014605522,\n",
       " 0.7402719784155917,\n",
       " 0.740273416509593,\n",
       " 0,\n",
       " 0.6928571428571428,\n",
       " 0.763194158864153,\n",
       " 0.7654414648109853,\n",
       " 0.7654438873868844,\n",
       " 0,\n",
       " 0.7112244897959183,\n",
       " 0.7883964084321463,\n",
       " 0.7912345040338828,\n",
       " 0.7912385710859198,\n",
       " 0,\n",
       " 0.7295918367346939,\n",
       " 0.8141403689064498,\n",
       " 0.8177181157760844,\n",
       " 0.817724928300789,\n",
       " 0,\n",
       " 0.7479591836734694,\n",
       " 0.8404664525401817,\n",
       " 0.8449706281830714,\n",
       " 0.8449820282248908,\n",
       " 0,\n",
       " 0.7663265306122449,\n",
       " 0.8674187458520988,\n",
       " 0.8730845071555791,\n",
       " 0.87310359084829,\n",
       " 0,\n",
       " 0.7846938775510204,\n",
       " 0.8950454436207993,\n",
       " 0.9021701277128497,\n",
       " 0.9022021332124951,\n",
       " 0,\n",
       " 0.8030612244897959,\n",
       " 0.9233993450460529,\n",
       " 0.9323608849322318,\n",
       " 0.9324147522889982,\n",
       " 0,\n",
       " 0.8214285714285714,\n",
       " 0.9525384227545289,\n",
       " 0.963820248125783,\n",
       " 0.9639114101335731,\n",
       " 0,\n",
       " 0.8397959183673469,\n",
       " 0.9825264774728923,\n",
       " 0.9967516971720656,\n",
       " 0.9969071856714452,\n",
       " 0.9969072043692049,\n",
       " 0,\n",
       " 0.8581632653061224,\n",
       " 1.0134338938346874,\n",
       " 1.0314130409818667,\n",
       " 1.0316810905396634,\n",
       " 1.0316811505861112,\n",
       " 0,\n",
       " 0.8765306122448979,\n",
       " 1.0453385160603488,\n",
       " 1.06813758776055,\n",
       " 1.0686063260753131,\n",
       " 1.0686065260917856,\n",
       " 0,\n",
       " 0.8948979591836734,\n",
       " 1.0783266663231006,\n",
       " 1.1073663750592049,\n",
       " 1.1082017985227788,\n",
       " 1.1082024981019902,\n",
       " 0,\n",
       " 0.9132653061224489,\n",
       " 1.1124943337110411,\n",
       " 1.1496989172809349,\n",
       " 1.1512264452178378,\n",
       " 1.1512290595492376,\n",
       " 0,\n",
       " 0.9316326530612244,\n",
       " 1.147948568111653,\n",
       " 1.195976305897633,\n",
       " 1.1988692592051486,\n",
       " 1.1988799785787667,\n",
       " 0,\n",
       " 0.95,\n",
       " 1.184809121469409,\n",
       " 1.2474237495822553,\n",
       " 1.253185465968523,\n",
       " 1.2532358936350385,\n",
       " 0,\n",
       " 0.05,\n",
       " 0.05002085679488428,\n",
       " 0,\n",
       " 0.06836734693877551,\n",
       " 0.06842071841210112,\n",
       " 0,\n",
       " 0.08673469387755102,\n",
       " 0.08684381267501327,\n",
       " 0,\n",
       " 0.10510204081632653,\n",
       " 0.10529650761107927,\n",
       " 0,\n",
       " 0.12346938775510204,\n",
       " 0.12378526211930209,\n",
       " 0,\n",
       " 0.14183673469387753,\n",
       " 0.14231664633428603,\n",
       " 0.14231666279783414,\n",
       " 0,\n",
       " 0.16020408163265304,\n",
       " 0.16089736265195137,\n",
       " 0.16089740154477292,\n",
       " 0,\n",
       " 0.17857142857142855,\n",
       " 0.17953426754852878,\n",
       " 0.17953435137619822,\n",
       " 0,\n",
       " 0.19693877551020406,\n",
       " 0.1982343943326019,\n",
       " 0.19823456220272093,\n",
       " 0,\n",
       " 0.21530612244897956,\n",
       " 0.21700497697966634,\n",
       " 0.2170052935047584,\n",
       " 0,\n",
       " 0.23367346938775507,\n",
       " 0.23585347521007774,\n",
       " 0.23585404282233832,\n",
       " 0,\n",
       " 0.2520408163265306,\n",
       " 0.2547876009845607,\n",
       " 0.25478857659194454,\n",
       " 0,\n",
       " 0.2704081632653061,\n",
       " 0.2738153466068628,\n",
       " 0.2738169637137049,\n",
       " 0,\n",
       " 0.2887755102040816,\n",
       " 0.29294501464092204,\n",
       " 0.29294761228944716,\n",
       " 0,\n",
       " 0.3071428571428571,\n",
       " 0.3121852498703837,\n",
       " 0.31218931004121436,\n",
       " 0,\n",
       " 0.3255102040816326,\n",
       " 0.33154507355180896,\n",
       " 0.33155126900334386,\n",
       " 0,\n",
       " 0.3438775510204081,\n",
       " 0.35103392023988955,\n",
       " 0.35104317518245554,\n",
       " 0,\n",
       " 0.36224489795918363,\n",
       " 0.3706616774939193,\n",
       " 0.3706752440028459,\n",
       " 0,\n",
       " 0.38061224489795914,\n",
       " 0.3904387288102536,\n",
       " 0.3904582825051653,\n",
       " 0,\n",
       " 0.39897959183673465,\n",
       " 0.4103760001662104,\n",
       " 0.41040375945069396,\n",
       " 0,\n",
       " 0.41734693877551016,\n",
       " 0.43048501060763616,\n",
       " 0.43052388471083725,\n",
       " 0,\n",
       " 0.43571428571428567,\n",
       " 0.45077792736613764,\n",
       " 0.45083169960306535,\n",
       " 0,\n",
       " 0.4540816326530612,\n",
       " 0.47126762605390266,\n",
       " 0.4713411801853679,\n",
       " 0,\n",
       " 0.4724489795918367,\n",
       " 0.49196775655544533,\n",
       " 0.49206735596104584,\n",
       " 0,\n",
       " 0.4908163265306122,\n",
       " 0.5128928153181053,\n",
       " 0.5130264470003945,\n",
       " 0,\n",
       " 0.5091836734693878,\n",
       " 0.534058224838622,\n",
       " 0.5342360231903883,\n",
       " 0,\n",
       " 0.5275510204081633,\n",
       " 0.5554804212538574,\n",
       " 0.5557151902248043,\n",
       " 0.5557152073340574,\n",
       " 0,\n",
       " 0.5459183673469388,\n",
       " 0.5771769510724853,\n",
       " 0.5774848081091528,\n",
       " 0.5774848389764623,\n",
       " 0,\n",
       " 0.5642857142857143,\n",
       " 0.5991665782344675,\n",
       " 0.5995677494648565,\n",
       " 0.5995678044442121,\n",
       " 0,\n",
       " 0.5826530612244898,\n",
       " 0.6214694028603515,\n",
       " 0.621989206896682,\n",
       " 0.6219893037039047,\n",
       " 0,\n",
       " 0.6010204081632653,\n",
       " 0.6441069932575915,\n",
       " 0.644777061306262,\n",
       " 0.6447772300256548,\n",
       " 0,\n",
       " 0.6193877551020408,\n",
       " 0.667102532992023,\n",
       " ...]"
      ]
     },
     "execution_count": 36,
     "metadata": {},
     "output_type": "execute_result"
    }
   ],
   "source": [
    "pts"
   ]
  },
  {
   "cell_type": "code",
   "execution_count": 37,
   "metadata": {
    "deletable": false,
    "editable": false,
    "nbgrader": {
     "cell_type": "code",
     "checksum": "848878426d40741b2d76c8a3251d147c",
     "grade": false,
     "grade_id": "cell-f67e3e975a8cbe9c",
     "locked": true,
     "schema_version": 3,
     "solution": false,
     "task": false
    }
   },
   "outputs": [
    {
     "name": "stderr",
     "output_type": "stream",
     "text": [
      "<ipython-input-14-fac237ca5ad5>:13: RuntimeWarning: divide by zero encountered in log\n",
      "  if abs(f(x_at)-y) < ytol or abs(passo) < xtol:\n",
      "<ipython-input-14-fac237ca5ad5>:9: RuntimeWarning: divide by zero encountered in log\n",
      "  passo = (f(x_at)-y) / df(x_at)\n",
      "<ipython-input-32-0e19534225df>:2: RuntimeWarning: divide by zero encountered in double_scalars\n",
      "  return 1/x\n",
      "<ipython-input-14-fac237ca5ad5>:9: RuntimeWarning: invalid value encountered in double_scalars\n",
      "  passo = (f(x_at)-y) / df(x_at)\n"
     ]
    },
    {
     "data": {
      "text/plain": [
       "(nan, 100)"
      ]
     },
     "execution_count": 37,
     "metadata": {},
     "output_type": "execute_result"
    }
   ],
   "source": [
    "newton_solve(np.log, mulinv, -1.0, 1)"
   ]
  },
  {
   "cell_type": "markdown",
   "metadata": {
    "deletable": false,
    "editable": false,
    "nbgrader": {
     "cell_type": "markdown",
     "checksum": "376115694b38be895a1b08ae26b5fef0",
     "grade": false,
     "grade_id": "cell-d34b9a91183a1818",
     "locked": true,
     "schema_version": 3,
     "solution": false,
     "task": false
    }
   },
   "source": [
    "Explique o que aconteceu nas duas caixas acima."
   ]
  },
  {
   "cell_type": "markdown",
   "metadata": {
    "deletable": false,
    "nbgrader": {
     "cell_type": "markdown",
     "checksum": "9871de982c4555693b3ffc994ce9260c",
     "grade": true,
     "grade_id": "cell-57ce1c33285c75c0",
     "locked": false,
     "points": 2,
     "schema_version": 3,
     "solution": true,
     "task": false
    }
   },
   "source": [
    "Conforme buscamos a solução da equação log(x) = y, para y tendendo a -1 pela esquerda, temos que o resultado converge 0.3678, que corresponde as 4 primeiras decimais de 1/e. Contudo, ao colocarmos y = -1, temos que o passo $h(x_0)/h'(x_0)$, sendo $h(x) = \\log(x) - y$, será dado por: $\\frac{\\log(1) - ( -1)}{1} = 1$. Assim, $x_1$, dado por $x_1 = x_0 - h(x_0)/h'(x_0)$, na próxima iteração será igual a $x_1 = 1 - 1 = 0$. Como a cada iteração o passo é calculado aplicando $h(x) = \\log(x) - y$ e $h'(x) = 1/x$, teremos que na iteração seguinte uma indeterminação uma vez que nem a função $h(x) = log(x)$ nem $h'(x) = 1/x$ estão definidas para x=0. Assim, gera-se erro ao calcular o erro em y, $|h(x)|$, e ao calcular o passo $h(x)/h'(x)$."
   ]
  },
  {
   "cell_type": "code",
   "execution_count": 38,
   "metadata": {
    "deletable": false,
    "editable": false,
    "nbgrader": {
     "cell_type": "code",
     "checksum": "f7d520c47d4a91611105d639f73190f7",
     "grade": false,
     "grade_id": "cell-60af8f9dfcacead2",
     "locked": true,
     "schema_version": 3,
     "solution": false,
     "task": false
    }
   },
   "outputs": [
    {
     "name": "stdout",
     "output_type": "stream",
     "text": [
      "(0.13533663659611128, 12)\n",
      "(nan, 100)\n"
     ]
    },
    {
     "name": "stderr",
     "output_type": "stream",
     "text": [
      "<ipython-input-14-fac237ca5ad5>:13: RuntimeWarning: divide by zero encountered in log\n",
      "  if abs(f(x_at)-y) < ytol or abs(passo) < xtol:\n",
      "<ipython-input-14-fac237ca5ad5>:9: RuntimeWarning: divide by zero encountered in log\n",
      "  passo = (f(x_at)-y) / df(x_at)\n",
      "<ipython-input-32-0e19534225df>:2: RuntimeWarning: divide by zero encountered in double_scalars\n",
      "  return 1/x\n",
      "<ipython-input-14-fac237ca5ad5>:9: RuntimeWarning: invalid value encountered in double_scalars\n",
      "  passo = (f(x_at)-y) / df(x_at)\n"
     ]
    }
   ],
   "source": [
    "print(newton_solve(np.log, mulinv, -1.99999, 1/np.e))\n",
    "print(newton_solve(np.log, mulinv, -2.0, 1/np.e))"
   ]
  },
  {
   "cell_type": "code",
   "execution_count": 39,
   "metadata": {},
   "outputs": [
    {
     "data": {
      "text/plain": [
       "4.5399929762484854e-05"
      ]
     },
     "execution_count": 39,
     "metadata": {},
     "output_type": "execute_result"
    }
   ],
   "source": [
    "np.exp(-10)"
   ]
  },
  {
   "cell_type": "code",
   "execution_count": 40,
   "metadata": {},
   "outputs": [
    {
     "data": {
      "text/plain": [
       "[0.00011166580849011478,\n",
       " 1.1166580849011434e-05,\n",
       " 2.6828660687547712e-05,\n",
       " 4.094160434507954e-05,\n",
       " 4.517348377093612e-05,\n",
       " 4.539936408699653e-05,\n",
       " 4.539992975896073e-05]"
      ]
     },
     "execution_count": 40,
     "metadata": {},
     "output_type": "execute_result"
    }
   ],
   "source": [
    "pts = []\n",
    "newton_solve(np.log, mulinv, -10, np.exp(-9.1))\n",
    "pts"
   ]
  },
  {
   "cell_type": "markdown",
   "metadata": {
    "deletable": false,
    "editable": false,
    "nbgrader": {
     "cell_type": "markdown",
     "checksum": "2bd70aa6359047689f28f738f82ad2a1",
     "grade": false,
     "grade_id": "cell-316fa52118471839",
     "locked": true,
     "schema_version": 3,
     "solution": false,
     "task": false
    }
   },
   "source": [
    "Explique porque esta caixa é semelhante às anteriores,\n",
    "e o que isso sugere quanto à dificuldade de resolver, usando o método de Newton,\n",
    "a equação $\\log(x) = y$ para $y$ negativo."
   ]
  },
  {
   "cell_type": "markdown",
   "metadata": {
    "deletable": false,
    "nbgrader": {
     "cell_type": "markdown",
     "checksum": "5346cd27d80bb23f7ac99a25e09ced05",
     "grade": true,
     "grade_id": "cell-a479d53d3f185ae8",
     "locked": false,
     "points": 2,
     "schema_version": 3,
     "solution": true,
     "task": false
    }
   },
   "source": [
    "Essa caixa é semelhante às anteriores no sentido em que eventualmente em uma das iterações o valor de x chega próximo a 0 ou chaga até a ser negativo. A dificulde reside no fato de que para valores de y negativos, temos que eventualmente durante a execução do algoritmo o valor de x fica entre 0 e 1. Para o caso do log, temos que o valor de x é atualizado por $x = x - (\\log(x) - y)x = x(1 -\\log(x) + y)$. Dessa forma, considerando que o x inicial é positivo, o seu sinal só inverte quando $1 - \\log(x) + y < 0$. Quando isso ocorre na próxima iteração teremos um erro pois log(x) não está definido para $x \\leq 0$. Assim, para evitar isso é necessário que o x inicial seja tal que $\\begin{equation} \n",
    "1 - \\log(x) > - y =\\\\\n",
    "-log(x) > -y - 1 =\\\\\n",
    "x < exp(y+1)\n",
    "\\end{equation}$"
   ]
  },
  {
   "cell_type": "code",
   "execution_count": 41,
   "metadata": {
    "deletable": false,
    "editable": false,
    "nbgrader": {
     "cell_type": "code",
     "checksum": "d04af4dd1d2e6ccde933d2042f766e47",
     "grade": true,
     "grade_id": "cell-dd49858a69241213",
     "locked": true,
     "points": 1,
     "schema_version": 3,
     "solution": false,
     "task": false
    }
   },
   "outputs": [],
   "source": [
    "ys = np.linspace(0,20,num=30)\n",
    "xs, ns = newton_inv(np.log, mulinv, -ys, 1, xtol=1e-15, ytol=1e-15)\n",
    "assert np.allclose(np.log(xs), -ys)"
   ]
  },
  {
   "cell_type": "code",
   "execution_count": 42,
   "metadata": {},
   "outputs": [
    {
     "data": {
      "text/plain": [
       "0.5017490573660152"
      ]
     },
     "execution_count": 42,
     "metadata": {},
     "output_type": "execute_result"
    }
   ],
   "source": [
    "np.exp(- 0.68965517)"
   ]
  },
  {
   "cell_type": "markdown",
   "metadata": {
    "deletable": false,
    "editable": false,
    "nbgrader": {
     "cell_type": "markdown",
     "checksum": "e9775616b9047b47e8ac06b3365a7ab8",
     "grade": false,
     "grade_id": "cell-891785ebb4f54863",
     "locked": true,
     "schema_version": 3,
     "solution": false,
     "task": false
    }
   },
   "source": [
    "Explique porque o método de aproximações funciona."
   ]
  },
  {
   "cell_type": "markdown",
   "metadata": {
    "deletable": false,
    "nbgrader": {
     "cell_type": "markdown",
     "checksum": "ca672d8d98e6d1d77516febee49e169f",
     "grade": true,
     "grade_id": "cell-f5b4f6bc3d0ab303",
     "locked": false,
     "points": 2,
     "schema_version": 3,
     "solution": true,
     "task": false
    }
   },
   "source": [
    "O método funciona pois a cada y encontramos uma raiz ainda mais próxima que servirá de ponto de partida para o próximo y. Seja $x_{n-1}^*$ a raiz encontrada pelo método para $Y_{n-1}$, logo $\\log(x_{n-1}^*) \\approx Y_{n-1}$. Colocando na equação encontrada anteriormente, temos que a diferença entre $Y_{n-1}$ e $Y_n$ a fim de que o algoritmo não encontre x negativo deve ser tal que: \n",
    "$\\begin{equation}\n",
    "-\\log(x_{n-1}^*) > - Y_n - 1\\\\ \n",
    "-Y_{n-1} > -Y_n -1\\\\\n",
    "-(Y_n - Y_{n-1}) < 1\n",
    "\\end{equation}$ Como a diferença entre cada $Y_n$ e $Y_{n-1}$ é na ordem de 2/3 < 1, temos que a condição é satisfeita."
   ]
  },
  {
   "cell_type": "markdown",
   "metadata": {
    "deletable": false,
    "editable": false,
    "nbgrader": {
     "cell_type": "markdown",
     "checksum": "14f1789ed5000e3d14b0c19e1c6d12e1",
     "grade": false,
     "grade_id": "cell-d662bd89284daddb",
     "locked": true,
     "schema_version": 3,
     "solution": false,
     "task": false
    }
   },
   "source": [
    "Qual seria a dificuldade para adaptar o método de \"aproximação sucessiva\" para a Bisseção?"
   ]
  },
  {
   "cell_type": "markdown",
   "metadata": {
    "deletable": false,
    "nbgrader": {
     "cell_type": "markdown",
     "checksum": "5cd1c8e7ab98e355dc041f5ac8c3dbcb",
     "grade": true,
     "grade_id": "cell-e31c71484c8862cd",
     "locked": false,
     "points": 2,
     "schema_version": 3,
     "solution": true,
     "task": false
    }
   },
   "source": [
    "A dificuldade está em encontrar um outro ponto \"b\", além daquele retornado pela raiz \"a\" na iteração anterior, de forma que sign(f(a)) = -1*sign(f(b)). Além disso, se usássemos o mesmo valor do extremo da iteração anterior, de forma que sign(f(a)) = -1*sign(f($extremo_{n-1}$)), apenas se \"a\" estiver extremamente próximo da nova raiz é que a bisseção terá uma quantidade de iterações bem menor."
   ]
  },
  {
   "cell_type": "markdown",
   "metadata": {
    "deletable": false,
    "editable": false,
    "nbgrader": {
     "cell_type": "markdown",
     "checksum": "f1843b084ae64883c0c7230a14819d9b",
     "grade": false,
     "grade_id": "cell-a537b48accebd868",
     "locked": true,
     "schema_version": 3,
     "solution": false,
     "task": false
    }
   },
   "source": [
    "## Questão 8: Uma função parecida\n",
    "\n",
    "Resolva a equação $\\log(x) + 10^9 x = -20$."
   ]
  },
  {
   "cell_type": "code",
   "execution_count": 43,
   "metadata": {
    "deletable": false,
    "editable": false,
    "nbgrader": {
     "cell_type": "code",
     "checksum": "17920b696de09558f0dee83eaa50d881",
     "grade": false,
     "grade_id": "cell-96fc7f74dedd7676",
     "locked": true,
     "schema_version": 3,
     "solution": false,
     "task": false
    }
   },
   "outputs": [],
   "source": [
    "def f(x):\n",
    "    return np.log(x) + 1e9*x\n",
    "def df(x):\n",
    "    return 1/x + 1e9"
   ]
  },
  {
   "cell_type": "code",
   "execution_count": 44,
   "metadata": {
    "deletable": false,
    "nbgrader": {
     "cell_type": "code",
     "checksum": "af441710bb9607c2cd1344b96959b1c5",
     "grade": false,
     "grade_id": "cell-1314c1b7c73c7c39",
     "locked": false,
     "schema_version": 3,
     "solution": true,
     "task": false
    }
   },
   "outputs": [],
   "source": [
    "x = biss_solve(f,-20,1e-16,1e-2,xtol=1e-23,ytol=1e-23)[0]"
   ]
  },
  {
   "cell_type": "code",
   "execution_count": 45,
   "metadata": {
    "deletable": false,
    "editable": false,
    "nbgrader": {
     "cell_type": "code",
     "checksum": "162819a2869bef948bd3ca747f980d3f",
     "grade": true,
     "grade_id": "cell-5ac95ef375f9bfc7",
     "locked": true,
     "points": 2,
     "schema_version": 3,
     "solution": false,
     "task": false
    }
   },
   "outputs": [],
   "source": [
    "assert np.isclose(f(x), -20, atol=1e-13, rtol=1e-13)"
   ]
  },
  {
   "cell_type": "code",
   "execution_count": null,
   "metadata": {},
   "outputs": [],
   "source": []
  }
 ],
 "metadata": {
  "kernelspec": {
   "display_name": "Python 3",
   "language": "python",
   "name": "python3"
  },
  "language_info": {
   "codemirror_mode": {
    "name": "ipython",
    "version": 3
   },
   "file_extension": ".py",
   "mimetype": "text/x-python",
   "name": "python",
   "nbconvert_exporter": "python",
   "pygments_lexer": "ipython3",
   "version": "3.8.5"
  }
 },
 "nbformat": 4,
 "nbformat_minor": 4
}

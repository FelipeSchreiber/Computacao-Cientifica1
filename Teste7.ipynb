{
 "cells": [
  {
   "cell_type": "markdown",
   "metadata": {},
   "source": [
    "![CC-BY-SA](https://mirrors.creativecommons.org/presskit/buttons/88x31/svg/by-sa.svg)\n",
    "\n",
    "\n",
    "This notebook was created by [Bernardo Freitas Paulo da Costa](http://www.im.ufrj.br/bernardofpc),\n",
    "and is licensed under Creative Commons BY-SA."
   ]
  },
  {
   "cell_type": "markdown",
   "metadata": {},
   "source": [
    "Antes de enviar este Teste, verifique que tudo está funcionando como esperado.\n",
    "Por exemplo, **rode o código inteiro, do zero**.\n",
    "Para isso, vá no menu, escolha _Kernel_, depois _Restart & Run All_.\n",
    "\n",
    "Verifique, também, que você respondeu todas as questões:\n",
    "* as questões de código têm `YOUR CODE HERE` (e você pode apagar o `raise NotImplemented` ao incluir sua resposta)\n",
    "* as questões discursivas têm \"YOUR ANSWER HERE\"."
   ]
  },
  {
   "cell_type": "markdown",
   "metadata": {},
   "source": [
    "---"
   ]
  },
  {
   "cell_type": "code",
   "execution_count": 1,
   "metadata": {
    "deletable": false,
    "editable": false,
    "nbgrader": {
     "cell_type": "code",
     "checksum": "779f6929121557207b2d6066a2b4f356",
     "grade": false,
     "grade_id": "cell-7e8687c0972c6579",
     "locked": true,
     "schema_version": 3,
     "solution": false,
     "task": false
    }
   },
   "outputs": [],
   "source": [
    "import numpy as np\n",
    "import matplotlib.pyplot as plt"
   ]
  },
  {
   "cell_type": "markdown",
   "metadata": {},
   "source": [
    "# Teste 7: Erros do polinômio interpolador"
   ]
  },
  {
   "cell_type": "markdown",
   "metadata": {},
   "source": [
    "## Questão 1: os métodos\n",
    "\n",
    "Escreva uma função que retorna os coeficientes do polinômio interpolador,\n",
    "dadas duas listas (ou `np.array`s) para $x_i$ e $y_i$.\n",
    "\n",
    "Use esta função para criar uma outra, que retorna uma função\n",
    "\"naturalmente\" vetorizada (ou seja, sem usar `np.vectorize`)\n",
    "que calcula esse polinômio interpolador."
   ]
  },
  {
   "cell_type": "code",
   "execution_count": 73,
   "metadata": {
    "deletable": false,
    "nbgrader": {
     "cell_type": "code",
     "checksum": "5dc3155be6827e8f6130e3eeab68bef1",
     "grade": false,
     "grade_id": "cell-1403b2d5c84f2232",
     "locked": false,
     "schema_version": 3,
     "solution": true,
     "task": false
    }
   },
   "outputs": [],
   "source": [
    "def lagrange_coefs(xs,ys):\n",
    "    \"\"\" \n",
    "    Coeficientes (em ordem crescente) do polinômio interpolador dos pontos (x_i, y_i).\n",
    "    \"\"\"\n",
    "    assert(len(xs) == len(ys))\n",
    "    vander = np.vander(xs)\n",
    "    coefs = np.linalg.solve(vander,ys)\n",
    "    return np.flip(coefs)\n",
    "            \n",
    "def lagrange(xs,ys):\n",
    "    \"\"\" \n",
    "    Retorna uma função que calcula polinômio interpolador de Lagrange dos pontos (x_i, y_i). \n",
    "    \"\"\"\n",
    "    coefs = lagrange_coefs(xs,ys)\n",
    "    #funcao que cria (x-x1),(x-x2), ..., (x-x{len(xs)})\n",
    "    return np.poly1d(coefs[::-1])"
   ]
  },
  {
   "cell_type": "code",
   "execution_count": 74,
   "metadata": {
    "deletable": false,
    "editable": false,
    "nbgrader": {
     "cell_type": "code",
     "checksum": "2205597a87d18ebb1e6bc92c1512cb9e",
     "grade": true,
     "grade_id": "cell-8544af132c09268c",
     "locked": true,
     "points": 1,
     "schema_version": 3,
     "solution": false,
     "task": false
    }
   },
   "outputs": [],
   "source": [
    "c = lagrange_coefs([1,2,3], [4,5,7])\n",
    "assert np.allclose(c, [4, -1/2, 1/2], atol=1e-14, rtol=1e-14)"
   ]
  },
  {
   "cell_type": "code",
   "execution_count": 75,
   "metadata": {},
   "outputs": [
    {
     "data": {
      "text/plain": [
       "array([ 4. , -0.5,  0.5])"
      ]
     },
     "execution_count": 75,
     "metadata": {},
     "output_type": "execute_result"
    }
   ],
   "source": [
    "c = lagrange_coefs([1,2,3], [4,5,7])\n",
    "c"
   ]
  },
  {
   "cell_type": "code",
   "execution_count": 77,
   "metadata": {},
   "outputs": [],
   "source": [
    "p = lagrange([1,2,3], [4,5,7])"
   ]
  },
  {
   "cell_type": "code",
   "execution_count": 78,
   "metadata": {},
   "outputs": [
    {
     "name": "stdout",
     "output_type": "stream",
     "text": [
      "25.6 µs ± 961 ns per loop (mean ± std. dev. of 7 runs, 10000 loops each)\n"
     ]
    }
   ],
   "source": [
    "%%timeit\n",
    "p(3)"
   ]
  },
  {
   "cell_type": "code",
   "execution_count": 79,
   "metadata": {
    "deletable": false,
    "editable": false,
    "nbgrader": {
     "cell_type": "code",
     "checksum": "eb38283b87c501b06517c72b9bc1396c",
     "grade": true,
     "grade_id": "cell-8a0c51a8195c0b55",
     "locked": true,
     "points": 1,
     "schema_version": 3,
     "solution": false,
     "task": false
    }
   },
   "outputs": [],
   "source": [
    "p = lagrange([1,2,3], [4,5,7])\n",
    "assert np.isclose(p(0), 4, atol=1e-14, rtol=1e-14)\n",
    "assert np.isclose(p(1/2), 3.875, atol=1e-14, rtol=1e-14)"
   ]
  },
  {
   "cell_type": "code",
   "execution_count": 80,
   "metadata": {
    "deletable": false,
    "editable": false,
    "nbgrader": {
     "cell_type": "code",
     "checksum": "d69dad10ea3b98202ef491616bebaa35",
     "grade": true,
     "grade_id": "cell-81973885ef6328a4",
     "locked": true,
     "points": 1,
     "schema_version": 3,
     "solution": false,
     "task": false
    }
   },
   "outputs": [],
   "source": [
    "c = lagrange_coefs([1,-1,2,-2], [1, 2, 3, 4])\n",
    "assert np.allclose(c*12, [10, -7, 8, 1])"
   ]
  },
  {
   "cell_type": "code",
   "execution_count": 81,
   "metadata": {
    "deletable": false,
    "editable": false,
    "nbgrader": {
     "cell_type": "code",
     "checksum": "d65c5f72f42bb0b15831296d9a6d9201",
     "grade": true,
     "grade_id": "cell-49720504fbb57a43",
     "locked": true,
     "points": 1,
     "schema_version": 3,
     "solution": false,
     "task": false
    }
   },
   "outputs": [],
   "source": [
    "p = lagrange([1,-1,2,-2], [1, 2, 3, 4])\n",
    "assert np.isclose(p(5.1), 26.252583333333333, atol=1e-14, rtol=1e-14)"
   ]
  },
  {
   "cell_type": "markdown",
   "metadata": {},
   "source": [
    "## Questão 2: Calculando erros\n",
    "\n",
    "Dadas duas funções, $f$ e $g$, podemos definir o erro entre elas num intervalo $[a,b]$ como\n",
    "- a integral do valor absoluto da diferença\n",
    "- a raiz quadrada da integral do quadrado da diferença\n",
    "- o máximo do valor absoluto da diferença\n",
    "\n",
    "No computador, vamos aproximar estas medidas, calculando a diferença em alguma discretização do intervalo,\n",
    "e depois tomando o máximo / soma dos erros.\n",
    "Vamos usar o \"método do ponto médio\" para as integrais e, por analogia,\n",
    "os mesmos pontos para o máximo."
   ]
  },
  {
   "cell_type": "code",
   "execution_count": 121,
   "metadata": {},
   "outputs": [],
   "source": [
    "def midpoint(f, a, b, n=1000,should_plot=False):\n",
    "    xs,h = np.linspace(a,b,num=n,endpoint=False,retstep=True)\n",
    "    xs = xs + h/2\n",
    "    if(should_plot):\n",
    "        ax = plt.subplot(111)\n",
    "        ax.plot(xs,f(xs),label=f.__name__)\n",
    "        ax.bar(xs[0], f(xs[0]), width=h, color='b', align='center',label=\"midpoint_approx\")\n",
    "        for x in xs[1:]:\n",
    "            ax.bar(x, f(x), width=h, color='b', align='center')\n",
    "        plt.legend()\n",
    "        plt.title(f\"Integral de {f.__name__} no intervalo [{a:.4f} , {b:.4f}]\")\n",
    "    return np.sum(f(xs))*h"
   ]
  },
  {
   "cell_type": "code",
   "execution_count": 122,
   "metadata": {
    "deletable": false,
    "nbgrader": {
     "cell_type": "code",
     "checksum": "a17fb80d9467646997171231717882ea",
     "grade": false,
     "grade_id": "cell-88c54511fc4c21a1",
     "locked": false,
     "schema_version": 3,
     "solution": true,
     "task": false
    }
   },
   "outputs": [],
   "source": [
    "def erro1(f, g, a, b, n=100):\n",
    "    def dif(x):\n",
    "        return np.abs(np.add(f(x),-1*g(x)))\n",
    "    return midpoint(dif,a,b,n)"
   ]
  },
  {
   "cell_type": "code",
   "execution_count": 123,
   "metadata": {
    "deletable": false,
    "editable": false,
    "nbgrader": {
     "cell_type": "code",
     "checksum": "9cc3e3f9d0ab408fe42ff419c89d2bd1",
     "grade": true,
     "grade_id": "cell-6933767342d1114f",
     "locked": true,
     "points": 1,
     "schema_version": 3,
     "solution": false,
     "task": false
    }
   },
   "outputs": [],
   "source": [
    "assert np.isclose(erro1(np.sin, np.cos, 0, np.pi, n=250), 2.8283899040391645)"
   ]
  },
  {
   "cell_type": "code",
   "execution_count": 124,
   "metadata": {
    "deletable": false,
    "editable": false,
    "nbgrader": {
     "cell_type": "code",
     "checksum": "8ec7c47815928bb18b1a91f0d8bc8b0f",
     "grade": true,
     "grade_id": "cell-90946a79817f2469",
     "locked": true,
     "points": 1,
     "schema_version": 3,
     "solution": false,
     "task": false
    }
   },
   "outputs": [],
   "source": [
    "assert np.isclose(erro1(np.exp, np.cos, -np.pi, np.pi), 23.565960230071205)"
   ]
  },
  {
   "cell_type": "code",
   "execution_count": 125,
   "metadata": {
    "deletable": false,
    "nbgrader": {
     "cell_type": "code",
     "checksum": "d3fd9aa351d82fc5b6758b3c63380e2b",
     "grade": false,
     "grade_id": "cell-d5bacc2b30664da2",
     "locked": false,
     "schema_version": 3,
     "solution": true,
     "task": false
    }
   },
   "outputs": [],
   "source": [
    "def erro2(f, g, a, b, n=100):\n",
    "    def sqr_dif(x):\n",
    "        return np.power(np.add(f(x),-1*g(x)),2)\n",
    "    return np.sqrt(midpoint(sqr_dif,a,b,n))"
   ]
  },
  {
   "cell_type": "code",
   "execution_count": 126,
   "metadata": {
    "deletable": false,
    "editable": false,
    "nbgrader": {
     "cell_type": "code",
     "checksum": "277a5e9f75243a4efb281c0b59c81380",
     "grade": true,
     "grade_id": "cell-26b07872979cc4eb",
     "locked": true,
     "points": 1,
     "schema_version": 3,
     "solution": false,
     "task": false
    }
   },
   "outputs": [],
   "source": [
    "assert np.isclose(erro2(np.sin, np.cos, 0, np.pi), np.sqrt(np.pi))\n",
    "assert np.isclose(erro2(np.exp, np.cos, -np.pi, np.pi, n=200), 17.14462097595834)"
   ]
  },
  {
   "cell_type": "code",
   "execution_count": 135,
   "metadata": {
    "deletable": false,
    "nbgrader": {
     "cell_type": "code",
     "checksum": "999450532acdccb682e6e2f1f1e8300d",
     "grade": false,
     "grade_id": "cell-b3ae746f0c8684e0",
     "locked": false,
     "schema_version": 3,
     "solution": true,
     "task": false
    }
   },
   "outputs": [],
   "source": [
    "def erromax(f, g, a, b, n=100):\n",
    "    xs,h = np.linspace(a,b,num=n,endpoint=True,retstep=True)\n",
    "    xs = xs + h/2\n",
    "    def dif(x):\n",
    "        return np.abs(np.add(f(x),-1*g(x)))\n",
    "    l = [np.abs(f(x) - g(x)) for x in xs]\n",
    "    return max(l)"
   ]
  },
  {
   "cell_type": "code",
   "execution_count": 136,
   "metadata": {},
   "outputs": [
    {
     "data": {
      "text/plain": [
       "24.508786638288363"
      ]
     },
     "execution_count": 136,
     "metadata": {},
     "output_type": "execute_result"
    }
   ],
   "source": [
    "erromax(np.exp, np.cos, -np.pi, np.pi, n=200)"
   ]
  },
  {
   "cell_type": "code",
   "execution_count": 137,
   "metadata": {},
   "outputs": [
    {
     "data": {
      "text/plain": [
       "1.0079017629882427"
      ]
     },
     "execution_count": 137,
     "metadata": {},
     "output_type": "execute_result"
    }
   ],
   "source": [
    "erromax(np.sin, np.cos,0, np.pi/2)"
   ]
  },
  {
   "cell_type": "code",
   "execution_count": 134,
   "metadata": {
    "deletable": false,
    "editable": false,
    "nbgrader": {
     "cell_type": "code",
     "checksum": "84cb778a39edeacb4480abe11a790d8b",
     "grade": true,
     "grade_id": "cell-9c4f8e1e7cdf1a83",
     "locked": true,
     "points": 1,
     "schema_version": 3,
     "solution": false,
     "task": false
    }
   },
   "outputs": [
    {
     "ename": "AssertionError",
     "evalue": "",
     "output_type": "error",
     "traceback": [
      "\u001b[0;31m---------------------------------------------------------------------------\u001b[0m",
      "\u001b[0;31mAssertionError\u001b[0m                            Traceback (most recent call last)",
      "\u001b[0;32m<ipython-input-134-7f5463be705f>\u001b[0m in \u001b[0;36m<module>\u001b[0;34m\u001b[0m\n\u001b[0;32m----> 1\u001b[0;31m \u001b[0;32massert\u001b[0m \u001b[0mnp\u001b[0m\u001b[0;34m.\u001b[0m\u001b[0misclose\u001b[0m\u001b[0;34m(\u001b[0m\u001b[0merromax\u001b[0m\u001b[0;34m(\u001b[0m\u001b[0mnp\u001b[0m\u001b[0;34m.\u001b[0m\u001b[0msin\u001b[0m\u001b[0;34m,\u001b[0m \u001b[0mnp\u001b[0m\u001b[0;34m.\u001b[0m\u001b[0mcos\u001b[0m\u001b[0;34m,\u001b[0m \u001b[0;36m0\u001b[0m\u001b[0;34m,\u001b[0m \u001b[0mnp\u001b[0m\u001b[0;34m.\u001b[0m\u001b[0mpi\u001b[0m\u001b[0;34m/\u001b[0m\u001b[0;36m2\u001b[0m\u001b[0;34m)\u001b[0m\u001b[0;34m,\u001b[0m \u001b[0;36m0.9921152567560784\u001b[0m\u001b[0;34m)\u001b[0m\u001b[0;34m\u001b[0m\u001b[0;34m\u001b[0m\u001b[0m\n\u001b[0m\u001b[1;32m      2\u001b[0m \u001b[0;32massert\u001b[0m \u001b[0mnp\u001b[0m\u001b[0;34m.\u001b[0m\u001b[0misclose\u001b[0m\u001b[0;34m(\u001b[0m\u001b[0merromax\u001b[0m\u001b[0;34m(\u001b[0m\u001b[0mnp\u001b[0m\u001b[0;34m.\u001b[0m\u001b[0mexp\u001b[0m\u001b[0;34m,\u001b[0m \u001b[0mnp\u001b[0m\u001b[0;34m.\u001b[0m\u001b[0mcos\u001b[0m\u001b[0;34m,\u001b[0m \u001b[0;34m-\u001b[0m\u001b[0mnp\u001b[0m\u001b[0;34m.\u001b[0m\u001b[0mpi\u001b[0m\u001b[0;34m,\u001b[0m \u001b[0mnp\u001b[0m\u001b[0;34m.\u001b[0m\u001b[0mpi\u001b[0m\u001b[0;34m,\u001b[0m \u001b[0mn\u001b[0m\u001b[0;34m=\u001b[0m\u001b[0;36m200\u001b[0m\u001b[0;34m)\u001b[0m\u001b[0;34m,\u001b[0m \u001b[0;36m23.779916094373814\u001b[0m\u001b[0;34m)\u001b[0m\u001b[0;34m\u001b[0m\u001b[0;34m\u001b[0m\u001b[0m\n",
      "\u001b[0;31mAssertionError\u001b[0m: "
     ]
    }
   ],
   "source": [
    "assert np.isclose(erromax(np.sin, np.cos, 0, np.pi/2), 0.9921152567560784)\n",
    "assert np.isclose(erromax(np.exp, np.cos, -np.pi, np.pi, n=200), 23.779916094373814)"
   ]
  },
  {
   "cell_type": "markdown",
   "metadata": {},
   "source": [
    "## Questão 3: Gráficos\n",
    "\n",
    "Faça o gráfico da função $\\sin(x^2)$, e também do polinômio interpolador de grau 3,\n",
    "no intervalo $[0, \\sqrt{2\\pi}]$."
   ]
  },
  {
   "cell_type": "code",
   "execution_count": 92,
   "metadata": {
    "deletable": false,
    "nbgrader": {
     "cell_type": "code",
     "checksum": "247e77e13766ae31c83bc6493004f753",
     "grade": true,
     "grade_id": "cell-7cdd2db82f0b3042",
     "locked": false,
     "points": 2,
     "schema_version": 3,
     "solution": true,
     "task": false
    }
   },
   "outputs": [
    {
     "data": {
      "text/plain": [
       "Text(0.5, 1.0, 'Sin($x^2$) e seu polinomio aproximador')"
      ]
     },
     "execution_count": 92,
     "metadata": {},
     "output_type": "execute_result"
    },
    {
     "data": {
      "image/png": "[encoded data removed]",
      "text/plain": [
       "<Figure size 432x288 with 1 Axes>"
      ]
     },
     "metadata": {
      "needs_background": "light"
     },
     "output_type": "display_data"
    }
   ],
   "source": [
    "xs = np.linspace(0,np.sqrt(2*np.pi),num=100)\n",
    "def f(x): return np.sin(x*x)\n",
    "sub_3 = np.linspace(0,np.sqrt(2*np.pi),num=4)\n",
    "p = lagrange(sub_3,f(sub_3))\n",
    "plt.plot(xs,p(xs),label=\"poli\")\n",
    "plt.plot(xs,f(xs),label=\"sin($x^2$)\")\n",
    "plt.legend()\n",
    "plt.title(\"Sin($x^2$) e seu polinomio aproximador\")"
   ]
  },
  {
   "cell_type": "markdown",
   "metadata": {},
   "source": [
    "Agora, faça o gráfico da diferença (sem valor absoluto) entre a função e o polinômio interpolador"
   ]
  },
  {
   "cell_type": "code",
   "execution_count": 93,
   "metadata": {
    "deletable": false,
    "nbgrader": {
     "cell_type": "code",
     "checksum": "38b678c9b0490f8073c4e23d129a5741",
     "grade": false,
     "grade_id": "cell-23667977968355c8",
     "locked": false,
     "schema_version": 3,
     "solution": true,
     "task": false
    }
   },
   "outputs": [
    {
     "data": {
      "image/png": "[encoded data removed]",
      "text/plain": [
       "<Figure size 432x288 with 1 Axes>"
      ]
     },
     "metadata": {
      "needs_background": "light"
     },
     "output_type": "display_data"
    }
   ],
   "source": [
    "def dif(x,f,g):\n",
    "        return np.add(f(x),-1*g(x))\n",
    "error = dif(xs,f,p)\n",
    "plt.plot(xs,error)\n",
    "plt.title(\"Erro do polinomio aproximador\")\n",
    "ax = plt.gca()"
   ]
  },
  {
   "cell_type": "code",
   "execution_count": 94,
   "metadata": {
    "deletable": false,
    "editable": false,
    "nbgrader": {
     "cell_type": "code",
     "checksum": "c7870db8f659f1a1189bb8ecca421a62",
     "grade": true,
     "grade_id": "cell-fdefaaefc79047d6",
     "locked": true,
     "points": 1,
     "schema_version": 3,
     "solution": false,
     "task": false
    }
   },
   "outputs": [],
   "source": [
    "assert len(ax.lines) == 1\n",
    "assert ax.get_title != \"\"\n",
    "\n",
    "ys = ax.lines[0].get_ydata()\n",
    "assert min(ys) < -1\n",
    "assert max(ys) > 0.4"
   ]
  },
  {
   "cell_type": "markdown",
   "metadata": {},
   "source": [
    "Repita para o polinômio de grau 7 (que tem o dobro de coeficientes)."
   ]
  },
  {
   "cell_type": "code",
   "execution_count": 96,
   "metadata": {
    "deletable": false,
    "nbgrader": {
     "cell_type": "code",
     "checksum": "6dc9885fa8de95945a4a5a950b435c48",
     "grade": false,
     "grade_id": "cell-ecf5025a45a9282f",
     "locked": false,
     "schema_version": 3,
     "solution": true,
     "task": false
    }
   },
   "outputs": [
    {
     "data": {
      "image/png": "[encoded data removed]",
      "text/plain": [
       "<Figure size 864x288 with 2 Axes>"
      ]
     },
     "metadata": {
      "needs_background": "light"
     },
     "output_type": "display_data"
    }
   ],
   "source": [
    "fig, axs = plt.subplots(ncols=2, figsize=(12,4))\n",
    "ax1, ax2 = axs\n",
    "sub_7 = np.linspace(0,np.sqrt(2*np.pi),num=8)\n",
    "p = lagrange(sub_7,f(sub_7))\n",
    "ax1.plot(xs,p(xs),label=\"poli\")\n",
    "ax1.plot(xs,f(xs),label=\"sin($x^2$)\")\n",
    "ax1.legend()\n",
    "ax1.set_title(\"Sin($x^2$) e seu polinomio aproximador\")\n",
    "error = dif(xs,f,p)\n",
    "ax2.plot(xs,error)\n",
    "ax2.set_title(\"Erro do polinomio aproximador\")\n",
    "ax = plt.gca()"
   ]
  },
  {
   "cell_type": "code",
   "execution_count": 97,
   "metadata": {
    "deletable": false,
    "editable": false,
    "nbgrader": {
     "cell_type": "code",
     "checksum": "ce48485d20990625eb5698a4ac90a947",
     "grade": true,
     "grade_id": "cell-059d2c3c7762ef9d",
     "locked": true,
     "points": 1,
     "schema_version": 3,
     "solution": false,
     "task": false
    }
   },
   "outputs": [],
   "source": [
    "assert len(ax1.lines) == 2\n",
    "assert len(ax1.legend().texts) == 2\n",
    "assert ax1.title.get_text() != \"\""
   ]
  },
  {
   "cell_type": "code",
   "execution_count": 98,
   "metadata": {},
   "outputs": [
    {
     "data": {
      "text/plain": [
       "0.05955031654640026"
      ]
     },
     "execution_count": 98,
     "metadata": {},
     "output_type": "execute_result"
    }
   ],
   "source": [
    "ys = ax2.lines[0].get_ydata()\n",
    "max(ys)"
   ]
  },
  {
   "cell_type": "code",
   "execution_count": 99,
   "metadata": {
    "deletable": false,
    "editable": false,
    "nbgrader": {
     "cell_type": "code",
     "checksum": "ac8c85eb29614431f2b783ddadb18dd1",
     "grade": true,
     "grade_id": "cell-c6748cb924a27cd1",
     "locked": true,
     "points": 1,
     "schema_version": 3,
     "solution": false,
     "task": false
    }
   },
   "outputs": [
    {
     "ename": "AssertionError",
     "evalue": "",
     "output_type": "error",
     "traceback": [
      "\u001b[0;31m---------------------------------------------------------------------------\u001b[0m",
      "\u001b[0;31mAssertionError\u001b[0m                            Traceback (most recent call last)",
      "\u001b[0;32m<ipython-input-99-1a7c20076f73>\u001b[0m in \u001b[0;36m<module>\u001b[0;34m\u001b[0m\n\u001b[1;32m      3\u001b[0m \u001b[0;34m\u001b[0m\u001b[0m\n\u001b[1;32m      4\u001b[0m \u001b[0mys\u001b[0m \u001b[0;34m=\u001b[0m \u001b[0max2\u001b[0m\u001b[0;34m.\u001b[0m\u001b[0mlines\u001b[0m\u001b[0;34m[\u001b[0m\u001b[0;36m0\u001b[0m\u001b[0;34m]\u001b[0m\u001b[0;34m.\u001b[0m\u001b[0mget_ydata\u001b[0m\u001b[0;34m(\u001b[0m\u001b[0;34m)\u001b[0m\u001b[0;34m\u001b[0m\u001b[0;34m\u001b[0m\u001b[0m\n\u001b[0;32m----> 5\u001b[0;31m \u001b[0;32massert\u001b[0m \u001b[0mnp\u001b[0m\u001b[0;34m.\u001b[0m\u001b[0misclose\u001b[0m\u001b[0;34m(\u001b[0m\u001b[0mmax\u001b[0m\u001b[0;34m(\u001b[0m\u001b[0mys\u001b[0m\u001b[0;34m)\u001b[0m\u001b[0;34m,\u001b[0m \u001b[0;36m0.06\u001b[0m\u001b[0;34m,\u001b[0m \u001b[0matol\u001b[0m\u001b[0;34m=\u001b[0m\u001b[0;36m1e-4\u001b[0m\u001b[0;34m)\u001b[0m\u001b[0;34m\u001b[0m\u001b[0;34m\u001b[0m\u001b[0m\n\u001b[0m\u001b[1;32m      6\u001b[0m \u001b[0;32massert\u001b[0m \u001b[0mnp\u001b[0m\u001b[0;34m.\u001b[0m\u001b[0misclose\u001b[0m\u001b[0;34m(\u001b[0m\u001b[0mmin\u001b[0m\u001b[0;34m(\u001b[0m\u001b[0mys\u001b[0m\u001b[0;34m)\u001b[0m\u001b[0;34m,\u001b[0m \u001b[0;34m-\u001b[0m\u001b[0;36m0.0140140\u001b[0m\u001b[0;34m,\u001b[0m \u001b[0matol\u001b[0m\u001b[0;34m=\u001b[0m\u001b[0;36m1e-4\u001b[0m\u001b[0;34m)\u001b[0m\u001b[0;34m\u001b[0m\u001b[0;34m\u001b[0m\u001b[0m\n",
      "\u001b[0;31mAssertionError\u001b[0m: "
     ]
    }
   ],
   "source": [
    "assert len(ax2.lines) == 1\n",
    "assert ax2.title.get_text() != \"\"\n",
    "\n",
    "ys = ax2.lines[0].get_ydata()\n",
    "assert np.isclose(max(ys), 0.06, atol=1e-4)\n",
    "assert np.isclose(min(ys), -0.0140140, atol=1e-4)"
   ]
  },
  {
   "cell_type": "markdown",
   "metadata": {},
   "source": [
    "O erro máximo é fácil de ver pelo gráfico.\n",
    "Use as funções `erro1` e `erro2` para comparar, também, os erros \"ao longo do intervalo inteiro\"."
   ]
  },
  {
   "cell_type": "code",
   "execution_count": 101,
   "metadata": {
    "deletable": false,
    "nbgrader": {
     "cell_type": "code",
     "checksum": "dd7e133076f64eed046b815e8766eb30",
     "grade": true,
     "grade_id": "cell-c5d396ced012733c",
     "locked": false,
     "points": 2,
     "schema_version": 3,
     "solution": true,
     "task": false
    }
   },
   "outputs": [
    {
     "data": {
      "image/png": "[encoded data removed]",
      "text/plain": [
       "<Figure size 720x576 with 3 Axes>"
      ]
     },
     "metadata": {
      "needs_background": "light"
     },
     "output_type": "display_data"
    }
   ],
   "source": [
    "fig, axs = plt.subplots(nrows=3, figsize=(12,4))\n",
    "fig.set_size_inches(10,8)\n",
    "ax1, ax2, ax3 = axs\n",
    "sub_7 = np.linspace(0,np.sqrt(2*np.pi),num=8)\n",
    "p = lagrange(sub_7,f(sub_7))\n",
    "ax1.plot(xs,p(xs),label=\"poli\")\n",
    "ax1.plot(xs,f(xs),label=\"sin($x^2$)\")\n",
    "ax1.legend()\n",
    "ax1.set_title(\"Sin($x^2$) e seu polinomio aproximador\")\n",
    "error = [erro1(f,p,xs[i-1],xs[i]) for i in range(1,len(xs))]\n",
    "ax2.plot(xs[:-1],error)\n",
    "ax2.set_title(\"Erro1 do polinomio aproximador\")\n",
    "error = [erro2(f,p,xs[i-1],xs[i]) for i in range(1,len(xs))]\n",
    "ax3.plot(xs[:-1],error)\n",
    "ax3.set_title(\"Erro2 do polinomio aproximador\")\n",
    "fig.tight_layout(pad=3.0)\n",
    "ax = plt.gca()"
   ]
  },
  {
   "cell_type": "markdown",
   "metadata": {},
   "source": [
    "## Questão 4: Erros e subdivisões\n",
    "\n",
    "Para o grau $d$ do polinômio interpolador variando entre $3$ e $30$,\n",
    "faça o gráfico do máximo do erro entre o polinômio interpolador e a função $\\sin(x^2)$,\n",
    "no mesmo intervalo $[0, \\sqrt{2\\pi}]$."
   ]
  },
  {
   "cell_type": "code",
   "execution_count": 103,
   "metadata": {
    "deletable": false,
    "nbgrader": {
     "cell_type": "code",
     "checksum": "1076769bcd58436040db436395c8a845",
     "grade": true,
     "grade_id": "cell-d98f11ea717ad6d7",
     "locked": false,
     "points": 1,
     "schema_version": 3,
     "solution": true,
     "task": false
    }
   },
   "outputs": [
    {
     "data": {
      "image/png": "[encoded data removed]",
      "text/plain": [
       "<Figure size 432x288 with 1 Axes>"
      ]
     },
     "metadata": {
      "needs_background": "light"
     },
     "output_type": "display_data"
    }
   ],
   "source": [
    "ds = np.arange(3,30+1)\n",
    "max_errs = []\n",
    "\n",
    "for d in ds:\n",
    "    sub_n = np.linspace(0,np.sqrt(2*np.pi),num=d+1)\n",
    "    p = lagrange(sub_n,f(sub_n))\n",
    "    max_errs.append(erromax(f,p,0,np.sqrt(2*np.pi)))\n",
    "\n",
    "plt.plot(ds,max_errs)\n",
    "plt.title(\"Erro máximo do polinomio aproximador para várias ordens de aproximação\")\n",
    "plt.xlabel(\"ordem do polinômio\")\n",
    "plt.ylabel(\"Max error\")\n",
    "ax = plt.gca()"
   ]
  },
  {
   "cell_type": "code",
   "execution_count": 104,
   "metadata": {
    "deletable": false,
    "editable": false,
    "nbgrader": {
     "cell_type": "code",
     "checksum": "8e1caf0d72598c1a0d31aabd5e67b59a",
     "grade": true,
     "grade_id": "cell-ab310c7e02a6ef0d",
     "locked": true,
     "points": 1,
     "schema_version": 3,
     "solution": false,
     "task": false
    }
   },
   "outputs": [],
   "source": [
    "assert len(ax.lines) == 1\n",
    "assert ax.title.get_text() != \"\"\n",
    "assert ax.get_xlabel() != \"\""
   ]
  },
  {
   "cell_type": "markdown",
   "metadata": {},
   "source": [
    "Como o erro decai quando aumentamos $n$?"
   ]
  },
  {
   "cell_type": "markdown",
   "metadata": {
    "deletable": false,
    "nbgrader": {
     "cell_type": "markdown",
     "checksum": "883400446bad45d4113660633a37e833",
     "grade": true,
     "grade_id": "cell-8126993128208237",
     "locked": false,
     "points": 1,
     "schema_version": 3,
     "solution": true,
     "task": false
    }
   },
   "source": [
    "O erro decai de forma quase exponencial e parece convergir para 0. "
   ]
  },
  {
   "cell_type": "markdown",
   "metadata": {},
   "source": [
    "Agora, repita para os 3 erros."
   ]
  },
  {
   "cell_type": "code",
   "execution_count": 106,
   "metadata": {
    "deletable": false,
    "nbgrader": {
     "cell_type": "code",
     "checksum": "f5ae56ef4ed4e2e18c7710cb8a99c31f",
     "grade": false,
     "grade_id": "cell-16ea79dfe6775007",
     "locked": false,
     "schema_version": 3,
     "solution": true,
     "task": false
    }
   },
   "outputs": [
    {
     "data": {
      "image/png": "[encoded data removed]",
      "text/plain": [
       "<Figure size 432x288 with 1 Axes>"
      ]
     },
     "metadata": {
      "needs_background": "light"
     },
     "output_type": "display_data"
    }
   ],
   "source": [
    "ds = np.arange(3,30+1)\n",
    "errs_max = []\n",
    "errs_1   = []\n",
    "errs_2   = []\n",
    "\n",
    "for d in ds:\n",
    "    sub_n = np.linspace(0,np.sqrt(2*np.pi),num=d+1)\n",
    "    p = lagrange(sub_n,f(sub_n))\n",
    "    errs_max.append(erromax(f,p,0,np.sqrt(2*np.pi)))\n",
    "    errs_1.append(erro1(f,p,0,np.sqrt(2*np.pi)))\n",
    "    errs_2.append(erro2(f,p,0,np.sqrt(2*np.pi)))\n",
    "    \n",
    "plt.plot(ds,errs_max,label=\"Max\")\n",
    "plt.plot(ds,errs_1,label=\"Erro1\")\n",
    "plt.plot(ds,errs_2,label=\"Erro2\")\n",
    "plt.legend()\n",
    "plt.title(\"Erros do polinomio aproximador para várias ordens de aproximação\")\n",
    "plt.xlabel(\"ordem do polinômio\")\n",
    "plt.ylabel(\"Erro\")\n",
    "\n",
    "ax = plt.gca()"
   ]
  },
  {
   "cell_type": "code",
   "execution_count": 107,
   "metadata": {
    "deletable": false,
    "editable": false,
    "nbgrader": {
     "cell_type": "code",
     "checksum": "37502e0fc77a556573eddd29c45935c1",
     "grade": true,
     "grade_id": "cell-fffd23ea13292231",
     "locked": true,
     "points": 1,
     "schema_version": 3,
     "solution": false,
     "task": false
    }
   },
   "outputs": [],
   "source": [
    "assert len(ax.lines) == 3\n",
    "assert len(ax.legend().texts) == 3\n",
    "assert ax.get_title() != \"\""
   ]
  },
  {
   "cell_type": "markdown",
   "metadata": {},
   "source": [
    "O que você observa?  Todos os erros decaem da mesma forma?"
   ]
  },
  {
   "cell_type": "markdown",
   "metadata": {
    "deletable": false,
    "nbgrader": {
     "cell_type": "markdown",
     "checksum": "18a5dbd627ecbf47304a45c0287013fa",
     "grade": true,
     "grade_id": "cell-741dabe58b8be5bc",
     "locked": false,
     "points": 2,
     "schema_version": 3,
     "solution": true,
     "task": false
    }
   },
   "source": [
    "Sim, todos os decaimentos se aproximam de uma exponencial. O erro máximo, contudo, aparenta ter um comportamento um pouco diferente entre os polinomios de grau 5 e grau 10, mas depois converge para 0 tal como os demais. "
   ]
  }
 ],
 "metadata": {
  "kernelspec": {
   "display_name": "Python 3",
   "language": "python",
   "name": "python3"
  },
  "language_info": {
   "codemirror_mode": {
    "name": "ipython",
    "version": 3
   },
   "file_extension": ".py",
   "mimetype": "text/x-python",
   "name": "python",
   "nbconvert_exporter": "python",
   "pygments_lexer": "ipython3",
   "version": "3.8.5"
  }
 },
 "nbformat": 4,
 "nbformat_minor": 4
}

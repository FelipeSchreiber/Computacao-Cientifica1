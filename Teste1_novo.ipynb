{
 "cells": [
  {
   "cell_type": "markdown",
   "metadata": {},
   "source": [
    "![CC-BY-SA](https://mirrors.creativecommons.org/presskit/buttons/88x31/svg/by-sa.svg)\n",
    "\n",
    "\n",
    "This notebook was created by [Bernardo Freitas Paulo da Costa](http://www.im.ufrj.br/bernardofpc),\n",
    "and is licensed under Creative Commons BY-SA."
   ]
  },
  {
   "cell_type": "markdown",
   "metadata": {},
   "source": [
    "Antes de enviar este Teste, verifique que tudo está funcionando como esperado.\n",
    "Por exemplo, **rode o código inteiro, do zero**.\n",
    "Para isso, vá no menu, escolha _Kernel_, depois _Restart & Run All_.\n",
    "\n",
    "Verifique, também, que você respondeu todas as questões:\n",
    "* as questões de código têm `YOUR CODE HERE` (e você pode apagar o `raise NotImplemented` ao incluir sua resposta)\n",
    "* as questões discursivas têm \"YOUR ANSWER HERE\"."
   ]
  },
  {
   "cell_type": "markdown",
   "metadata": {},
   "source": [
    "---"
   ]
  },
  {
   "cell_type": "code",
   "execution_count": 1,
   "metadata": {
    "deletable": false,
    "editable": false,
    "nbgrader": {
     "cell_type": "code",
     "checksum": "e87b8966aaf1c772bc10d320c16bcd20",
     "grade": false,
     "grade_id": "cell-dd2323e81a84855d",
     "locked": true,
     "schema_version": 3,
     "solution": false
    }
   },
   "outputs": [],
   "source": [
    "import numpy as np"
   ]
  },
  {
   "cell_type": "markdown",
   "metadata": {
    "deletable": false,
    "editable": false,
    "nbgrader": {
     "cell_type": "markdown",
     "checksum": "5c6b54eb246b70e64e3e7ba42026bebe",
     "grade": false,
     "grade_id": "cell-1e0855c931b2753a",
     "locked": true,
     "schema_version": 3,
     "solution": false
    }
   },
   "source": [
    "# Teste 1: Bisseção"
   ]
  },
  {
   "cell_type": "markdown",
   "metadata": {
    "deletable": false,
    "editable": false,
    "nbgrader": {
     "cell_type": "markdown",
     "checksum": "84c5d5c036c14ad2b1aa0fca1a36be8c",
     "grade": false,
     "grade_id": "cell-e056045500ce7a08",
     "locked": true,
     "schema_version": 3,
     "solution": false
    }
   },
   "source": [
    "## Questão 1: Número de iterações da bisseção, e de chamadas à função `f`\n",
    "\n",
    "Generalize o algoritmo da bisseção _iterativa_ para retornar,\n",
    "- a (aproximação da) raiz,\n",
    "- o número de bisseções (divisões por 2 do intervalo) feitas,\n",
    "- o número de vezes que você chamou a função `f`\n",
    "\n",
    "Use como critério de parada\n",
    "- `xtol`, e\n",
    "- `maxiter`,\n",
    "\n",
    "ou seja, o algoritmo termina quando:\n",
    "- seja possível garantir que o erro (absoluto) da resposta (\"em $x$\") seja menor do que `xtol`; OU\n",
    "- quando o algoritmo já tiver feito `maxiter` itererações."
   ]
  },
  {
   "cell_type": "code",
   "execution_count": 2,
   "metadata": {
    "deletable": false,
    "nbgrader": {
     "cell_type": "code",
     "checksum": "81a8e749c3f89add42d8d04e85307e4d",
     "grade": false,
     "grade_id": "cell-9c2f0bf1fe48da91",
     "locked": false,
     "schema_version": 3,
     "solution": true
    }
   },
   "outputs": [],
   "source": [
    "def criterio_parada(a,b,xtol,niter,maxiter): \n",
    "    return abs(a - b) < xtol or niter == maxiter\n",
    "def bissecao(f, a, b, xtol=1e-8, maxiter=10):\n",
    "    num_iter = 0\n",
    "    #supoe fb > fa\n",
    "    if(f(a) > f(b)):\n",
    "        aux = b\n",
    "        b = a\n",
    "        a = aux\n",
    "    fcalls = 2\n",
    "    while(not criterio_parada(a,b,xtol,num_iter,maxiter)):\n",
    "        m = (a+b)/2\n",
    "        if(f(m) > 0):\n",
    "            b = m\n",
    "        else:\n",
    "            a = m   \n",
    "        num_iter += 1\n",
    "        fcalls += 1\n",
    "    return (a+b)/2, num_iter, fcalls"
   ]
  },
  {
   "cell_type": "markdown",
   "metadata": {
    "deletable": false,
    "editable": false,
    "nbgrader": {
     "cell_type": "markdown",
     "checksum": "b05b8a088d7b4a7a5b1b4c14842afe8a",
     "grade": false,
     "grade_id": "cell-4bc0b2fe13ea3505",
     "locked": true,
     "schema_version": 3,
     "solution": false
    }
   },
   "source": [
    "### 1.1: Testando com $\\sqrt2$:"
   ]
  },
  {
   "cell_type": "code",
   "execution_count": 3,
   "metadata": {
    "deletable": false,
    "editable": false,
    "nbgrader": {
     "cell_type": "code",
     "checksum": "51b6351c2c3f19b43a47df7cfac414b7",
     "grade": false,
     "grade_id": "cell-eccc81378a276c60",
     "locked": true,
     "schema_version": 3,
     "solution": false
    }
   },
   "outputs": [],
   "source": [
    "def p2(x): return x**2 - 2"
   ]
  },
  {
   "cell_type": "code",
   "execution_count": 4,
   "metadata": {
    "deletable": false,
    "editable": false,
    "nbgrader": {
     "cell_type": "code",
     "checksum": "a24e00bdbcf51944074501860cb1ba08",
     "grade": true,
     "grade_id": "cell-6216e0119f2a0e78",
     "locked": true,
     "points": 1,
     "schema_version": 3,
     "solution": false
    }
   },
   "outputs": [],
   "source": [
    "raiz, niters, ncalls = bissecao(p2, 0, 2, maxiter=100)\n",
    "assert abs(raiz - np.sqrt(2)) < 1e-8\n",
    "assert 25 <= niters <= 30\n",
    "assert 25 <= ncalls"
   ]
  },
  {
   "cell_type": "code",
   "execution_count": 5,
   "metadata": {
    "deletable": false,
    "editable": false,
    "nbgrader": {
     "cell_type": "code",
     "checksum": "cbc791e73195780011ab260b3c31d9be",
     "grade": true,
     "grade_id": "cell-caee585cfc6b637f",
     "locked": true,
     "points": 1,
     "schema_version": 3,
     "solution": false
    }
   },
   "outputs": [],
   "source": [
    "raiz, niters, ncalls = bissecao(p2, 0, 2, xtol=1e-3)\n",
    "assert abs(raiz - np.sqrt(2)) < 2e-3\n",
    "assert 9 <= niters <= 11"
   ]
  },
  {
   "cell_type": "code",
   "execution_count": 6,
   "metadata": {
    "deletable": false,
    "editable": false,
    "nbgrader": {
     "cell_type": "code",
     "checksum": "d24cd22e1f5c548dc710db8c4640cab7",
     "grade": true,
     "grade_id": "cell-ed17d59cca42278d",
     "locked": true,
     "points": 1,
     "schema_version": 3,
     "solution": false
    }
   },
   "outputs": [],
   "source": [
    "raiz, niters, ncalls = bissecao(p2, 0, 2)\n",
    "assert abs(raiz**2 - 2) > 1e-3\n",
    "assert niters == 10"
   ]
  },
  {
   "cell_type": "code",
   "execution_count": null,
   "metadata": {
    "deletable": false,
    "editable": false,
    "nbgrader": {
     "cell_type": "code",
     "checksum": "3de0ca8c1bb3668c6c04df4d9e1cdc09",
     "grade": true,
     "grade_id": "cell-19379484bc5a3adf",
     "locked": true,
     "points": 1,
     "schema_version": 3,
     "solution": false
    }
   },
   "outputs": [],
   "source": []
  },
  {
   "cell_type": "markdown",
   "metadata": {
    "deletable": false,
    "editable": false,
    "nbgrader": {
     "cell_type": "markdown",
     "checksum": "e237df5bfcdab121969197ec961e5777",
     "grade": false,
     "grade_id": "cell-397bcb0e31bd7a88",
     "locked": true,
     "schema_version": 3,
     "solution": false
    }
   },
   "source": [
    "### 1.2: Tolerância, número de iterações, respostas, ...\n",
    "\n",
    "Observe o seguinte código:"
   ]
  },
  {
   "cell_type": "code",
   "execution_count": 7,
   "metadata": {
    "deletable": false,
    "editable": false,
    "nbgrader": {
     "cell_type": "code",
     "checksum": "6a8e71754bb76fe8f1255a937ac1e703",
     "grade": false,
     "grade_id": "cell-d0133a6251ec551b",
     "locked": true,
     "schema_version": 3,
     "solution": false
    }
   },
   "outputs": [
    {
     "name": "stdout",
     "output_type": "stream",
     "text": [
      "xtol = 1.0e-08 --> raiz = 1.4150390625, #iter =  10\n",
      "xtol = 1.0e-07 --> raiz = 1.4150390625, #iter =  10\n",
      "xtol = 1.0e-06 --> raiz = 1.4150390625, #iter =  10\n",
      "xtol = 1.0e-05 --> raiz = 1.4150390625, #iter =  10\n",
      "xtol = 1.0e-04 --> raiz = 1.4150390625, #iter =  10\n",
      "xtol = 1.0e-03 --> raiz = 1.4150390625, #iter =  10\n",
      "xtol = 1.0e-02 --> raiz = 1.4179687500, #iter =   8\n",
      "xtol = 1.0e-01 --> raiz = 1.4062500000, #iter =   5\n",
      "xtol = 1.0e+00 --> raiz = 1.2500000000, #iter =   2\n"
     ]
    }
   ],
   "source": [
    "for err in np.logspace(-8, 0, num=9):\n",
    "    r, ni, nc = bissecao(p2, 0, 2, xtol=err)\n",
    "    print(f\"xtol = {err:.1e} --> raiz = {r:.10f}, #iter = {ni:3d}\")"
   ]
  },
  {
   "cell_type": "markdown",
   "metadata": {
    "deletable": false,
    "editable": false,
    "nbgrader": {
     "cell_type": "markdown",
     "checksum": "4157bbfbe4a8159ac018f1b9d95eb386",
     "grade": false,
     "grade_id": "cell-f75b784b20217fc4",
     "locked": true,
     "schema_version": 3,
     "solution": false
    }
   },
   "source": [
    "Comente"
   ]
  },
  {
   "cell_type": "markdown",
   "metadata": {
    "deletable": false,
    "nbgrader": {
     "cell_type": "markdown",
     "checksum": "88cab8741d5527fb3b02e489d7796d20",
     "grade": true,
     "grade_id": "cell-856d87a71e8f8ec5",
     "locked": false,
     "points": 2,
     "schema_version": 3,
     "solution": true
    }
   },
   "source": [
    "Quanto menor o erro desejado em x, maior o número de iterações necessárias. No entanto como o maxiter por default é 10, o máximo de precisão que conseguimos com 10 iterações foi 1.4150390625. Se notarmos no exemplo abaixo em que a condição de parada é limitada a 1000 iterações e pelo respectivo erro, vemos que a cada 3 ou 4 iterações o erro (xtol) diminui a uma ordem de grandeza (dividido por 10). Isso porque a cada iteração o tamanho do intervalo decai a metade, e quando temos 3 e 4 iterações, temos que o xtol é divido por 2^3 = 8 e 2^4= 16 respectivamente, o que faz sentido. "
   ]
  },
  {
   "cell_type": "markdown",
   "metadata": {
    "deletable": false,
    "editable": false,
    "nbgrader": {
     "cell_type": "markdown",
     "checksum": "b21753ef6a59bb446c9bcc49065e356f",
     "grade": false,
     "grade_id": "cell-9d3f635159d23a38",
     "locked": true,
     "schema_version": 3,
     "solution": false
    }
   },
   "source": [
    "Como seria o equivalente se o critério fosse o número de iterações?"
   ]
  },
  {
   "cell_type": "code",
   "execution_count": 8,
   "metadata": {
    "deletable": false,
    "nbgrader": {
     "cell_type": "code",
     "checksum": "d84370876318c0eb7c84141068435933",
     "grade": true,
     "grade_id": "cell-c6d45f6ca0f539e4",
     "locked": false,
     "points": 2,
     "schema_version": 3,
     "solution": true
    }
   },
   "outputs": [
    {
     "name": "stdout",
     "output_type": "stream",
     "text": [
      "raiz = 1.2500000000, #iter =   2\n",
      "raiz = 1.3750000000, #iter =   3\n",
      "raiz = 1.4375000000, #iter =   4\n",
      "raiz = 1.4062500000, #iter =   5\n",
      "raiz = 1.4218750000, #iter =   6\n",
      "raiz = 1.4140625000, #iter =   7\n",
      "raiz = 1.4179687500, #iter =   8\n",
      "raiz = 1.4160156250, #iter =   9\n",
      "raiz = 1.4150390625, #iter =  10\n",
      "raiz = 1.4145507812, #iter =  11\n",
      "raiz = 1.4143066406, #iter =  12\n",
      "raiz = 1.4141845703, #iter =  13\n",
      "raiz = 1.4142456055, #iter =  14\n",
      "raiz = 1.4142150879, #iter =  15\n",
      "raiz = 1.4141998291, #iter =  16\n",
      "raiz = 1.4142074585, #iter =  17\n",
      "raiz = 1.4142112732, #iter =  18\n",
      "raiz = 1.4142131805, #iter =  19\n",
      "raiz = 1.4142141342, #iter =  20\n",
      "raiz = 1.4142136574, #iter =  21\n",
      "raiz = 1.4142134190, #iter =  22\n",
      "raiz = 1.4142135382, #iter =  23\n",
      "raiz = 1.4142135978, #iter =  24\n",
      "raiz = 1.4142135680, #iter =  25\n",
      "raiz = 1.4142135531, #iter =  26\n",
      "raiz = 1.4142135605, #iter =  27\n",
      "raiz = 1.4142135642, #iter =  28\n",
      "raiz = 1.4142135642, #iter =  28\n",
      "raiz = 1.4142135642, #iter =  28\n",
      "raiz = 1.4142135642, #iter =  28\n",
      "raiz = 1.4142135642, #iter =  28\n",
      "raiz = 1.4142135642, #iter =  28\n",
      "raiz = 1.4142135642, #iter =  28\n",
      "raiz = 1.4142135642, #iter =  28\n",
      "raiz = 1.4142135642, #iter =  28\n",
      "raiz = 1.4142135642, #iter =  28\n",
      "raiz = 1.4142135642, #iter =  28\n",
      "raiz = 1.4142135642, #iter =  28\n",
      "raiz = 1.4142135642, #iter =  28\n",
      "raiz = 1.4142135642, #iter =  28\n",
      "raiz = 1.4142135642, #iter =  28\n",
      "raiz = 1.4142135642, #iter =  28\n",
      "raiz = 1.4142135642, #iter =  28\n",
      "raiz = 1.4142135642, #iter =  28\n",
      "raiz = 1.4142135642, #iter =  28\n",
      "raiz = 1.4142135642, #iter =  28\n",
      "raiz = 1.4142135642, #iter =  28\n",
      "raiz = 1.4142135642, #iter =  28\n"
     ]
    }
   ],
   "source": [
    "for niter in np.arange(2,50):\n",
    "    r, ni, nc = bissecao(p2, 0, 2,maxiter = niter)\n",
    "    print(f\"raiz = {r:.10f}, #iter = {ni:3d}\")"
   ]
  },
  {
   "cell_type": "markdown",
   "metadata": {
    "deletable": false,
    "editable": false,
    "nbgrader": {
     "cell_type": "markdown",
     "checksum": "549fb08bec45f9a979921f470a14815d",
     "grade": false,
     "grade_id": "cell-e3437e8aecddbf1a",
     "locked": true,
     "schema_version": 3,
     "solution": false
    }
   },
   "source": [
    "Comente, também."
   ]
  },
  {
   "cell_type": "markdown",
   "metadata": {
    "deletable": false,
    "nbgrader": {
     "cell_type": "markdown",
     "checksum": "5b802ed0637d0e06acc6783edb7b126a",
     "grade": true,
     "grade_id": "cell-b7931432898e9741",
     "locked": false,
     "points": 2,
     "schema_version": 3,
     "solution": true
    }
   },
   "source": [
    "Conforme o número de iterações aumenta, mais a raiz se aproxima do valor real. No entanto, quando temos 28 iterações o xtol chega ao erro tolerável, de forma que aumentando o número de iterações não modifica o resultado."
   ]
  },
  {
   "cell_type": "markdown",
   "metadata": {
    "deletable": false,
    "editable": false,
    "nbgrader": {
     "cell_type": "markdown",
     "checksum": "be5621b73807c1e20178bd77951e4ffa",
     "grade": false,
     "grade_id": "cell-9a0e771c79ceedc5",
     "locked": true,
     "schema_version": 3,
     "solution": false
    }
   },
   "source": [
    "### 1.3: Agora, um polinômio um pouco mais complicado:"
   ]
  },
  {
   "cell_type": "code",
   "execution_count": 9,
   "metadata": {
    "deletable": false,
    "editable": false,
    "nbgrader": {
     "cell_type": "code",
     "checksum": "4cf750914a01d54db4797f2af08d7bdb",
     "grade": false,
     "grade_id": "cell-1648a7ece91eb5a0",
     "locked": true,
     "schema_version": 3,
     "solution": false
    }
   },
   "outputs": [],
   "source": [
    "def p4(x): return x**4 - 3*x + 1"
   ]
  },
  {
   "cell_type": "code",
   "execution_count": 10,
   "metadata": {
    "deletable": false,
    "editable": false,
    "nbgrader": {
     "cell_type": "code",
     "checksum": "98321ba7d6b884f4f71dcfb6b05d40d7",
     "grade": true,
     "grade_id": "cell-b8f933e77c525f69",
     "locked": true,
     "points": 1,
     "schema_version": 3,
     "solution": false
    }
   },
   "outputs": [],
   "source": [
    "r1, n1, c1 = bissecao(p4, 0, 1, maxiter=100)\n",
    "assert p4(r1) < 1e-6"
   ]
  },
  {
   "cell_type": "code",
   "execution_count": 11,
   "metadata": {
    "deletable": false,
    "editable": false,
    "nbgrader": {
     "cell_type": "code",
     "checksum": "1efb38e9c3df4d29e928f8023f5c8d6f",
     "grade": true,
     "grade_id": "cell-fab8ee9c8e55f544",
     "locked": true,
     "points": 1,
     "schema_version": 3,
     "solution": false
    }
   },
   "outputs": [],
   "source": [
    "r2, n2, c2 = bissecao(p4, 1, 2, maxiter=100)\n",
    "assert n1 == n2\n",
    "assert p4(r2) < 1e-6"
   ]
  },
  {
   "cell_type": "code",
   "execution_count": 12,
   "metadata": {
    "deletable": false,
    "editable": false,
    "nbgrader": {
     "cell_type": "code",
     "checksum": "92a073f5b2611eed8d4d999181c2c328",
     "grade": true,
     "grade_id": "cell-faf0c1fe3a384747",
     "locked": true,
     "points": 1,
     "schema_version": 3,
     "solution": false
    }
   },
   "outputs": [],
   "source": [
    "r3, n3, c2 = bissecao(p4, 1, 3, maxiter=100)\n",
    "assert n3 == n2+1\n",
    "assert r3 == r2"
   ]
  },
  {
   "cell_type": "code",
   "execution_count": null,
   "metadata": {
    "deletable": false,
    "editable": false,
    "nbgrader": {
     "cell_type": "code",
     "checksum": "0badef98b5d2da7d52778ebf772a74fb",
     "grade": true,
     "grade_id": "cell-1ec4a98add6ac67a",
     "locked": true,
     "points": 1,
     "schema_version": 3,
     "solution": false
    }
   },
   "outputs": [],
   "source": []
  },
  {
   "cell_type": "markdown",
   "metadata": {},
   "source": [
    "### 1.4: Relação entre `ncalls` e `niters`\n",
    "\n",
    "Muito provavelmente, é possível calcular `ncalls` a partir de `niters`.\n",
    "Qual a relação, para o seu programa, entre estes valores?\n",
    "Porquê?"
   ]
  },
  {
   "cell_type": "code",
   "execution_count": 13,
   "metadata": {
    "deletable": false,
    "nbgrader": {
     "cell_type": "code",
     "checksum": "c69aa51f69959d7a6617fbd5f069cff7",
     "grade": true,
     "grade_id": "cell-4a9c83444fc8ee6a",
     "locked": false,
     "points": 1,
     "schema_version": 3,
     "solution": true,
     "task": false
    }
   },
   "outputs": [],
   "source": [
    "def compute_ncalls(niters):\n",
    "    return niters + 2 "
   ]
  },
  {
   "cell_type": "markdown",
   "metadata": {
    "deletable": false,
    "nbgrader": {
     "cell_type": "markdown",
     "checksum": "345359da51ebd25a16368912b55b4ad8",
     "grade": true,
     "grade_id": "cell-7d3444498035a363",
     "locked": false,
     "points": 3,
     "schema_version": 3,
     "solution": true,
     "task": false
    }
   },
   "source": [
    "Antes de iniciar o programa checa-se se de fato f(a) < f(b). Caso contrário os valores de a e b são trocados."
   ]
  },
  {
   "cell_type": "markdown",
   "metadata": {
    "deletable": false,
    "editable": false,
    "nbgrader": {
     "cell_type": "markdown",
     "checksum": "cb447b2e53d230eb72e7168053cfa52a",
     "grade": false,
     "grade_id": "cell-8e04168e8878f7e2",
     "locked": true,
     "schema_version": 3,
     "solution": false
    }
   },
   "source": [
    "## Questão 2: Bisseção em listas ordenadas\n",
    "\n",
    "Se desejamos encontrar um número em uma lista, podemos percorrer cada um de seus índices\n",
    "até achar o número, e retornamos o índice correspondente.\n",
    "\n",
    "Mas, se a lista `l` possui números em ordem,\n",
    "é possível usar uma variante da bisseção para encontrar este índice.\n",
    "Observe que agora desejamos retornar um número **inteiro** (o índice!),\n",
    "e que índices para listas sempre devem ser inteiros, portanto:\n",
    "- cuidado ao escolher o \"ponto médio\"\n",
    "- mas o critério de parada é \"quando achar o índice\"."
   ]
  },
  {
   "cell_type": "markdown",
   "metadata": {
    "deletable": false,
    "editable": false,
    "nbgrader": {
     "cell_type": "markdown",
     "checksum": "6a85e1fe04191343663fed8000a7c5f5",
     "grade": false,
     "grade_id": "cell-609f4de7a0313ef1",
     "locked": true,
     "schema_version": 3,
     "solution": false
    }
   },
   "source": [
    "### 2.1: Encontrando um número\n",
    "\n",
    "Implemente a função `bissect_list(l, v)`, que retorna\n",
    "- o índice `k` do elemento na lista `l`, que vale `v`; e\n",
    "- o número de acessos à lista `l`.\n",
    "\n",
    "Suponha que a lista `l` é não-decrescente (ou seja, `l[i] <= l[i+1]`)."
   ]
  },
  {
   "cell_type": "code",
   "execution_count": 14,
   "metadata": {
    "deletable": false,
    "nbgrader": {
     "cell_type": "code",
     "checksum": "ca818ac463f7e80ebec8685c5b351a0e",
     "grade": false,
     "grade_id": "cell-8c9f49b0ba8b5d04",
     "locked": false,
     "schema_version": 3,
     "solution": true
    }
   },
   "outputs": [],
   "source": [
    "def generate_m(a,b):\n",
    "    m = (a+b)/2\n",
    "    return int(np.floor(m)) \n",
    "def bissect_list(l, v):\n",
    "    \"\"\"Índice  k  na lista  l , crescente, tal que l[k] = v.  None caso não exista.\"\"\"\n",
    "    n = len(l)\n",
    "    naccess = 0\n",
    "    b = n - 1\n",
    "    a = 0\n",
    "    while(a <= b):\n",
    "        m = generate_m(a,b)\n",
    "        #print(f\"a = {a}, b = {b}\")\n",
    "        naccess += 1\n",
    "        A_medio = l[m]\n",
    "        if(A_medio == v):\n",
    "            return m,naccess\n",
    "        if(A_medio > v):\n",
    "            b = m - 1\n",
    "        else:\n",
    "            a = m + 1\n",
    "    return None, naccess"
   ]
  },
  {
   "cell_type": "code",
   "execution_count": 15,
   "metadata": {
    "deletable": false,
    "editable": false,
    "nbgrader": {
     "cell_type": "code",
     "checksum": "245a423f909aab93e9a8dae4b8b6b79d",
     "grade": true,
     "grade_id": "cell-d0e135df902b3955",
     "locked": true,
     "points": 1,
     "schema_version": 3,
     "solution": false
    }
   },
   "outputs": [],
   "source": [
    "assert bissect_list([], 42) == (None,0)"
   ]
  },
  {
   "cell_type": "code",
   "execution_count": 16,
   "metadata": {
    "deletable": false,
    "editable": false,
    "nbgrader": {
     "cell_type": "code",
     "checksum": "7758dec49209008ccc1650d33cd6b3ab",
     "grade": true,
     "grade_id": "cell-aa0a59b135a65159",
     "locked": true,
     "points": 1,
     "schema_version": 3,
     "solution": false
    }
   },
   "outputs": [],
   "source": [
    "l = [4]\n",
    "assert bissect_list(l, 4) == (0,1)"
   ]
  },
  {
   "cell_type": "code",
   "execution_count": 17,
   "metadata": {
    "deletable": false,
    "editable": false,
    "nbgrader": {
     "cell_type": "code",
     "checksum": "4ce6da74faa674f86a867395efcb1e4e",
     "grade": true,
     "grade_id": "cell-ba03109833002639",
     "locked": true,
     "points": 1,
     "schema_version": 3,
     "solution": false
    }
   },
   "outputs": [],
   "source": [
    "assert bissect_list(l, 5)[0] is None"
   ]
  },
  {
   "cell_type": "code",
   "execution_count": 19,
   "metadata": {},
   "outputs": [],
   "source": [
    "## funcao que calcula o valor esperado do numero de iteracoes. SUM_i=1_i=log2N i*2ˆ(i-1)\n",
    "def compute_expected_value(len_vec):\n",
    "    depth = np.floor(np.log(len_vec)/np.log(2))\n",
    "    max_access = depth + 1\n",
    "    missing_values_to_complete_tree = 2**max_access - len_vec -1\n",
    "    n_access_per_depth = np.arange(1,max_access+1)\n",
    "    n_elements_per_depth = np.power(2,np.add(n_access_per_depth,-1))\n",
    "    n_elements_per_depth[-1] -= missing_values_to_complete_tree\n",
    "    assert np.sum(n_elements_per_depth) == len_vec\n",
    "    result = np.dot(n_access_per_depth,n_elements_per_depth)\n",
    "    return result/len_vec"
   ]
  },
  {
   "cell_type": "code",
   "execution_count": 22,
   "metadata": {
    "deletable": false,
    "editable": false,
    "nbgrader": {
     "cell_type": "code",
     "checksum": "05416222235150d278d1a8ef45e4b9da",
     "grade": true,
     "grade_id": "cell-84b5ba3a3384d223",
     "locked": true,
     "points": 1,
     "schema_version": 3,
     "solution": false
    },
    "scrolled": true
   },
   "outputs": [
    {
     "name": "stdout",
     "output_type": "stream",
     "text": [
      "3\n",
      "2\n",
      "3\n",
      "1\n",
      "3\n",
      "2\n",
      "3\n"
     ]
    }
   ],
   "source": [
    "l = [1,3,6,10,15,21,28]\n",
    "for i,v in enumerate(l):\n",
    "    idx, n = bissect_list(l, v)\n",
    "    assert idx == i, f\"v={v}, i={i}, idx={idx}\"\n",
    "    print(n)"
   ]
  },
  {
   "cell_type": "code",
   "execution_count": 23,
   "metadata": {},
   "outputs": [
    {
     "data": {
      "text/plain": [
       "2.4285714285714284"
      ]
     },
     "execution_count": 23,
     "metadata": {},
     "output_type": "execute_result"
    }
   ],
   "source": [
    "compute_expected_value(len(l))"
   ]
  },
  {
   "cell_type": "markdown",
   "metadata": {
    "deletable": false,
    "editable": false,
    "nbgrader": {
     "cell_type": "markdown",
     "checksum": "50551a2abe3194ac082d080452ad083b",
     "grade": false,
     "grade_id": "cell-692b3a737aeb5a2b",
     "locked": true,
     "schema_version": 3,
     "solution": false,
     "task": false
    }
   },
   "source": [
    "Qual o maior número de acessos à lista que você precisou para encontrar um valor nela?\n",
    "Este número depende da posição na lista?  Explique!"
   ]
  },
  {
   "cell_type": "markdown",
   "metadata": {
    "deletable": false,
    "nbgrader": {
     "cell_type": "markdown",
     "checksum": "934598cc028ae5067d11b82e586cb685",
     "grade": true,
     "grade_id": "cell-9059e7d02c8a0881",
     "locked": false,
     "points": 2,
     "schema_version": 3,
     "solution": true,
     "task": false
    }
   },
   "source": [
    "O maior número de acessos foi 3. Esse número depende da posição pois ela determina quantas bissecções serão realizadas. Por exemplo, se o valor que buscamos se situa exatamente no meio, logo na primeira vez que efetuarmos a bissecção chegaremos nele, como é o caso do 10 acima. Por outro lado, valores que situam em outras posições necessitam de mais acessos. O máximo de iterações é na ordem de log2(len(l)) e notamos certa simetria na quantidade bisseções em relação a posição na lista. "
   ]
  },
  {
   "cell_type": "markdown",
   "metadata": {
    "deletable": false,
    "editable": false,
    "nbgrader": {
     "cell_type": "markdown",
     "checksum": "0753f66d0eeb3e84744651125a45a7a5",
     "grade": false,
     "grade_id": "cell-6ee870938d1a54a2",
     "locked": true,
     "schema_version": 3,
     "solution": false,
     "task": false
    }
   },
   "source": [
    "### 2.2: Uma lista muito maior"
   ]
  },
  {
   "cell_type": "code",
   "execution_count": 20,
   "metadata": {
    "deletable": false,
    "editable": false,
    "nbgrader": {
     "cell_type": "code",
     "checksum": "50d1f52a8778fc034ae2be74eb4089da",
     "grade": false,
     "grade_id": "cell-3561106a3e1c56c3",
     "locked": true,
     "schema_version": 3,
     "solution": false,
     "task": false
    }
   },
   "outputs": [
    {
     "name": "stdout",
     "output_type": "stream",
     "text": [
      "v=-3765, idx=  235, n= 12\n",
      "v= 1192, idx= 5192, n= 13\n",
      "v=-3095, idx=  905, n= 14\n",
      "v= 3813, idx= 7813, n= 12\n",
      "v=-1105, idx= 2895, n= 12\n",
      "v= 1056, idx= 5056, n= 14\n",
      "v=-3856, idx=  144, n= 14\n",
      "v=  225, idx= 4225, n= 14\n",
      "v= 3751, idx= 7751, n= 14\n",
      "v= -538, idx= 3462, n= 12\n"
     ]
    }
   ],
   "source": [
    "l = np.arange(-4000, 6000)\n",
    "np.random.seed(1)\n",
    "valores_testes = np.random.randint(low=-4000, high=6000, size=10)\n",
    "for v in valores_testes:\n",
    "    idx, n = bissect_list(l, v)\n",
    "    assert l[idx] == v\n",
    "    assert n <= 20\n",
    "    print(f\"v={v:5d}, idx={idx:5d}, n={n:3d}\")"
   ]
  },
  {
   "cell_type": "code",
   "execution_count": 21,
   "metadata": {},
   "outputs": [
    {
     "data": {
      "text/plain": [
       "12.3631"
      ]
     },
     "execution_count": 21,
     "metadata": {},
     "output_type": "execute_result"
    }
   ],
   "source": [
    "compute_expected_value(len(l))"
   ]
  },
  {
   "cell_type": "markdown",
   "metadata": {
    "deletable": false,
    "editable": false,
    "nbgrader": {
     "cell_type": "markdown",
     "checksum": "5625bd58ea3f33ae2571462cafb52bb7",
     "grade": false,
     "grade_id": "cell-0198653df2b1331b",
     "locked": true,
     "schema_version": 3,
     "solution": false,
     "task": false
    }
   },
   "source": [
    "Como o número de acessos varia, nesta outra lista?\n",
    "E como ele se compara com o tamanho da lista?"
   ]
  },
  {
   "cell_type": "markdown",
   "metadata": {
    "deletable": false,
    "nbgrader": {
     "cell_type": "markdown",
     "checksum": "ebd67648725254e15092c3e9e8999eec",
     "grade": true,
     "grade_id": "cell-1853e505f297b9b5",
     "locked": false,
     "points": 2,
     "schema_version": 3,
     "solution": true,
     "task": false
    }
   },
   "source": [
    "O número de acessos variou entre 12 e 14, aproximadamente log_2(10000) = 13. Isso faz sentido pois, de acordo com o resultado acima, o valor esperado do número de acessos a lista é 12,3631. Já para o caso anterior o valor esperado é na ordem de 2,4285. Assim, para uma lista cerca de 1428x maior, o número médio de acessos só foi multiplicado por 4. "
   ]
  },
  {
   "cell_type": "markdown",
   "metadata": {
    "deletable": false,
    "editable": false,
    "nbgrader": {
     "cell_type": "markdown",
     "checksum": "a3e89df6268882d8143406de98e9731a",
     "grade": false,
     "grade_id": "cell-4a161dbc4eccf1d8",
     "locked": true,
     "schema_version": 3,
     "solution": false
    }
   },
   "source": [
    "### 3.3: Listas crescentes e decrescentes.\n",
    "\n",
    "Altere o código anterior, para receber um argumento a mais, `decr`, que indica que a lista é **decrescente**.\n",
    "Não reordene a lista!"
   ]
  },
  {
   "cell_type": "code",
   "execution_count": 24,
   "metadata": {
    "deletable": false,
    "nbgrader": {
     "cell_type": "code",
     "checksum": "97e076161eac0765addc7bd1d346b93c",
     "grade": false,
     "grade_id": "cell-e442fe23480d4b8d",
     "locked": false,
     "schema_version": 3,
     "solution": true
    }
   },
   "outputs": [],
   "source": [
    "def bissect(l, v, decr=False):\n",
    "    \"\"\"Index  k  on a monotonic list  l  such that  l[k] == v.\n",
    "    Returns  None  if  not present.\n",
    "    If  l  is decresing, pass  decr=True.\"\"\"\n",
    "    n = len(l)\n",
    "    naccess = 0\n",
    "    b = n - 1\n",
    "    a = 0\n",
    "    while(a <= b):\n",
    "        m = generate_m(a,b)\n",
    "        naccess += 1\n",
    "        A_medio = l[m]\n",
    "        if(A_medio == v):\n",
    "            return m,naccess\n",
    "        if(A_medio > v):\n",
    "            if(decr):\n",
    "                a = m + 1\n",
    "            else:    \n",
    "                b = m - 1\n",
    "        else:\n",
    "            if(decr):\n",
    "                b = m - 1\n",
    "            else:\n",
    "                a = m + 1\n",
    "    return None, naccess"
   ]
  },
  {
   "cell_type": "code",
   "execution_count": 25,
   "metadata": {
    "deletable": false,
    "editable": false,
    "nbgrader": {
     "cell_type": "code",
     "checksum": "e034405fa47dd27286a72b36cd932f3a",
     "grade": true,
     "grade_id": "cell-8d0e1c185171dbce",
     "locked": true,
     "points": 1,
     "schema_version": 3,
     "solution": false
    }
   },
   "outputs": [],
   "source": [
    "l = [1,3,6,10,15,21,28,35,36]\n",
    "assert bissect(l, 15)[0] == 4"
   ]
  },
  {
   "cell_type": "code",
   "execution_count": 26,
   "metadata": {
    "deletable": false,
    "editable": false,
    "nbgrader": {
     "cell_type": "code",
     "checksum": "c5625b16ad48da7972f1ddaf072619a2",
     "grade": true,
     "grade_id": "cell-75e5e557da5782e9",
     "locked": true,
     "points": 1,
     "schema_version": 3,
     "solution": false,
     "task": false
    }
   },
   "outputs": [],
   "source": [
    "l_rev = [36, 35, 28, 21, 15, 10, 6, 3, 1]\n",
    "assert bissect(l_rev, 15, decr=True)[0] == 4"
   ]
  },
  {
   "cell_type": "code",
   "execution_count": 27,
   "metadata": {
    "deletable": false,
    "editable": false,
    "nbgrader": {
     "cell_type": "code",
     "checksum": "75e6944f132c40e06fc7ed1b1a9a3c9c",
     "grade": true,
     "grade_id": "cell-bd452b4939210a9a",
     "locked": true,
     "points": 1,
     "schema_version": 3,
     "solution": false,
     "task": false
    }
   },
   "outputs": [],
   "source": [
    "l_rev = [36, 35, 28, 21, 15, 10, 6, 3, 1]\n",
    "assert bissect(l_rev, 16, decr=True)[0] == None"
   ]
  },
  {
   "cell_type": "code",
   "execution_count": 28,
   "metadata": {
    "deletable": false,
    "editable": false,
    "nbgrader": {
     "cell_type": "code",
     "checksum": "7c71b8af0933b5afdc1e3a0d7bacd992",
     "grade": true,
     "grade_id": "cell-4f806045de0b056c",
     "locked": true,
     "points": 1,
     "schema_version": 3,
     "solution": false,
     "task": false
    }
   },
   "outputs": [],
   "source": [
    "l3 = [36, 35, 28, 21, 15, 10, 9, 6, 3, 2, 1]\n",
    "assert bissect(l3, 15, decr=True)[0] == 4"
   ]
  },
  {
   "cell_type": "markdown",
   "metadata": {},
   "source": [
    "### 2.4: Bônus"
   ]
  },
  {
   "cell_type": "markdown",
   "metadata": {},
   "source": [
    "O número de acessos à lista para encontrar um número muda se esta está invertida?\n",
    "Explique!"
   ]
  },
  {
   "cell_type": "markdown",
   "metadata": {
    "deletable": false,
    "nbgrader": {
     "cell_type": "markdown",
     "checksum": "311651431944fc6f946e77928c3a28e0",
     "grade": true,
     "grade_id": "cell-def3480b5f0dcea3",
     "locked": false,
     "points": 2,
     "schema_version": 3,
     "solution": true,
     "task": false
    }
   },
   "source": [
    "Não muda. Podemos enxergar essa lista como uma árvore binária, onde iremos para esquerda ou direita dependendo se o valor v for menor ou maior do que o \"nó\" (m) atual, respectivamente. Quando mudamos a ordenação, ao invés de ir para esquerda, iremos seguir o ramo da direita. No entanto a \"profundidade da árvore\" - número de acessos a lista necessários - se mantém. O caso médio também é identico por consequência.  "
   ]
  }
 ],
 "metadata": {
  "@webio": {
   "lastCommId": null,
   "lastKernelId": null
  },
  "hide_input": false,
  "kernelspec": {
   "display_name": "Python 3",
   "language": "python",
   "name": "python3"
  },
  "language_info": {
   "codemirror_mode": {
    "name": "ipython",
    "version": 3
   },
   "file_extension": ".py",
   "mimetype": "text/x-python",
   "name": "python",
   "nbconvert_exporter": "python",
   "pygments_lexer": "ipython3",
   "version": "3.8.5"
  }
 },
 "nbformat": 4,
 "nbformat_minor": 4
}

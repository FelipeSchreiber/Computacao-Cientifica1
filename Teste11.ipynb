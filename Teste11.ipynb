{
 "cells": [
  {
   "cell_type": "markdown",
   "metadata": {},
   "source": [
    "![CC-BY-SA](https://mirrors.creativecommons.org/presskit/buttons/88x31/svg/by-sa.svg)\n",
    "\n",
    "\n",
    "This notebook was created by [Bernardo Freitas Paulo da Costa](http://www.im.ufrj.br/bernardofpc),\n",
    "and is licensed under Creative Commons BY-SA."
   ]
  },
  {
   "cell_type": "markdown",
   "metadata": {},
   "source": [
    "Antes de enviar este Teste, verifique que tudo está funcionando como esperado.\n",
    "Por exemplo, **rode o código inteiro, do zero**.\n",
    "Para isso, vá no menu, escolha _Kernel_, depois _Restart & Run All_.\n",
    "\n",
    "Verifique, também, que você respondeu todas as questões:\n",
    "* as questões de código têm `YOUR CODE HERE` (e você pode apagar o `raise NotImplemented` ao incluir sua resposta)\n",
    "* as questões discursivas têm \"YOUR ANSWER HERE\"."
   ]
  },
  {
   "cell_type": "markdown",
   "metadata": {},
   "source": [
    "---"
   ]
  },
  {
   "cell_type": "code",
   "execution_count": 1,
   "metadata": {},
   "outputs": [],
   "source": [
    "import numpy as np\n",
    "import matplotlib.pyplot as plt\n",
    "from scipy.linalg import lu_factor, lu_solve"
   ]
  },
  {
   "cell_type": "markdown",
   "metadata": {},
   "source": [
    "# Calculando um autovalor qualquer\n",
    "\n",
    "## Questão 1: Iteração inversa\n",
    "\n",
    "Podemos calcular um autovalor da matriz $A$ próximo de $a$\n",
    "ao calcular um autovalor da matriz $M = (A - aI)^{-1}$.\n",
    "Observe que \"multiplicar\" por $M$ é equivalente a resolver o sistema linear com matriz $A - aI$,\n",
    "o que permite usar `np.linalg.solve` para fazer as iterações.\n",
    "\n",
    "Obs: note que, após calcular um par autovetor-autovalor de $M$,\n",
    "será necessário fazer operações simples para converter em um par autovetor-autovalor de $A$."
   ]
  },
  {
   "cell_type": "code",
   "execution_count": 2,
   "metadata": {
    "deletable": false,
    "nbgrader": {
     "cell_type": "code",
     "checksum": "19a83f5b1bf6d1ee6feb5df6dce4f3f7",
     "grade": false,
     "grade_id": "cell-d5ef257decf553c5",
     "locked": false,
     "schema_version": 3,
     "solution": true,
     "task": false
    }
   },
   "outputs": [],
   "source": [
    "def any_eigen(A, a, tol=1e-6):\n",
    "    \"\"\"\n",
    "    Encontra o par autovetor-autovalor de 'A' de autovalor mais próximo de 'a'.\n",
    "    Retorna, também, o número de iterações.\n",
    "    \"\"\"\n",
    "    n,m = np.shape(A)\n",
    "    assert n==m, 'A must be square'\n",
    "    u = np.random.rand(n)\n",
    "    z = u/np.linalg.norm(u)\n",
    "    M = A - a*np.eye(n)\n",
    "    lu, p = lu_factor(M)\n",
    "    residuo = 1000\n",
    "    l = niter = 0\n",
    "    while(residuo > tol):\n",
    "        u = lu_solve((lu,p),z)\n",
    "        norm = np.linalg.norm(u)\n",
    "        l = np.dot(u,z)\n",
    "        residuo = np.linalg.norm(A@z-(a+1/l)*z)\n",
    "        z = u / norm\n",
    "        niter += 1\n",
    "    return z,a+1/l,niter"
   ]
  },
  {
   "cell_type": "code",
   "execution_count": 3,
   "metadata": {
    "deletable": false,
    "editable": false,
    "nbgrader": {
     "cell_type": "code",
     "checksum": "b2b6a04b3e0796ee106867c42c01e571",
     "grade": true,
     "grade_id": "cell-10cb78112640ada4",
     "locked": true,
     "points": 1,
     "schema_version": 3,
     "solution": false,
     "task": false
    }
   },
   "outputs": [],
   "source": [
    "A = np.array([[125,5],[0,300]])\n",
    "u, l, n = any_eigen(A, 234.567)\n",
    "assert np.allclose(A@u, l*u, rtol=1e-4)"
   ]
  },
  {
   "cell_type": "code",
   "execution_count": 4,
   "metadata": {
    "deletable": false,
    "editable": false,
    "nbgrader": {
     "cell_type": "code",
     "checksum": "88d5825cb7f7b246e71b3410549a39d8",
     "grade": true,
     "grade_id": "cell-c9910cd091b05af1",
     "locked": true,
     "points": 1,
     "schema_version": 3,
     "solution": false,
     "task": false
    }
   },
   "outputs": [],
   "source": [
    "A = np.array([[125,5],[0,300]])\n",
    "u, l, n = any_eigen(A, 234.567, tol=1e-8)\n",
    "assert np.allclose(A@u, l*u, rtol=1e-6)"
   ]
  },
  {
   "cell_type": "code",
   "execution_count": 5,
   "metadata": {
    "deletable": false,
    "editable": false,
    "nbgrader": {
     "cell_type": "code",
     "checksum": "2208e7bf5f8b8a2a912a6ce1bc864e5e",
     "grade": true,
     "grade_id": "cell-90add789d82662f1",
     "locked": true,
     "points": 1,
     "schema_version": 3,
     "solution": false,
     "task": false
    }
   },
   "outputs": [],
   "source": [
    "A = np.array([[125,5],[0,300]])\n",
    "u, l, n = any_eigen(A, 234.567, tol=1e-10)\n",
    "assert np.allclose(A@u, l*u, rtol=1e-8)"
   ]
  },
  {
   "cell_type": "markdown",
   "metadata": {},
   "source": [
    "Qual o erro entre $Au$ e $\\lambda u$?\n",
    "Como você explica isso, dadas as tolerâncias?"
   ]
  },
  {
   "cell_type": "code",
   "execution_count": 6,
   "metadata": {},
   "outputs": [
    {
     "data": {
      "text/plain": [
       "4.594650417070886e-11"
      ]
     },
     "execution_count": 6,
     "metadata": {},
     "output_type": "execute_result"
    }
   ],
   "source": [
    "np.linalg.norm(A@u-l*u)"
   ]
  },
  {
   "cell_type": "markdown",
   "metadata": {
    "deletable": false,
    "nbgrader": {
     "cell_type": "markdown",
     "checksum": "a7e997f17af44d06d2ab7e8d4c5491b9",
     "grade": true,
     "grade_id": "cell-43d389d29dc9a867",
     "locked": false,
     "points": 2,
     "schema_version": 3,
     "solution": true,
     "task": false
    }
   },
   "source": [
    "O erro é na ordem de 1e-11. O erro utilizada no algoritmo foi a distância euclidiana entre $Au$ e $\\lambda u$. Assim, dada que a tolerância é na ordem de 1e-10, é natural se pensar que o erro teria de ser menor do que isso. No entanto, se utilizássemos simplesmente a tolerância em cada dimensão do vetor $Au - \\lambda u$, então a diferença ao final poderia ser maior do que 1e-8. Isso porque, a cada valor $x_i$ do vetor $Au - \\lambda u$ é tal que $x_i \\leq 1e-8$. A norma, que é calculada por $\\sqrt{\\sum x_i^2}$, poderia ser maior que $1e-8$ ."
   ]
  },
  {
   "cell_type": "code",
   "execution_count": 7,
   "metadata": {
    "deletable": false,
    "editable": false,
    "nbgrader": {
     "cell_type": "code",
     "checksum": "a65fce205094ee7477073fd56d6aaa69",
     "grade": true,
     "grade_id": "cell-7fcccf6e2c1dc1f6",
     "locked": true,
     "points": 1,
     "schema_version": 3,
     "solution": false,
     "task": false
    }
   },
   "outputs": [
    {
     "name": "stdout",
     "output_type": "stream",
     "text": [
      "48 54\n"
     ]
    }
   ],
   "source": [
    "np.random.seed(99)\n",
    "u1, l1, n1 = any_eigen(A, 234.567, tol=1e-8)\n",
    "u2, l2, n2 = any_eigen(A, 234.567, tol=1e-8)\n",
    "assert np.allclose(u1, u2)\n",
    "assert np.isclose(l1, l2)\n",
    "print(n1, n2)"
   ]
  },
  {
   "cell_type": "markdown",
   "metadata": {},
   "source": [
    "Explique os testes e o `print` da caixa acima."
   ]
  },
  {
   "cell_type": "markdown",
   "metadata": {
    "deletable": false,
    "nbgrader": {
     "cell_type": "markdown",
     "checksum": "df6aedf5084a07fdcc443c7361562777",
     "grade": true,
     "grade_id": "cell-be07047639954a8d",
     "locked": false,
     "points": 2,
     "schema_version": 3,
     "solution": true,
     "task": false
    }
   },
   "source": [
    "Vemos que, dependendo do chute do vetor inicial, temos mais ou menos iterações até o algoritmo convergir."
   ]
  },
  {
   "cell_type": "markdown",
   "metadata": {},
   "source": [
    "## Questão 2: Velocidade de convergência I\n",
    "\n",
    "Faça um gráfico do número de iterações necessários, em função da tolerância,\n",
    "para encontrar o autovalor mais próximo de 234.567 da matriz\n",
    "\n",
    "$$ A = \\begin{bmatrix} 125 & 5 \\\\ 0 & 300 \\end{bmatrix}. $$"
   ]
  },
  {
   "cell_type": "code",
   "execution_count": 8,
   "metadata": {
    "deletable": false,
    "nbgrader": {
     "cell_type": "code",
     "checksum": "cc240e10a7a6f87ec24dc937be577760",
     "grade": false,
     "grade_id": "cell-2fc8bc0be12acb30",
     "locked": false,
     "schema_version": 3,
     "solution": true,
     "task": false
    }
   },
   "outputs": [
    {
     "data": {
      "image/png": "[encoded data removed]",
      "text/plain": [
       "<Figure size 432x288 with 1 Axes>"
      ]
     },
     "metadata": {
      "needs_background": "light"
     },
     "output_type": "display_data"
    }
   ],
   "source": [
    "tols = np.logspace(0,-16,100)\n",
    "ns = []\n",
    "for tol in tols:\n",
    "    u, l, n = any_eigen(A, 234.567, tol=tol)\n",
    "    ns.append(n)\n",
    "plt.plot(tols,ns)\n",
    "plt.xscale(\"log\")\n",
    "plt.xlabel(\"tol\")\n",
    "plt.ylabel(\"niter\")\n",
    "plt.title(\"niter x tol\")\n",
    "ax = plt.gca()"
   ]
  },
  {
   "cell_type": "code",
   "execution_count": 9,
   "metadata": {
    "deletable": false,
    "editable": false,
    "nbgrader": {
     "cell_type": "code",
     "checksum": "2efd8f611b79e51ab193078a6c59e8d8",
     "grade": true,
     "grade_id": "cell-fb8f25e03c6e5366",
     "locked": true,
     "points": 1,
     "schema_version": 3,
     "solution": false,
     "task": false
    }
   },
   "outputs": [],
   "source": [
    "assert len(ax.lines) == 1\n",
    "assert ax.get_xlabel() != \"\"\n",
    "assert ax.get_ylabel() != \"\""
   ]
  },
  {
   "cell_type": "code",
   "execution_count": 10,
   "metadata": {
    "deletable": false,
    "editable": false,
    "nbgrader": {
     "cell_type": "code",
     "checksum": "387ee9ad8e4d252dc6a048c8e42099d2",
     "grade": true,
     "grade_id": "cell-780a26bde866bfaa",
     "locked": true,
     "points": 1,
     "schema_version": 3,
     "solution": false,
     "task": false
    }
   },
   "outputs": [],
   "source": [
    "l = ax.lines[0]\n",
    "xs = l.get_xdata()\n",
    "ys = l.get_ydata()\n",
    "assert min(xs) < 1e-10 < 1e-3 < max(xs)\n",
    "assert 2 < min(ys) < 20 < max(ys) < 100"
   ]
  },
  {
   "cell_type": "code",
   "execution_count": 11,
   "metadata": {
    "deletable": false,
    "editable": false,
    "nbgrader": {
     "cell_type": "code",
     "checksum": "2b351b983d011304a88f4445c8078ce3",
     "grade": false,
     "grade_id": "cell-f2d36b97a173f36f",
     "locked": true,
     "schema_version": 3,
     "solution": false,
     "task": false
    }
   },
   "outputs": [],
   "source": [
    "ax = None"
   ]
  },
  {
   "cell_type": "markdown",
   "metadata": {},
   "source": [
    "O que você observa do gráfico?"
   ]
  },
  {
   "cell_type": "markdown",
   "metadata": {
    "deletable": false,
    "nbgrader": {
     "cell_type": "markdown",
     "checksum": "cb3e2bd11f8b52cac3031b588847c312",
     "grade": true,
     "grade_id": "cell-446c5a0e1a5bdee1",
     "locked": false,
     "points": 2,
     "schema_version": 3,
     "solution": true,
     "task": false
    }
   },
   "source": [
    "Percebe-se que quanto maior a tolerância, menor a quantidade de iterações. Além disso, percebemos que esse decrescimento é aproximadamente linear com a tolerância na escala logarítmica. O fato de usar um chute inicial diferente a cada tolerância faz com que esse gráfico tenha pequenas variações."
   ]
  },
  {
   "cell_type": "markdown",
   "metadata": {},
   "source": [
    "## Questão 3: Velocidade de convergência II\n",
    "\n",
    "Agora, considere diferentes \"chutes\" para os autovalores de $A$ entre 1 e 1000,\n",
    "e faça um gráfico com as velocidades de convergência para todos eles."
   ]
  },
  {
   "cell_type": "code",
   "execution_count": 12,
   "metadata": {},
   "outputs": [],
   "source": [
    "for i in range(170):\n",
    "    any_eigen(A,10,tol=1e-16)"
   ]
  },
  {
   "cell_type": "code",
   "execution_count": 13,
   "metadata": {},
   "outputs": [
    {
     "name": "stdout",
     "output_type": "stream",
     "text": [
      "CPU times: user 7.54 ms, sys: 2.2 ms, total: 9.74 ms\n",
      "Wall time: 11.5 ms\n"
     ]
    }
   ],
   "source": [
    "%time u, l, n = any_eigen(A, 234.567, tol=1e-10)"
   ]
  },
  {
   "cell_type": "code",
   "execution_count": 14,
   "metadata": {
    "deletable": false,
    "nbgrader": {
     "cell_type": "code",
     "checksum": "d1ad9919fb056dabbf3913d21b8b4d97",
     "grade": false,
     "grade_id": "cell-a69e98cfb71e3c71",
     "locked": false,
     "schema_version": 3,
     "solution": true,
     "task": false
    }
   },
   "outputs": [
    {
     "data": {
      "image/png": "[encoded data removed]",
      "text/plain": [
       "<Figure size 864x288 with 1 Axes>"
      ]
     },
     "metadata": {
      "needs_background": "light"
     },
     "output_type": "display_data"
    }
   ],
   "source": [
    "plt.figure(figsize=(12,4))\n",
    "chutes = np.logspace(0,3,num=10)\n",
    "tols = np.logspace(0,-12,num=15)\n",
    "for chute in chutes:\n",
    "    temp=[]\n",
    "    for tol in tols:\n",
    "        u, l, n = any_eigen(A, chute, tol=tol)\n",
    "        temp.append(n)\n",
    "    plt.plot(tols,temp,label=f\"$\\lambda = ${chute}\")\n",
    "plt.legend(title=\"Ponto inicial\", loc=\"center left\", bbox_to_anchor=(1.0, 0.5))\n",
    "plt.xlabel(\"$tols$\")\n",
    "plt.ylabel(\"niter\")\n",
    "plt.xscale(\"log\")\n",
    "plt.title(\"niter x $\\lambda$ x tols\")\n",
    "ax = plt.gca()"
   ]
  },
  {
   "cell_type": "code",
   "execution_count": 16,
   "metadata": {
    "deletable": false,
    "editable": false,
    "nbgrader": {
     "cell_type": "code",
     "checksum": "e92b9da4176026b40872855ca23c1b00",
     "grade": true,
     "grade_id": "cell-09daa1dd283fccf9",
     "locked": true,
     "points": 1,
     "schema_version": 3,
     "solution": false,
     "task": false
    }
   },
   "outputs": [],
   "source": [
    "assert len(ax.lines) == 10\n",
    "assert ax.get_title() != \"\""
   ]
  },
  {
   "cell_type": "code",
   "execution_count": 15,
   "metadata": {},
   "outputs": [
    {
     "name": "stdout",
     "output_type": "stream",
     "text": [
      "1.0 --- 299.0\n",
      "2.154434690031884 --- 297.8455653099681\n",
      "4.641588833612778 --- 295.3584111663872\n",
      "10.0 --- 290.0\n",
      "21.544346900318832 --- 278.4556530996812\n",
      "46.41588833612777 --- 253.58411166387222\n",
      "100.0 --- 200.0\n",
      "215.44346900318823 --- 90.44346900318823\n",
      "464.15888336127773 --- 339.15888336127773\n",
      "1000.0 --- 875.0\n"
     ]
    }
   ],
   "source": [
    "for x in chutes:\n",
    "    print(x,\"---\",max([abs(x-125),abs(x-300)]))"
   ]
  },
  {
   "cell_type": "code",
   "execution_count": 17,
   "metadata": {
    "deletable": false,
    "editable": false,
    "nbgrader": {
     "cell_type": "code",
     "checksum": "193caada95aa38bea025c342901e970c",
     "grade": false,
     "grade_id": "cell-5ea3467ff21fbfe6",
     "locked": true,
     "schema_version": 3,
     "solution": false,
     "task": false
    }
   },
   "outputs": [],
   "source": [
    "ax = None"
   ]
  },
  {
   "cell_type": "markdown",
   "metadata": {},
   "source": [
    "O que você percebe no gráfico anterior?\n",
    "Se necessário, faça outro gráfico, ou outras contas."
   ]
  },
  {
   "cell_type": "markdown",
   "metadata": {
    "deletable": false,
    "nbgrader": {
     "cell_type": "markdown",
     "checksum": "55126eee1b8680b3284941dfb765c1fd",
     "grade": true,
     "grade_id": "cell-51e7737aa0f11cdc",
     "locked": false,
     "points": 2,
     "schema_version": 3,
     "solution": true,
     "task": false
    }
   },
   "source": [
    "Aplicando a função max() para pegar a maior distancia entre cada chute inicial e os autovalores 125 e 300 da matriz, percebe-se que todos os chutes que possuem a máxima distância \"d\" até um dos autovalores entre [90,875], então o número de iterações é menor que 200. Em outras palavras, se $90\\leq d=\\max{(|125-chute|,|300-chute|)}\\leq 875$, então numero iterações é menor que 200 (as distâncias 90 e 875 são, possivelmente, valores para os quais temos o máximo local do número de iterações).    "
   ]
  },
  {
   "cell_type": "markdown",
   "metadata": {},
   "source": [
    "## Questão 4: Velocidade de convergência III\n",
    "\n",
    "Agora, considere as matrizes:\n",
    "\n",
    "$$ \\begin{align*}\n",
    "A_x  & = \\begin{bmatrix} 125 & x \\\\ 0 & 300 \\end{bmatrix} \\\\\n",
    "\\end{align*} $$\n",
    "\n",
    "com $x$ variando entre $1$ e $1000$."
   ]
  },
  {
   "cell_type": "markdown",
   "metadata": {},
   "source": [
    "Quais são os autovalores destas matrizes?"
   ]
  },
  {
   "cell_type": "markdown",
   "metadata": {
    "deletable": false,
    "nbgrader": {
     "cell_type": "markdown",
     "checksum": "9526db3f705c3b3ac9eeba5fe7ddcae0",
     "grade": true,
     "grade_id": "cell-1dcbf5b460ead6e0",
     "locked": false,
     "points": 1,
     "schema_version": 3,
     "solution": true,
     "task": false
    }
   },
   "source": [
    "Obtendo a equação característica, temos que:\n",
    "$\n",
    "A = \\begin{bmatrix}\n",
    "125 - \\lambda & x\\\\\n",
    "0 & 300 - \\lambda\\\\\n",
    "\\end{bmatrix}\\\\\n",
    "det(A) = (125 - \\lambda)(300 - \\lambda) - 0x = 37500 - 425\\lambda + \\lambda^2\\\\\n",
    "\\lambda = \\frac{425 +/- 175}{2}\\\\\n",
    "\\lambda = 300\\\\\n",
    "\\lambda = 125\n",
    "$\n",
    "<p>\n",
    " Assim, como calculando o determinante temos um termo $0x$, para qualquer valor de x temos que os autovalores são 125 e 300."
   ]
  },
  {
   "cell_type": "markdown",
   "metadata": {},
   "source": [
    "Faça um gráfico do número de iterações em função da tolerância, sempre começando de 234.567,\n",
    "para as várias matrizes $A_x$."
   ]
  },
  {
   "cell_type": "code",
   "execution_count": 18,
   "metadata": {
    "deletable": false,
    "nbgrader": {
     "cell_type": "code",
     "checksum": "9bdb109a3667fc0b5af01e552fa5c0e6",
     "grade": true,
     "grade_id": "cell-58278de54f6373ef",
     "locked": false,
     "points": 1,
     "schema_version": 3,
     "solution": true,
     "task": false
    }
   },
   "outputs": [
    {
     "data": {
      "image/png": "[encoded data removed]",
      "text/plain": [
       "<Figure size 864x288 with 1 Axes>"
      ]
     },
     "metadata": {
      "needs_background": "light"
     },
     "output_type": "display_data"
    }
   ],
   "source": [
    "plt.figure(figsize=(12,4))\n",
    "xs = np.linspace(100,325,10)\n",
    "tols = np.logspace(0,-12,num=15)\n",
    "for x in xs:\n",
    "    temp=[]\n",
    "    A[0,1] = x\n",
    "    for tol in tols:\n",
    "        u, l, n = any_eigen(A, chute, tol=tol)\n",
    "        temp.append(n)\n",
    "    plt.plot(tols,temp,label=f\"$x = ${x}\")\n",
    "plt.xscale(\"log\")\n",
    "plt.legend(title=\"x\", loc=\"center left\", bbox_to_anchor=(1.0, 0.5))\n",
    "plt.title(\"Effect of changing a value from 2x2 upper triangular matrix\")\n",
    "ax = plt.gca()"
   ]
  },
  {
   "cell_type": "code",
   "execution_count": 19,
   "metadata": {
    "deletable": false,
    "editable": false,
    "nbgrader": {
     "cell_type": "code",
     "checksum": "193a8e756bc8e6dc3139d2e0fac8d96a",
     "grade": true,
     "grade_id": "cell-cdc8f9e2a1417c21",
     "locked": true,
     "points": 1,
     "schema_version": 3,
     "solution": false,
     "task": false
    }
   },
   "outputs": [],
   "source": [
    "assert len(ax.lines) >= 10\n",
    "assert ax.get_title() != \"\""
   ]
  },
  {
   "cell_type": "code",
   "execution_count": 20,
   "metadata": {
    "deletable": false,
    "editable": false,
    "nbgrader": {
     "cell_type": "code",
     "checksum": "e4f9ea7347238c12291c23a005828c46",
     "grade": false,
     "grade_id": "cell-5575c1fb926f33c6",
     "locked": true,
     "schema_version": 3,
     "solution": false,
     "task": false
    }
   },
   "outputs": [],
   "source": [
    "ax = None"
   ]
  },
  {
   "cell_type": "markdown",
   "metadata": {},
   "source": [
    "O que mudou?\n",
    "Porquê você acha que isso acontece?"
   ]
  },
  {
   "cell_type": "markdown",
   "metadata": {
    "deletable": false,
    "nbgrader": {
     "cell_type": "markdown",
     "checksum": "796e9c3aa048a5933e70a464788f5923",
     "grade": true,
     "grade_id": "cell-6c9d32d1207090af",
     "locked": false,
     "points": 2,
     "schema_version": 3,
     "solution": true,
     "task": false
    }
   },
   "source": [
    "Dessa vez todos os gráficos foram identicos entre si, embora alguns pontos as curvas distoaram bastante do padrão de decrescimento das demais (possivelmente o autovetor estimado inicialmente não foi tão bom). Esse comportamento similar se deve ao fato de que o valor de x não influencia em nada os autovalores e autovetores da matriz em questão.  "
   ]
  }
 ],
 "metadata": {
  "kernelspec": {
   "display_name": "Python 3",
   "language": "python",
   "name": "python3"
  },
  "language_info": {
   "codemirror_mode": {
    "name": "ipython",
    "version": 3
   },
   "file_extension": ".py",
   "mimetype": "text/x-python",
   "name": "python",
   "nbconvert_exporter": "python",
   "pygments_lexer": "ipython3",
   "version": "3.8.5"
  }
 },
 "nbformat": 4,
 "nbformat_minor": 4
}
